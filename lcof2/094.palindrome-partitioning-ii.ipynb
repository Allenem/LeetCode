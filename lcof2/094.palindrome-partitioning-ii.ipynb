{
 "cells": [
  {
   "cell_type": "markdown",
   "metadata": {},
   "source": [
    "# LCR 094. 分割回文串 II (hard)\n",
    "\n",
    "给定一个字符串 s，请将 s 分割成一些子串，使每个子串都是回文串。\n",
    "\n",
    "返回符合要求的 最少分割次数 。\n",
    "\n",
    "示例 1：\n",
    "```\n",
    "输入：s = \"aab\"\n",
    "输出：1\n",
    "解释：只需一次分割就可将 s 分割成 [\"aa\",\"b\"] 这样两个回文子串。\n",
    "```\n",
    "示例 2：\n",
    "```\n",
    "输入：s = \"a\"\n",
    "输出：0\n",
    "```\n",
    "示例 3：\n",
    "```\n",
    "输入：s = \"ab\"\n",
    "输出：1\n",
    "``` \n",
    "\n",
    "提示：\n",
    "```\n",
    "1 <= s.length <= 2000\n",
    "s 仅由小写英文字母组成\n",
    "``` \n",
    "\n",
    "注意：本题与主站 132 题相同： https://leetcode-cn.com/problems/palindrome-partitioning-ii/"
   ]
  },
  {
   "cell_type": "code",
   "execution_count": 1,
   "metadata": {},
   "outputs": [
    {
     "name": "stdout",
     "output_type": "stream",
     "text": [
      "1\n",
      "0\n",
      "1\n"
     ]
    }
   ],
   "source": [
    "# 1\n",
    "class Solution:\n",
    "    def minCut(self, s: str) -> int:\n",
    "        n = len(s)\n",
    "        flag = [[True] * n for _ in range(n)] # 回文标志\n",
    "\n",
    "        for i in range(n-1, -1, -1):\n",
    "            for j in range(i+1, n):\n",
    "                flag[i][j] = (s[i] == s[j]) and flag[i+1][j-1]\n",
    "        \n",
    "        divt = [float('inf')] * n # 到当前i最小的分割次数\n",
    "        for i in range(n):\n",
    "            if flag[0][i]:        # case1，0~1就是回文，不用分割\n",
    "                divt[i] = 0\n",
    "            else:                 # case2，不断循环j从0~i-1，divt[i]前一个回文+1\n",
    "                for j in range(i):\n",
    "                    if flag[j+1][i]:\n",
    "                        divt[i] = min(divt[i], divt[j] + 1)\n",
    "        \n",
    "        return divt[-1]\n",
    "\n",
    "\n",
    "print(Solution().minCut(\"aab\"))\n",
    "print(Solution().minCut(\"a\"))\n",
    "print(Solution().minCut(\"ab\"))"
   ]
  },
  {
   "cell_type": "code",
   "execution_count": 2,
   "metadata": {},
   "outputs": [
    {
     "name": "stdout",
     "output_type": "stream",
     "text": [
      "1\n",
      "0\n",
      "1\n"
     ]
    }
   ],
   "source": [
    "# 2\n",
    "class Solution:\n",
    "    def minCut(self, s: str) -> int:\n",
    "        n = len(s)\n",
    "        flag = [[False] * n for _ in range(n)]\n",
    "        dp = [float('inf')] * (n+1) # dp[i]表示s[i:]的最小分割次数\n",
    "        dp[n] = -1\n",
    "        for i in range(n-1, -1, -1):\n",
    "            for j in range(i, n):\n",
    "                if s[i] == s[j] and (j - i < 2 or flag[i+1][j-1]):\n",
    "                    flag[i][j] = True\n",
    "                    dp[i] = min(dp[i], dp[j+1] + 1)\n",
    "        return dp[0]\n",
    "\n",
    "print(Solution().minCut(\"aab\"))\n",
    "print(Solution().minCut(\"a\"))\n",
    "print(Solution().minCut(\"ab\"))"
   ]
  }
 ],
 "metadata": {
  "kernelspec": {
   "display_name": "Python 3.8.10 64-bit",
   "language": "python",
   "name": "python3"
  },
  "language_info": {
   "codemirror_mode": {
    "name": "ipython",
    "version": 3
   },
   "file_extension": ".py",
   "mimetype": "text/x-python",
   "name": "python",
   "nbconvert_exporter": "python",
   "pygments_lexer": "ipython3",
   "version": "3.8.10"
  },
  "orig_nbformat": 4,
  "vscode": {
   "interpreter": {
    "hash": "e0144baad0ecee903f108a3e46e51ceadd7da3fc904cfa79747d813b61464b4e"
   }
  }
 },
 "nbformat": 4,
 "nbformat_minor": 2
}
