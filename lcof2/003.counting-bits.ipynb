{
 "cells": [
  {
   "cell_type": "markdown",
   "metadata": {},
   "source": [
    "# LCR 003. 比特位计数 (easy)\n",
    "\n",
    "给定一个非负整数 n ，请计算 0 到 n 之间的每个数字的二进制表示中 1 的个数，并输出一个数组。\n",
    "\n",
    "\n",
    "示例 1:\n",
    "```\n",
    "输入: n = 2\n",
    "输出: [0,1,1]\n",
    "解释: \n",
    "0 --> 0\n",
    "1 --> 1\n",
    "2 --> 10\n",
    "```\n",
    "示例 2:\n",
    "```\n",
    "输入: n = 5\n",
    "输出: [0,1,1,2,1,2]\n",
    "解释:\n",
    "0 --> 0\n",
    "1 --> 1\n",
    "2 --> 10\n",
    "3 --> 11\n",
    "4 --> 100\n",
    "5 --> 101\n",
    "```\n",
    "\n",
    "说明 :\n",
    "\n",
    "0 <= n <= 10^5\n",
    " \n",
    "\n",
    "进阶:\n",
    "```\n",
    "给出时间复杂度为 O(n*sizeof(integer)) 的解答非常容易。但你可以在线性时间 O(n) 内用一趟扫描做到吗？\n",
    "要求算法的空间复杂度为 O(n) 。\n",
    "你能进一步完善解法吗？要求在C++或任何其他语言中不使用任何内置函数（如 C++ 中的 __builtin_popcount ）来执行此操作。\n",
    "```\n",
    "\n",
    "注意：本题与主站 338 题相同：https://leetcode-cn.com/problems/counting-bits/"
   ]
  },
  {
   "cell_type": "code",
   "execution_count": 1,
   "metadata": {},
   "outputs": [
    {
     "name": "stdout",
     "output_type": "stream",
     "text": [
      "[0, 1, 1]\n",
      "[0, 1, 1, 2, 1, 2]\n"
     ]
    }
   ],
   "source": [
    "# 方法一：模拟数字到二进制，再计数\n",
    "from typing import List\n",
    "class Solution:\n",
    "    def countBits(self, n: int) -> List[int]:\n",
    "        onenum = []\n",
    "        for i in range(n+1):\n",
    "            bistr = ''\n",
    "            while i != 0:\n",
    "                bistr += str(i%2)\n",
    "                i //= 2\n",
    "            onenum.append(bistr.count('1'))\n",
    "        return onenum\n",
    "\n",
    "\n",
    "print(Solution().countBits(2))\n",
    "print(Solution().countBits(5))"
   ]
  },
  {
   "cell_type": "code",
   "execution_count": 2,
   "metadata": {},
   "outputs": [
    {
     "name": "stdout",
     "output_type": "stream",
     "text": [
      "[0, 1, 1]\n",
      "[0, 1, 1, 2, 1, 2]\n"
     ]
    }
   ],
   "source": [
    "# 方法二：动态规划\n",
    "class Solution:\n",
    "    def countBits(self, n: int) -> List[int]:\n",
    "        ret = [0] * (n+1)\n",
    "        for i in range(1, n+1):\n",
    "            # i与1相与，即是看最后一位是0是1.\n",
    "            # 如果是0，则表明i为偶数，其1的个数=右移一位后那个数的1的个数\n",
    "            # 如果是1，则表明i为奇数，其1的个数=右移一位后那个数的1的个数+1\n",
    "            ret[i] = ret[i>>1] + (i&1)\n",
    "        return ret\n",
    "\n",
    "\n",
    "print(Solution().countBits(2))\n",
    "print(Solution().countBits(5))"
   ]
  }
 ],
 "metadata": {
  "kernelspec": {
   "display_name": "Python 3.8.10 64-bit",
   "language": "python",
   "name": "python3"
  },
  "language_info": {
   "codemirror_mode": {
    "name": "ipython",
    "version": 3
   },
   "file_extension": ".py",
   "mimetype": "text/x-python",
   "name": "python",
   "nbconvert_exporter": "python",
   "pygments_lexer": "ipython3",
   "version": "3.8.10"
  },
  "orig_nbformat": 4,
  "vscode": {
   "interpreter": {
    "hash": "e0144baad0ecee903f108a3e46e51ceadd7da3fc904cfa79747d813b61464b4e"
   }
  }
 },
 "nbformat": 4,
 "nbformat_minor": 2
}
