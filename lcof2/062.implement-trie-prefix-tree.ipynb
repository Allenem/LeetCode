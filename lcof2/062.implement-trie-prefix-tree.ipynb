{
 "cells": [
  {
   "cell_type": "markdown",
   "metadata": {},
   "source": [
    "# LCR 062. 实现 Trie (前缀树) (medium)\n",
    "\n",
    "Trie（发音类似 \"try\"）或者说 前缀树 是一种树形数据结构，用于高效地存储和检索字符串数据集中的键。这一数据结构有相当多的应用情景，例如自动补完和拼写检查。\n",
    "\n",
    "请你实现 Trie 类：\n",
    "\n",
    "- Trie() 初始化前缀树对象。\n",
    "- void insert(String word) 向前缀树中插入字符串 word 。\n",
    "- boolean search(String word) 如果字符串 word 在前缀树中，返回 true（即，在检索之前已经插入）；否则，返回 false 。\n",
    "- boolean startsWith(String prefix) 如果之前已经插入的字符串 word 的前缀之一为 prefix ，返回 true ；否则，返回 false 。\n",
    " \n",
    "\n",
    "示例：\n",
    "```\n",
    "输入\n",
    "inputs = [\"Trie\", \"insert\", \"search\", \"search\", \"startsWith\", \"insert\", \"search\"]\n",
    "inputs = [[], [\"apple\"], [\"apple\"], [\"app\"], [\"app\"], [\"app\"], [\"app\"]]\n",
    "输出\n",
    "[null, null, true, false, true, null, true]\n",
    "\n",
    "解释\n",
    "Trie trie = new Trie();\n",
    "trie.insert(\"apple\");\n",
    "trie.search(\"apple\");   // 返回 True\n",
    "trie.search(\"app\");     // 返回 False\n",
    "trie.startsWith(\"app\"); // 返回 True\n",
    "trie.insert(\"app\");\n",
    "trie.search(\"app\");     // 返回 True\n",
    "``` \n",
    "\n",
    "提示：\n",
    "```\n",
    "1 <= word.length, prefix.length <= 2000\n",
    "word 和 prefix 仅由小写英文字母组成\n",
    "insert、search 和 startsWith 调用次数 总计 不超过 3 * 10^4 次\n",
    "```\n",
    "\n",
    "注意：本题与主站 208 题相同：https://leetcode-cn.com/problems/implement-trie-prefix-tree/ "
   ]
  },
  {
   "cell_type": "code",
   "execution_count": 1,
   "metadata": {},
   "outputs": [
    {
     "name": "stdout",
     "output_type": "stream",
     "text": [
      "True\n",
      "False\n",
      "True\n",
      "True\n"
     ]
    }
   ],
   "source": [
    "class Trie:\n",
    "\n",
    "    def __init__(self):\n",
    "        \"\"\"\n",
    "        Initialize your data structure here.\n",
    "        \"\"\"\n",
    "        self.isEnd = False\n",
    "        self.children = [None] * 26\n",
    "\n",
    "\n",
    "    def insert(self, word: str) -> None:\n",
    "        \"\"\"\n",
    "        Inserts a word into the trie.\n",
    "        \"\"\"\n",
    "        node = self        \n",
    "        for w in word:\n",
    "            ch = ord(w) - ord('a')\n",
    "            if not node.children[ch]:\n",
    "                node.children[ch] = Trie() # 没有该结点则插入\n",
    "            node = node.children[ch]       # 进入下一轮循环\n",
    "        node.isEnd = True\n",
    "\n",
    "\n",
    "    def search(self, word: str) -> bool:\n",
    "        \"\"\"\n",
    "        Returns if the word is in the trie.\n",
    "        \"\"\"\n",
    "        node = self\n",
    "        for w in word:\n",
    "            ch = ord(w) - ord('a')\n",
    "            if not node.children[ch]:\n",
    "                return False\n",
    "            node = node.children[ch]\n",
    "        return node.isEnd\n",
    "\n",
    "\n",
    "    def startsWith(self, prefix: str) -> bool:\n",
    "        \"\"\"\n",
    "        Returns if there is any word in the trie that starts with the given prefix.\n",
    "        \"\"\"\n",
    "        node = self\n",
    "        for w in prefix:\n",
    "            ch = ord(w) - ord('a')\n",
    "            if not node.children[ch]:\n",
    "                return False\n",
    "            node = node.children[ch]\n",
    "        return True\n",
    "\n",
    "\n",
    "\n",
    "# Your Trie object will be instantiated and called as such:\n",
    "# obj = Trie()\n",
    "# obj.insert(word)\n",
    "# param_2 = obj.search(word)\n",
    "# param_3 = obj.startsWith(prefix)\n",
    "\n",
    "\n",
    "t = Trie()\n",
    "t.insert('apple')\n",
    "print(t.search('apple'))\n",
    "print(t.search('app'))\n",
    "print(t.startsWith('app'))\n",
    "t.insert('app')\n",
    "print(t.search('app'))\n"
   ]
  }
 ],
 "metadata": {
  "kernelspec": {
   "display_name": "Python 3.8.10 64-bit",
   "language": "python",
   "name": "python3"
  },
  "language_info": {
   "codemirror_mode": {
    "name": "ipython",
    "version": 3
   },
   "file_extension": ".py",
   "mimetype": "text/x-python",
   "name": "python",
   "nbconvert_exporter": "python",
   "pygments_lexer": "ipython3",
   "version": "3.8.10"
  },
  "orig_nbformat": 4,
  "vscode": {
   "interpreter": {
    "hash": "e0144baad0ecee903f108a3e46e51ceadd7da3fc904cfa79747d813b61464b4e"
   }
  }
 },
 "nbformat": 4,
 "nbformat_minor": 2
}
