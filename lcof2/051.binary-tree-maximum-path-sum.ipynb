{
 "cells": [
  {
   "cell_type": "markdown",
   "metadata": {},
   "source": [
    "# LCR 051. 二叉树中的最大路径和 (hard)\n",
    "\n",
    "路径 被定义为一条从树中任意节点出发，沿父节点-子节点连接，达到任意节点的序列。同一个节点在一条路径序列中 至多出现一次 。该路径 至少包含一个 节点，且不一定经过根节点。\n",
    "\n",
    "路径和 是路径中各节点值的总和。\n",
    "\n",
    "给定一个二叉树的根节点 root ，返回其 最大路径和，即所有路径上节点值之和的最大值。\n",
    "\n",
    "\n",
    "示例 1：\n",
    "```\n",
    "      1\n",
    "     / \\\n",
    "    2   3\n",
    "\n",
    "输入：root = [1,2,3]\n",
    "输出：6\n",
    "解释：最优路径是 2 -> 1 -> 3 ，路径和为 2 + 1 + 3 = 6\n",
    "```\n",
    "示例 2：\n",
    "```\n",
    "      -10\n",
    "      / \\\n",
    "    9    20\n",
    "        / \\\n",
    "       15  7\n",
    "\n",
    "输入：root = [-10,9,20,null,null,15,7]\n",
    "输出：42\n",
    "解释：最优路径是 15 -> 20 -> 7 ，路径和为 15 + 20 + 7 = 42\n",
    "``` \n",
    "\n",
    "提示：\n",
    "```\n",
    "树中节点数目范围是 [1, 3 * 10^4]\n",
    "-1000 <= Node.val <= 1000\n",
    "``` \n",
    "\n",
    "注意：本题与主站 124 题相同： https://leetcode-cn.com/problems/binary-tree-maximum-path-sum/"
   ]
  },
  {
   "cell_type": "code",
   "execution_count": 1,
   "metadata": {},
   "outputs": [
    {
     "name": "stdout",
     "output_type": "stream",
     "text": [
      "6\n",
      "42\n"
     ]
    }
   ],
   "source": [
    "# Definition for a binary tree node.\n",
    "class TreeNode:\n",
    "    def __init__(self, val=0, left=None, right=None):\n",
    "        self.val = val\n",
    "        self.left = left\n",
    "        self.right = right\n",
    "class Solution:\n",
    "    def maxPathSum(self, root: TreeNode) -> int:\n",
    "        maxsum = float('-inf')\n",
    "        def dfs(root):\n",
    "            if not root: return 0\n",
    "            lma = max(0, dfs(root.left))\n",
    "            rma = max(0, dfs(root.right))\n",
    "            nonlocal maxsum\n",
    "            maxsum = max(maxsum, root.val + lma + rma)\n",
    "            return root.val + max(lma, rma)\n",
    "        dfs(root)\n",
    "        return maxsum\n",
    "\n",
    "\n",
    "# test\n",
    "def list2tree(l):\n",
    "    if not l: return None\n",
    "    root = TreeNode(l[0])\n",
    "    queue = [root]\n",
    "    i = 1\n",
    "    while i < len(l):\n",
    "        node = queue.pop(0)\n",
    "        if l[i] is not None:\n",
    "            node.left = TreeNode(l[i])\n",
    "            queue.append(node.left)\n",
    "        i += 1\n",
    "        if i < len(l) and l[i] is not None:\n",
    "            node.right = TreeNode(l[i])\n",
    "            queue.append(node.right)\n",
    "        i += 1\n",
    "    return root\n",
    "\n",
    "print(Solution().maxPathSum(list2tree([1,2,3]))) # 6\n",
    "print(Solution().maxPathSum(list2tree([-10,9,20,None,None,15,7]))) # 42"
   ]
  }
 ],
 "metadata": {
  "kernelspec": {
   "display_name": "Python 3.8.10 64-bit",
   "language": "python",
   "name": "python3"
  },
  "language_info": {
   "codemirror_mode": {
    "name": "ipython",
    "version": 3
   },
   "file_extension": ".py",
   "mimetype": "text/x-python",
   "name": "python",
   "nbconvert_exporter": "python",
   "pygments_lexer": "ipython3",
   "version": "3.8.10"
  },
  "orig_nbformat": 4,
  "vscode": {
   "interpreter": {
    "hash": "e0144baad0ecee903f108a3e46e51ceadd7da3fc904cfa79747d813b61464b4e"
   }
  }
 },
 "nbformat": 4,
 "nbformat_minor": 2
}
