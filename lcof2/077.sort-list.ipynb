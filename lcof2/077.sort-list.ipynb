{
 "cells": [
  {
   "cell_type": "markdown",
   "metadata": {},
   "source": [
    "# LCR 077. 排序链表 (medium)\n",
    "\n",
    "给定链表的头结点 head ，请将其按 升序 排列并返回 排序后的链表 。\n",
    "\n",
    "\n",
    "示例 1：\n",
    "```\n",
    "4→2→1→3\n",
    "   ↓\n",
    "1→2→3→4\n",
    "\n",
    "输入：head = [4,2,1,3]\n",
    "输出：[1,2,3,4]\n",
    "```\n",
    "示例 2：\n",
    "```\n",
    "-1→5→3→4→0\n",
    "   ↓\n",
    "-1→0→3→4→5\n",
    "\n",
    "输入：head = [-1,5,3,4,0]\n",
    "输出：[-1,0,3,4,5]\n",
    "```\n",
    "示例 3：\n",
    "```\n",
    "输入：head = []\n",
    "输出：[]\n",
    "``` \n",
    "\n",
    "提示：\n",
    "```\n",
    "链表中节点的数目在范围 [0, 5 * 10^4] 内\n",
    "-10^5 <= Node.val <= 10^5\n",
    "``` \n",
    "\n",
    "进阶：你可以在 O(n log n) 时间复杂度和常数级空间复杂度下，对链表进行排序吗？\n",
    "\n",
    "注意：本题与主站 148 题相同：https://leetcode-cn.com/problems/sort-list/"
   ]
  },
  {
   "cell_type": "code",
   "execution_count": 1,
   "metadata": {},
   "outputs": [
    {
     "name": "stdout",
     "output_type": "stream",
     "text": [
      "[1, 2, 3, 4]\n",
      "[-1, 0, 3, 4, 5]\n",
      "[]\n"
     ]
    }
   ],
   "source": [
    "# 排序，分治法，递归\n",
    "# Definition for singly-linked list.\n",
    "class ListNode:\n",
    "    def __init__(self, val=0, next=None):\n",
    "        self.val = val\n",
    "        self.next = next\n",
    "\n",
    "class Solution:\n",
    "    def sortList(self, head: ListNode) -> ListNode:\n",
    "        def merge(l1, l2):\n",
    "            if not l1: return l2\n",
    "            if not l2: return l1\n",
    "            if l1.val < l2.val:\n",
    "                l1.next = merge(l1.next, l2)\n",
    "                return l1\n",
    "            else:\n",
    "                l2.next = merge(l1, l2.next)\n",
    "                return l2\n",
    "        def help(head, tail):\n",
    "            if not head: return head\n",
    "            if head.next == tail:\n",
    "                head.next = None\n",
    "                return head\n",
    "            slow = fast = head\n",
    "            while fast != tail:\n",
    "                slow, fast = slow.next, fast.next\n",
    "                if fast != tail: fast = fast.next\n",
    "            mid = slow\n",
    "            return merge(help(head, mid), help(mid, tail))\n",
    "        return help(head, None)\n",
    "\n",
    "\n",
    "\n",
    "def lst2tree(lst):\n",
    "    if not lst: return None\n",
    "    head = ListNode(lst[0])\n",
    "    p = head\n",
    "    for i in range(1, len(lst)):\n",
    "        p.next = ListNode(lst[i])\n",
    "        p = p.next\n",
    "    return head\n",
    "def tree2lst(head):\n",
    "    if not head: return []\n",
    "    lst = []\n",
    "    p = head\n",
    "    while p:\n",
    "        lst.append(p.val)\n",
    "        p = p.next\n",
    "    return lst\n",
    "\n",
    "print(tree2lst(Solution().sortList(lst2tree([4,2,1,3]))))\n",
    "print(tree2lst(Solution().sortList(lst2tree([-1,5,3,4,0]))))\n",
    "print(tree2lst(Solution().sortList(lst2tree([]))))"
   ]
  }
 ],
 "metadata": {
  "kernelspec": {
   "display_name": "Python 3.8.10 64-bit",
   "language": "python",
   "name": "python3"
  },
  "language_info": {
   "codemirror_mode": {
    "name": "ipython",
    "version": 3
   },
   "file_extension": ".py",
   "mimetype": "text/x-python",
   "name": "python",
   "nbconvert_exporter": "python",
   "pygments_lexer": "ipython3",
   "version": "3.8.10"
  },
  "orig_nbformat": 4,
  "vscode": {
   "interpreter": {
    "hash": "e0144baad0ecee903f108a3e46e51ceadd7da3fc904cfa79747d813b61464b4e"
   }
  }
 },
 "nbformat": 4,
 "nbformat_minor": 2
}
