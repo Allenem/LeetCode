{
 "cells": [
  {
   "cell_type": "markdown",
   "metadata": {},
   "source": [
    "# LCR 066. 键值映射 (medium)\n",
    "\n",
    "实现一个 MapSum 类，支持两个方法，insert 和 sum：\n",
    "\n",
    "- MapSum() 初始化 MapSum 对象\n",
    "- void insert(String key, int val) 插入 key-val 键值对，字符串表示键 key ，整数表示值 val 。如果键 key 已经存在，那么原来的键值对将被替代成新的键值对。\n",
    "- int sum(string prefix) 返回所有以该前缀 prefix 开头的键 key 的值的总和。\n",
    "\n",
    "\n",
    "示例：\n",
    "```\n",
    "输入：\n",
    "inputs = [\"MapSum\", \"insert\", \"sum\", \"insert\", \"sum\"]\n",
    "inputs = [[], [\"apple\", 3], [\"ap\"], [\"app\", 2], [\"ap\"]]\n",
    "输出：\n",
    "[null, null, 3, null, 5]\n",
    "\n",
    "解释：\n",
    "MapSum mapSum = new MapSum();\n",
    "mapSum.insert(\"apple\", 3);  \n",
    "mapSum.sum(\"ap\");           // return 3 (apple = 3)\n",
    "mapSum.insert(\"app\", 2);    \n",
    "mapSum.sum(\"ap\");           // return 5 (apple + app = 3 + 2 = 5)\n",
    "``` \n",
    "\n",
    "提示：\n",
    "```\n",
    "1 <= key.length, prefix.length <= 50\n",
    "key 和 prefix 仅由小写英文字母组成\n",
    "1 <= val <= 1000\n",
    "最多调用 50 次 insert 和 sum\n",
    "``` \n",
    "\n",
    "注意：本题与主站 677 题相同： https://leetcode-cn.com/problems/map-sum-pairs/"
   ]
  },
  {
   "cell_type": "code",
   "execution_count": 6,
   "metadata": {},
   "outputs": [
    {
     "name": "stdout",
     "output_type": "stream",
     "text": [
      "3\n",
      "5\n",
      "7\n"
     ]
    }
   ],
   "source": [
    "class MapSum:\n",
    "\n",
    "    def __init__(self):\n",
    "        \"\"\"\n",
    "        Initialize your data structure here.\n",
    "        \"\"\"\n",
    "        self.mp = {}\n",
    "        self.prefixmp = {}\n",
    "\n",
    "\n",
    "    def insert(self, key: str, val: int) -> None:\n",
    "        dval = val\n",
    "        # in case key already exists\n",
    "        if key in self.mp:\n",
    "            dval -= self.mp[key]\n",
    "        self.mp[key] = val\n",
    "        for i in range(len(key)):\n",
    "            k = key[:i+1]\n",
    "            if k in self.prefixmp:\n",
    "                self.prefixmp[k] += dval\n",
    "            else:\n",
    "                self.prefixmp[k] = dval\n",
    "        # print(self.mp, self.prefixmp)\n",
    "\n",
    "\n",
    "    def sum(self, prefix: str) -> int:\n",
    "        return self.prefixmp.get(prefix, 0)\n",
    "\n",
    "\n",
    "\n",
    "# Your MapSum object will be instantiated and called as such:\n",
    "# obj = MapSum()\n",
    "# obj.insert(key,val)\n",
    "# param_2 = obj.sum(prefix)\n",
    "\n",
    "ms = MapSum()\n",
    "ms.insert(\"apple\", 3)\n",
    "print(ms.sum(\"ap\"))\n",
    "ms.insert(\"app\", 2)\n",
    "print(ms.sum(\"ap\"))\n",
    "ms.insert(\"app\", 4)\n",
    "print(ms.sum(\"ap\"))\n"
   ]
  }
 ],
 "metadata": {
  "kernelspec": {
   "display_name": "Python 3.8.10 64-bit",
   "language": "python",
   "name": "python3"
  },
  "language_info": {
   "codemirror_mode": {
    "name": "ipython",
    "version": 3
   },
   "file_extension": ".py",
   "mimetype": "text/x-python",
   "name": "python",
   "nbconvert_exporter": "python",
   "pygments_lexer": "ipython3",
   "version": "3.8.10"
  },
  "orig_nbformat": 4,
  "vscode": {
   "interpreter": {
    "hash": "e0144baad0ecee903f108a3e46e51ceadd7da3fc904cfa79747d813b61464b4e"
   }
  }
 },
 "nbformat": 4,
 "nbformat_minor": 2
}
