{
 "cells": [
  {
   "cell_type": "markdown",
   "metadata": {},
   "source": [
    "# LCR 105. 岛屿的最大面积 (medium)\n",
    "\n",
    "给定一个由 0 和 1 组成的非空二维数组 grid ，用来表示海洋岛屿地图。\n",
    "\n",
    "一个 岛屿 是由一些相邻的 1 (代表土地) 构成的组合，这里的「相邻」要求两个 1 必须在水平或者竖直方向上相邻。你可以假设 grid 的四个边缘都被 0（代表水）包围着。\n",
    "\n",
    "找到给定的二维数组中最大的岛屿面积。如果没有岛屿，则返回面积为 0 。\n",
    "\n",
    "示例 1:\n",
    "\n",
    "![](https://pic.leetcode-cn.com/1626667010-nSGPXz-image.png)\n",
    "\n",
    "```\n",
    "输入: grid = [[0,0,1,0,0,0,0,1,0,0,0,0,0],[0,0,0,0,0,0,0,1,1,1,0,0,0],[0,1,1,0,1,0,0,0,0,0,0,0,0],[0,1,0,0,1,1,0,0,1,0,1,0,0],[0,1,0,0,1,1,0,0,1,1,1,0,0],[0,0,0,0,0,0,0,0,0,0,1,0,0],[0,0,0,0,0,0,0,1,1,1,0,0,0],[0,0,0,0,0,0,0,1,1,0,0,0,0]]\n",
    "输出: 6\n",
    "解释: 对于上面这个给定矩阵应返回 6。注意答案不应该是 11 ，因为岛屿只能包含水平或垂直的四个方向的 1 。\n",
    "```\n",
    "示例 2:\n",
    "```\n",
    "输入: grid = [[0,0,0,0,0,0,0,0]]\n",
    "输出: 0\n",
    "``` \n",
    "\n",
    "提示：\n",
    "```\n",
    "m == grid.length\n",
    "n == grid[i].length\n",
    "1 <= m, n <= 50\n",
    "grid[i][j] is either 0 or 1\n",
    "``` \n",
    "\n",
    "注意：本题与主站 695 题相同： https://leetcode-cn.com/problems/max-area-of-island/"
   ]
  },
  {
   "cell_type": "code",
   "execution_count": 1,
   "metadata": {},
   "outputs": [
    {
     "name": "stdout",
     "output_type": "stream",
     "text": [
      "6\n",
      "0\n"
     ]
    }
   ],
   "source": [
    "# DFS\n",
    "from typing import List\n",
    "class Solution:\n",
    "    def maxAreaOfIsland(self, grid: List[List[int]]) -> int:\n",
    "        def dfs(grid, i, j):\n",
    "            if i < 0 or i >= m or j < 0 or j >= n or grid[i][j] == 0:\n",
    "                return 0\n",
    "            grid[i][j] = 0\n",
    "            ans = 1\n",
    "            for x, y in (i-1,j), (i+1, j), (i, j-1), (i, j+1):\n",
    "                ans += dfs(grid, x, y)\n",
    "            return ans\n",
    "\n",
    "        ma, m, n = 0, len(grid), len(grid[0])\n",
    "        for i in range(m):\n",
    "            for j in range(n):\n",
    "                ma = max(ma, dfs(grid, i, j))\n",
    "        return ma\n",
    "\n",
    "print(Solution().maxAreaOfIsland([[0,0,1,0,0,0,0,1,0,0,0,0,0], [0,0,0,0,0,0,0,1,1,1,0,0,0], [0,1,1,0,1,0,0,0,0,0,0,0,0], [0,1,0,0,1,1,0,0,1,0,1,0,0], [0,1,0,0,1,1,0,0,1,1,1,0,0], [0,0,0,0,0,0,0,0,0,0,1,0,0], [0,0,0,0,0,0,0,1,1,1,0,0,0], [0,0,0,0,0,0,0,1,1,0,0,0,0]]))\n",
    "print(Solution().maxAreaOfIsland([[0,0,0,0,0,0,0,0]]))"
   ]
  },
  {
   "cell_type": "code",
   "execution_count": 2,
   "metadata": {},
   "outputs": [
    {
     "name": "stdout",
     "output_type": "stream",
     "text": [
      "6\n",
      "0\n"
     ]
    }
   ],
   "source": [
    "# BFS\n",
    "from typing import List\n",
    "import collections\n",
    "class Solution:\n",
    "    def maxAreaOfIsland(self, grid: List[List[int]]) -> int:\n",
    "        def bfs(grid, i, j):\n",
    "            q = collections.deque([(i, j)])\n",
    "            grid[i][j] = 0\n",
    "            ans = 1\n",
    "            while q:\n",
    "                i, j = q.popleft()\n",
    "                for x, y in (i-1,j), (i+1, j), (i, j-1), (i, j+1):\n",
    "                    if 0 <= x < m and 0 <= y < n and grid[x][y] == 1:\n",
    "                        grid[x][y] = 0\n",
    "                        ans += 1\n",
    "                        q.append((x, y))\n",
    "            return ans\n",
    "\n",
    "        ma, m, n = 0, len(grid), len(grid[0])\n",
    "        for i in range(m):\n",
    "            for j in range(n):\n",
    "                if grid[i][j] == 1:\n",
    "                    ma = max(ma, bfs(grid, i, j))\n",
    "        return ma\n",
    "\n",
    "print(Solution().maxAreaOfIsland([[0,0,1,0,0,0,0,1,0,0,0,0,0], [0,0,0,0,0,0,0,1,1,1,0,0,0], [0,1,1,0,1,0,0,0,0,0,0,0,0], [0,1,0,0,1,1,0,0,1,0,1,0,0], [0,1,0,0,1,1,0,0,1,1,1,0,0], [0,0,0,0,0,0,0,0,0,0,1,0,0], [0,0,0,0,0,0,0,1,1,1,0,0,0], [0,0,0,0,0,0,0,1,1,0,0,0,0]]))\n",
    "print(Solution().maxAreaOfIsland([[0,0,0,0,0,0,0,0]]))"
   ]
  }
 ],
 "metadata": {
  "kernelspec": {
   "display_name": "Python 3.8.10 64-bit",
   "language": "python",
   "name": "python3"
  },
  "language_info": {
   "codemirror_mode": {
    "name": "ipython",
    "version": 3
   },
   "file_extension": ".py",
   "mimetype": "text/x-python",
   "name": "python",
   "nbconvert_exporter": "python",
   "pygments_lexer": "ipython3",
   "version": "3.8.10"
  },
  "orig_nbformat": 4,
  "vscode": {
   "interpreter": {
    "hash": "e0144baad0ecee903f108a3e46e51ceadd7da3fc904cfa79747d813b61464b4e"
   }
  }
 },
 "nbformat": 4,
 "nbformat_minor": 2
}
