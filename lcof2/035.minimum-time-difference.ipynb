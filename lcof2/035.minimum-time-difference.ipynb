{
 "cells": [
  {
   "cell_type": "markdown",
   "metadata": {},
   "source": [
    "# LCR 035. 最小时间差 (medium)\n",
    "\n",
    "给定一个 24 小时制（小时:分钟 \"HH:MM\"）的时间列表，找出列表中任意两个时间的最小时间差并以分钟数表示。\n",
    "\n",
    "\n",
    "示例 1：\n",
    "```\n",
    "输入：timePoints = [\"23:59\",\"00:00\"]\n",
    "输出：1\n",
    "```\n",
    "示例 2：\n",
    "```\n",
    "输入：timePoints = [\"00:00\",\"23:59\",\"00:00\"]\n",
    "输出：0\n",
    "``` \n",
    "\n",
    "提示：\n",
    "```\n",
    "2 <= timePoints <= 2 * 104\n",
    "timePoints[i] 格式为 \"HH:MM\"\n",
    "``` \n",
    "\n",
    "注意：本题与主站 539 题相同： https://leetcode-cn.com/problems/minimum-time-difference/"
   ]
  },
  {
   "cell_type": "code",
   "execution_count": 1,
   "metadata": {},
   "outputs": [
    {
     "name": "stdout",
     "output_type": "stream",
     "text": [
      "1\n",
      "0\n"
     ]
    }
   ],
   "source": [
    "from typing import List\n",
    "class Solution:\n",
    "    def findMinDifference(self, timePoints: List[str]) -> int:\n",
    "        if len(timePoints) > 24 * 60: return 0\n",
    "        tp_sorted = sorted((int(t[:2]) * 60 + int(t[3:])) for t in timePoints)\n",
    "        tp_sorted.append(tp_sorted[0] + 24 * 60)\n",
    "        return min(tp_sorted[i+1] - tp_sorted[i] for i in range(len(tp_sorted) - 1))\n",
    "\n",
    "\n",
    "print(Solution().findMinDifference([\"23:59\",\"00:00\"]))\n",
    "print(Solution().findMinDifference([\"00:00\",\"23:59\",\"00:00\"]))\n"
   ]
  }
 ],
 "metadata": {
  "kernelspec": {
   "display_name": "Python 3.8.10 64-bit",
   "language": "python",
   "name": "python3"
  },
  "language_info": {
   "codemirror_mode": {
    "name": "ipython",
    "version": 3
   },
   "file_extension": ".py",
   "mimetype": "text/x-python",
   "name": "python",
   "nbconvert_exporter": "python",
   "pygments_lexer": "ipython3",
   "version": "3.8.10"
  },
  "orig_nbformat": 4,
  "vscode": {
   "interpreter": {
    "hash": "e0144baad0ecee903f108a3e46e51ceadd7da3fc904cfa79747d813b61464b4e"
   }
  }
 },
 "nbformat": 4,
 "nbformat_minor": 2
}
