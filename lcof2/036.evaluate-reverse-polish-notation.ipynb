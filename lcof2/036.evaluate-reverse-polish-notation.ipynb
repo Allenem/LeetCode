{
 "cells": [
  {
   "cell_type": "markdown",
   "metadata": {},
   "source": [
    "# LCR 036. 逆波兰表达式求值 (medium)\n",
    "\n",
    "根据 逆波兰表示法，求该后缀表达式的计算结果。\n",
    "\n",
    "有效的算符包括 +、-、*、/ 。每个运算对象可以是整数，也可以是另一个逆波兰表达式。\n",
    "\n",
    "说明：\n",
    "```\n",
    "整数除法只保留整数部分。\n",
    "给定逆波兰表达式总是有效的。换句话说，表达式总会得出有效数值且不存在除数为 0 的情况。\n",
    "``` \n",
    "\n",
    "示例 1：\n",
    "```\n",
    "输入：tokens = [\"2\",\"1\",\"+\",\"3\",\"*\"]\n",
    "输出：9\n",
    "解释：该算式转化为常见的中缀算术表达式为：((2 + 1) * 3) = 9\n",
    "```\n",
    "示例 2：\n",
    "```\n",
    "输入：tokens = [\"4\",\"13\",\"5\",\"/\",\"+\"]\n",
    "输出：6\n",
    "解释：该算式转化为常见的中缀算术表达式为：(4 + (13 / 5)) = 6\n",
    "```\n",
    "示例 3：\n",
    "```\n",
    "输入：tokens = [\"10\",\"6\",\"9\",\"3\",\"+\",\"-11\",\"*\",\"/\",\"*\",\"17\",\"+\",\"5\",\"+\"]\n",
    "输出：22\n",
    "解释：\n",
    "该算式转化为常见的中缀算术表达式为：\n",
    "  ((10 * (6 / ((9 + 3) * -11))) + 17) + 5\n",
    "= ((10 * (6 / (12 * -11))) + 17) + 5\n",
    "= ((10 * (6 / -132)) + 17) + 5\n",
    "= ((10 * 0) + 17) + 5\n",
    "= (0 + 17) + 5\n",
    "= 17 + 5\n",
    "= 22\n",
    "``` \n",
    "\n",
    "提示：\n",
    "```\n",
    "1 <= tokens.length <= 104\n",
    "tokens[i] 要么是一个算符（\"+\"、\"-\"、\"*\" 或 \"/\"），要么是一个在范围 [-200, 200] 内的整数\n",
    "``` \n",
    "\n",
    "逆波兰表达式：\n",
    "\n",
    "逆波兰表达式是一种后缀表达式，所谓后缀就是指算符写在后面。\n",
    "\n",
    "- 平常使用的算式则是一种中缀表达式，如 ( 1 + 2 ) * ( 3 + 4 ) 。\n",
    "- 该算式的逆波兰表达式写法为 ( ( 1 2 + ) ( 3 4 + ) * ) 。\n",
    "\n",
    "逆波兰表达式主要有以下两个优点：\n",
    "\n",
    "- 去掉括号后表达式无歧义，上式即便写成 1 2 + 3 4 + * 也可以依据次序计算出正确结果。\n",
    "- 适合用栈操作运算：遇到数字则入栈；遇到算符则取出栈顶两个数字进行计算，并将结果压入栈中。\n",
    "\n",
    "\n",
    "注意：本题与主站 150 题相同： https://leetcode-cn.com/problems/evaluate-reverse-polish-notation/"
   ]
  },
  {
   "cell_type": "code",
   "execution_count": 1,
   "metadata": {},
   "outputs": [
    {
     "name": "stdout",
     "output_type": "stream",
     "text": [
      "9\n",
      "6\n",
      "22\n"
     ]
    }
   ],
   "source": [
    "# 方法一\n",
    "from operator import add, sub, mul, truediv\n",
    "from typing import List\n",
    "class Solution:\n",
    "    def evalRPN(self, tokens: List[str]) -> int:\n",
    "        operator = {\n",
    "            '+': add,\n",
    "            '-': sub,\n",
    "            '*': mul,\n",
    "            '/': lambda x, y: int(x / y) # 靠近0取整 或者 '/': truediv\n",
    "        }\n",
    "\n",
    "        stack = list()\n",
    "        for token in tokens:\n",
    "            try:\n",
    "                num = int(token)\n",
    "            except ValueError:\n",
    "                num2 = stack.pop()\n",
    "                num1 = stack.pop()\n",
    "                num = operator[token](num1, num2)\n",
    "            finally:\n",
    "                stack.append(num)\n",
    "        \n",
    "        return stack[0]\n",
    "\n",
    "\n",
    "print(Solution().evalRPN([\"2\",\"1\",\"+\",\"3\",\"*\"])) # 9\n",
    "print(Solution().evalRPN([\"4\",\"13\",\"5\",\"/\",\"+\"])) # 6\n",
    "print(Solution().evalRPN([\"10\",\"6\",\"9\",\"3\",\"+\",\"-11\",\"*\",\"/\",\"*\",\"17\",\"+\",\"5\",\"+\"])) # 22"
   ]
  },
  {
   "cell_type": "code",
   "execution_count": 2,
   "metadata": {},
   "outputs": [
    {
     "name": "stdout",
     "output_type": "stream",
     "text": [
      "9\n",
      "6\n",
      "22\n"
     ]
    }
   ],
   "source": [
    "# 方法二\n",
    "class Solution:\n",
    "    def evalRPN(self, tokens: List[str]) -> int:\n",
    "        stk = []\n",
    "        for t in tokens:\n",
    "            if t in '+-*/':\n",
    "                b, a = stk.pop(), stk.pop()\n",
    "                stk.append(str(int(eval(a + t + b))))\n",
    "            else:\n",
    "                if int(t) < 0: t = '(' + t +')'    \n",
    "                stk.append(t)\n",
    "        return int(stk[0])\n",
    "\n",
    "\n",
    "print(Solution().evalRPN([\"2\",\"1\",\"+\",\"3\",\"*\"])) # 9\n",
    "print(Solution().evalRPN([\"4\",\"13\",\"5\",\"/\",\"+\"])) # 6\n",
    "print(Solution().evalRPN([\"10\",\"6\",\"9\",\"3\",\"+\",\"-11\",\"*\",\"/\",\"*\",\"17\",\"+\",\"5\",\"+\"])) # 22"
   ]
  }
 ],
 "metadata": {
  "kernelspec": {
   "display_name": "Python 3.8.10 64-bit",
   "language": "python",
   "name": "python3"
  },
  "language_info": {
   "codemirror_mode": {
    "name": "ipython",
    "version": 3
   },
   "file_extension": ".py",
   "mimetype": "text/x-python",
   "name": "python",
   "nbconvert_exporter": "python",
   "pygments_lexer": "ipython3",
   "version": "3.8.10"
  },
  "orig_nbformat": 4,
  "vscode": {
   "interpreter": {
    "hash": "e0144baad0ecee903f108a3e46e51ceadd7da3fc904cfa79747d813b61464b4e"
   }
  }
 },
 "nbformat": 4,
 "nbformat_minor": 2
}
