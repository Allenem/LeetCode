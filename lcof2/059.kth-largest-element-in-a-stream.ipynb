{
 "cells": [
  {
   "cell_type": "markdown",
   "metadata": {},
   "source": [
    "# LCR 059. 数据流中的第 K 大元素 (easy)\n",
    "\n",
    "设计一个找到数据流中第 k 大元素的类（class）。注意是排序后的第 k 大元素，不是第 k 个不同的元素。\n",
    "\n",
    "请实现 KthLargest 类：\n",
    "```\n",
    "KthLargest(int k, int[] nums) 使用整数 k 和整数流 nums 初始化对象。\n",
    "int add(int val) 将 val 插入数据流 nums 后，返回当前数据流中第 k 大的元素。\n",
    "``` \n",
    "\n",
    "示例：\n",
    "```\n",
    "输入：\n",
    "[\"KthLargest\", \"add\", \"add\", \"add\", \"add\", \"add\"]\n",
    "[[3, [4, 5, 8, 2]], [3], [5], [10], [9], [4]]\n",
    "输出：\n",
    "[null, 4, 5, 5, 8, 8]\n",
    "\n",
    "解释：\n",
    "KthLargest kthLargest = new KthLargest(3, [4, 5, 8, 2]);\n",
    "kthLargest.add(3);   // return 4\n",
    "kthLargest.add(5);   // return 5\n",
    "kthLargest.add(10);  // return 5\n",
    "kthLargest.add(9);   // return 8\n",
    "kthLargest.add(4);   // return 8\n",
    "``` \n",
    "\n",
    "提示：\n",
    "```\n",
    "1 <= k <= 10^4\n",
    "0 <= nums.length <= 10^4\n",
    "-10^4 <= nums[i] <= 10^4\n",
    "-10^4 <= val <= 10^4\n",
    "最多调用 add 方法 10^4 次\n",
    "题目数据保证，在查找第 k 大元素时，数组中至少有 k 个元素\n",
    "``` \n",
    "\n",
    "注意：本题与主站 703 题相同： https://leetcode-cn.com/problems/kth-largest-element-in-a-stream/"
   ]
  },
  {
   "cell_type": "code",
   "execution_count": 1,
   "metadata": {},
   "outputs": [
    {
     "name": "stdout",
     "output_type": "stream",
     "text": [
      "4\n",
      "5\n",
      "5\n",
      "8\n",
      "8\n"
     ]
    }
   ],
   "source": [
    "# 方法一：暴力\n",
    "from typing import List\n",
    "class KthLargest:\n",
    "\n",
    "    def __init__(self, k: int, nums: List[int]):\n",
    "        self.k = k - 1\n",
    "        self.nums = nums\n",
    "\n",
    "\n",
    "    def add(self, val: int) -> int:\n",
    "        self.nums.append(val)\n",
    "        self.nums.sort(reverse=True)\n",
    "        return self.nums[self.k]\n",
    "\n",
    "\n",
    "\n",
    "# Your KthLargest object will be instantiated and called as such:\n",
    "# obj = KthLargest(k, nums)\n",
    "# param_1 = obj.add(val)\n",
    "\n",
    "kl = KthLargest(3, [4,5,8,2])\n",
    "print(kl.add(3))\n",
    "print(kl.add(5))\n",
    "print(kl.add(10))\n",
    "print(kl.add(9))\n",
    "print(kl.add(4))\n"
   ]
  },
  {
   "cell_type": "code",
   "execution_count": 2,
   "metadata": {},
   "outputs": [
    {
     "name": "stdout",
     "output_type": "stream",
     "text": [
      "4\n",
      "5\n",
      "5\n",
      "8\n",
      "8\n"
     ]
    }
   ],
   "source": [
    "# 方法二：优先队列（小顶堆）\n",
    "from typing import List\n",
    "import heapq\n",
    "class KthLargest:\n",
    "\n",
    "    def __init__(self, k: int, nums: List[int]):\n",
    "        self.nums = nums\n",
    "        self.k = k\n",
    "        heapq.heapify(self.nums)\n",
    "        while len(self.nums) > k:\n",
    "            heapq.heappop(self.nums)\n",
    "\n",
    "\n",
    "    def add(self, val: int) -> int:\n",
    "        heapq.heappush(self.nums, val)\n",
    "        if len(self.nums) > self.k:\n",
    "            heapq.heappop(self.nums)\n",
    "        return self.nums[0]\n",
    "\n",
    "\n",
    "\n",
    "# Your KthLargest object will be instantiated and called as such:\n",
    "# obj = KthLargest(k, nums)\n",
    "# param_1 = obj.add(val)\n",
    "\n",
    "kl = KthLargest(3, [4,5,8,2])\n",
    "print(kl.add(3))\n",
    "print(kl.add(5))\n",
    "print(kl.add(10))\n",
    "print(kl.add(9))\n",
    "print(kl.add(4))"
   ]
  }
 ],
 "metadata": {
  "kernelspec": {
   "display_name": "Python 3.8.10 64-bit",
   "language": "python",
   "name": "python3"
  },
  "language_info": {
   "codemirror_mode": {
    "name": "ipython",
    "version": 3
   },
   "file_extension": ".py",
   "mimetype": "text/x-python",
   "name": "python",
   "nbconvert_exporter": "python",
   "pygments_lexer": "ipython3",
   "version": "3.8.10"
  },
  "orig_nbformat": 4,
  "vscode": {
   "interpreter": {
    "hash": "e0144baad0ecee903f108a3e46e51ceadd7da3fc904cfa79747d813b61464b4e"
   }
  }
 },
 "nbformat": 4,
 "nbformat_minor": 2
}
