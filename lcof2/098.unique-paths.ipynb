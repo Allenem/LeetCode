{
 "cells": [
  {
   "cell_type": "markdown",
   "metadata": {},
   "source": [
    "# LCR 098. 不同路径 (medium)\n",
    "\n",
    "一个机器人位于一个 m x n 网格的左上角 （起始点在下图中标记为 “Start” ）。\n",
    "\n",
    "机器人每次只能向下或者向右移动一步。机器人试图达到网格的右下角（在下图中标记为 “Finish” ）。\n",
    "\n",
    "问总共有多少条不同的路径？\n",
    "\n",
    " \n",
    "\n",
    "示例 1：\n",
    "\n",
    "Start|x|x|x|x|x|x\n",
    "-|-|-|-|-|-|-\n",
    "x|x|x|x|x|x|x\n",
    "x|x|x|x|x|x|Finish\n",
    "```\n",
    "输入：m = 3, n = 7\n",
    "输出：28\n",
    "```\n",
    "示例 2：\n",
    "```\n",
    "输入：m = 3, n = 2\n",
    "输出：3\n",
    "解释：\n",
    "从左上角开始，总共有 3 条路径可以到达右下角。\n",
    "1. 向右 -> 向下 -> 向下\n",
    "2. 向下 -> 向下 -> 向右\n",
    "3. 向下 -> 向右 -> 向下\n",
    "```\n",
    "示例 3：\n",
    "```\n",
    "输入：m = 7, n = 3\n",
    "输出：28\n",
    "```\n",
    "示例 4：\n",
    "```\n",
    "输入：m = 3, n = 3\n",
    "输出：6\n",
    "``` \n",
    "\n",
    "提示：\n",
    "```\n",
    "1 <= m, n <= 100\n",
    "题目数据保证答案小于等于 2 * 10^9\n",
    "``` \n",
    "\n",
    "注意：本题与主站 62 题相同： https://leetcode-cn.com/problems/unique-paths/"
   ]
  },
  {
   "cell_type": "code",
   "execution_count": 1,
   "metadata": {},
   "outputs": [
    {
     "name": "stdout",
     "output_type": "stream",
     "text": [
      "28\n",
      "3\n",
      "28\n",
      "6\n"
     ]
    }
   ],
   "source": [
    "# 1. 1d dp\n",
    "class Solution:\n",
    "    def uniquePaths(self, m: int, n: int) -> int:\n",
    "        (ma, mi) = (m, n) if m > n else (n, m)\n",
    "        dp = [1] * mi\n",
    "        for i in range(1, ma):\n",
    "            for j in range(1, mi):\n",
    "                dp[j] += dp[j - 1]\n",
    "        return dp[-1]\n",
    "        \n",
    "print(Solution().uniquePaths(3, 7))\n",
    "print(Solution().uniquePaths(3, 2))\n",
    "print(Solution().uniquePaths(7, 3))\n",
    "print(Solution().uniquePaths(3, 3))"
   ]
  },
  {
   "cell_type": "code",
   "execution_count": 2,
   "metadata": {},
   "outputs": [
    {
     "name": "stdout",
     "output_type": "stream",
     "text": [
      "28\n",
      "3\n",
      "28\n",
      "6\n"
     ]
    }
   ],
   "source": [
    "# 2. 2d dp\n",
    "class Solution:\n",
    "    def uniquePaths(self, m: int, n: int) -> int:\n",
    "        dp = [[1] * n] + [[1] + [0] * (n - 1) for _ in range(m - 1)]\n",
    "        for i in range(1, m):\n",
    "            for j in range(1, n):\n",
    "                dp[i][j] = dp[i-1][j] + dp[i][j-1]\n",
    "        return dp[-1][-1]\n",
    "        \n",
    "print(Solution().uniquePaths(3, 7))\n",
    "print(Solution().uniquePaths(3, 2))\n",
    "print(Solution().uniquePaths(7, 3))\n",
    "print(Solution().uniquePaths(3, 3))"
   ]
  },
  {
   "cell_type": "code",
   "execution_count": 3,
   "metadata": {},
   "outputs": [
    {
     "name": "stdout",
     "output_type": "stream",
     "text": [
      "28\n",
      "3\n",
      "28\n",
      "6\n"
     ]
    }
   ],
   "source": [
    "# 3. 组合公式\n",
    "class Solution:\n",
    "    def uniquePaths(self, m: int, n: int) -> int:\n",
    "        \n",
    "        if m == 1 or n == 1: return 1\n",
    "        \n",
    "        def jiecheng(x):\n",
    "            if x == 1: return 1\n",
    "            return x * jiecheng(x - 1)\n",
    "\n",
    "        def Anm(n, m):\n",
    "            if m == 0: return 1\n",
    "            return jiecheng(n) // jiecheng(n - m)\n",
    "\n",
    "        def Cnm(n, m):\n",
    "            return Anm(n, m) // jiecheng(m)\n",
    "\n",
    "        return Cnm(m+n-2, n-1)\n",
    "\n",
    "print(Solution().uniquePaths(3, 7))\n",
    "print(Solution().uniquePaths(3, 2))\n",
    "print(Solution().uniquePaths(7, 3))\n",
    "print(Solution().uniquePaths(3, 3))"
   ]
  }
 ],
 "metadata": {
  "kernelspec": {
   "display_name": "Python 3.8.10 64-bit",
   "language": "python",
   "name": "python3"
  },
  "language_info": {
   "codemirror_mode": {
    "name": "ipython",
    "version": 3
   },
   "file_extension": ".py",
   "mimetype": "text/x-python",
   "name": "python",
   "nbconvert_exporter": "python",
   "pygments_lexer": "ipython3",
   "version": "3.8.10"
  },
  "orig_nbformat": 4,
  "vscode": {
   "interpreter": {
    "hash": "e0144baad0ecee903f108a3e46e51ceadd7da3fc904cfa79747d813b61464b4e"
   }
  }
 },
 "nbformat": 4,
 "nbformat_minor": 2
}
