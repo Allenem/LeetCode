{
 "cells": [
  {
   "cell_type": "markdown",
   "metadata": {},
   "source": [
    "# LCR 073. 爱吃香蕉的狒狒 (medium)\n",
    "\n",
    "狒狒喜欢吃香蕉。这里有 N 堆香蕉，第 i 堆中有 piles[i] 根香蕉。警卫已经离开了，将在 H 小时后回来。\n",
    "\n",
    "狒狒可以决定她吃香蕉的速度 K （单位：根/小时）。每个小时，她将会选择一堆香蕉，从中吃掉 K 根。如果这堆香蕉少于 K 根，她将吃掉这堆的所有香蕉，然后这一小时内不会再吃更多的香蕉，下一个小时才会开始吃另一堆的香蕉。  \n",
    "\n",
    "狒狒喜欢慢慢吃，但仍然想在警卫回来前吃掉所有的香蕉。\n",
    "\n",
    "返回她可以在 H 小时内吃掉所有香蕉的最小速度 K（K 为整数）。\n",
    "\n",
    "\n",
    "示例 1：\n",
    "```\n",
    "输入: piles = [3,6,7,11], H = 8\n",
    "输出: 4\n",
    "```\n",
    "示例 2：\n",
    "```\n",
    "输入: piles = [30,11,23,4,20], H = 5\n",
    "输出: 30\n",
    "```\n",
    "示例 3：\n",
    "```\n",
    "输入: piles = [30,11,23,4,20], H = 6\n",
    "输出: 23\n",
    "``` \n",
    "\n",
    "提示：\n",
    "```\n",
    "1 <= piles.length <= 10^4\n",
    "piles.length <= H <= 10^9\n",
    "1 <= piles[i] <= 10^9\n",
    "``` \n",
    "\n",
    "注意：本题与主站 875 题相同： https://leetcode-cn.com/problems/koko-eating-bananas/"
   ]
  },
  {
   "cell_type": "code",
   "execution_count": 1,
   "metadata": {},
   "outputs": [
    {
     "name": "stdout",
     "output_type": "stream",
     "text": [
      "4\n",
      "30\n",
      "23\n"
     ]
    }
   ],
   "source": [
    "from typing import List\n",
    "import math\n",
    "\n",
    "class Solution:\n",
    "    def minEatingSpeed(self, piles: List[int], h: int) -> int:\n",
    "        l, r = 1, max(piles)\n",
    "        while l <= r:\n",
    "            mid_k = (l + r) // 2\n",
    "            h_k = 0\n",
    "            for pile in piles:\n",
    "                h_k += math.ceil(pile / mid_k)\n",
    "            if h_k > h: l = mid_k + 1\n",
    "            else: r = mid_k - 1\n",
    "        return l\n",
    "        \n",
    "print(Solution().minEatingSpeed(piles = [3,6,7,11], h = 8))\n",
    "print(Solution().minEatingSpeed(piles = [30,11,23,4,20], h = 5))\n",
    "print(Solution().minEatingSpeed(piles = [30,11,23,4,20], h = 6))"
   ]
  }
 ],
 "metadata": {
  "kernelspec": {
   "display_name": "Python 3.8.10 64-bit",
   "language": "python",
   "name": "python3"
  },
  "language_info": {
   "codemirror_mode": {
    "name": "ipython",
    "version": 3
   },
   "file_extension": ".py",
   "mimetype": "text/x-python",
   "name": "python",
   "nbconvert_exporter": "python",
   "pygments_lexer": "ipython3",
   "version": "3.8.10"
  },
  "orig_nbformat": 4,
  "vscode": {
   "interpreter": {
    "hash": "e0144baad0ecee903f108a3e46e51ceadd7da3fc904cfa79747d813b61464b4e"
   }
  }
 },
 "nbformat": 4,
 "nbformat_minor": 2
}
