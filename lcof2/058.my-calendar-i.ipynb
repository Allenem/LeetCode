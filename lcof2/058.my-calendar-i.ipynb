{
 "cells": [
  {
   "cell_type": "markdown",
   "metadata": {},
   "source": [
    "# LCR 058. 我的日程安排表 I (medium)\n",
    "\n",
    "请实现一个 MyCalendar 类来存放你的日程安排。如果要添加的时间内没有其他安排，则可以存储这个新的日程安排。\n",
    "\n",
    "MyCalendar 有一个 book(int start, int end)方法。它意味着在 start 到 end 时间内增加一个日程安排，注意，这里的时间是半开区间，即 [start, end), 实数 x 的范围为，  start <= x < end。\n",
    "\n",
    "当两个日程安排有一些时间上的交叉时（例如两个日程安排都在同一时间内），就会产生重复预订。\n",
    "\n",
    "每次调用 MyCalendar.book方法时，如果可以将日程安排成功添加到日历中而不会导致重复预订，返回 true。否则，返回 false 并且不要将该日程安排添加到日历中。\n",
    "\n",
    "请按照以下步骤调用 MyCalendar 类: MyCalendar cal = new MyCalendar(); MyCalendar.book(start, end)\n",
    "\n",
    " \n",
    "\n",
    "示例:\n",
    "```\n",
    "输入:\n",
    "[\"MyCalendar\",\"book\",\"book\",\"book\"]\n",
    "[[],[10,20],[15,25],[20,30]]\n",
    "输出: [null,true,false,true]\n",
    "解释: \n",
    "MyCalendar myCalendar = new MyCalendar();\n",
    "MyCalendar.book(10, 20); // returns true \n",
    "MyCalendar.book(15, 25); // returns false ，第二个日程安排不能添加到日历中，因为时间 15 已经被第一个日程安排预定了\n",
    "MyCalendar.book(20, 30); // returns true ，第三个日程安排可以添加到日历中，因为第一个日程安排并不包含时间 20 \n",
    "``` \n",
    "\n",
    "\n",
    "提示：\n",
    "```\n",
    "每个测试用例，调用 MyCalendar.book 函数最多不超过 1000次。\n",
    "0 <= start < end <= 10^9\n",
    "``` \n",
    "\n",
    "注意：本题与主站 729 题相同： https://leetcode-cn.com/problems/my-calendar-i/"
   ]
  },
  {
   "cell_type": "code",
   "execution_count": 1,
   "metadata": {},
   "outputs": [
    {
     "name": "stdout",
     "output_type": "stream",
     "text": [
      "True\n",
      "False\n",
      "True\n"
     ]
    }
   ],
   "source": [
    "import bisect\n",
    "\n",
    "\n",
    "class MyCalendar:\n",
    "\n",
    "    def __init__(self):\n",
    "        self.cal = []\n",
    "\n",
    "\n",
    "    def book(self, start: int, end: int) -> bool:\n",
    "        # 情况1：第一次book\n",
    "        if not self.cal:\n",
    "            self.cal.append([start, end])\n",
    "            return True\n",
    "        \n",
    "        # sp:start_position, 二分查找start的插入点（在这之前不需要sort因为每次插入都是排序插入的）\n",
    "        sp = bisect.bisect_left(self.cal, [start, end])\n",
    "\n",
    "        # 情况2：sp > 0 保证 sp-1 索引有效。start < 前一项的 end，有重叠返回 False\n",
    "        if sp > 0 and start < self.cal[sp-1][1]:\n",
    "            return False\n",
    "\n",
    "        # 情况3：sp < len(self.cal) 保证 sp 索引有效。end > 后一项的 start，有重叠返回 False\n",
    "        if sp < len(self.cal) and end > self.cal[sp][0]:\n",
    "            return False\n",
    "\n",
    "        # 其他情况：在插入点插入[start, end]，返回 True\n",
    "        self.cal[sp:sp] = [[start, end]]\n",
    "        return True\n",
    "        \n",
    "\n",
    "# Your MyCalendar object will be instantiated and called as such:\n",
    "# obj = MyCalendar()\n",
    "# param_1 = obj.book(start,end)\n",
    "\n",
    "\n",
    "mc = MyCalendar()\n",
    "print(mc.book(10, 20))\n",
    "print(mc.book(15, 25))\n",
    "print(mc.book(20, 30))"
   ]
  }
 ],
 "metadata": {
  "kernelspec": {
   "display_name": "Python 3.8.10 64-bit",
   "language": "python",
   "name": "python3"
  },
  "language_info": {
   "codemirror_mode": {
    "name": "ipython",
    "version": 3
   },
   "file_extension": ".py",
   "mimetype": "text/x-python",
   "name": "python",
   "nbconvert_exporter": "python",
   "pygments_lexer": "ipython3",
   "version": "3.8.10"
  },
  "orig_nbformat": 4,
  "vscode": {
   "interpreter": {
    "hash": "e0144baad0ecee903f108a3e46e51ceadd7da3fc904cfa79747d813b61464b4e"
   }
  }
 },
 "nbformat": 4,
 "nbformat_minor": 2
}
