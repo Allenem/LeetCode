{
 "cells": [
  {
   "cell_type": "markdown",
   "metadata": {},
   "source": [
    "# LCR 084. 全排列 II (medium)\n",
    "\n",
    "给定一个可包含重复数字的整数集合 nums ，按任意顺序 返回它所有不重复的全排列。\n",
    "\n",
    "示例 1：\n",
    "```\n",
    "输入：nums = [1,1,2]\n",
    "输出：\n",
    "[[1,1,2],\n",
    " [1,2,1],\n",
    " [2,1,1]\n",
    "]\n",
    "```\n",
    "示例 2：\n",
    "```\n",
    "输入：nums = [1,2,3]\n",
    "输出：[[1,2,3],[1,3,2],[2,1,3],[2,3,1],[3,1,2],[3,2,1]]\n",
    "``` \n",
    "\n",
    "提示：\n",
    "```\n",
    "1 <= nums.length <= 8\n",
    "-10 <= nums[i] <= 10\n",
    "``` \n",
    "\n",
    "注意：本题与主站 47 题相同： https://leetcode-cn.com/problems/permutations-ii/"
   ]
  },
  {
   "cell_type": "code",
   "execution_count": 1,
   "metadata": {},
   "outputs": [
    {
     "name": "stdout",
     "output_type": "stream",
     "text": [
      "[[1, 1, 2], [1, 2, 1], [2, 1, 1]]\n",
      "[[1, 2, 3], [1, 3, 2], [2, 1, 3], [2, 3, 1], [3, 1, 2], [3, 2, 1]]\n"
     ]
    }
   ],
   "source": [
    "from typing import List\n",
    "class Solution:\n",
    "    def permuteUnique(self, nums: List[int]) -> List[List[int]]:\n",
    "        def bk(tmp):\n",
    "            if len(tmp) == n:\n",
    "                ans.append(tmp[:])\n",
    "                return\n",
    "            for i in range(n):\n",
    "                if used[i] or (i > 0 and nums[i-1] == nums[i] and not used[i-1]): continue\n",
    "                c = nums[i]\n",
    "                tmp.append(c)\n",
    "                used[i] = 1\n",
    "                bk(tmp)\n",
    "                tmp.pop()\n",
    "                used[i] = 0\n",
    "        nums.sort()\n",
    "        ans, n = [], len(nums)\n",
    "        used = [0] * n\n",
    "        bk([])\n",
    "        return ans\n",
    "\n",
    "print(Solution().permuteUnique([1,1,2]))\n",
    "print(Solution().permuteUnique([1,2,3]))\n"
   ]
  }
 ],
 "metadata": {
  "kernelspec": {
   "display_name": "Python 3.8.10 64-bit",
   "language": "python",
   "name": "python3"
  },
  "language_info": {
   "codemirror_mode": {
    "name": "ipython",
    "version": 3
   },
   "file_extension": ".py",
   "mimetype": "text/x-python",
   "name": "python",
   "nbconvert_exporter": "python",
   "pygments_lexer": "ipython3",
   "version": "3.8.10"
  },
  "orig_nbformat": 4,
  "vscode": {
   "interpreter": {
    "hash": "e0144baad0ecee903f108a3e46e51ceadd7da3fc904cfa79747d813b61464b4e"
   }
  }
 },
 "nbformat": 4,
 "nbformat_minor": 2
}
