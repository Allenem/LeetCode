{
 "cells": [
  {
   "cell_type": "markdown",
   "metadata": {},
   "source": [
    "# LCR 119. 最长连续序列 (medium)\n",
    "\n",
    "给定一个未排序的整数数组 nums ，找出数字连续的最长序列（不要求序列元素在原数组中连续）的长度。\n",
    "\n",
    "示例 1：\n",
    "```\n",
    "输入：nums = [100,4,200,1,3,2]\n",
    "输出：4\n",
    "解释：最长数字连续序列是 [1, 2, 3, 4]。它的长度为 4。\n",
    "```\n",
    "示例 2：\n",
    "```\n",
    "输入：nums = [0,3,7,2,5,8,4,6,0,1]\n",
    "输出：9\n",
    "``` \n",
    "\n",
    "提示：\n",
    "```\n",
    "0 <= nums.length <= 10^4\n",
    "-10^9 <= nums[i] <= 10^9\n",
    "``` \n",
    "\n",
    "进阶：可以设计并实现时间复杂度为 O(n) 的解决方案吗？\n",
    "\n",
    "注意：本题与主站 128 题相同： https://leetcode-cn.com/problems/longest-consecutive-sequence/"
   ]
  },
  {
   "cell_type": "code",
   "execution_count": 2,
   "metadata": {},
   "outputs": [
    {
     "name": "stdout",
     "output_type": "stream",
     "text": [
      "4\n",
      "9\n"
     ]
    }
   ],
   "source": [
    "# 1. while\n",
    "from typing import List\n",
    "class Solution:\n",
    "    def longestConsecutive(self, nums: List[int]) -> int:\n",
    "        longest_list = 0\n",
    "        nums_set = set(nums)\n",
    "        for num in nums_set:\n",
    "            # num是某个序列最小的数\n",
    "            if num - 1 not in nums_set:\n",
    "                cur_list = 1\n",
    "                cur_num = num\n",
    "                while cur_num + 1 in nums_set:\n",
    "                    cur_list += 1\n",
    "                    cur_num += 1\n",
    "                longest_list = max(longest_list, cur_list)\n",
    "        return longest_list\n",
    "\n",
    "print(Solution().longestConsecutive([100,4,200,1,3,2]))\n",
    "print(Solution().longestConsecutive([0,3,7,2,5,8,4,6,0,1]))"
   ]
  },
  {
   "cell_type": "code",
   "execution_count": 3,
   "metadata": {},
   "outputs": [
    {
     "name": "stdout",
     "output_type": "stream",
     "text": [
      "4\n",
      "9\n"
     ]
    }
   ],
   "source": [
    "# 2. sort\n",
    "from typing import List\n",
    "class Solution:\n",
    "    def longestConsecutive(self, nums: List[int]) -> int:\n",
    "        if not nums: return 0\n",
    "        nums.sort()\n",
    "        ret, cnt = 1, 1\n",
    "        for i in range(1, len(nums)):\n",
    "            if nums[i] == nums[i-1]: continue\n",
    "            if nums[i] == nums[i-1] + 1:\n",
    "                cnt += 1\n",
    "                ret = max(ret, cnt)\n",
    "            else:\n",
    "                cnt = 1\n",
    "        return ret\n",
    "\n",
    "print(Solution().longestConsecutive([100,4,200,1,3,2]))\n",
    "print(Solution().longestConsecutive([0,3,7,2,5,8,4,6,0,1]))"
   ]
  },
  {
   "cell_type": "code",
   "execution_count": 7,
   "metadata": {},
   "outputs": [
    {
     "name": "stdout",
     "output_type": "stream",
     "text": [
      "4\n",
      "9\n"
     ]
    }
   ],
   "source": [
    "# 3. uf\n",
    "from typing import List\n",
    "class Solution:\n",
    "    def longestConsecutive(self, nums: List[int]) -> int:\n",
    "        if not nums: return 0\n",
    "        nums_set = set(nums)\n",
    "        uf = UnionFind(nums)\n",
    "        res = 0\n",
    "        for num in nums_set:\n",
    "            parent = uf.find(num)\n",
    "            res = max(res, num - parent + 1)\n",
    "        return res\n",
    "    \n",
    "class UnionFind:\n",
    "    def __init__(self, nums):\n",
    "        self.parent = {num:num for num in nums}\n",
    "    \n",
    "    def find(self, x):\n",
    "        if self.parent[x] == x and x-1 in self.parent:\n",
    "            self.parent[x] = self.find(self.parent[x-1])\n",
    "        return self.parent[x]\n",
    "\n",
    "print(Solution().longestConsecutive([100,4,200,1,3,2]))\n",
    "print(Solution().longestConsecutive([0,3,7,2,5,8,4,6,0,1]))"
   ]
  }
 ],
 "metadata": {
  "kernelspec": {
   "display_name": "Python 3.8.10 64-bit",
   "language": "python",
   "name": "python3"
  },
  "language_info": {
   "codemirror_mode": {
    "name": "ipython",
    "version": 3
   },
   "file_extension": ".py",
   "mimetype": "text/x-python",
   "name": "python",
   "nbconvert_exporter": "python",
   "pygments_lexer": "ipython3",
   "version": "3.8.10"
  },
  "orig_nbformat": 4,
  "vscode": {
   "interpreter": {
    "hash": "e0144baad0ecee903f108a3e46e51ceadd7da3fc904cfa79747d813b61464b4e"
   }
  }
 },
 "nbformat": 4,
 "nbformat_minor": 2
}
