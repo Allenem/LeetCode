{
 "cells": [
  {
   "cell_type": "markdown",
   "metadata": {},
   "source": [
    "# LCR 056. 两数之和 IV - 输入二叉搜索树 (easy)\n",
    "\n",
    "给定一个二叉搜索树的 根节点 root 和一个整数 k , 请判断该二叉搜索树中是否存在两个节点它们的值之和等于 k 。假设二叉搜索树中节点的值均唯一。\n",
    "\n",
    "\n",
    "示例 1：\n",
    "```\n",
    "输入: root = [8,6,10,5,7,9,11], k = 12\n",
    "输出: true\n",
    "解释: 节点 5 和节点 7 之和等于 12\n",
    "```\n",
    "示例 2：\n",
    "```\n",
    "输入: root = [8,6,10,5,7,9,11], k = 22\n",
    "输出: false\n",
    "解释: 不存在两个节点值之和为 22 的节点\n",
    "``` \n",
    "\n",
    "提示：\n",
    "```\n",
    "二叉树的节点个数的范围是  [1, 10^4].\n",
    "-10^4 <= Node.val <= 10^4\n",
    "root 为二叉搜索树\n",
    "-10^5 <= k <= 10^5\n",
    "``` \n",
    "\n",
    "注意：本题与主站 653 题相同： https://leetcode-cn.com/problems/two-sum-iv-input-is-a-bst/"
   ]
  },
  {
   "cell_type": "code",
   "execution_count": 1,
   "metadata": {},
   "outputs": [
    {
     "name": "stdout",
     "output_type": "stream",
     "text": [
      "True\n",
      "False\n"
     ]
    }
   ],
   "source": [
    "# Definition for a binary tree node.\n",
    "class TreeNode:\n",
    "    def __init__(self, val=0, left=None, right=None):\n",
    "        self.val = val\n",
    "        self.left = left\n",
    "        self.right = right\n",
    "\n",
    "class Solution:\n",
    "    def findTarget(self, root: TreeNode, k: int) -> bool:\n",
    "        s = set()\n",
    "        q = [root]\n",
    "        while q:\n",
    "            node = q.pop(0)\n",
    "            if k - node.val in s: return True\n",
    "            s.add(node.val)\n",
    "            if node.left: q.append(node.left)\n",
    "            if node.right: q.append(node.right)\n",
    "        return False\n",
    "\n",
    "# test____________________________________________________\n",
    "def lst2tree(lst):\n",
    "    if not lst: return None\n",
    "    root = TreeNode(lst[0])\n",
    "    q = [root]\n",
    "    i = 1\n",
    "    while i < len(lst):\n",
    "        node = q.pop(0)\n",
    "        if lst[i] is not None:\n",
    "            node.left = TreeNode(lst[i])\n",
    "            q.append(node.left)\n",
    "        i += 1\n",
    "        if i < len(lst) and lst[i] is not None:\n",
    "            node.right = TreeNode(lst[i])\n",
    "            q.append(node.right)\n",
    "        i += 1\n",
    "    return root\n",
    "\n",
    "print(Solution().findTarget(lst2tree([8,6,10,5,7,9,11]), 12))\n",
    "print(Solution().findTarget(lst2tree([8,6,10,5,7,9,11]), 22))"
   ]
  }
 ],
 "metadata": {
  "kernelspec": {
   "display_name": "Python 3.8.10 64-bit",
   "language": "python",
   "name": "python3"
  },
  "language_info": {
   "codemirror_mode": {
    "name": "ipython",
    "version": 3
   },
   "file_extension": ".py",
   "mimetype": "text/x-python",
   "name": "python",
   "nbconvert_exporter": "python",
   "pygments_lexer": "ipython3",
   "version": "3.8.10"
  },
  "orig_nbformat": 4,
  "vscode": {
   "interpreter": {
    "hash": "e0144baad0ecee903f108a3e46e51ceadd7da3fc904cfa79747d813b61464b4e"
   }
  }
 },
 "nbformat": 4,
 "nbformat_minor": 2
}
