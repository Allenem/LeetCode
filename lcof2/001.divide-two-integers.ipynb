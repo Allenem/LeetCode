{
 "cells": [
  {
   "cell_type": "markdown",
   "metadata": {},
   "source": [
    "# LCR 001. 两数相除 (easy)\n",
    "\n",
    "给定两个整数 a 和 b ，求它们的除法的商 a/b ，要求不得使用乘号 '*'、除号 '/' 以及求余符号 '%' 。\n",
    "\n",
    "注意：\n",
    "\n",
    "整数除法的结果应当截去（truncate）其小数部分，例如：truncate(8.345) = 8 以及 truncate(-2.7335) = -2\n",
    "\n",
    "假设我们的环境只能存储 32 位有符号整数，其数值范围是 [−2^(31), 2^(31)−1]。本题中，如果除法结果溢出，则返回 2^(31) − 1\n",
    "\n",
    "示例 1：\n",
    "```\n",
    "输入：a = 15, b = 2\n",
    "输出：7\n",
    "解释：15/2 = truncate(7.5) = 7\n",
    "```\n",
    "示例 2：\n",
    "```\n",
    "输入：a = 7, b = -3\n",
    "输出：-2\n",
    "解释：7/-3 = truncate(-2.33333..) = -2\n",
    "```\n",
    "示例 3：\n",
    "```\n",
    "输入：a = 0, b = 1\n",
    "输出：0\n",
    "```\n",
    "示例 4：\n",
    "```\n",
    "输入：a = 1, b = 1\n",
    "输出：1\n",
    "```\n",
    "\n",
    "提示:\n",
    "```\n",
    "-2^(31) <= a, b <= 2^(31) - 1\n",
    "b != 0\n",
    "```\n",
    "\n",
    "来源：力扣（LeetCode）\n",
    "链接：https://leetcode.cn/problems/xoh6Oh\n",
    "著作权归领扣网络所有。商业转载请联系官方授权，非商业转载请注明出处。"
   ]
  },
  {
   "cell_type": "code",
   "execution_count": 1,
   "metadata": {},
   "outputs": [
    {
     "name": "stdout",
     "output_type": "stream",
     "text": [
      "7\n",
      "-2\n",
      "0\n",
      "1\n"
     ]
    }
   ],
   "source": [
    "class Solution:\n",
    "    def divide(self, a: int, b: int) -> int:\n",
    "        if a == 0: return 0\n",
    "        if a == -2**31 and b == -1: return 2**31-1\n",
    "        neg, t, d, ret =(a ^ b) < 0, abs(a), abs(b), 0\n",
    "        for i in range(31,-1,-1):\n",
    "            if (t>>i)>=d:\n",
    "                ret += 1<<i\n",
    "                t -= d<<i\n",
    "        return -ret if neg else ret\n",
    "        \n",
    "\n",
    "print(Solution().divide(15, 2))\n",
    "print(Solution().divide(7, -3))\n",
    "print(Solution().divide(0, 1))\n",
    "print(Solution().divide(1, 1))"
   ]
  }
 ],
 "metadata": {
  "kernelspec": {
   "display_name": "Python 3.8.10 64-bit",
   "language": "python",
   "name": "python3"
  },
  "language_info": {
   "codemirror_mode": {
    "name": "ipython",
    "version": 3
   },
   "file_extension": ".py",
   "mimetype": "text/x-python",
   "name": "python",
   "nbconvert_exporter": "python",
   "pygments_lexer": "ipython3",
   "version": "3.8.10"
  },
  "orig_nbformat": 4,
  "vscode": {
   "interpreter": {
    "hash": "e0144baad0ecee903f108a3e46e51ceadd7da3fc904cfa79747d813b61464b4e"
   }
  }
 },
 "nbformat": 4,
 "nbformat_minor": 2
}
