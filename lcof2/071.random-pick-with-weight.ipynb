{
 "cells": [
  {
   "cell_type": "markdown",
   "metadata": {},
   "source": [
    "# LCR 071. 按权重随机选择 (medium)\n",
    "\n",
    "给定一个正整数数组 w ，其中 w[i] 代表下标 i 的权重（下标从 0 开始），请写一个函数 pickIndex ，它可以随机地获取下标 i，选取下标 i 的概率与 w[i] 成正比。\n",
    "\n",
    "例如，对于 w = [1, 3]，挑选下标 0 的概率为 1 / (1 + 3) = 0.25 （即，25%），而选取下标 1 的概率为 3 / (1 + 3) = 0.75（即，75%）。\n",
    "\n",
    "也就是说，选取下标 i 的概率为 w[i] / sum(w) 。\n",
    "\n",
    "示例 1：\n",
    "```\n",
    "输入：\n",
    "inputs = [\"Solution\",\"pickIndex\"]\n",
    "inputs = [[[1]],[]]\n",
    "输出：\n",
    "[null,0]\n",
    "解释：\n",
    "Solution solution = new Solution([1]);\n",
    "solution.pickIndex(); // 返回 0，因为数组中只有一个元素，所以唯一的选择是返回下标 0。\n",
    "```\n",
    "示例 2：\n",
    "```\n",
    "输入：\n",
    "inputs = [\"Solution\",\"pickIndex\",\"pickIndex\",\"pickIndex\",\"pickIndex\",\"pickIndex\"]\n",
    "inputs = [[[1,3]],[],[],[],[],[]]\n",
    "输出：\n",
    "[null,1,1,1,1,0]\n",
    "解释：\n",
    "Solution solution = new Solution([1, 3]);\n",
    "solution.pickIndex(); // 返回 1，返回下标 1，返回该下标概率为 3/4 。\n",
    "solution.pickIndex(); // 返回 1\n",
    "solution.pickIndex(); // 返回 1\n",
    "solution.pickIndex(); // 返回 1\n",
    "solution.pickIndex(); // 返回 0，返回下标 0，返回该下标概率为 1/4 。\n",
    "\n",
    "由于这是一个随机问题，允许多个答案，因此下列输出都可以被认为是正确的:\n",
    "[null,1,1,1,1,0]\n",
    "[null,1,1,1,1,1]\n",
    "[null,1,1,1,0,0]\n",
    "[null,1,1,1,0,1]\n",
    "[null,1,0,1,0,0]\n",
    "......\n",
    "诸若此类。\n",
    "``` \n",
    "\n",
    "提示：\n",
    "```\n",
    "1 <= w.length <= 10000\n",
    "1 <= w[i] <= 10^5\n",
    "pickIndex 将被调用不超过 10000 次\n",
    "``` \n",
    "\n",
    "注意：本题与主站 528 题相同： https://leetcode-cn.com/problems/random-pick-with-weight/"
   ]
  },
  {
   "cell_type": "code",
   "execution_count": 1,
   "metadata": {},
   "outputs": [
    {
     "name": "stdout",
     "output_type": "stream",
     "text": [
      "0\n",
      "1\n",
      "1\n",
      "0\n",
      "0\n"
     ]
    }
   ],
   "source": [
    "# 前缀和，二分查找\n",
    "from typing import List\n",
    "import random\n",
    "import bisect\n",
    "from itertools import accumulate\n",
    "\n",
    "class Solution:\n",
    "\n",
    "    def __init__(self, w: List[int]):\n",
    "        self.preSum = list(accumulate(w))\n",
    "        self.sum = sum(w)\n",
    "\n",
    "\n",
    "    def pickIndex(self) -> int:\n",
    "        rand = random.randint(1, self.sum)\n",
    "        return bisect.bisect_left(self.preSum, rand)\n",
    "\n",
    "\n",
    "\n",
    "# Your Solution object will be instantiated and called as such:\n",
    "# obj = Solution(w)\n",
    "# param_1 = obj.pickIndex()\n",
    "\n",
    "\n",
    "s = Solution([1])\n",
    "print(s.pickIndex())\n",
    "\n",
    "s = Solution([1,3])\n",
    "print(s.pickIndex())\n",
    "print(s.pickIndex())\n",
    "print(s.pickIndex())\n",
    "print(s.pickIndex())\n"
   ]
  }
 ],
 "metadata": {
  "kernelspec": {
   "display_name": "Python 3.8.10 64-bit",
   "language": "python",
   "name": "python3"
  },
  "language_info": {
   "codemirror_mode": {
    "name": "ipython",
    "version": 3
   },
   "file_extension": ".py",
   "mimetype": "text/x-python",
   "name": "python",
   "nbconvert_exporter": "python",
   "pygments_lexer": "ipython3",
   "version": "3.8.10"
  },
  "orig_nbformat": 4,
  "vscode": {
   "interpreter": {
    "hash": "e0144baad0ecee903f108a3e46e51ceadd7da3fc904cfa79747d813b61464b4e"
   }
  }
 },
 "nbformat": 4,
 "nbformat_minor": 2
}
