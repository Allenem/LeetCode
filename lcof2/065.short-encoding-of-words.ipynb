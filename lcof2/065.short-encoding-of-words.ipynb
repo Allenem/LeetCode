{
 "cells": [
  {
   "cell_type": "markdown",
   "metadata": {},
   "source": [
    "# LCR 065. 单词的压缩编码 (medium)\n",
    "\n",
    "单词数组 words 的 有效编码 由任意助记字符串 s 和下标数组 indices 组成，且满足：\n",
    "\n",
    "- words.length == indices.length\n",
    "- 助记字符串 s 以 '#' 字符结尾\n",
    "- 对于每个下标 indices[i] ，s 的一个从 indices[i] 开始、到下一个 '#' 字符结束（但不包括 '#'）的 子字符串 恰好与 words[i] 相等\n",
    "\n",
    "给定一个单词数组 words ，返回成功对 words 进行编码的最小助记字符串 s 的长度 。\n",
    "\n",
    " \n",
    "\n",
    "示例 1：\n",
    "```\n",
    "输入：words = [\"time\", \"me\", \"bell\"]\n",
    "输出：10\n",
    "解释：一组有效编码为 s = \"time#bell#\" 和 indices = [0, 2, 5] 。\n",
    "words[0] = \"time\" ，s 开始于 indices[0] = 0 到下一个 '#' 结束的子字符串，如加粗部分所示 \"time#bell#\"\n",
    "words[1] = \"me\" ，s 开始于 indices[1] = 2 到下一个 '#' 结束的子字符串，如加粗部分所示 \"time#bell#\"\n",
    "words[2] = \"bell\" ，s 开始于 indices[2] = 5 到下一个 '#' 结束的子字符串，如加粗部分所示 \"time#bell#\"\n",
    "```\n",
    "示例 2：\n",
    "```\n",
    "输入：words = [\"t\"]\n",
    "输出：2\n",
    "解释：一组有效编码为 s = \"t#\" 和 indices = [0] 。\n",
    "``` \n",
    "\n",
    "提示：\n",
    "```\n",
    "1 <= words.length <= 2000\n",
    "1 <= words[i].length <= 7\n",
    "words[i] 仅由小写字母组成\n",
    "``` \n",
    "\n",
    "注意：本题与主站 820 题相同： https://leetcode-cn.com/problems/short-encoding-of-words/"
   ]
  },
  {
   "cell_type": "code",
   "execution_count": 1,
   "metadata": {},
   "outputs": [
    {
     "name": "stdout",
     "output_type": "stream",
     "text": [
      "10\n",
      "2\n"
     ]
    }
   ],
   "source": [
    "from typing import List\n",
    "class Solution:\n",
    "    def minimumLengthEncoding(self, words: List[str]) -> int:\n",
    "        # when words = [\"time\",\"me\",\"bell\"]\n",
    "        good = set(words)\n",
    "        for word in words:\n",
    "            for k in range(1, len(word)):\n",
    "                # word[k:] = ime, me, e; e; ell, ll, l\n",
    "                good.discard(word[k:])\n",
    "        return sum(len(word) + 1 for word in good)\n",
    "\n",
    "print(Solution().minimumLengthEncoding([\"time\",\"me\",\"bell\"]))\n",
    "print(Solution().minimumLengthEncoding([\"t\"]))"
   ]
  }
 ],
 "metadata": {
  "kernelspec": {
   "display_name": "Python 3.8.10 64-bit",
   "language": "python",
   "name": "python3"
  },
  "language_info": {
   "codemirror_mode": {
    "name": "ipython",
    "version": 3
   },
   "file_extension": ".py",
   "mimetype": "text/x-python",
   "name": "python",
   "nbconvert_exporter": "python",
   "pygments_lexer": "ipython3",
   "version": "3.8.10"
  },
  "orig_nbformat": 4,
  "vscode": {
   "interpreter": {
    "hash": "e0144baad0ecee903f108a3e46e51ceadd7da3fc904cfa79747d813b61464b4e"
   }
  }
 },
 "nbformat": 4,
 "nbformat_minor": 2
}
