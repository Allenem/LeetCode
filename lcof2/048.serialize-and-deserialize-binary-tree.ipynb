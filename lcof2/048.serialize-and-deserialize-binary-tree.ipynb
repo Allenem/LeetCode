{
 "cells": [
  {
   "cell_type": "markdown",
   "metadata": {},
   "source": [
    "# LCR 048. 二叉树的序列化与反序列化 (hard)\n",
    "\n",
    "序列化是将一个数据结构或者对象转换为连续的比特位的操作，进而可以将转换后的数据存储在一个文件或者内存中，同时也可以通过网络传输到另一个计算机环境，采取相反方式重构得到原数据。\n",
    "\n",
    "请设计一个算法来实现二叉树的序列化与反序列化。这里不限定你的序列 / 反序列化算法执行逻辑，只需要保证一个二叉树可以被序列化为一个字符串并且将这个字符串反序列化为原始的树结构。\n",
    "\n",
    " \n",
    "\n",
    "示例 1：\n",
    "```\n",
    "      1\n",
    "     / \\\n",
    "    2   3\n",
    "       / \\\n",
    "      4   5\n",
    "\n",
    "输入：root = [1,2,3,null,null,4,5]\n",
    "输出：[1,2,3,null,null,4,5]\n",
    "```\n",
    "示例 2：\n",
    "```\n",
    "输入：root = []\n",
    "输出：[]\n",
    "```\n",
    "示例 3：\n",
    "```\n",
    "输入：root = [1]\n",
    "输出：[1]\n",
    "```\n",
    "示例 4：\n",
    "```\n",
    "输入：root = [1,2]\n",
    "输出：[1,2]\n",
    "``` \n",
    "\n",
    "提示：\n",
    "\n",
    "- 输入输出格式与 LeetCode 目前使用的方式一致，详情请参阅 LeetCode 序列化二叉树的格式。你并非必须采取这种方式，也可以采用其他的方法解决这个问题。\n",
    "- 树中结点数在范围 [0, 10^4] 内\n",
    "- -1000 <= Node.val <= 1000\n",
    " \n",
    "\n",
    "注意：本题与主站 297 题相同：https://leetcode-cn.com/problems/serialize-and-deserialize-binary-tree/ "
   ]
  },
  {
   "cell_type": "code",
   "execution_count": 11,
   "metadata": {},
   "outputs": [],
   "source": [
    "# BFS\n",
    "\n",
    "# Definition for a binary tree node.\n",
    "class TreeNode(object):\n",
    "    def __init__(self, x):\n",
    "        self.val = x\n",
    "        self.left = None\n",
    "        self.right = None\n",
    "\n",
    "class Codec:\n",
    "\n",
    "    def serialize(self, root):\n",
    "        \"\"\"Encodes a tree to a single string.\n",
    "        \n",
    "        :type root: TreeNode\n",
    "        :rtype: str\n",
    "        \"\"\"\n",
    "        if not root: return '[]'\n",
    "        ans, q = [], [root]\n",
    "        while q:\n",
    "            node = q.pop(0)\n",
    "            if node:\n",
    "                ans.append(str(node.val))\n",
    "                q.append(node.left)\n",
    "                q.append(node.right)\n",
    "            else:\n",
    "                ans.append('null')\n",
    "        return '[' + ','.join(ans) + ']'\n",
    "        \n",
    "\n",
    "    def deserialize(self, data):\n",
    "        \"\"\"Decodes your encoded data to tree.\n",
    "        \n",
    "        :type data: str\n",
    "        :rtype: TreeNode\n",
    "        \"\"\"\n",
    "        if data == '[]': return\n",
    "        data = data[1:-1].split(',')\n",
    "        root = TreeNode(int(data.pop(0)))\n",
    "        q = [root]\n",
    "        while data:\n",
    "            node = q.pop(0)\n",
    "            if node!=None:\n",
    "                if data:\n",
    "                    datai = data.pop(0)\n",
    "                    node.left = TreeNode(int(datai)) if datai != 'null' else None\n",
    "                    q.append(node.left)\n",
    "                if data:\n",
    "                    datai = data.pop(0)\n",
    "                    node.right = TreeNode(int(datai)) if datai != 'null' else None\n",
    "                    q.append(node.right)\n",
    "        return root\n",
    "\n",
    "        \n",
    "\n",
    "# Your Codec object will be instantiated and called as such:\n",
    "# ser = Codec()\n",
    "# deser = Codec()\n",
    "# ans = deser.deserialize(ser.serialize(root))"
   ]
  },
  {
   "cell_type": "code",
   "execution_count": 12,
   "metadata": {},
   "outputs": [
    {
     "name": "stdout",
     "output_type": "stream",
     "text": [
      "[1,2,3,null,null,4,5,null,null,null,null]\n",
      "[]\n",
      "[1,null,null]\n",
      "[1,2,null,null,null]\n"
     ]
    }
   ],
   "source": [
    "codec = Codec()\n",
    "print(codec.serialize(codec.deserialize('[1,2,3,null,null,4,5]')))\n",
    "print(codec.serialize(codec.deserialize('[]')))\n",
    "print(codec.serialize(codec.deserialize('[1]')))\n",
    "print(codec.serialize(codec.deserialize('[1,2]')))"
   ]
  }
 ],
 "metadata": {
  "kernelspec": {
   "display_name": "Python 3.8.10 64-bit",
   "language": "python",
   "name": "python3"
  },
  "language_info": {
   "codemirror_mode": {
    "name": "ipython",
    "version": 3
   },
   "file_extension": ".py",
   "mimetype": "text/x-python",
   "name": "python",
   "nbconvert_exporter": "python",
   "pygments_lexer": "ipython3",
   "version": "3.8.10"
  },
  "orig_nbformat": 4,
  "vscode": {
   "interpreter": {
    "hash": "e0144baad0ecee903f108a3e46e51ceadd7da3fc904cfa79747d813b61464b4e"
   }
  }
 },
 "nbformat": 4,
 "nbformat_minor": 2
}
