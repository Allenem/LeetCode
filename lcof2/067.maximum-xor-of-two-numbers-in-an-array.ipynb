{
 "cells": [
  {
   "cell_type": "markdown",
   "metadata": {},
   "source": [
    "# LCR 067. 数组中两个数的最大异或值 (medium)\n",
    "\n",
    "给定一个整数数组 nums ，返回 nums[i] XOR nums[j] 的最大运算结果，其中 0 ≤ i ≤ j < n 。\n",
    "\n",
    "\n",
    "示例 1：\n",
    "```\n",
    "输入：nums = [3,10,5,25,2,8]\n",
    "输出：28\n",
    "解释：最大运算结果是 5 XOR 25 = 28.\n",
    "```\n",
    "示例 2：\n",
    "```\n",
    "输入：nums = [0]\n",
    "输出：0\n",
    "```\n",
    "示例 3：\n",
    "```\n",
    "输入：nums = [2,4]\n",
    "输出：6\n",
    "```\n",
    "示例 4：\n",
    "```\n",
    "输入：nums = [8,10,2]\n",
    "输出：10\n",
    "```\n",
    "示例 5：\n",
    "```\n",
    "输入：nums = [14,70,53,83,49,91,36,80,92,51,66,70]\n",
    "输出：127\n",
    "``` \n",
    "\n",
    "提示：\n",
    "```\n",
    "1 <= nums.length <= 2 * 10^5\n",
    "0 <= nums[i] <= 2^31 - 1\n",
    "``` \n",
    "\n",
    "进阶：你可以在 O(n) 的时间解决这个问题吗？\n",
    "\n",
    "\n",
    "注意：本题与主站 421 题相同： https://leetcode-cn.com/problems/maximum-xor-of-two-numbers-in-an-array/"
   ]
  },
  {
   "cell_type": "code",
   "execution_count": 1,
   "metadata": {},
   "outputs": [
    {
     "name": "stdout",
     "output_type": "stream",
     "text": [
      "28\n",
      "0\n",
      "6\n",
      "10\n",
      "127\n"
     ]
    }
   ],
   "source": [
    "# 难难难\n",
    "\n",
    "# 方法一，快：位运算\n",
    "from typing import List\n",
    "class Solution:\n",
    "    def findMaximumXOR(self, nums: List[int]) -> int:\n",
    "        High_BIT = 30                    # High_BIT最高位的二进制位编号\n",
    "        x = 0                            # x 为异或的结果\n",
    "        for k in range(High_BIT, -1, -1):\n",
    "            seen = set()\n",
    "            for num_i in nums:\n",
    "                seen.add(num_i >> k)\n",
    "            x_next = x * 2 + 1          # 尽量让 x 的 k 位为 1\n",
    "            found_i = False\n",
    "            for num_j in nums:\n",
    "                if x_next ^ (num_j >> k) in seen:\n",
    "                    found_i = True\n",
    "                    break\n",
    "            x = x_next if found_i else x_next - 1\n",
    "        return x\n",
    "\n",
    "print(Solution().findMaximumXOR([3,10,5,25,2,8]))\n",
    "print(Solution().findMaximumXOR([0]))\n",
    "print(Solution().findMaximumXOR([2,4]))\n",
    "print(Solution().findMaximumXOR([8,10,2]))\n",
    "print(Solution().findMaximumXOR([14,70,53,83,49,91,36,80,92,51,66,70]))"
   ]
  },
  {
   "cell_type": "code",
   "execution_count": 2,
   "metadata": {},
   "outputs": [
    {
     "name": "stdout",
     "output_type": "stream",
     "text": [
      "28\n",
      "0\n",
      "6\n",
      "10\n",
      "127\n"
     ]
    }
   ],
   "source": [
    "# 方法二，慢：字典树\n",
    "from typing import List\n",
    "class Trie:\n",
    "    def __init__(self):\n",
    "        self.next = {}\n",
    "        self.num = None\n",
    "    \n",
    "    def insert(self, num):\n",
    "        root = self\n",
    "        for i in range(31, -1, -1):\n",
    "            d = num >> i & 1\n",
    "            if d not in root.next:\n",
    "                root.next[d] = Trie()\n",
    "            root = root.next[d]\n",
    "        root.num = num\n",
    "\n",
    "    def search(self, num):\n",
    "        root = self\n",
    "        for i in range(31, -1, -1):\n",
    "            d = num >> i & 1\n",
    "            xor_d = d ^ 1\n",
    "            if xor_d in root.next:\n",
    "                root = root.next[xor_d]\n",
    "            else:\n",
    "                root = root.next[d]\n",
    "        return root.num\n",
    "\n",
    "\n",
    "class Solution:\n",
    "    def findMaximumXOR(self, nums: List[int]) -> int:\n",
    "        result = 0\n",
    "        tree = Trie()\n",
    "        for num in nums:\n",
    "            tree.insert(num)\n",
    "        for num in nums:\n",
    "            xor_num = tree.search(num)\n",
    "            result = max(result, xor_num ^ num)\n",
    "        return result\n",
    "\n",
    "\n",
    "print(Solution().findMaximumXOR([3,10,5,25,2,8]))\n",
    "print(Solution().findMaximumXOR([0]))\n",
    "print(Solution().findMaximumXOR([2,4]))\n",
    "print(Solution().findMaximumXOR([8,10,2]))\n",
    "print(Solution().findMaximumXOR([14,70,53,83,49,91,36,80,92,51,66,70]))"
   ]
  }
 ],
 "metadata": {
  "kernelspec": {
   "display_name": "Python 3.8.10 64-bit",
   "language": "python",
   "name": "python3"
  },
  "language_info": {
   "codemirror_mode": {
    "name": "ipython",
    "version": 3
   },
   "file_extension": ".py",
   "mimetype": "text/x-python",
   "name": "python",
   "nbconvert_exporter": "python",
   "pygments_lexer": "ipython3",
   "version": "3.8.10"
  },
  "orig_nbformat": 4,
  "vscode": {
   "interpreter": {
    "hash": "e0144baad0ecee903f108a3e46e51ceadd7da3fc904cfa79747d813b61464b4e"
   }
  }
 },
 "nbformat": 4,
 "nbformat_minor": 2
}
