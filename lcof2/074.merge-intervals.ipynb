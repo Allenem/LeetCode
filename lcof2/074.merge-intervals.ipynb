{
 "cells": [
  {
   "cell_type": "markdown",
   "metadata": {},
   "source": [
    "# LCR 074. 合并区间 (medium)\n",
    "\n",
    "以数组 intervals 表示若干个区间的集合，其中单个区间为 intervals[i] = [starti, endi] 。请你合并所有重叠的区间，并返回一个不重叠的区间数组，该数组需恰好覆盖输入中的所有区间。\n",
    "\n",
    "\n",
    "示例 1：\n",
    "```\n",
    "输入：intervals = [[1,3],[2,6],[8,10],[15,18]]\n",
    "输出：[[1,6],[8,10],[15,18]]\n",
    "解释：区间 [1,3] 和 [2,6] 重叠, 将它们合并为 [1,6].\n",
    "```\n",
    "示例 2：\n",
    "```\n",
    "输入：intervals = [[1,4],[4,5]]\n",
    "输出：[[1,5]]\n",
    "解释：区间 [1,4] 和 [4,5] 可被视为重叠区间。\n",
    "```\n",
    "\n",
    "提示：\n",
    "```\n",
    "1 <= intervals.length <= 10^4\n",
    "intervals[i].length == 2\n",
    "0 <= starti <= endi <= 10^4\n",
    "``` \n",
    "\n",
    "注意：本题与主站 56 题相同： https://leetcode-cn.com/problems/merge-intervals/"
   ]
  },
  {
   "cell_type": "code",
   "execution_count": 1,
   "metadata": {},
   "outputs": [
    {
     "name": "stdout",
     "output_type": "stream",
     "text": [
      "[[1, 6], [8, 10], [15, 18]]\n",
      "[[1, 5]]\n"
     ]
    }
   ],
   "source": [
    "from typing import List\n",
    "\n",
    "class Solution:\n",
    "    def merge(self, intervals: List[List[int]]) -> List[List[int]]:\n",
    "        intervals.sort()\n",
    "        ret = []\n",
    "        for i in intervals:\n",
    "            if not ret or ret[-1][1] < i[0]:\n",
    "                ret.append(i)\n",
    "            elif ret and ret[-1][1] >= i[0]:\n",
    "                ret[-1][1] = max(ret[-1][1], i[1])\n",
    "        return ret\n",
    "\n",
    "print(Solution().merge([[1,3],[2,6],[8,10],[15,18]]))\n",
    "print(Solution().merge([[1,4],[4,5]]))"
   ]
  }
 ],
 "metadata": {
  "kernelspec": {
   "display_name": "Python 3.8.10 64-bit",
   "language": "python",
   "name": "python3"
  },
  "language_info": {
   "codemirror_mode": {
    "name": "ipython",
    "version": 3
   },
   "file_extension": ".py",
   "mimetype": "text/x-python",
   "name": "python",
   "nbconvert_exporter": "python",
   "pygments_lexer": "ipython3",
   "version": "3.8.10"
  },
  "orig_nbformat": 4,
  "vscode": {
   "interpreter": {
    "hash": "e0144baad0ecee903f108a3e46e51ceadd7da3fc904cfa79747d813b61464b4e"
   }
  }
 },
 "nbformat": 4,
 "nbformat_minor": 2
}
