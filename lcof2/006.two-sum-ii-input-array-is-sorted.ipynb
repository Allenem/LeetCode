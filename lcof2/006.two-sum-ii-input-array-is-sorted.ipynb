{
 "cells": [
  {
   "cell_type": "markdown",
   "metadata": {},
   "source": [
    "# LCR 006. 两数之和 II - 输入有序数组 (easy)\n",
    "\n",
    "给定一个已按照 升序排列  的整数数组 numbers ，请你从数组中找出两个数满足相加之和等于目标数 target 。\n",
    "\n",
    "函数应该以长度为 2 的整数数组的形式返回这两个数的下标值。numbers 的下标 从 0 开始计数 ，所以答案数组应当满足 0 <= answer[0] < answer[1] < numbers.length 。\n",
    "\n",
    "假设数组中存在且只存在一对符合条件的数字，同时一个数字不能使用两次。\n",
    "\n",
    "\n",
    "示例 1：\n",
    "```\n",
    "输入：numbers = [1,2,4,6,10], target = 8\n",
    "输出：[1,3]\n",
    "解释：2 与 6 之和等于目标数 8 。因此 index1 = 1, index2 = 3 。\n",
    "```\n",
    "示例 2：\n",
    "```\n",
    "输入：numbers = [2,3,4], target = 6\n",
    "输出：[0,2]\n",
    "```\n",
    "示例 3：\n",
    "```\n",
    "输入：numbers = [-1,0], target = -1\n",
    "输出：[0,1]\n",
    "```\n",
    "\n",
    "提示：\n",
    "```\n",
    "2 <= numbers.length <= 3 * 104\n",
    "-1000 <= numbers[i] <= 1000\n",
    "numbers 按 非递减顺序 排列\n",
    "-1000 <= target <= 1000\n",
    "仅存在一个有效答案\n",
    "```\n",
    "\n",
    "注意：本题与主站 167 题相似（下标起点不同）：https://leetcode.cn/problems/two-sum-ii-input-array-is-sorted/"
   ]
  },
  {
   "cell_type": "code",
   "execution_count": 1,
   "metadata": {},
   "outputs": [
    {
     "name": "stdout",
     "output_type": "stream",
     "text": [
      "[1, 3]\n",
      "[0, 2]\n",
      "[0, 1]\n"
     ]
    }
   ],
   "source": [
    "# 双指针\n",
    "from typing import List\n",
    "class Solution:\n",
    "    def twoSum(self, numbers: List[int], target: int) -> List[int]:\n",
    "        l, r = 0, len(numbers)-1\n",
    "        while l < r:\n",
    "            su = numbers[l] + numbers[r]\n",
    "            if su == target: return [l, r]\n",
    "            elif su < target: l += 1\n",
    "            else: r -= 1\n",
    "\n",
    "\n",
    "print(Solution().twoSum([1,2,4,6,10], 8))\n",
    "print(Solution().twoSum([2,3,4], 6))\n",
    "print(Solution().twoSum([-1,0], -1))"
   ]
  }
 ],
 "metadata": {
  "kernelspec": {
   "display_name": "Python 3.8.10 64-bit",
   "language": "python",
   "name": "python3"
  },
  "language_info": {
   "codemirror_mode": {
    "name": "ipython",
    "version": 3
   },
   "file_extension": ".py",
   "mimetype": "text/x-python",
   "name": "python",
   "nbconvert_exporter": "python",
   "pygments_lexer": "ipython3",
   "version": "3.8.10"
  },
  "orig_nbformat": 4,
  "vscode": {
   "interpreter": {
    "hash": "e0144baad0ecee903f108a3e46e51ceadd7da3fc904cfa79747d813b61464b4e"
   }
  }
 },
 "nbformat": 4,
 "nbformat_minor": 2
}
