{
 "cells": [
  {
   "cell_type": "markdown",
   "metadata": {},
   "source": [
    "# LCR 102. 目标和 (medium)\n",
    "\n",
    "给定一个正整数数组 nums 和一个整数 target 。\n",
    "\n",
    "向数组中的每个整数前添加 '+' 或 '-' ，然后串联起所有整数，可以构造一个 表达式 ：\n",
    "\n",
    "例如，nums = [2, 1] ，可以在 2 之前添加 '+' ，在 1 之前添加 '-' ，然后串联起来得到表达式 \"+2-1\" 。\n",
    "返回可以通过上述方法构造的、运算结果等于 target 的不同 表达式 的数目。\n",
    "\n",
    "示例 1：\n",
    "```\n",
    "输入：nums = [1,1,1,1,1], target = 3\n",
    "输出：5\n",
    "解释：一共有 5 种方法让最终目标和为 3 。\n",
    "-1 + 1 + 1 + 1 + 1 = 3\n",
    "+1 - 1 + 1 + 1 + 1 = 3\n",
    "+1 + 1 - 1 + 1 + 1 = 3\n",
    "+1 + 1 + 1 - 1 + 1 = 3\n",
    "+1 + 1 + 1 + 1 - 1 = 3\n",
    "```\n",
    "示例 2：\n",
    "```\n",
    "输入：nums = [1], target = 1\n",
    "输出：1\n",
    "``` \n",
    "\n",
    "提示：\n",
    "```\n",
    "1 <= nums.length <= 20\n",
    "0 <= nums[i] <= 1000\n",
    "0 <= sum(nums[i]) <= 1000\n",
    "-1000 <= target <= 1000\n",
    "``` \n",
    "\n",
    "注意：本题与主站 494 题相同： https://leetcode-cn.com/problems/target-sum/"
   ]
  },
  {
   "cell_type": "code",
   "execution_count": 2,
   "metadata": {},
   "outputs": [
    {
     "name": "stdout",
     "output_type": "stream",
     "text": [
      "5\n",
      "1\n"
     ]
    }
   ],
   "source": [
    "from typing import List\n",
    "class Solution:\n",
    "    def findTargetSumWays(self, nums: List[int], target: int) -> int:\n",
    "        # pos - neg = target\n",
    "        # pos + neg = sum(nums)\n",
    "        # pos = (sum(nums) + target) / 2\n",
    "        # neg = (sum(nums) - target) / 2\n",
    "        total, n = sum(nums), len(nums)\n",
    "        diff = total - target\n",
    "        if diff < 0 or diff % 2 != 0: return 0 # diff must be even\n",
    "        neg = diff // 2\n",
    "        dp = [1] + [0] * neg # dp[j] means the number of ways to get sum j\n",
    "        for i in range(n):\n",
    "            for j in range(neg, nums[i]-1, -1):\n",
    "                dp[j] += dp[j-nums[i]]\n",
    "        return dp[neg]\n",
    "        \n",
    "print(Solution().findTargetSumWays([1,1,1,1,1], 3))\n",
    "print(Solution().findTargetSumWays([1], 1))"
   ]
  }
 ],
 "metadata": {
  "kernelspec": {
   "display_name": "Python 3.8.10 64-bit",
   "language": "python",
   "name": "python3"
  },
  "language_info": {
   "codemirror_mode": {
    "name": "ipython",
    "version": 3
   },
   "file_extension": ".py",
   "mimetype": "text/x-python",
   "name": "python",
   "nbconvert_exporter": "python",
   "pygments_lexer": "ipython3",
   "version": "3.8.10"
  },
  "orig_nbformat": 4,
  "vscode": {
   "interpreter": {
    "hash": "e0144baad0ecee903f108a3e46e51ceadd7da3fc904cfa79747d813b61464b4e"
   }
  }
 },
 "nbformat": 4,
 "nbformat_minor": 2
}
