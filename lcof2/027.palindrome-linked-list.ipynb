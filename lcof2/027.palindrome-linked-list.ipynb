{
 "cells": [
  {
   "cell_type": "markdown",
   "metadata": {},
   "source": [
    "# LCR 027. 回文链表 (easy)\n",
    "\n",
    "给定一个链表的 头节点 head ，请判断其是否为回文链表。\n",
    "\n",
    "如果一个链表是回文，那么链表节点序列从前往后看和从后往前看是相同的。\n",
    "\n",
    "\n",
    "示例 1：\n",
    "\n",
    "```\n",
    "1->2->3->3->2->1\n",
    "```\n",
    "```\n",
    "输入: head = [1,2,3,3,2,1]\n",
    "输出: true\n",
    "```\n",
    "示例 2：\n",
    "\n",
    "```\n",
    "1->2\n",
    "```\n",
    "```\n",
    "输入: head = [1,2]\n",
    "输出: false\n",
    "``` \n",
    "\n",
    "提示：\n",
    "```\n",
    "链表 L 的长度范围为 [1, 105]\n",
    "0 <= node.val <= 9\n",
    "``` \n",
    "\n",
    "进阶：能否用 O(n) 时间复杂度和 O(1) 空间复杂度解决此题？\n",
    "\n",
    "\n",
    "注意：本题与主站 234 题相同：https://leetcode-cn.com/problems/palindrome-linked-list/"
   ]
  },
  {
   "cell_type": "code",
   "execution_count": 1,
   "metadata": {},
   "outputs": [],
   "source": [
    "# Definition for singly-linked list.\n",
    "class ListNode:\n",
    "    def __init__(self, val=0, next=None):\n",
    "        self.val = val\n",
    "        self.next = next\n",
    "def lst2LN(lst):\n",
    "    if not lst:\n",
    "        return None\n",
    "    head = ListNode(lst[0])\n",
    "    p = head\n",
    "    for i in range(1, len(lst)):\n",
    "        p.next = ListNode(lst[i])\n",
    "        p = p.next\n",
    "    return head"
   ]
  },
  {
   "cell_type": "code",
   "execution_count": 2,
   "metadata": {},
   "outputs": [
    {
     "name": "stdout",
     "output_type": "stream",
     "text": [
      "False\n",
      "True\n",
      "True\n",
      "False\n"
     ]
    }
   ],
   "source": [
    "# 方法一：列表\n",
    "class Solution:\n",
    "    def isPalindrome(self, head: ListNode) -> bool:\n",
    "        l = []\n",
    "        while head:\n",
    "            l.append(head.val)\n",
    "            head = head.next\n",
    "        return l == l[::-1]\n",
    "\n",
    "\n",
    "print(Solution().isPalindrome(lst2LN([1,2,3,4,5])))\n",
    "print(Solution().isPalindrome(lst2LN([1,2,3,2,1])))\n",
    "print(Solution().isPalindrome(lst2LN([1,2,3,3,2,1])))\n",
    "print(Solution().isPalindrome(lst2LN([1,2])))"
   ]
  },
  {
   "cell_type": "code",
   "execution_count": 3,
   "metadata": {},
   "outputs": [
    {
     "name": "stdout",
     "output_type": "stream",
     "text": [
      "False\n",
      "True\n",
      "True\n",
      "False\n"
     ]
    }
   ],
   "source": [
    "# 方法二：快慢指针找中点，翻转后面，判断后复原\n",
    "class Solution:\n",
    "    def isPalindrome(self, head: ListNode) -> bool:\n",
    "        if head is None:\n",
    "            return True\n",
    "        fstend = self.getMid(head)\n",
    "        scdstart = self.reverseList(fstend.next)\n",
    "\n",
    "        fst = head\n",
    "        scd = scdstart\n",
    "        result = True\n",
    "        while result and scd:\n",
    "            result = fst.val == scd.val\n",
    "            if result:\n",
    "                fst = fst.next\n",
    "                scd = scd.next\n",
    "        \n",
    "        fstend.next = self.reverseList(scdstart)\n",
    "        return result\n",
    "\n",
    "    def getMid(self, head):\n",
    "        slow = fast = head\n",
    "        while fast.next and fast.next.next:\n",
    "            fast = fast.next.next\n",
    "            slow = slow.next\n",
    "        return slow\n",
    "\n",
    "    def reverseList(self, head):\n",
    "        pre, cur = None, head\n",
    "        while cur:\n",
    "            nxt = cur.next\n",
    "            cur.next = pre\n",
    "            pre = cur\n",
    "            cur = nxt\n",
    "        return pre\n",
    "\n",
    "\n",
    "print(Solution().isPalindrome(lst2LN([1,2,3,4,5])))\n",
    "print(Solution().isPalindrome(lst2LN([1,2,3,2,1])))\n",
    "print(Solution().isPalindrome(lst2LN([1,2,3,3,2,1])))\n",
    "print(Solution().isPalindrome(lst2LN([1,2])))"
   ]
  },
  {
   "cell_type": "code",
   "execution_count": 4,
   "metadata": {},
   "outputs": [
    {
     "name": "stdout",
     "output_type": "stream",
     "text": [
      "False\n",
      "True\n",
      "True\n",
      "False\n"
     ]
    }
   ],
   "source": [
    "# 方法三：递归\n",
    "class Solution:\n",
    "    def isPalindrome(self, head: ListNode) -> bool:\n",
    "\n",
    "        self.front_pointer = head\n",
    "\n",
    "        def recursively_check(current_node=head):\n",
    "            if current_node is not None:\n",
    "                if not recursively_check(current_node.next):\n",
    "                    return False\n",
    "                if self.front_pointer.val != current_node.val:\n",
    "                    return False\n",
    "                self.front_pointer = self.front_pointer.next\n",
    "            return True\n",
    "\n",
    "        return recursively_check()\n",
    "\n",
    "\n",
    "print(Solution().isPalindrome(lst2LN([1,2,3,4,5])))\n",
    "print(Solution().isPalindrome(lst2LN([1,2,3,2,1])))\n",
    "print(Solution().isPalindrome(lst2LN([1,2,3,3,2,1])))\n",
    "print(Solution().isPalindrome(lst2LN([1,2])))"
   ]
  }
 ],
 "metadata": {
  "kernelspec": {
   "display_name": "Python 3.8.10 64-bit",
   "language": "python",
   "name": "python3"
  },
  "language_info": {
   "codemirror_mode": {
    "name": "ipython",
    "version": 3
   },
   "file_extension": ".py",
   "mimetype": "text/x-python",
   "name": "python",
   "nbconvert_exporter": "python",
   "pygments_lexer": "ipython3",
   "version": "3.8.10"
  },
  "orig_nbformat": 4,
  "vscode": {
   "interpreter": {
    "hash": "e0144baad0ecee903f108a3e46e51ceadd7da3fc904cfa79747d813b61464b4e"
   }
  }
 },
 "nbformat": 4,
 "nbformat_minor": 2
}
