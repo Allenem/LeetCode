{
 "cells": [
  {
   "cell_type": "markdown",
   "metadata": {},
   "source": [
    "# LCR 086. 分割回文串 (medium)\n",
    "\n",
    "给定一个字符串 s ，请将 s 分割成一些子串，使每个子串都是 回文串 ，返回 s 所有可能的分割方案。\n",
    "\n",
    "回文串 是正着读和反着读都一样的字符串。\n",
    "\n",
    "示例 1：\n",
    "```\n",
    "输入：s = \"google\"\n",
    "输出：[[\"g\",\"o\",\"o\",\"g\",\"l\",\"e\"],[\"g\",\"oo\",\"g\",\"l\",\"e\"],[\"goog\",\"l\",\"e\"]]\n",
    "```\n",
    "示例 2：\n",
    "```\n",
    "输入：s = \"aab\"\n",
    "输出：[[\"a\",\"a\",\"b\"],[\"aa\",\"b\"]]\n",
    "```\n",
    "示例 3：\n",
    "```\n",
    "输入：s = \"a\"\n",
    "输出：[[\"a\"]]\n",
    "``` \n",
    "\n",
    "提示：\n",
    "```\n",
    "1 <= s.length <= 16\n",
    "s 仅由小写英文字母组成\n",
    "``` \n",
    "\n",
    "注意：本题与主站 131 题相同： https://leetcode-cn.com/problems/palindrome-partitioning/"
   ]
  },
  {
   "cell_type": "code",
   "execution_count": 3,
   "metadata": {},
   "outputs": [
    {
     "name": "stdout",
     "output_type": "stream",
     "text": [
      "[['g', 'o', 'o', 'g', 'l', 'e'], ['g', 'oo', 'g', 'l', 'e'], ['goog', 'l', 'e']]\n",
      "[['a', 'a', 'b'], ['aa', 'b']]\n",
      "[['a']]\n"
     ]
    }
   ],
   "source": [
    "# 动态规划 + 回溯\n",
    "from typing import List\n",
    "class Solution:\n",
    "    def partition(self, s: str) -> List[List[str]]:\n",
    "        n, ans = len(s), []\n",
    "        dp = [[True] * n for _ in range(n)]\n",
    "        for i in range(n-2, -1, -1):\n",
    "            for j in range(i+1, n):\n",
    "                dp[i][j] = s[i] == s[j] and dp[i+1][j-1]\n",
    "\n",
    "        def bk(tmp, i):\n",
    "            if i == n:\n",
    "                ans.append(tmp[:])\n",
    "                return\n",
    "            for j in range(i, n):\n",
    "                if dp[i][j]:\n",
    "                    tmp.append(s[i:j+1])\n",
    "                    bk(tmp, j+1)\n",
    "                    tmp.pop()\n",
    "        bk([], 0)\n",
    "        return ans\n",
    "\n",
    "\n",
    "print(Solution().partition(\"google\"))\n",
    "print(Solution().partition(\"aab\"))\n",
    "print(Solution().partition(\"a\"))"
   ]
  }
 ],
 "metadata": {
  "kernelspec": {
   "display_name": "Python 3.8.10 64-bit",
   "language": "python",
   "name": "python3"
  },
  "language_info": {
   "codemirror_mode": {
    "name": "ipython",
    "version": 3
   },
   "file_extension": ".py",
   "mimetype": "text/x-python",
   "name": "python",
   "nbconvert_exporter": "python",
   "pygments_lexer": "ipython3",
   "version": "3.8.10"
  },
  "orig_nbformat": 4,
  "vscode": {
   "interpreter": {
    "hash": "e0144baad0ecee903f108a3e46e51ceadd7da3fc904cfa79747d813b61464b4e"
   }
  }
 },
 "nbformat": 4,
 "nbformat_minor": 2
}
