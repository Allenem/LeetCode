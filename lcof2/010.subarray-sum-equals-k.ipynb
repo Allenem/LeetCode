{
 "cells": [
  {
   "cell_type": "markdown",
   "metadata": {},
   "source": [
    "# LCR 010. 和为 K 的子数组 (medium)\n",
    "\n",
    "给定一个整数数组和一个整数 k ，请找到该数组中和为 k 的连续子数组的个数。\n",
    " \n",
    "\n",
    "示例 1：\n",
    "```\n",
    "输入:nums = [1,1,1], k = 2\n",
    "输出: 2\n",
    "解释: 此题 [1,1] 与 [1,1] 为两种不同的情况\n",
    "```\n",
    "示例 2：\n",
    "```\n",
    "输入:nums = [1,2,3], k = 3\n",
    "输出: 2\n",
    "``` \n",
    "\n",
    "提示:\n",
    "```\n",
    "1 <= nums.length <= 2 * 10^4\n",
    "-1000 <= nums[i] <= 1000\n",
    "-10^7 <= k <= 10^7\n",
    "```\n",
    " \n",
    "\n",
    "注意：本题与主站 560 题相同： https://leetcode-cn.com/problems/subarray-sum-equals-k/"
   ]
  },
  {
   "cell_type": "code",
   "execution_count": null,
   "metadata": {},
   "outputs": [],
   "source": [
    "# 前缀和法: pre[i]-pre[j-1]=k=>pre[j-1]=pre[i]-k\n",
    "from typing import List\n",
    "class Solution:\n",
    "    def subarraySum(self, nums: List[int], k: int) -> int:\n",
    "        ret, pre_sum = 0, 0\n",
    "        # presum: count. {0: 1}防止sum(nums[0],...) == k\n",
    "        pre_dict = {0: 1}\n",
    "        for n in nums:\n",
    "            pre_sum += n\n",
    "            ret += pre_dict.get(pre_sum - k, 0)\n",
    "            pre_dict[pre_sum] = pre_dict.get(pre_sum, 0) + 1\n",
    "        return ret\n",
    "\n",
    "\n",
    "print(Solution().subarraySum([1, 1, 1], 2))\n",
    "print(Solution().subarraySum([1, 2, 3], 3))"
   ]
  }
 ],
 "metadata": {
  "kernelspec": {
   "display_name": "Python 3.8.10 64-bit",
   "language": "python",
   "name": "python3"
  },
  "language_info": {
   "name": "python",
   "version": "3.8.10"
  },
  "orig_nbformat": 4,
  "vscode": {
   "interpreter": {
    "hash": "e0144baad0ecee903f108a3e46e51ceadd7da3fc904cfa79747d813b61464b4e"
   }
  }
 },
 "nbformat": 4,
 "nbformat_minor": 2
}
