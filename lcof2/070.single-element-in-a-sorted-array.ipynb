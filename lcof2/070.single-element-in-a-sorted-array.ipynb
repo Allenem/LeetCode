{
 "cells": [
  {
   "cell_type": "markdown",
   "metadata": {},
   "source": [
    "# LCR 070. 有序数组中的单一元素 (medium)\n",
    "\n",
    "给定一个只包含整数的有序数组 nums ，每个元素都会出现两次，唯有一个数只会出现一次，请找出这个唯一的数字。\n",
    "\n",
    "\n",
    "示例 1:\n",
    "```\n",
    "输入: nums = [1,1,2,3,3,4,4,8,8]\n",
    "输出: 2\n",
    "```\n",
    "示例 2:\n",
    "```\n",
    "输入: nums =  [3,3,7,7,10,11,11]\n",
    "输出: 10\n",
    "``` \n",
    "\n",
    "提示:\n",
    "```\n",
    "1 <= nums.length <= 10^5\n",
    "0 <= nums[i] <= 10^5\n",
    "``` \n",
    "\n",
    "进阶: 采用的方案可以在 O(log n) 时间复杂度和 O(1) 空间复杂度中运行吗？\n",
    "\n",
    "\n",
    "注意：本题与主站 540 题相同：https://leetcode-cn.com/problems/single-element-in-a-sorted-array/"
   ]
  },
  {
   "cell_type": "code",
   "execution_count": 1,
   "metadata": {},
   "outputs": [
    {
     "name": "stdout",
     "output_type": "stream",
     "text": [
      "2\n",
      "10\n"
     ]
    }
   ],
   "source": [
    "# 方法一：异或\n",
    "from functools import reduce\n",
    "from typing import List\n",
    "class Solution:\n",
    "    def singleNonDuplicate(self, nums: List[int]) -> int:\n",
    "        return reduce(lambda x, y: x^y, nums) \n",
    "\n",
    "print(Solution().singleNonDuplicate([1,1,2,3,3,4,4,8,8]))\n",
    "print(Solution().singleNonDuplicate([3,3,7,7,10,11,11]))"
   ]
  },
  {
   "cell_type": "code",
   "execution_count": null,
   "metadata": {},
   "outputs": [],
   "source": [
    "# 方法二：二分查找\n",
    "class Solution:\n",
    "    def singleNonDuplicate(self, nums: List[int]) -> int:\n",
    "        l, r = 0, len(nums) - 1\n",
    "        while l < r:\n",
    "            mid = (l + r) // 2\n",
    "            if nums[mid] == nums[mid ^ 1]: # mid奇数：mid和mid-1比较；偶数：mid和mid+1比较\n",
    "                l = mid + 1\n",
    "            else:\n",
    "                r = mid\n",
    "        return nums[l]"
   ]
  }
 ],
 "metadata": {
  "kernelspec": {
   "display_name": "Python 3.8.10 64-bit",
   "language": "python",
   "name": "python3"
  },
  "language_info": {
   "codemirror_mode": {
    "name": "ipython",
    "version": 3
   },
   "file_extension": ".py",
   "mimetype": "text/x-python",
   "name": "python",
   "nbconvert_exporter": "python",
   "pygments_lexer": "ipython3",
   "version": "3.8.10"
  },
  "orig_nbformat": 4,
  "vscode": {
   "interpreter": {
    "hash": "e0144baad0ecee903f108a3e46e51ceadd7da3fc904cfa79747d813b61464b4e"
   }
  }
 },
 "nbformat": 4,
 "nbformat_minor": 2
}
