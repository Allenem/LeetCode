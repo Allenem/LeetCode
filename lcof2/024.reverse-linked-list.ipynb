{
 "cells": [
  {
   "cell_type": "markdown",
   "metadata": {},
   "source": [
    "# LCR 024. 反转链表 (easy)\n",
    "\n",
    "给定单链表的头节点 head ，请反转链表，并返回反转后的链表的头节点。\n",
    "\n",
    "\n",
    "示例 1：\n",
    "\n",
    "```\n",
    "1->2->3->4->5\n",
    "↓\n",
    "5->4->3->2->1\n",
    "```\n",
    "\n",
    "```\n",
    "输入：head = [1,2,3,4,5]\n",
    "输出：[5,4,3,2,1]\n",
    "```\n",
    "示例 2：\n",
    "```\n",
    "1->2\n",
    "↓\n",
    "2->1\n",
    "```\n",
    "```\n",
    "输入：head = [1,2]\n",
    "输出：[2,1]\n",
    "```\n",
    "示例 3：\n",
    "```\n",
    "输入：head = []\n",
    "输出：[]\n",
    "``` \n",
    "\n",
    "提示：\n",
    "```\n",
    "链表中节点的数目范围是 [0, 5000]\n",
    "-5000 <= Node.val <= 5000\n",
    "``` \n",
    "\n",
    "进阶：链表可以选用迭代或递归方式完成反转。你能否用两种方法解决这道题？\n",
    "\n",
    "\n",
    "注意：本题与主站 206 题相同： https://leetcode-cn.com/problems/reverse-linked-list/"
   ]
  },
  {
   "cell_type": "code",
   "execution_count": 2,
   "metadata": {},
   "outputs": [
    {
     "name": "stdout",
     "output_type": "stream",
     "text": [
      "[5, 4, 3, 2, 1]\n",
      "[2, 1]\n",
      "[]\n"
     ]
    }
   ],
   "source": [
    "# Definition for singly-linked list.\n",
    "class ListNode:\n",
    "    def __init__(self, val=0, next=None):\n",
    "        self.val = val\n",
    "        self.next = next\n",
    "\n",
    "class Solution:\n",
    "    def reverseList(self, head: ListNode) -> ListNode:\n",
    "        pre, cur = None, head\n",
    "        while cur:\n",
    "            cur.next, pre, cur = pre, cur, cur.next\n",
    "        return pre\n",
    "\n",
    "\n",
    "# _______________________________________________________\n",
    "\n",
    "\n",
    "'''\n",
    "'cur.next, pre, cur = pre, cur, cur.next' is equivalent to:\n",
    "nxt = cur.next\n",
    "cur.next = pre\n",
    "pre = cur\n",
    "cur = nxt\n",
    "'''\n",
    "\n",
    "# 测试代码\n",
    "def lst2LN(lst):\n",
    "    if not lst:\n",
    "        return None\n",
    "    head = ListNode(lst[0])\n",
    "    cur = head\n",
    "    for i in range(1, len(lst)):\n",
    "        cur.next = ListNode(lst[i])\n",
    "        cur = cur.next\n",
    "    return head\n",
    "\n",
    "def LN2lst(head):\n",
    "    lst = []\n",
    "    while head:\n",
    "        lst.append(head.val)\n",
    "        head = head.next\n",
    "    return lst\n",
    "\n",
    "print(LN2lst(Solution().reverseList(lst2LN([1,2,3,4,5]))))\n",
    "print(LN2lst(Solution().reverseList(lst2LN([1,2]))))\n",
    "print(LN2lst(Solution().reverseList(lst2LN([]))))"
   ]
  }
 ],
 "metadata": {
  "kernelspec": {
   "display_name": "Python 3.8.10 64-bit",
   "language": "python",
   "name": "python3"
  },
  "language_info": {
   "codemirror_mode": {
    "name": "ipython",
    "version": 3
   },
   "file_extension": ".py",
   "mimetype": "text/x-python",
   "name": "python",
   "nbconvert_exporter": "python",
   "pygments_lexer": "ipython3",
   "version": "3.8.10"
  },
  "orig_nbformat": 4,
  "vscode": {
   "interpreter": {
    "hash": "e0144baad0ecee903f108a3e46e51ceadd7da3fc904cfa79747d813b61464b4e"
   }
  }
 },
 "nbformat": 4,
 "nbformat_minor": 2
}
