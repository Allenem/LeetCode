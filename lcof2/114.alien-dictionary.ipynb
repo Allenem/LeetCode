{
 "cells": [
  {
   "cell_type": "markdown",
   "metadata": {},
   "source": [
    "# LCR 114. 火星词典 (hard)\n",
    "\n",
    "现有一种使用英语字母的外星文语言，这门语言的字母顺序与英语顺序不同。\n",
    "\n",
    "给定一个字符串列表 words ，作为这门语言的词典，words 中的字符串已经 按这门新语言的字母顺序进行了排序 。\n",
    "\n",
    "请你根据该词典还原出此语言中已知的字母顺序，并 按字母递增顺序 排列。若不存在合法字母顺序，返回 \"\" 。若存在多种可能的合法字母顺序，返回其中 任意一种 顺序即可。\n",
    "\n",
    "字符串 s 字典顺序小于 字符串 t 有两种情况：\n",
    "\n",
    "- 在第一个不同字母处，如果 s 中的字母在这门外星语言的字母顺序中位于 t 中字母之前，那么 s 的字典顺序小于 t 。\n",
    "- 如果前面 min(s.length, t.length) 字母都相同，那么 s.length < t.length 时，s 的字典顺序也小于 t 。\n",
    " \n",
    "\n",
    "示例 1：\n",
    "```\n",
    "输入：words = [\"wrt\",\"wrf\",\"er\",\"ett\",\"rftt\"]\n",
    "输出：\"wertf\"\n",
    "```\n",
    "示例 2：\n",
    "```\n",
    "输入：words = [\"z\",\"x\"]\n",
    "输出：\"zx\"\n",
    "```\n",
    "示例 3：\n",
    "```\n",
    "输入：words = [\"z\",\"x\",\"z\"]\n",
    "输出：\"\"\n",
    "解释：不存在合法字母顺序，因此返回 \"\" 。\n",
    "``` \n",
    "\n",
    "提示：\n",
    "```\n",
    "1 <= words.length <= 100\n",
    "1 <= words[i].length <= 100\n",
    "words[i] 仅由小写英文字母组成\n",
    "``` \n",
    "\n",
    "注意：本题与主站 269 题相同： https://leetcode-cn.com/problems/alien-dictionary/"
   ]
  },
  {
   "cell_type": "code",
   "execution_count": 3,
   "metadata": {},
   "outputs": [
    {
     "name": "stdout",
     "output_type": "stream",
     "text": [
      "wertf\n",
      "zx\n",
      "\n",
      "z\n"
     ]
    }
   ],
   "source": [
    "# graph + bfs\n",
    "from collections import defaultdict\n",
    "from typing import List\n",
    "from itertools import tee\n",
    "\n",
    "class Solution:\n",
    "    def alienOrder(self, words: List[str]) -> str:\n",
    "\n",
    "        g, ind = defaultdict(list), {u: 0 for u in words[0]}\n",
    "        for s, t in pairwise(words):\n",
    "            for u in t:\n",
    "                ind.setdefault(u, 0)\n",
    "            for u, v in zip(s, t):\n",
    "                if u != v:\n",
    "                    g[u].append(v)\n",
    "                    ind[v] += 1\n",
    "                    break\n",
    "            if u == v and len(s) > len(t): # 最后一个zip(s, t)都相等，s比t长，则不合法，返回''\n",
    "                return ''\n",
    "\n",
    "        q = [u for u, d in ind.items() if d == 0]\n",
    "        ret = []\n",
    "        while q:\n",
    "            u = q.pop(0)\n",
    "            ret.append(u)\n",
    "            for v in g[u]:\n",
    "                ind[v] -= 1\n",
    "                if ind[v] == 0:\n",
    "                    q.append(v)\n",
    "        return ''.join(ret) if len(ret) == len(ind) else ''\n",
    "\n",
    "\n",
    "def pairwise(iterable):\n",
    "    a, b = tee(iterable)\n",
    "    next(b, None)\n",
    "    return zip(a, b)\n",
    "\n",
    "print(Solution().alienOrder([\"wrt\",\"wrf\",\"er\",\"ett\",\"rftt\"]))\n",
    "print(Solution().alienOrder([\"z\",\"x\"]))\n",
    "print(Solution().alienOrder([\"z\",\"x\",\"z\"]))\n",
    "print(Solution().alienOrder([\"z\",\"z\"]))"
   ]
  }
 ],
 "metadata": {
  "kernelspec": {
   "display_name": "Python 3.8.10 64-bit",
   "language": "python",
   "name": "python3"
  },
  "language_info": {
   "codemirror_mode": {
    "name": "ipython",
    "version": 3
   },
   "file_extension": ".py",
   "mimetype": "text/x-python",
   "name": "python",
   "nbconvert_exporter": "python",
   "pygments_lexer": "ipython3",
   "version": "3.8.10"
  },
  "orig_nbformat": 4,
  "vscode": {
   "interpreter": {
    "hash": "e0144baad0ecee903f108a3e46e51ceadd7da3fc904cfa79747d813b61464b4e"
   }
  }
 },
 "nbformat": 4,
 "nbformat_minor": 2
}
