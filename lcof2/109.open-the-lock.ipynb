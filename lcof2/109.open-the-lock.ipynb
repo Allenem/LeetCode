{
 "cells": [
  {
   "cell_type": "markdown",
   "metadata": {},
   "source": [
    "# LCR 109. 打开转盘锁 (medium)\n",
    "\n",
    "一个密码锁由 4 个环形拨轮组成，每个拨轮都有 10 个数字： '0', '1', '2', '3', '4', '5', '6', '7', '8', '9' 。每个拨轮可以自由旋转：例如把 '9' 变为 '0'，'0' 变为 '9' 。每次旋转都只能旋转一个拨轮的一位数字。\n",
    "\n",
    "锁的初始数字为 '0000' ，一个代表四个拨轮的数字的字符串。\n",
    "\n",
    "列表 deadends 包含了一组死亡数字，一旦拨轮的数字和列表里的任何一个元素相同，这个锁将会被永久锁定，无法再被旋转。\n",
    "\n",
    "字符串 target 代表可以解锁的数字，请给出解锁需要的最小旋转次数，如果无论如何不能解锁，返回 -1 。\n",
    "\n",
    "示例 1:\n",
    "```\n",
    "输入：deadends = [\"0201\",\"0101\",\"0102\",\"1212\",\"2002\"], target = \"0202\"\n",
    "输出：6\n",
    "解释：\n",
    "可能的移动序列为 \"0000\" -> \"1000\" -> \"1100\" -> \"1200\" -> \"1201\" -> \"1202\" -> \"0202\"。\n",
    "注意 \"0000\" -> \"0001\" -> \"0002\" -> \"0102\" -> \"0202\" 这样的序列是不能解锁的，因为当拨动到 \"0102\" 时这个锁就会被锁定。\n",
    "```\n",
    "示例 2:\n",
    "```\n",
    "输入: deadends = [\"8888\"], target = \"0009\"\n",
    "输出：1\n",
    "解释：\n",
    "把最后一位反向旋转一次即可 \"0000\" -> \"0009\"。\n",
    "```\n",
    "示例 3:\n",
    "```\n",
    "输入: deadends = [\"8887\",\"8889\",\"8878\",\"8898\",\"8788\",\"8988\",\"7888\",\"9888\"], target = \"8888\"\n",
    "输出：-1\n",
    "解释：\n",
    "无法旋转到目标数字且不被锁定。\n",
    "```\n",
    "示例 4:\n",
    "```\n",
    "输入: deadends = [\"0000\"], target = \"8888\"\n",
    "输出：-1\n",
    "``` \n",
    "\n",
    "提示：\n",
    "```\n",
    "1 <= deadends.length <= 500\n",
    "deadends[i].length == 4\n",
    "target.length == 4\n",
    "target 不在 deadends 之中\n",
    "target 和 deadends[i] 仅由若干位数字组成\n",
    "``` \n",
    "\n",
    "注意：本题与主站 752 题相同： https://leetcode-cn.com/problems/open-the-lock/"
   ]
  },
  {
   "cell_type": "code",
   "execution_count": 1,
   "metadata": {},
   "outputs": [
    {
     "name": "stdout",
     "output_type": "stream",
     "text": [
      "6\n",
      "1\n",
      "-1\n",
      "-1\n"
     ]
    }
   ],
   "source": [
    "from typing import List\n",
    "\n",
    "# BFS\n",
    "class Solution:\n",
    "    def openLock(self, deadends: List[str], target: str) -> int:\n",
    "        def nxt(cur):\n",
    "            lst = list(cur)\n",
    "            ret = []\n",
    "            for i, curi in enumerate(cur):\n",
    "                lst[i] = '9' if curi == '0' else str(int(curi) - 1)\n",
    "                ret.append(''.join(lst))\n",
    "                lst[i] = '0' if curi == '9' else str(int(curi) + 1)\n",
    "                ret.append(''.join(lst))\n",
    "                lst[i] = curi\n",
    "            return ret\n",
    "\n",
    "\n",
    "        if '0000' in deadends or target in deadends:\n",
    "            return -1\n",
    "        if target == '0000':\n",
    "            return 0\n",
    "        q = [('0000', 0)]\n",
    "        see = {'0000'}\n",
    "        while q:\n",
    "            cur, step = q.pop(0)\n",
    "            if cur == target:\n",
    "                return step\n",
    "            for nxti in nxt(cur):\n",
    "                if nxti not in deadends and nxti not in see:\n",
    "                    q.append((nxti, step+1))\n",
    "                    see.add(nxti)\n",
    "        return -1\n",
    "\n",
    "\n",
    "print(Solution().openLock([\"0201\",\"0101\",\"0102\",\"1212\",\"2002\"], \"0202\"))\n",
    "print(Solution().openLock([\"8888\"], \"0009\"))\n",
    "print(Solution().openLock([\"8887\",\"8889\",\"8878\",\"8898\",\"8788\",\"8988\",\"7888\",\"9888\"], \"8888\"))\n",
    "print(Solution().openLock([\"0000\"], \"8888\"))"
   ]
  }
 ],
 "metadata": {
  "kernelspec": {
   "display_name": "Python 3.8.10 64-bit",
   "language": "python",
   "name": "python3"
  },
  "language_info": {
   "codemirror_mode": {
    "name": "ipython",
    "version": 3
   },
   "file_extension": ".py",
   "mimetype": "text/x-python",
   "name": "python",
   "nbconvert_exporter": "python",
   "pygments_lexer": "ipython3",
   "version": "3.8.10"
  },
  "orig_nbformat": 4,
  "vscode": {
   "interpreter": {
    "hash": "e0144baad0ecee903f108a3e46e51ceadd7da3fc904cfa79747d813b61464b4e"
   }
  }
 },
 "nbformat": 4,
 "nbformat_minor": 2
}
