{
 "cells": [
  {
   "cell_type": "markdown",
   "metadata": {},
   "source": [
    "# LCR 008. 长度最小的子数组 (medium)\n",
    "\n",
    "给定一个含有 n 个正整数的数组和一个正整数 target 。\n",
    "\n",
    "找出该数组中满足其和 ≥ target 的长度最小的 连续子数组 [numsl, numsl+1, ..., numsr-1, numsr] ，并返回其长度。如果不存在符合条件的子数组，返回 0 。\n",
    "\n",
    "\n",
    "示例 1：\n",
    "```\n",
    "输入：target = 7, nums = [2,3,1,2,4,3]\n",
    "输出：2\n",
    "解释：子数组 [4,3] 是该条件下的长度最小的子数组。\n",
    "```\n",
    "示例 2：\n",
    "```\n",
    "输入：target = 4, nums = [1,4,4]\n",
    "输出：1\n",
    "```\n",
    "示例 3：\n",
    "```\n",
    "输入：target = 11, nums = [1,1,1,1,1,1,1,1]\n",
    "输出：0\n",
    "```\n",
    "\n",
    "提示：\n",
    "```\n",
    "1 <= target <= 10^9\n",
    "1 <= nums.length <= 10^5\n",
    "1 <= nums[i] <= 10^5\n",
    "```\n",
    "\n",
    "进阶：\n",
    "\n",
    "如果你已经实现 O(n) 时间复杂度的解法, 请尝试设计一个 O(n log(n)) 时间复杂度的解法。\n",
    " \n",
    "\n",
    "注意：本题与主站 209 题相同：https://leetcode-cn.com/problems/minimum-size-subarray-sum/"
   ]
  },
  {
   "cell_type": "code",
   "execution_count": 1,
   "metadata": {},
   "outputs": [
    {
     "name": "stdout",
     "output_type": "stream",
     "text": [
      "2\n",
      "1\n",
      "0\n"
     ]
    }
   ],
   "source": [
    "# 两个变量，滑窗\n",
    "from typing import List\n",
    "class Solution:\n",
    "    def minSubArrayLen(self, target: int, nums: List[int]) -> int:\n",
    "        if not nums: return 0\n",
    "        n = len(nums)\n",
    "        minlen = n + 1\n",
    "        i, j = 0, 0\n",
    "        total = 0\n",
    "        while j < n:\n",
    "            total += nums[j]\n",
    "            while total >= target:\n",
    "                minlen = min(minlen, j-i+1)\n",
    "                total -= nums[i]\n",
    "                i += 1\n",
    "            j += 1\n",
    "        return 0 if minlen == n + 1 else minlen\n",
    "\n",
    "\n",
    "print(Solution().minSubArrayLen(7, [2,3,1,2,4,3]))\n",
    "print(Solution().minSubArrayLen(4, [1,4,4]))\n",
    "print(Solution().minSubArrayLen(11, [1,1,1,1,1,1,1,1]))"
   ]
  }
 ],
 "metadata": {
  "kernelspec": {
   "display_name": "Python 3.8.10 64-bit",
   "language": "python",
   "name": "python3"
  },
  "language_info": {
   "codemirror_mode": {
    "name": "ipython",
    "version": 3
   },
   "file_extension": ".py",
   "mimetype": "text/x-python",
   "name": "python",
   "nbconvert_exporter": "python",
   "pygments_lexer": "ipython3",
   "version": "3.8.10"
  },
  "orig_nbformat": 4,
  "vscode": {
   "interpreter": {
    "hash": "e0144baad0ecee903f108a3e46e51ceadd7da3fc904cfa79747d813b61464b4e"
   }
  }
 },
 "nbformat": 4,
 "nbformat_minor": 2
}
