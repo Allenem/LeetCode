{
 "cells": [
  {
   "cell_type": "markdown",
   "metadata": {},
   "source": [
    "# LCR 032. 有效的字母异位词 (easy)\n",
    "\n",
    "给定两个字符串 s 和 t ，编写一个函数来判断它们是不是一组变位词（字母异位词）。\n",
    "\n",
    "注意：若 s 和 t 中每个字符出现的次数都相同且字符顺序不完全相同，则称 s 和 t 互为变位词（字母异位词）。\n",
    "\n",
    "\n",
    "示例 1:\n",
    "```\n",
    "输入: s = \"anagram\", t = \"nagaram\"\n",
    "输出: true\n",
    "```\n",
    "示例 2:\n",
    "```\n",
    "输入: s = \"rat\", t = \"car\"\n",
    "输出: false\n",
    "```\n",
    "示例 3:\n",
    "```\n",
    "输入: s = \"a\", t = \"a\"\n",
    "输出: false\n",
    "```\n",
    "\n",
    "提示:\n",
    "```\n",
    "1 <= s.length, t.length <= 5 * 104\n",
    "s and t 仅包含小写字母\n",
    "``` \n",
    "\n",
    "进阶: 如果输入字符串包含 unicode 字符怎么办？你能否调整你的解法来应对这种情况？\n",
    "\n",
    "\n",
    "注意：本题与主站 242 题相似（字母异位词定义不同）：https://leetcode-cn.com/problems/valid-anagram/"
   ]
  },
  {
   "cell_type": "code",
   "execution_count": 1,
   "metadata": {},
   "outputs": [
    {
     "name": "stdout",
     "output_type": "stream",
     "text": [
      "True\n",
      "False\n",
      "False\n",
      "False\n"
     ]
    }
   ],
   "source": [
    "# 方法一\n",
    "class Solution:\n",
    "    def isAnagram(self, s: str, t: str) -> bool:\n",
    "        if len(s) != len(t) or s == t: return False\n",
    "        diff = [0] * 26\n",
    "        for c in s: diff[ord(c) - ord('a')] += 1\n",
    "        for c in t: diff[ord(c) - ord('a')] -= 1\n",
    "        return diff == [0] * 26\n",
    "\n",
    "\n",
    "print(Solution().isAnagram(\"anagram\", \"nagaram\"))\n",
    "print(Solution().isAnagram(\"rat\", \"car\"))\n",
    "print(Solution().isAnagram(\"a\", \"ab\"))\n",
    "print(Solution().isAnagram(\"a\", \"a\"))"
   ]
  },
  {
   "cell_type": "code",
   "execution_count": 2,
   "metadata": {},
   "outputs": [
    {
     "name": "stdout",
     "output_type": "stream",
     "text": [
      "True\n",
      "False\n",
      "False\n",
      "False\n"
     ]
    }
   ],
   "source": [
    "# 方法二\n",
    "class Solution:\n",
    "    def isAnagram(self, s: str, t: str) -> bool:\n",
    "        return s != t and sorted(s) == sorted(t)\n",
    "\n",
    "\n",
    "print(Solution().isAnagram(\"anagram\", \"nagaram\"))\n",
    "print(Solution().isAnagram(\"rat\", \"car\"))\n",
    "print(Solution().isAnagram(\"a\", \"ab\"))\n",
    "print(Solution().isAnagram(\"a\", \"a\"))"
   ]
  }
 ],
 "metadata": {
  "kernelspec": {
   "display_name": "Python 3.8.10 64-bit",
   "language": "python",
   "name": "python3"
  },
  "language_info": {
   "codemirror_mode": {
    "name": "ipython",
    "version": 3
   },
   "file_extension": ".py",
   "mimetype": "text/x-python",
   "name": "python",
   "nbconvert_exporter": "python",
   "pygments_lexer": "ipython3",
   "version": "3.8.10"
  },
  "orig_nbformat": 4,
  "vscode": {
   "interpreter": {
    "hash": "e0144baad0ecee903f108a3e46e51ceadd7da3fc904cfa79747d813b61464b4e"
   }
  }
 },
 "nbformat": 4,
 "nbformat_minor": 2
}
