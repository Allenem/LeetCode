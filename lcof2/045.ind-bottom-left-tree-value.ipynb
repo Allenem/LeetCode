{
 "cells": [
  {
   "cell_type": "markdown",
   "metadata": {},
   "source": [
    "# LCR 045. 找树左下角的值 (medium)\n",
    "\n",
    "给定一个二叉树的 根节点 root，请找出该二叉树的 最底层 最左边 节点的值。\n",
    "\n",
    "假设二叉树中至少有一个节点。\n",
    "\n",
    "\n",
    "示例 1:\n",
    "```\n",
    "          2\n",
    "         / \\\n",
    "        1   3\n",
    "输入: root = [2,1,3]\n",
    "输出: 1\n",
    "```\n",
    "示例 2:\n",
    "```\n",
    "          1\n",
    "         / \\\n",
    "        2   3\n",
    "       /   / \\  \n",
    "      4   5   6\n",
    "         /\n",
    "        7 \n",
    "输入: [1,2,3,4,null,5,6,null,null,7]\n",
    "输出: 7\n",
    "``` \n",
    "\n",
    "提示:\n",
    "```\n",
    "二叉树的节点个数的范围是 [1,10^4]\n",
    "-2^31 <= Node.val <= 2^31 - 1 \n",
    "``` \n",
    "\n",
    "注意：本题与主站 513 题相同： https://leetcode-cn.com/problems/find-bottom-left-tree-value/"
   ]
  },
  {
   "cell_type": "code",
   "execution_count": 1,
   "metadata": {},
   "outputs": [
    {
     "name": "stdout",
     "output_type": "stream",
     "text": [
      "<__main__.TreeNode object at 0x0000026BF7DDFE50>\n"
     ]
    }
   ],
   "source": [
    "# Definition for a binary tree node.\n",
    "class TreeNode:\n",
    "    def __init__(self, val=0, left=None, right=None):\n",
    "        self.val = val\n",
    "        self.left = left\n",
    "        self.right = right\n",
    "\n",
    "\n",
    "def lst2tree(lst):\n",
    "    if not lst: return None\n",
    "    root = TreeNode(lst.pop(0))\n",
    "    q = [root]\n",
    "    while lst:\n",
    "        node = q.pop(0)\n",
    "        if node:\n",
    "            if lst:\n",
    "                va = lst.pop(0)\n",
    "                node.left = TreeNode(va) if va else None\n",
    "                q.append(node.left)\n",
    "            if lst:\n",
    "                va = lst.pop(0)\n",
    "                node.right = TreeNode(va) if va else None\n",
    "                q.append(node.right)\n",
    "        # print((node.val, node.left.val if node.left else None, node.right.val if node.right else None) if node else None)\n",
    "    return root\n",
    "\n",
    "print(lst2tree([1,2,3,4,None,5,6,None,None,7]))"
   ]
  },
  {
   "cell_type": "code",
   "execution_count": 2,
   "metadata": {},
   "outputs": [
    {
     "name": "stdout",
     "output_type": "stream",
     "text": [
      "1\n",
      "7\n",
      "1\n"
     ]
    }
   ],
   "source": [
    "class Solution:\n",
    "    def findBottomLeftValue(self, root: TreeNode) -> int:\n",
    "        if not root: return None\n",
    "        ans, q = None, [root]\n",
    "        while q:\n",
    "            level, cnt = [], len(q)\n",
    "            for _ in range(cnt):\n",
    "                node = q.pop(0)\n",
    "                if node: level.append(node.val)\n",
    "                if node.left: q.append(node.left)\n",
    "                if node.right: q.append(node.right)\n",
    "            ans = level[0]\n",
    "        return ans\n",
    "\n",
    "print(Solution().findBottomLeftValue(lst2tree([2,1,3])))\n",
    "print(Solution().findBottomLeftValue(lst2tree([1,2,3,4,None,5,6,None,None,7])))\n",
    "print(Solution().findBottomLeftValue(lst2tree([1])))\n"
   ]
  },
  {
   "cell_type": "code",
   "execution_count": 3,
   "metadata": {},
   "outputs": [
    {
     "name": "stdout",
     "output_type": "stream",
     "text": [
      "1\n",
      "7\n",
      "1\n"
     ]
    }
   ],
   "source": [
    "class Solution:\n",
    "    def findBottomLeftValue(self, root: TreeNode) -> int:\n",
    "        q = [root]\n",
    "        ret = root.val\n",
    "        while q:\n",
    "            for _ in range(len(q)):\n",
    "                node = q.pop(0)\n",
    "                ret = node.val\n",
    "                if node.right: q.append(node.right)\n",
    "                if node.left: q.append(node.left)\n",
    "        return ret\n",
    "\n",
    "\n",
    "print(Solution().findBottomLeftValue(lst2tree([2,1,3])))\n",
    "print(Solution().findBottomLeftValue(lst2tree([1,2,3,4,None,5,6,None,None,7])))\n",
    "print(Solution().findBottomLeftValue(lst2tree([1])))"
   ]
  }
 ],
 "metadata": {
  "kernelspec": {
   "display_name": "Python 3.8.10 64-bit",
   "language": "python",
   "name": "python3"
  },
  "language_info": {
   "codemirror_mode": {
    "name": "ipython",
    "version": 3
   },
   "file_extension": ".py",
   "mimetype": "text/x-python",
   "name": "python",
   "nbconvert_exporter": "python",
   "pygments_lexer": "ipython3",
   "version": "3.8.10"
  },
  "orig_nbformat": 4,
  "vscode": {
   "interpreter": {
    "hash": "e0144baad0ecee903f108a3e46e51ceadd7da3fc904cfa79747d813b61464b4e"
   }
  }
 },
 "nbformat": 4,
 "nbformat_minor": 2
}
