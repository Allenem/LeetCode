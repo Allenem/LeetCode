{
 "cells": [
  {
   "cell_type": "markdown",
   "metadata": {},
   "source": [
    "# LCR 026. 重排链表 (medium)\n",
    "\n",
    "给定一个单链表 L 的头节点 head ，单链表 L 表示为：\n",
    "\n",
    " L0 → L1 → … → Ln-1 → Ln \n",
    "请将其重新排列后变为：\n",
    "\n",
    "L0 → Ln → L1 → Ln-1 → L2 → Ln-2 → …\n",
    "\n",
    "不能只是单纯的改变节点内部的值，而是需要实际的进行节点交换。\n",
    "\n",
    "\n",
    "示例 1:\n",
    "\n",
    "```\n",
    "1->2->3->4\n",
    "↓\n",
    "1->4->2->3\n",
    "```\n",
    "\n",
    "```\n",
    "输入: head = [1,2,3,4]\n",
    "输出: [1,4,2,3]\n",
    "```\n",
    "示例 2:\n",
    "\n",
    "```\n",
    "1->2->3->4->5\n",
    "↓\n",
    "1->5->2->4->3\n",
    "```\n",
    "\n",
    "```\n",
    "输入: head = [1,2,3,4,5]\n",
    "输出: [1,5,2,4,3]\n",
    "``` \n",
    "\n",
    "提示：\n",
    "```\n",
    "链表的长度范围为 [1, 5 * 10^4]\n",
    "1 <= node.val <= 1000\n",
    "``` \n",
    "\n",
    "注意：本题与主站 143 题相同：https://leetcode-cn.com/problems/reorder-list/ "
   ]
  },
  {
   "cell_type": "code",
   "execution_count": 2,
   "metadata": {},
   "outputs": [
    {
     "name": "stdout",
     "output_type": "stream",
     "text": [
      "[1, 4, 2, 3]\n",
      "[1, 5, 2, 4, 3]\n"
     ]
    }
   ],
   "source": [
    "# Definition for singly-linked list.\n",
    "class ListNode:\n",
    "    def __init__(self, val=0, next=None):\n",
    "        self.val = val\n",
    "        self.next = next\n",
    "class Solution:\n",
    "    def reorderList(self, head: ListNode) -> None:\n",
    "        \"\"\"\n",
    "        Do not return anything, modify head in-place instead.\n",
    "        \"\"\"\n",
    "        if not head: return\n",
    "        nodelist = []\n",
    "        node = head\n",
    "        while node:\n",
    "            nodelist.append(node)\n",
    "            node = node.next\n",
    "        i, j = 0, len(nodelist) - 1\n",
    "        while i < j:\n",
    "            nodelist[i].next = nodelist[j]\n",
    "            i += 1\n",
    "            if i == j: break\n",
    "            nodelist[j].next = nodelist[i]\n",
    "            j -= 1\n",
    "        nodelist[i].next = None\n",
    "\n",
    "\n",
    "# _______________________________________________________\n",
    "\n",
    "def lst2LN(lst):\n",
    "    head = ListNode(lst[0])\n",
    "    node = head\n",
    "    for i in range(1, len(lst)):\n",
    "        node.next = ListNode(lst[i])\n",
    "        node = node.next\n",
    "    return head\n",
    "\n",
    "def LN2lst(head):\n",
    "    lst = []\n",
    "    node = head\n",
    "    while node:\n",
    "        lst.append(node.val)\n",
    "        node = node.next\n",
    "    return lst\n",
    "\n",
    "ln1 = lst2LN([1,2,3,4])\n",
    "ln2 = lst2LN([1,2,3,4,5])\n",
    "\n",
    "Solution().reorderList(ln1)\n",
    "Solution().reorderList(ln2)\n",
    "\n",
    "print(LN2lst(ln1))\n",
    "print(LN2lst(ln2))"
   ]
  }
 ],
 "metadata": {
  "kernelspec": {
   "display_name": "Python 3.8.10 64-bit",
   "language": "python",
   "name": "python3"
  },
  "language_info": {
   "codemirror_mode": {
    "name": "ipython",
    "version": 3
   },
   "file_extension": ".py",
   "mimetype": "text/x-python",
   "name": "python",
   "nbconvert_exporter": "python",
   "pygments_lexer": "ipython3",
   "version": "3.8.10"
  },
  "orig_nbformat": 4,
  "vscode": {
   "interpreter": {
    "hash": "e0144baad0ecee903f108a3e46e51ceadd7da3fc904cfa79747d813b61464b4e"
   }
  }
 },
 "nbformat": 4,
 "nbformat_minor": 2
}
