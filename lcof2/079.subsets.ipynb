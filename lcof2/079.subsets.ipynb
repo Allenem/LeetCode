{
 "cells": [
  {
   "cell_type": "markdown",
   "metadata": {},
   "source": [
    "# LCR 079. 子集 (medium)\n",
    "\n",
    "给定一个整数数组 nums ，数组中的元素 互不相同 。返回该数组所有可能的子集（幂集）。\n",
    "\n",
    "解集 不能 包含重复的子集。你可以按 任意顺序 返回解集。\n",
    "\n",
    "\n",
    "示例 1：\n",
    "```\n",
    "输入：nums = [1,2,3]\n",
    "输出：[[],[1],[2],[1,2],[3],[1,3],[2,3],[1,2,3]]\n",
    "```\n",
    "示例 2：\n",
    "```\n",
    "输入：nums = [0]\n",
    "输出：[[],[0]]\n",
    "``` \n",
    "\n",
    "提示：\n",
    "```\n",
    "1 <= nums.length <= 10\n",
    "-10 <= nums[i] <= 10\n",
    "nums 中的所有元素 互不相同\n",
    "``` \n",
    "\n",
    "注意：本题与主站 78 题相同： https://leetcode-cn.com/problems/subsets/"
   ]
  },
  {
   "cell_type": "code",
   "execution_count": 1,
   "metadata": {},
   "outputs": [
    {
     "name": "stdout",
     "output_type": "stream",
     "text": [
      "[[], [1], [2], [1, 2], [3], [1, 3], [2, 3], [1, 2, 3]]\n",
      "[[], [0]]\n"
     ]
    }
   ],
   "source": [
    "from typing import List\n",
    "class Solution:\n",
    "    def subsets(self, nums: List[int]) -> List[List[int]]:\n",
    "        ans = [[]]\n",
    "        for n in nums:\n",
    "            ans += [a + [n] for a in ans]\n",
    "        return ans\n",
    "print(Solution().subsets([1,2,3]))\n",
    "print(Solution().subsets([0]))"
   ]
  }
 ],
 "metadata": {
  "kernelspec": {
   "display_name": "Python 3.8.10 64-bit",
   "language": "python",
   "name": "python3"
  },
  "language_info": {
   "codemirror_mode": {
    "name": "ipython",
    "version": 3
   },
   "file_extension": ".py",
   "mimetype": "text/x-python",
   "name": "python",
   "nbconvert_exporter": "python",
   "pygments_lexer": "ipython3",
   "version": "3.8.10"
  },
  "orig_nbformat": 4,
  "vscode": {
   "interpreter": {
    "hash": "e0144baad0ecee903f108a3e46e51ceadd7da3fc904cfa79747d813b61464b4e"
   }
  }
 },
 "nbformat": 4,
 "nbformat_minor": 2
}
