{
 "cells": [
  {
   "cell_type": "markdown",
   "metadata": {},
   "source": [
    "# LCR 039. 柱状图中最大的矩形 (hard)\n",
    "\n",
    "给定非负整数数组 heights ，数组中的数字用来表示柱状图中各个柱子的高度。每个柱子彼此相邻，且宽度为 1 。\n",
    "\n",
    "求在该柱状图中，能够勾勒出来的矩形的最大面积。\n",
    "\n",
    "\n",
    "示例 1:\n",
    "\n",
    "![](https://assets.leetcode.com/uploads/2021/01/04/histogram.jpg)\n",
    "\n",
    "```\n",
    "输入：heights = [2,1,5,6,2,3]\n",
    "输出：10\n",
    "解释：最大的矩形为图中红色区域，面积为 10\n",
    "```\n",
    "示例 2：\n",
    "\n",
    "![](https://assets.leetcode.com/uploads/2021/01/04/histogram-1.jpg)\n",
    "\n",
    "```\n",
    "输入： heights = [2,4]\n",
    "输出： 4\n",
    "``` \n",
    "\n",
    "提示：\n",
    "```\n",
    "1 <= heights.length <=10^5\n",
    "0 <= heights[i] <= 10^4\n",
    "``` \n",
    "\n",
    "注意：本题与主站 84 题相同： https://leetcode-cn.com/problems/largest-rectangle-in-histogram/"
   ]
  },
  {
   "cell_type": "code",
   "execution_count": 1,
   "metadata": {},
   "outputs": [],
   "source": [
    "from typing import List"
   ]
  },
  {
   "cell_type": "code",
   "execution_count": 2,
   "metadata": {},
   "outputs": [
    {
     "name": "stdout",
     "output_type": "stream",
     "text": [
      "10\n",
      "3\n",
      "4\n"
     ]
    }
   ],
   "source": [
    "# 方法一：找最低，左右递归\n",
    "class Solution:\n",
    "    def largestRectangleArea(self, heights: List[int]) -> int:\n",
    "        if heights.count(heights[0]) == len(heights): return heights[0] * len(heights)\n",
    "\n",
    "        def maxArea(hs: List[int], start: int, end: int) -> int:\n",
    "            # len=0\n",
    "            if start == end: return 0\n",
    "            # len=1\n",
    "            if start + 1 == end: return hs[start]\n",
    "            # others\n",
    "            minidx = start\n",
    "            minhight = hs[start]\n",
    "            for i in range(start + 1, end):\n",
    "                if hs[i] < minhight:\n",
    "                    minidx = i\n",
    "                    minhight = hs[i]\n",
    "            minareacurr = minhight * (end - start)\n",
    "            minarealeft = maxArea(hs, start, minidx)\n",
    "            minarearight = maxArea(hs, minidx + 1, end)\n",
    "            return max(minareacurr, minarealeft, minarearight)\n",
    "\n",
    "        return maxArea(heights, 0, len(heights))\n",
    "\n",
    "\n",
    "print(Solution().largestRectangleArea([2, 1, 5, 6, 2, 3]))\n",
    "print(Solution().largestRectangleArea([2, 1, 2]))\n",
    "print(Solution().largestRectangleArea([2, 4]))"
   ]
  },
  {
   "cell_type": "code",
   "execution_count": 3,
   "metadata": {},
   "outputs": [
    {
     "name": "stdout",
     "output_type": "stream",
     "text": [
      "10\n",
      "3\n",
      "4\n"
     ]
    }
   ],
   "source": [
    "# 方法二，单调栈\n",
    "class Solution:\n",
    "    def largestRectangleArea(self, heights: List[int]) -> int:\n",
    "        upstack = [-1]\n",
    "        maxArea = 0\n",
    "        for i in range(len(heights)):\n",
    "            while upstack[-1] != -1 and heights[upstack[-1]] >= heights[i]:\n",
    "                height = heights[upstack.pop()]\n",
    "                # 右矮子idx - 左矮子idx - 1\n",
    "                width = i - upstack[-1] - 1\n",
    "                maxArea = max(maxArea, height * width)\n",
    "            upstack.append(i)\n",
    "        while upstack[-1] != -1:\n",
    "            height = heights[upstack.pop()]\n",
    "            width = len(heights) - upstack[-1] - 1\n",
    "            maxArea = max(maxArea, height * width)\n",
    "        return maxArea\n",
    "\n",
    "\n",
    "print(Solution().largestRectangleArea([2, 1, 5, 6, 2, 3]))\n",
    "print(Solution().largestRectangleArea([2, 1, 2]))\n",
    "print(Solution().largestRectangleArea([2, 4]))"
   ]
  },
  {
   "cell_type": "code",
   "execution_count": 4,
   "metadata": {},
   "outputs": [
    {
     "name": "stdout",
     "output_type": "stream",
     "text": [
      "10\n",
      "3\n",
      "4\n"
     ]
    }
   ],
   "source": [
    "# 方法三，方法2优化\n",
    "class Solution:\n",
    "    def largestRectangleArea(self, heights: List[int]) -> int:\n",
    "        stack = [(-1,-1)] # idx, hight\n",
    "        H = heights+[0]   # len+1\n",
    "        ans = 0\n",
    "        for i, h in enumerate(H):\n",
    "            while stack[-1][1] > h:\n",
    "                s = stack.pop()[1] * (i - stack[-1][0] - 1) # h * w\n",
    "                ans = max(ans, s)\n",
    "            stack.append((i, h))\n",
    "        return ans\n",
    "\n",
    "\n",
    "print(Solution().largestRectangleArea([2, 1, 5, 6, 2, 3]))\n",
    "print(Solution().largestRectangleArea([2, 1, 2]))\n",
    "print(Solution().largestRectangleArea([2, 4]))"
   ]
  }
 ],
 "metadata": {
  "kernelspec": {
   "display_name": "Python 3.8.10 64-bit",
   "language": "python",
   "name": "python3"
  },
  "language_info": {
   "codemirror_mode": {
    "name": "ipython",
    "version": 3
   },
   "file_extension": ".py",
   "mimetype": "text/x-python",
   "name": "python",
   "nbconvert_exporter": "python",
   "pygments_lexer": "ipython3",
   "version": "3.8.10"
  },
  "orig_nbformat": 4,
  "vscode": {
   "interpreter": {
    "hash": "e0144baad0ecee903f108a3e46e51ceadd7da3fc904cfa79747d813b61464b4e"
   }
  }
 },
 "nbformat": 4,
 "nbformat_minor": 2
}
