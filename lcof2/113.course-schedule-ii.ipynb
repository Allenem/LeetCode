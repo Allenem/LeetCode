{
 "cells": [
  {
   "cell_type": "markdown",
   "metadata": {},
   "source": [
    "# LCR 113. 课程表 II (medium)\n",
    "\n",
    "现在总共有 numCourses 门课需要选，记为 0 到 numCourses-1。\n",
    "\n",
    "给定一个数组 prerequisites ，它的每一个元素 prerequisites[i] 表示两门课程之间的先修顺序。 例如 prerequisites[i] = [ai, bi] 表示想要学习课程 ai ，需要先完成课程 bi 。\n",
    "\n",
    "请根据给出的总课程数  numCourses 和表示先修顺序的 prerequisites 得出一个可行的修课序列。\n",
    "\n",
    "可能会有多个正确的顺序，只要任意返回一种就可以了。如果不可能完成所有课程，返回一个空数组。\n",
    "\n",
    "示例 1:\n",
    "```\n",
    "输入: numCourses = 2, prerequisites = [[1,0]] \n",
    "输出: [0,1]\n",
    "解释: 总共有 2 门课程。要学习课程 1，你需要先完成课程 0。因此，正确的课程顺序为 [0,1] 。\n",
    "```\n",
    "示例 2:\n",
    "```\n",
    "输入: numCourses = 4, prerequisites = [[1,0],[2,0],[3,1],[3,2]]\n",
    "输出: [0,1,2,3] or [0,2,1,3]\n",
    "解释: 总共有 4 门课程。要学习课程 3，你应该先完成课程 1 和课程 2。并且课程 1 和课程 2 都应该排在课程 0 之后。\n",
    " 因此，一个正确的课程顺序是 [0,1,2,3] 。另一个正确的排序是 [0,2,1,3] 。\n",
    "```\n",
    "示例 3:\n",
    "```\n",
    "输入: numCourses = 1, prerequisites = [] \n",
    "输出: [0]\n",
    "解释: 总共 1 门课，直接修第一门课就可。\n",
    "``` \n",
    "\n",
    "提示:\n",
    "```\n",
    "1 <= numCourses <= 2000\n",
    "0 <= prerequisites.length <= numCourses * (numCourses - 1)\n",
    "prerequisites[i].length == 2\n",
    "0 <= ai, bi < numCourses\n",
    "ai != bi\n",
    "prerequisites 中不存在重复元素\n",
    "``` \n",
    "\n",
    "注意：本题与主站 210 题相同：https://leetcode-cn.com/problems/course-schedule-ii/"
   ]
  },
  {
   "cell_type": "code",
   "execution_count": 1,
   "metadata": {},
   "outputs": [
    {
     "name": "stdout",
     "output_type": "stream",
     "text": [
      "[0, 1]\n",
      "[0, 1, 2, 3]\n",
      "[0]\n",
      "[]\n"
     ]
    }
   ],
   "source": [
    "# bfs+graph\n",
    "from collections import defaultdict\n",
    "from typing import List\n",
    "class Solution:\n",
    "    def findOrder(self, numCourses: int, prerequisites: List[List[int]]) -> List[int]:\n",
    "        graph = defaultdict(list)\n",
    "        ind = [0] * numCourses\n",
    "        ret = []\n",
    "        for p0, p1 in prerequisites:\n",
    "            graph[p1].append(p0)\n",
    "            ind[p0] += 1\n",
    "        q = [c for c in range(numCourses) if ind[c] == 0]\n",
    "        while q:\n",
    "            c = q.pop(0)\n",
    "            ret.append(c)\n",
    "            for nxt in graph[c]:\n",
    "                ind[nxt] -= 1\n",
    "                if ind[nxt] == 0:\n",
    "                    q.append(nxt)\n",
    "        return ret if len(ret) == numCourses else []\n",
    "\n",
    "print(Solution().findOrder(2, [[1,0]]))\n",
    "print(Solution().findOrder(4, [[1,0],[2,0],[3,1],[3,2]]))\n",
    "print(Solution().findOrder(1, []))\n",
    "print(Solution().findOrder(2, [[1,0],[0,1]]))"
   ]
  }
 ],
 "metadata": {
  "kernelspec": {
   "display_name": "Python 3.8.10 64-bit",
   "language": "python",
   "name": "python3"
  },
  "language_info": {
   "codemirror_mode": {
    "name": "ipython",
    "version": 3
   },
   "file_extension": ".py",
   "mimetype": "text/x-python",
   "name": "python",
   "nbconvert_exporter": "python",
   "pygments_lexer": "ipython3",
   "version": "3.8.10"
  },
  "orig_nbformat": 4,
  "vscode": {
   "interpreter": {
    "hash": "e0144baad0ecee903f108a3e46e51ceadd7da3fc904cfa79747d813b61464b4e"
   }
  }
 },
 "nbformat": 4,
 "nbformat_minor": 2
}
