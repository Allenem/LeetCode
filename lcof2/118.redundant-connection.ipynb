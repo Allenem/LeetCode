{
 "cells": [
  {
   "cell_type": "markdown",
   "metadata": {},
   "source": [
    "# LCR 118. 冗余连接 (medium)\n",
    "\n",
    "树可以看成是一个连通且 无环 的 无向 图。\n",
    "\n",
    "给定往一棵 n 个节点 (节点值 1～n) 的树中添加一条边后的图。添加的边的两个顶点包含在 1 到 n 中间，且这条附加的边不属于树中已存在的边。图的信息记录于长度为 n 的二维数组 edges ，edges[i] = [ai, bi] 表示图中在 ai 和 bi 之间存在一条边。\n",
    "\n",
    "请找出一条可以删去的边，删除后可使得剩余部分是一个有着 n 个节点的树。如果有多个答案，则返回数组 edges 中最后出现的边。\n",
    "\n",
    "示例 1：\n",
    "\n",
    "![](https://pic.leetcode-cn.com/1626676174-hOEVUL-image.png)\n",
    "\n",
    "```\n",
    "输入: edges = [[1,2],[1,3],[2,3]]\n",
    "输出: [2,3]\n",
    "```\n",
    "示例 2：\n",
    "\n",
    "![](https://pic.leetcode-cn.com/1626676179-kGxcmu-image.png)\n",
    "\n",
    "```\n",
    "输入: edges = [[1,2],[2,3],[3,4],[1,4],[1,5]]\n",
    "输出: [1,4]\n",
    "``` \n",
    "\n",
    "提示:\n",
    "```\n",
    "n == edges.length\n",
    "3 <= n <= 1000\n",
    "edges[i].length == 2\n",
    "1 <= ai < bi <= edges.length\n",
    "ai != bi\n",
    "edges 中无重复元素\n",
    "给定的图是连通的 \n",
    "``` \n",
    "\n",
    "注意：本题与主站 684 题相同： https://leetcode-cn.com/problems/redundant-connection/"
   ]
  },
  {
   "cell_type": "code",
   "execution_count": 1,
   "metadata": {},
   "outputs": [
    {
     "name": "stdout",
     "output_type": "stream",
     "text": [
      "[2, 3]\n",
      "[1, 4]\n"
     ]
    }
   ],
   "source": [
    "# uf\n",
    "from typing import List\n",
    "class Solution:\n",
    "    def findRedundantConnection(self, edges: List[List[int]]) -> List[int]:\n",
    "        n = len(edges)\n",
    "        pa = list(range(n+1))\n",
    "\n",
    "        def find(x):\n",
    "            if pa[x] != x:\n",
    "                pa[x] = find(pa[x])\n",
    "            return pa[x]\n",
    "        \n",
    "        def union(x, y):\n",
    "            pa[find(x)] = find(y)\n",
    "        \n",
    "        for e1, e2 in edges:\n",
    "            if find(e1) != find(e2):\n",
    "                union(e1, e2)\n",
    "            else:\n",
    "                return [e1, e2]\n",
    "        return []\n",
    "\n",
    "print(Solution().findRedundantConnection([[1,2],[1,3],[2,3]]))\n",
    "print(Solution().findRedundantConnection([[1,2],[2,3],[3,4],[1,4],[1,5]]))"
   ]
  }
 ],
 "metadata": {
  "kernelspec": {
   "display_name": "Python 3.8.10 64-bit",
   "language": "python",
   "name": "python3"
  },
  "language_info": {
   "codemirror_mode": {
    "name": "ipython",
    "version": 3
   },
   "file_extension": ".py",
   "mimetype": "text/x-python",
   "name": "python",
   "nbconvert_exporter": "python",
   "pygments_lexer": "ipython3",
   "version": "3.8.10"
  },
  "orig_nbformat": 4,
  "vscode": {
   "interpreter": {
    "hash": "e0144baad0ecee903f108a3e46e51ceadd7da3fc904cfa79747d813b61464b4e"
   }
  }
 },
 "nbformat": 4,
 "nbformat_minor": 2
}
