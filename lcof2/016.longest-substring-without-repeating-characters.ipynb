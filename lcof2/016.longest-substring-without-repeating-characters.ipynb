{
 "cells": [
  {
   "cell_type": "markdown",
   "metadata": {},
   "source": [
    "# LCR 016. 无重复字符的最长子串 (easy)\n",
    "\n",
    "给定一个字符串 s ，请你找出其中不含有重复字符的 最长连续子字符串 的长度。\n",
    "\n",
    "\n",
    "示例 1:\n",
    "```\n",
    "输入: s = \"abcabcbb\"\n",
    "输出: 3 \n",
    "解释: 因为无重复字符的最长子字符串是 \"abc\"，所以其长度为 3。\n",
    "```\n",
    "示例 2:\n",
    "```\n",
    "输入: s = \"bbbbb\"\n",
    "输出: 1\n",
    "解释: 因为无重复字符的最长子字符串是 \"b\"，所以其长度为 1。\n",
    "```\n",
    "示例 3:\n",
    "```\n",
    "输入: s = \"pwwkew\"\n",
    "输出: 3\n",
    "解释: 因为无重复字符的最长子串是 \"wke\"，所以其长度为 3。\n",
    "     请注意，你的答案必须是 子串 的长度，\"pwke\" 是一个子序列，不是子串。\n",
    "```\n",
    "示例 4:\n",
    "```\n",
    "输入: s = \"\"\n",
    "输出: 0\n",
    "``` \n",
    "\n",
    "提示：\n",
    "```\n",
    "0 <= s.length <= 5 * 104\n",
    "s 由英文字母、数字、符号和空格组成\n",
    "``` \n",
    "\n",
    "注意：本题与主站 3 题相同： https://leetcode-cn.com/problems/longest-substring-without-repeating-characters/"
   ]
  },
  {
   "cell_type": "code",
   "execution_count": 1,
   "metadata": {},
   "outputs": [
    {
     "name": "stdout",
     "output_type": "stream",
     "text": [
      "3\n",
      "1\n",
      "3\n",
      "0\n"
     ]
    }
   ],
   "source": [
    "# 解法一：stack\n",
    "\n",
    "class Solution:\n",
    "    def lengthOfLongestSubstring(self, s: str) -> int:\n",
    "        stack = []\n",
    "        maxlen = 0\n",
    "        for i in range(len(s)):\n",
    "            if s[i] in stack:\n",
    "                idx = stack.index(s[i])\n",
    "                for _ in range(idx+1): stack.pop(0)\n",
    "            stack.append(s[i])\n",
    "            maxlen = max(len(stack), maxlen)\n",
    "        return maxlen\n",
    "\n",
    "\n",
    "print(Solution().lengthOfLongestSubstring(\"abcabcbb\"))\n",
    "print(Solution().lengthOfLongestSubstring(\"bbbbb\"))\n",
    "print(Solution().lengthOfLongestSubstring(\"pwwkew\"))\n",
    "print(Solution().lengthOfLongestSubstring(\"\"))"
   ]
  },
  {
   "cell_type": "code",
   "execution_count": 2,
   "metadata": {},
   "outputs": [
    {
     "name": "stdout",
     "output_type": "stream",
     "text": [
      "3\n",
      "1\n",
      "3\n",
      "0\n"
     ]
    }
   ],
   "source": [
    "# 解法二：滑动窗口+哈希表\n",
    "from collections import defaultdict\n",
    "class Solution:\n",
    "    def lengthOfLongestSubstring(self, s: str) -> int:\n",
    "        ma, d = 0, defaultdict(int)\n",
    "        l, r = 0, 0\n",
    "        while r < len(s):\n",
    "            d[s[r]] += 1\n",
    "            while d[s[r]] > 1:\n",
    "                d[s[l]] -= 1\n",
    "                l += 1\n",
    "            ma = max(ma, r - l + 1)\n",
    "            r += 1\n",
    "        return ma\n",
    "\n",
    "\n",
    "print(Solution().lengthOfLongestSubstring(\"abcabcbb\"))\n",
    "print(Solution().lengthOfLongestSubstring(\"bbbbb\"))\n",
    "print(Solution().lengthOfLongestSubstring(\"pwwkew\"))\n",
    "print(Solution().lengthOfLongestSubstring(\"\"))"
   ]
  }
 ],
 "metadata": {
  "kernelspec": {
   "display_name": "Python 3.8.10 64-bit",
   "language": "python",
   "name": "python3"
  },
  "language_info": {
   "codemirror_mode": {
    "name": "ipython",
    "version": 3
   },
   "file_extension": ".py",
   "mimetype": "text/x-python",
   "name": "python",
   "nbconvert_exporter": "python",
   "pygments_lexer": "ipython3",
   "version": "3.8.10"
  },
  "orig_nbformat": 4,
  "vscode": {
   "interpreter": {
    "hash": "e0144baad0ecee903f108a3e46e51ceadd7da3fc904cfa79747d813b61464b4e"
   }
  }
 },
 "nbformat": 4,
 "nbformat_minor": 2
}
