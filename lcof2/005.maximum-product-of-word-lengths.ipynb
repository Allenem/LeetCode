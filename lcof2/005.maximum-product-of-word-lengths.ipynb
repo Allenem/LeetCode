{
 "cells": [
  {
   "cell_type": "markdown",
   "metadata": {},
   "source": [
    "# LCR 005. 最大单词长度乘积 (medium)\n",
    "\n",
    "给定一个字符串数组 words，请计算当两个字符串 words[i] 和 words[j] 不包含相同字符时，它们长度的乘积的最大值。假设字符串中只包含英语的小写字母。如果没有不包含相同字符的一对字符串，返回 0。\n",
    "\n",
    "\n",
    "示例 1:\n",
    "```\n",
    "输入: words = [\"abcw\",\"baz\",\"foo\",\"bar\",\"fxyz\",\"abcdef\"]\n",
    "输出: 16 \n",
    "解释: 这两个单词为 \"abcw\", \"fxyz\"。它们不包含相同字符，且长度的乘积最大。\n",
    "```\n",
    "示例 2:\n",
    "```\n",
    "输入: words = [\"a\",\"ab\",\"abc\",\"d\",\"cd\",\"bcd\",\"abcd\"]\n",
    "输出: 4 \n",
    "解释: 这两个单词为 \"ab\", \"cd\"。\n",
    "```\n",
    "示例 3:\n",
    "```\n",
    "输入: words = [\"a\",\"aa\",\"aaa\",\"aaaa\"]\n",
    "输出: 0 \n",
    "解释: 不存在这样的两个单词。\n",
    "```\n",
    "\n",
    "提示：\n",
    "```\n",
    "2 <= words.length <= 1000\n",
    "1 <= words[i].length <= 1000\n",
    "words[i] 仅包含小写字母\n",
    "```\n",
    "\n",
    "注意：本题与主站 318 题相同：https://leetcode-cn.com/problems/maximum-product-of-word-lengths/\n",
    "\n",
    "来源：力扣（LeetCode）\n",
    "链接：https://leetcode.cn/problems/aseY1I\n",
    "著作权归领扣网络所有。商业转载请联系官方授权，非商业转载请注明出处。"
   ]
  },
  {
   "cell_type": "code",
   "execution_count": 1,
   "metadata": {},
   "outputs": [
    {
     "name": "stdout",
     "output_type": "stream",
     "text": [
      "16\n",
      "4\n",
      "0\n"
     ]
    }
   ],
   "source": [
    "# 很难\n",
    "from typing import List\n",
    "from collections import defaultdict\n",
    "from functools import reduce\n",
    "from itertools import product\n",
    "class Solution:\n",
    "    def maxProduct(self, words: List[str]) -> int:\n",
    "        masks = defaultdict(int)\n",
    "        for word in words:\n",
    "            # reduce(function, iterable[, initializer]), ord() function return ASCII number, one word has one mask\n",
    "            # mask每一位0~25位为1代表该word有这个字母，只有两个mask不同，即不包含相同字符&操作后才为0\n",
    "            mask = reduce(lambda x, y: x|1<<(ord(y)-ord('a')), word, 0)\n",
    "            # dict masks，哈希表 masks[mask] 只存具有相同mask的最长word的长度。eg.meet,met,masks[mask] = 4\n",
    "            masks[mask] = max(masks[mask], len(word))\n",
    "        # product(A, B)函数,返回A和B中的元素组成的笛卡尔积的元组\n",
    "        return max((masks[x]*masks[y] for x, y in product(masks, repeat=2) if x & y == 0), default=0)\n",
    "\n",
    "\n",
    "print(Solution().maxProduct([\"abcw\",\"baz\",\"foo\",\"bar\",\"xtfn\",\"abcdef\"]))\n",
    "print(Solution().maxProduct([\"a\",\"ab\",\"abc\",\"d\",\"cd\",\"bcd\",\"abcd\"]))\n",
    "print(Solution().maxProduct([\"a\",\"aa\",\"aaa\",\"aaaa\"]))"
   ]
  }
 ],
 "metadata": {
  "kernelspec": {
   "display_name": "Python 3.8.10 64-bit",
   "language": "python",
   "name": "python3"
  },
  "language_info": {
   "codemirror_mode": {
    "name": "ipython",
    "version": 3
   },
   "file_extension": ".py",
   "mimetype": "text/x-python",
   "name": "python",
   "nbconvert_exporter": "python",
   "pygments_lexer": "ipython3",
   "version": "3.8.10"
  },
  "orig_nbformat": 4,
  "vscode": {
   "interpreter": {
    "hash": "e0144baad0ecee903f108a3e46e51ceadd7da3fc904cfa79747d813b61464b4e"
   }
  }
 },
 "nbformat": 4,
 "nbformat_minor": 2
}
