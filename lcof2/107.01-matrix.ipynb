{
 "cells": [
  {
   "cell_type": "markdown",
   "metadata": {},
   "source": [
    "# LCR 107. 01 矩阵 (medium)\n",
    "\n",
    "给定一个由 0 和 1 组成的矩阵 mat ，请输出一个大小相同的矩阵，其中每一个格子是 mat 中对应位置元素到最近的 0 的距离。\n",
    "\n",
    "两个相邻元素间的距离为 1 。\n",
    "\n",
    "示例 1：\n",
    "\n",
    "0|0|0\n",
    "-|-|-\n",
    "0|1|0\n",
    "0|0|0\n",
    "\n",
    "```\n",
    "输入：mat = [[0,0,0],[0,1,0],[0,0,0]]\n",
    "输出：[[0,0,0],[0,1,0],[0,0,0]]\n",
    "```\n",
    "示例 2：\n",
    "\n",
    "0|0|0\n",
    "-|-|-\n",
    "0|1|0\n",
    "1|1|1\n",
    "\n",
    "```\n",
    "输入：mat = [[0,0,0],[0,1,0],[1,1,1]]\n",
    "输出：[[0,0,0],[0,1,0],[1,2,1]]\n",
    "``` \n",
    "\n",
    "提示：\n",
    "```\n",
    "m == mat.length\n",
    "n == mat[i].length\n",
    "1 <= m, n <= 10^4\n",
    "1 <= m * n <= 10^4\n",
    "mat[i][j] is either 0 or 1.\n",
    "mat 中至少有一个 0 \n",
    "``` \n",
    "\n",
    "注意：本题与主站 542 题相同：https://leetcode-cn.com/problems/01-matrix/"
   ]
  },
  {
   "cell_type": "code",
   "execution_count": 1,
   "metadata": {},
   "outputs": [
    {
     "name": "stdout",
     "output_type": "stream",
     "text": [
      "[[0, 0, 0], [0, 1, 0], [0, 0, 0]]\n",
      "[[0, 0, 0], [0, 1, 0], [1, 2, 1]]\n"
     ]
    }
   ],
   "source": [
    "from typing import List\n",
    "from collections import deque\n",
    "# BFS\n",
    "class Solution:\n",
    "    def updateMatrix(self, mat: List[List[int]]) -> List[List[int]]:\n",
    "        m, n = len(mat), len(mat[0])\n",
    "        dist = [[0] * n for _ in range(m)]\n",
    "        mat_zero = [(i, j) for i in range(m) for j in range(n) if mat[i][j] == 0]\n",
    "        q = deque(mat_zero)\n",
    "        seen = set(mat_zero)\n",
    "\n",
    "        while q:\n",
    "            (i, j) = q.popleft()\n",
    "            for ni, nj in [i-1, j], [i+1, j], [i, j-1], [i, j+1]:\n",
    "                if 0 <= ni < m and 0 <= nj < n and (ni, nj) not in seen:\n",
    "                    dist[ni][nj] = dist[i][j] + 1\n",
    "                    q.append((ni, nj))\n",
    "                    seen.add((ni, nj))\n",
    "\n",
    "        return dist\n",
    "\n",
    "print(Solution().updateMatrix([[0,0,0],[0,1,0],[0,0,0]]))\n",
    "print(Solution().updateMatrix([[0,0,0],[0,1,0],[1,1,1]]))"
   ]
  },
  {
   "cell_type": "code",
   "execution_count": 2,
   "metadata": {},
   "outputs": [
    {
     "name": "stdout",
     "output_type": "stream",
     "text": [
      "[[0, 0, 0], [0, 1, 0], [0, 0, 0]]\n",
      "[[0, 0, 0], [0, 1, 0], [1, 2, 1]]\n"
     ]
    }
   ],
   "source": [
    "# DP: left-top to right-bottom and right-bottom to left-top, 2 passes\n",
    "class Solution:\n",
    "    def updateMatrix(self, mat: List[List[int]]) -> List[List[int]]:\n",
    "        m, n = len(mat), len(mat[0])\n",
    "        dist = [[float('inf')] * n for _ in range(m)]\n",
    "\n",
    "        # left-top to right-bottom\n",
    "        for i in range(m):\n",
    "            for j in range(n):\n",
    "                if mat[i][j] == 0:\n",
    "                    dist[i][j] = 0\n",
    "                else:\n",
    "                    if i > 0:\n",
    "                        dist[i][j] = min(dist[i][j], dist[i-1][j] + 1)\n",
    "                    if j > 0:\n",
    "                        dist[i][j] = min(dist[i][j], dist[i][j-1] + 1)\n",
    "\n",
    "        # right-bottom to left-top\n",
    "        for i in range(m-1, -1, -1):\n",
    "            for j in range(n-1, -1, -1):\n",
    "                if mat[i][j] == 0:\n",
    "                    dist[i][j] = 0\n",
    "                else:\n",
    "                    if i < m-1:\n",
    "                        dist[i][j] = min(dist[i][j], dist[i+1][j] + 1)\n",
    "                    if j < n-1:\n",
    "                        dist[i][j] = min(dist[i][j], dist[i][j+1] + 1)\n",
    "\n",
    "        return dist\n",
    "\n",
    "print(Solution().updateMatrix([[0,0,0],[0,1,0],[0,0,0]]))\n",
    "print(Solution().updateMatrix([[0,0,0],[0,1,0],[1,1,1]]))"
   ]
  }
 ],
 "metadata": {
  "kernelspec": {
   "display_name": "Python 3.8.10 64-bit",
   "language": "python",
   "name": "python3"
  },
  "language_info": {
   "codemirror_mode": {
    "name": "ipython",
    "version": 3
   },
   "file_extension": ".py",
   "mimetype": "text/x-python",
   "name": "python",
   "nbconvert_exporter": "python",
   "pygments_lexer": "ipython3",
   "version": "3.8.10"
  },
  "orig_nbformat": 4,
  "vscode": {
   "interpreter": {
    "hash": "e0144baad0ecee903f108a3e46e51ceadd7da3fc904cfa79747d813b61464b4e"
   }
  }
 },
 "nbformat": 4,
 "nbformat_minor": 2
}
