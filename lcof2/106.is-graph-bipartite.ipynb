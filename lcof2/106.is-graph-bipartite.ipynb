{
 "cells": [
  {
   "cell_type": "markdown",
   "metadata": {},
   "source": [
    "# LCR 106. 判断二分图 (medium)\n",
    "\n",
    "存在一个 无向图 ，图中有 n 个节点。其中每个节点都有一个介于 0 到 n - 1 之间的唯一编号。\n",
    "\n",
    "给定一个二维数组 graph ，表示图，其中 graph[u] 是一个节点数组，由节点 u 的邻接节点组成。形式上，对于 graph[u] 中的每个 v ，都存在一条位于节点 u 和节点 v 之间的无向边。该无向图同时具有以下属性：\n",
    "\n",
    "- 不存在自环（graph[u] 不包含 u）。\n",
    "- 不存在平行边（graph[u] 不包含重复值）。\n",
    "- 如果 v 在 graph[u] 内，那么 u 也应该在 graph[v] 内（该图是无向图）\n",
    "- 这个图可能不是连通图，也就是说两个节点 u 和 v 之间可能不存在一条连通彼此的路径。\n",
    "\n",
    "二分图 定义：如果能将一个图的节点集合分割成两个独立的子集 A 和 B ，并使图中的每一条边的两个节点一个来自 A 集合，一个来自 B 集合，就将这个图称为 二分图 。\n",
    "\n",
    "如果图是二分图，返回 true ；否则，返回 false 。\n",
    "\n",
    "示例 1：\n",
    "\n",
    "![](https://assets.leetcode.com/uploads/2020/10/21/bi2.jpg)\n",
    "```\n",
    "输入：graph = [[1,2,3],[0,2],[0,1,3],[0,2]]\n",
    "输出：false\n",
    "解释：不能将节点分割成两个独立的子集，以使每条边都连通一个子集中的一个节点与另一个子集中的一个节点。\n",
    "```\n",
    "示例 2：\n",
    "\n",
    "![](https://assets.leetcode.com/uploads/2020/10/21/bi1.jpg)\n",
    "```\n",
    "输入：graph = [[1,3],[0,2],[1,3],[0,2]]\n",
    "输出：true\n",
    "解释：可以将节点分成两组: {0, 2} 和 {1, 3} 。\n",
    "``` \n",
    "\n",
    "提示：\n",
    "```\n",
    "graph.length == n\n",
    "1 <= n <= 100\n",
    "0 <= graph[u].length < n\n",
    "0 <= graph[u][i] <= n - 1\n",
    "graph[u] 不会包含 u\n",
    "graph[u] 的所有值 互不相同\n",
    "如果 graph[u] 包含 v，那么 graph[v] 也会包含 u\n",
    "``` \n",
    "\n",
    "注意：本题与主站 785 题相同： https://leetcode-cn.com/problems/is-graph-bipartite/"
   ]
  },
  {
   "cell_type": "code",
   "execution_count": 1,
   "metadata": {},
   "outputs": [
    {
     "name": "stdout",
     "output_type": "stream",
     "text": [
      "False\n",
      "True\n"
     ]
    }
   ],
   "source": [
    "from typing import List\n",
    "# DFS\n",
    "class Solution:\n",
    "    def isBipartite(self, graph: List[List[int]]) -> bool:\n",
    "        def dfs(i, colori):\n",
    "            nonlocal flag\n",
    "            color[i] = colori\n",
    "            colornxt = G if colori == R else R\n",
    "            for nxt in graph[i]:\n",
    "                if color[nxt] == U:\n",
    "                    dfs(nxt, colornxt)\n",
    "                    if not flag:\n",
    "                        return\n",
    "                elif color[nxt] != colornxt:\n",
    "                    flag = False\n",
    "                    return\n",
    "        flag, n = True, len(graph)\n",
    "        U, R, G = 0, 1, 2\n",
    "        color = [U] * n\n",
    "        for i in range(n):\n",
    "            if color[i] == U:\n",
    "                dfs(i, R)\n",
    "                if not flag:\n",
    "                    break\n",
    "        return flag\n",
    "\n",
    "print(Solution().isBipartite([[1,2,3], [0,2], [0,1,3], [0,2]]))\n",
    "print(Solution().isBipartite([[1,3], [0,2], [1,3], [0,2]]))\n"
   ]
  },
  {
   "cell_type": "code",
   "execution_count": 2,
   "metadata": {},
   "outputs": [
    {
     "name": "stdout",
     "output_type": "stream",
     "text": [
      "False\n",
      "True\n"
     ]
    }
   ],
   "source": [
    "# BFS\n",
    "class Solution:\n",
    "    def isBipartite(self, graph: List[List[int]]) -> bool:\n",
    "        n = len(graph)\n",
    "        U, R, G = 0, 1, 2\n",
    "        color = [U] * n\n",
    "        for i in range(n):\n",
    "            if color[i] == U:\n",
    "                color[i] = R\n",
    "                q = [i]\n",
    "                while q:\n",
    "                    i = q.pop(0)\n",
    "                    colornxt = G if color[i] == R else R\n",
    "                    for nxt in graph[i]:\n",
    "                        if color[nxt] == U:\n",
    "                            color[nxt] = colornxt\n",
    "                            q.append(nxt)\n",
    "                        elif color[nxt] != colornxt:\n",
    "                            return False\n",
    "        return True\n",
    "\n",
    "print(Solution().isBipartite([[1,2,3], [0,2], [0,1,3], [0,2]]))\n",
    "print(Solution().isBipartite([[1,3], [0,2], [1,3], [0,2]]))"
   ]
  }
 ],
 "metadata": {
  "kernelspec": {
   "display_name": "Python 3.8.10 64-bit",
   "language": "python",
   "name": "python3"
  },
  "language_info": {
   "codemirror_mode": {
    "name": "ipython",
    "version": 3
   },
   "file_extension": ".py",
   "mimetype": "text/x-python",
   "name": "python",
   "nbconvert_exporter": "python",
   "pygments_lexer": "ipython3",
   "version": "3.8.10"
  },
  "orig_nbformat": 4,
  "vscode": {
   "interpreter": {
    "hash": "e0144baad0ecee903f108a3e46e51ceadd7da3fc904cfa79747d813b61464b4e"
   }
  }
 },
 "nbformat": 4,
 "nbformat_minor": 2
}
