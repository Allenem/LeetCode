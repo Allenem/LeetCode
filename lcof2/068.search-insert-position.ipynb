{
 "cells": [
  {
   "cell_type": "markdown",
   "metadata": {},
   "source": [
    "# LCR 068. 搜索插入位置 (easy)\n",
    "\n",
    "给定一个排序的整数数组 nums 和一个整数目标值 target ，请在数组中找到 target ，并返回其下标。如果目标值不存在于数组中，返回它将会被按顺序插入的位置。\n",
    "\n",
    "请必须使用时间复杂度为 O(log n) 的算法。\n",
    "\n",
    "\n",
    "示例 1:\n",
    "```\n",
    "输入: nums = [1,3,5,6], target = 5\n",
    "输出: 2\n",
    "```\n",
    "示例 2:\n",
    "```\n",
    "输入: nums = [1,3,5,6], target = 2\n",
    "输出: 1\n",
    "```\n",
    "示例 3:\n",
    "```\n",
    "输入: nums = [1,3,5,6], target = 7\n",
    "输出: 4\n",
    "```\n",
    "示例 4:\n",
    "```\n",
    "输入: nums = [1,3,5,6], target = 0\n",
    "输出: 0\n",
    "```\n",
    "示例 5:\n",
    "```\n",
    "输入: nums = [1], target = 0\n",
    "输出: 0\n",
    "``` \n",
    "\n",
    "提示:\n",
    "```\n",
    "1 <= nums.length <= 10^4\n",
    "-10^4 <= nums[i] <= 10^4\n",
    "nums 为无重复元素的升序排列数组\n",
    "-10^4 <= target <= 10^4\n",
    "``` \n",
    "\n",
    "注意：本题与主站 35 题相同： https://leetcode-cn.com/problems/search-insert-position/"
   ]
  },
  {
   "cell_type": "code",
   "execution_count": 1,
   "metadata": {},
   "outputs": [
    {
     "name": "stdout",
     "output_type": "stream",
     "text": [
      "2\n",
      "1\n",
      "4\n",
      "0\n",
      "0\n"
     ]
    }
   ],
   "source": [
    "# 方法一二分\n",
    "from typing import List\n",
    "class Solution:\n",
    "    def searchInsert(self, nums: List[int], target: int) -> int:\n",
    "        n = len(nums)\n",
    "        left, right, ans = 0, n-1, n\n",
    "        while left <= right:\n",
    "            mid = (left + right) >> 1\n",
    "            if target <= nums[mid]:\n",
    "                ans = mid\n",
    "                right -= 1\n",
    "            else:\n",
    "                left += 1\n",
    "        return ans\n",
    "        \n",
    "print(Solution().searchInsert([1,3,5,6], 5))\n",
    "print(Solution().searchInsert([1,3,5,6], 2))\n",
    "print(Solution().searchInsert([1,3,5,6], 7))\n",
    "print(Solution().searchInsert([1,3,5,6], 0))\n",
    "print(Solution().searchInsert([1], 0))"
   ]
  },
  {
   "cell_type": "code",
   "execution_count": 2,
   "metadata": {},
   "outputs": [
    {
     "name": "stdout",
     "output_type": "stream",
     "text": [
      "2\n",
      "1\n",
      "4\n",
      "0\n",
      "0\n"
     ]
    }
   ],
   "source": [
    "# 方法二调库二分\n",
    "from typing import List\n",
    "import bisect\n",
    "class Solution:\n",
    "    def searchInsert(self, nums: List[int], target: int) -> int:\n",
    "        return bisect.bisect_left(nums, target)\n",
    "\n",
    "print(Solution().searchInsert([1,3,5,6], 5))\n",
    "print(Solution().searchInsert([1,3,5,6], 2))\n",
    "print(Solution().searchInsert([1,3,5,6], 7))\n",
    "print(Solution().searchInsert([1,3,5,6], 0))\n",
    "print(Solution().searchInsert([1], 0))"
   ]
  }
 ],
 "metadata": {
  "kernelspec": {
   "display_name": "Python 3.8.10 64-bit",
   "language": "python",
   "name": "python3"
  },
  "language_info": {
   "codemirror_mode": {
    "name": "ipython",
    "version": 3
   },
   "file_extension": ".py",
   "mimetype": "text/x-python",
   "name": "python",
   "nbconvert_exporter": "python",
   "pygments_lexer": "ipython3",
   "version": "3.8.10"
  },
  "orig_nbformat": 4,
  "vscode": {
   "interpreter": {
    "hash": "e0144baad0ecee903f108a3e46e51ceadd7da3fc904cfa79747d813b61464b4e"
   }
  }
 },
 "nbformat": 4,
 "nbformat_minor": 2
}
