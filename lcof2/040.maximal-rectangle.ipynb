{
 "cells": [
  {
   "cell_type": "markdown",
   "metadata": {},
   "source": [
    "# LCR 040. 最大矩形 (hard)\n",
    "\n",
    "给定一个由 0 和 1 组成的矩阵 matrix ，找出只包含 1 的最大矩形，并返回其面积。\n",
    "\n",
    "注意：此题 matrix 输入格式为一维 01 字符串数组。\n",
    "\n",
    "\n",
    "示例 1：\n",
    "\n",
    "![](https://assets.leetcode.com/uploads/2020/09/14/maximal.jpg)\n",
    "```\n",
    "输入：matrix = [\"10100\",\"10111\",\"11111\",\"10010\"]\n",
    "输出：6\n",
    "解释：最大矩形如上图所示。\n",
    "```\n",
    "示例 2：\n",
    "```\n",
    "输入：matrix = []\n",
    "输出：0\n",
    "```\n",
    "示例 3：\n",
    "```\n",
    "输入：matrix = [\"0\"]\n",
    "输出：0\n",
    "```\n",
    "示例 4：\n",
    "```\n",
    "输入：matrix = [\"1\"]\n",
    "输出：1\n",
    "```\n",
    "示例 5：\n",
    "```\n",
    "输入：matrix = [\"00\"]\n",
    "输出：0\n",
    "``` \n",
    "\n",
    "提示：\n",
    "```\n",
    "rows == matrix.length\n",
    "cols == matrix[0].length\n",
    "0 <= row, cols <= 200\n",
    "matrix[i][j] 为 '0' 或 '1'\n",
    "``` \n",
    "\n",
    "注意：本题与主站 85 题相同（输入参数格式不同）： https://leetcode-cn.com/problems/maximal-rectangle/"
   ]
  },
  {
   "cell_type": "code",
   "execution_count": 1,
   "metadata": {},
   "outputs": [
    {
     "name": "stdout",
     "output_type": "stream",
     "text": [
      "6\n",
      "6\n",
      "12\n",
      "15\n",
      "20\n",
      "0\n",
      "0\n",
      "1\n",
      "0\n"
     ]
    }
   ],
   "source": [
    "from typing import List\n",
    "class Solution:\n",
    "    def maximalRectangle(self, matrix: List[str]) -> int:\n",
    "        if not matrix: return 0\n",
    "        m, n = len(matrix), len(matrix[0])\n",
    "        dp, ans = [0] * n, 0\n",
    "        for i in range(m):\n",
    "            for j in range(n):\n",
    "                dp[j] = 0 if matrix[i][j] == '0' else dp[j] + 1\n",
    "            ans = max(ans, self.largestRectangleArea(dp))\n",
    "        return ans\n",
    "\n",
    "    def largestRectangleArea(self, heights: List[int]) -> int:\n",
    "        stk, H, ans = [(-1,-1)], heights+[0], 0\n",
    "        for i, h in enumerate(H):\n",
    "            while stk[-1][1] > h:\n",
    "                s = stk.pop()[1] * (i - stk[-1][0] - 1) # h * w\n",
    "                ans = max(ans, s)\n",
    "            stk.append((i, h))\n",
    "        return ans\n",
    "\n",
    "\n",
    "print(Solution().maximalRectangle([\"10100\",\"10111\",\"11111\",\"10010\"]))\n",
    "print(Solution().maximalRectangle([\"10111\",\"01010\",\"11011\",\"11011\",\"01111\"]))\n",
    "print(Solution().maximalRectangle([\"10111\",\"11011\",\"11111\",\"11111\",\"01111\"]))\n",
    "print(Solution().maximalRectangle([\"10111\",\"11011\",\"11111\",\"11111\",\"11111\"]))\n",
    "print(Solution().maximalRectangle([\"10111\",\"11011\",\"11111\",\"11111\",\"11111\",\"11111\"]))\n",
    "print(Solution().maximalRectangle([]))\n",
    "print(Solution().maximalRectangle([\"0\"]))\n",
    "print(Solution().maximalRectangle([\"1\"]))\n",
    "print(Solution().maximalRectangle([\"0\",\"0\"]))"
   ]
  }
 ],
 "metadata": {
  "kernelspec": {
   "display_name": "Python 3.8.10 64-bit",
   "language": "python",
   "name": "python3"
  },
  "language_info": {
   "codemirror_mode": {
    "name": "ipython",
    "version": 3
   },
   "file_extension": ".py",
   "mimetype": "text/x-python",
   "name": "python",
   "nbconvert_exporter": "python",
   "pygments_lexer": "ipython3",
   "version": "3.8.10"
  },
  "orig_nbformat": 4,
  "vscode": {
   "interpreter": {
    "hash": "e0144baad0ecee903f108a3e46e51ceadd7da3fc904cfa79747d813b61464b4e"
   }
  }
 },
 "nbformat": 4,
 "nbformat_minor": 2
}
