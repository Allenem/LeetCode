{
 "cells": [
  {
   "cell_type": "markdown",
   "metadata": {},
   "source": [
    "# LCR 033. 字母异位词分组 (medium)\n",
    "\n",
    "给定一个字符串数组 strs ，将 变位词 组合在一起。 可以按任意顺序返回结果列表。\n",
    "\n",
    "注意：若两个字符串中每个字符出现的次数都相同，则称它们互为变位词。\n",
    "\n",
    "\n",
    "示例 1:\n",
    "```\n",
    "输入: strs = [\"eat\", \"tea\", \"tan\", \"ate\", \"nat\", \"bat\"]\n",
    "输出: [[\"bat\"],[\"nat\",\"tan\"],[\"ate\",\"eat\",\"tea\"]]\n",
    "```\n",
    "示例 2:\n",
    "```\n",
    "输入: strs = [\"\"]\n",
    "输出: [[\"\"]]\n",
    "```\n",
    "示例 3:\n",
    "```\n",
    "输入: strs = [\"a\"]\n",
    "输出: [[\"a\"]]\n",
    "```\n",
    "\n",
    "提示：\n",
    "```\n",
    "1 <= strs.length <= 10^4\n",
    "0 <= strs[i].length <= 100\n",
    "strs[i] 仅包含小写字母\n",
    "``` \n",
    "\n",
    "注意：本题与主站 49 题相同： https://leetcode-cn.com/problems/group-anagrams/"
   ]
  },
  {
   "cell_type": "code",
   "execution_count": 1,
   "metadata": {},
   "outputs": [
    {
     "name": "stdout",
     "output_type": "stream",
     "text": [
      "[['eat', 'tea', 'ate'], ['tan', 'nat'], ['bat']]\n",
      "[['']]\n",
      "[['a']]\n"
     ]
    }
   ],
   "source": [
    "from typing import List\n",
    "from collections import defaultdict\n",
    "class Solution:\n",
    "    def groupAnagrams(self, strs: List[str]) -> List[List[str]]:\n",
    "        d = defaultdict(list)\n",
    "        for s in strs:\n",
    "            k = ''.join(sorted(s))\n",
    "            d[k].append(s)\n",
    "        return list(d.values())\n",
    "\n",
    "\n",
    "print(Solution().groupAnagrams([\"eat\",\"tea\",\"tan\",\"ate\",\"nat\",\"bat\"]))\n",
    "print(Solution().groupAnagrams([\"\"]))\n",
    "print(Solution().groupAnagrams([\"a\"]))"
   ]
  }
 ],
 "metadata": {
  "kernelspec": {
   "display_name": "Python 3.8.10 64-bit",
   "language": "python",
   "name": "python3"
  },
  "language_info": {
   "codemirror_mode": {
    "name": "ipython",
    "version": 3
   },
   "file_extension": ".py",
   "mimetype": "text/x-python",
   "name": "python",
   "nbconvert_exporter": "python",
   "pygments_lexer": "ipython3",
   "version": "3.8.10"
  },
  "orig_nbformat": 4,
  "vscode": {
   "interpreter": {
    "hash": "e0144baad0ecee903f108a3e46e51ceadd7da3fc904cfa79747d813b61464b4e"
   }
  }
 },
 "nbformat": 4,
 "nbformat_minor": 2
}
