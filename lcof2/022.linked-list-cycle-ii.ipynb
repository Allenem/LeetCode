{
 "cells": [
  {
   "cell_type": "markdown",
   "metadata": {},
   "source": [
    "# LCR 022. 环形链表 II (medium)\n",
    "\n",
    "给定一个链表，返回链表开始入环的第一个节点。 从链表的头节点开始沿着 next 指针进入环的第一个节点为环的入口节点。如果链表无环，则返回 null。\n",
    "\n",
    "为了表示给定链表中的环，我们使用整数 pos 来表示链表尾连接到链表中的位置（索引从 0 开始）。 如果 pos 是 -1，则在该链表中没有环。注意，pos 仅仅是用于标识环的情况，并不会作为参数传递到函数中。\n",
    "\n",
    "说明：不允许修改给定的链表。\n",
    "\n",
    "\n",
    "示例 1：\n",
    "\n",
    "![img1](https://assets.leetcode-cn.com/aliyun-lc-upload/uploads/2018/12/07/circularlinkedlist.png)\n",
    "```\n",
    "输入：head = [3,2,0,-4], pos = 1\n",
    "输出：返回索引为 1 的链表节点\n",
    "解释：链表中有一个环，其尾部连接到第二个节点。\n",
    "```\n",
    "示例 2：\n",
    "\n",
    "![img2](https://assets.leetcode-cn.com/aliyun-lc-upload/uploads/2018/12/07/circularlinkedlist_test2.png)\n",
    "```\n",
    "输入：head = [1,2], pos = 0\n",
    "输出：返回索引为 0 的链表节点\n",
    "解释：链表中有一个环，其尾部连接到第一个节点。\n",
    "```\n",
    "示例 3：\n",
    "\n",
    "![img3](https://assets.leetcode-cn.com/aliyun-lc-upload/uploads/2018/12/07/circularlinkedlist_test3.png)\n",
    "```\n",
    "输入：head = [1], pos = -1\n",
    "输出：返回 null\n",
    "解释：链表中没有环。\n",
    "```\n",
    "\n",
    "提示：\n",
    "```\n",
    "链表中节点的数目范围在范围 [0, 104] 内\n",
    "-105 <= Node.val <= 105\n",
    "pos 的值为 -1 或者链表中的一个有效索引\n",
    "```\n",
    "\n",
    "进阶：是否可以使用 O(1) 空间解决此题？\n",
    "\n",
    "\n",
    "注意：本题与主站 142 题相同： https://leetcode-cn.com/problems/linked-list-cycle-ii/"
   ]
  },
  {
   "cell_type": "code",
   "execution_count": null,
   "metadata": {},
   "outputs": [],
   "source": [
    "# 解法一：2次快慢指针\n",
    "\n",
    "# Definition for singly-linked list.\n",
    "class ListNode:\n",
    "    def __init__(self, x):\n",
    "        self.val = x\n",
    "        self.next = None\n",
    "        \n",
    "\n",
    "class Solution:\n",
    "    def detectCycle(self, head: ListNode) -> ListNode:\n",
    "        slow, fast = head, head\n",
    "        while True:\n",
    "            if not (fast and fast.next): return\n",
    "            slow, fast = slow.next, fast.next.next\n",
    "            if fast == slow: break\n",
    "        fast = head\n",
    "        while True:\n",
    "            if fast == slow: return fast\n",
    "            slow, fast = slow.next, fast.next\n"
   ]
  },
  {
   "cell_type": "code",
   "execution_count": null,
   "metadata": {},
   "outputs": [],
   "source": [
    "# 解法二：哈希表\n",
    "class Solution:\n",
    "    def detectCycle(self, head: ListNode) -> ListNode:\n",
    "        seen = set()\n",
    "        while head:\n",
    "            if head in seen: return head\n",
    "            seen.add(head)\n",
    "            head = head.next"
   ]
  }
 ],
 "metadata": {
  "kernelspec": {
   "display_name": "Python 3.8.10 64-bit",
   "language": "python",
   "name": "python3"
  },
  "language_info": {
   "name": "python",
   "version": "3.8.10"
  },
  "orig_nbformat": 4,
  "vscode": {
   "interpreter": {
    "hash": "e0144baad0ecee903f108a3e46e51ceadd7da3fc904cfa79747d813b61464b4e"
   }
  }
 },
 "nbformat": 4,
 "nbformat_minor": 2
}
