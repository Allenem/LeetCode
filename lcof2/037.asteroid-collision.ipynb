{
 "cells": [
  {
   "cell_type": "markdown",
   "metadata": {},
   "source": [
    "# LCR 037. 行星碰撞 (medium)\n",
    "\n",
    "给定一个整数数组 asteroids，表示在同一行的小行星。\n",
    "\n",
    "对于数组中的每一个元素，其绝对值表示小行星的大小，正负表示小行星的移动方向（正表示向右移动，负表示向左移动）。每一颗小行星以相同的速度移动。\n",
    "\n",
    "找出碰撞后剩下的所有小行星。碰撞规则：两个行星相互碰撞，较小的行星会爆炸。如果两颗行星大小相同，则两颗行星都会爆炸。两颗移动方向相同的行星，永远不会发生碰撞。\n",
    "\n",
    "\n",
    "示例 1：\n",
    "```\n",
    "输入：asteroids = [5,10,-5]\n",
    "输出：[5,10]\n",
    "解释：10 和 -5 碰撞后只剩下 10 。 5 和 10 永远不会发生碰撞。\n",
    "```\n",
    "示例 2：\n",
    "```\n",
    "输入：asteroids = [8,-8]\n",
    "输出：[]\n",
    "解释：8 和 -8 碰撞后，两者都发生爆炸。\n",
    "```\n",
    "示例 3：\n",
    "```\n",
    "输入：asteroids = [10,2,-5]\n",
    "输出：[10]\n",
    "解释：2 和 -5 发生碰撞后剩下 -5 。10 和 -5 发生碰撞后剩下 10 。\n",
    "```\n",
    "示例 4：\n",
    "```\n",
    "输入：asteroids = [-2,-1,1,2]\n",
    "输出：[-2,-1,1,2]\n",
    "解释：-2 和 -1 向左移动，而 1 和 2 向右移动。 由于移动方向相同的行星不会发生碰撞，所以最终没有行星发生碰撞。 \n",
    "``` \n",
    "\n",
    "提示：\n",
    "```\n",
    "2 <= asteroids.length <= 10^4\n",
    "-1000 <= asteroids[i] <= 1000\n",
    "asteroids[i] != 0\n",
    "``` \n",
    "\n",
    "注意：本题与主站 735 题相同： https://leetcode-cn.com/problems/asteroid-collision/"
   ]
  },
  {
   "cell_type": "code",
   "execution_count": 2,
   "metadata": {},
   "outputs": [
    {
     "name": "stdout",
     "output_type": "stream",
     "text": [
      "[5, 10]\n",
      "[]\n",
      "[10]\n",
      "[-2, -1, 1, 2]\n"
     ]
    }
   ],
   "source": [
    "from typing import List\n",
    "class Solution:\n",
    "    def asteroidCollision(self, asteroids: List[int]) -> List[int]:\n",
    "        stk, i = [], 0\n",
    "        while i < len(asteroids):\n",
    "            # 无脑入栈：①栈空；②栈顶-（当前-继续左，当前+左右不撞）；③当前+（栈顶-左右不撞，栈顶+继续右）\n",
    "            if not stk or stk[-1] < 0 or asteroids[i] > 0:\n",
    "                stk.append(asteroids[i])\n",
    "            # 相撞判断，当前-：①栈顶>-当前，当前爆炸，下一轮；②栈顶=-当前，都炸，下一轮；③栈顶<-当前，栈顶炸，比较下一个栈顶和当前\n",
    "            elif stk[-1] <= -asteroids[i]:\n",
    "                if stk.pop() < -asteroids[i]:\n",
    "                    continue # ③ i不+1，一直重回while，比较新的栈顶和当前，只有不是continue条件，当前才算被处理i+1\n",
    "            i += 1\n",
    "\n",
    "        return stk\n",
    "\n",
    "\n",
    "print(Solution().asteroidCollision([5, 10, -5]))\n",
    "print(Solution().asteroidCollision([8, -8]))\n",
    "print(Solution().asteroidCollision([10, 2, -5]))\n",
    "print(Solution().asteroidCollision([-2, -1, 1, 2]))\n"
   ]
  }
 ],
 "metadata": {
  "kernelspec": {
   "display_name": "Python 3.8.10 64-bit",
   "language": "python",
   "name": "python3"
  },
  "language_info": {
   "codemirror_mode": {
    "name": "ipython",
    "version": 3
   },
   "file_extension": ".py",
   "mimetype": "text/x-python",
   "name": "python",
   "nbconvert_exporter": "python",
   "pygments_lexer": "ipython3",
   "version": "3.8.10"
  },
  "orig_nbformat": 4,
  "vscode": {
   "interpreter": {
    "hash": "e0144baad0ecee903f108a3e46e51ceadd7da3fc904cfa79747d813b61464b4e"
   }
  }
 },
 "nbformat": 4,
 "nbformat_minor": 2
}
