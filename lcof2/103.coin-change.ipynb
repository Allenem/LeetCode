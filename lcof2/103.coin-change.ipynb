{
 "cells": [
  {
   "cell_type": "markdown",
   "metadata": {},
   "source": [
    "# LCR 103. 零钱兑换 (medium)\n",
    "\n",
    "给定不同面额的硬币 coins 和一个总金额 amount。编写一个函数来计算可以凑成总金额所需的最少的硬币个数。如果没有任何一种硬币组合能组成总金额，返回 -1。\n",
    "\n",
    "你可以认为每种硬币的数量是无限的。\n",
    "\n",
    "示例 1：\n",
    "```\n",
    "输入：coins = [1, 2, 5], amount = 11\n",
    "输出：3 \n",
    "解释：11 = 5 + 5 + 1\n",
    "```\n",
    "示例 2：\n",
    "```\n",
    "输入：coins = [2], amount = 3\n",
    "输出：-1\n",
    "```\n",
    "示例 3：\n",
    "```\n",
    "输入：coins = [1], amount = 0\n",
    "输出：0\n",
    "```\n",
    "示例 4：\n",
    "```\n",
    "输入：coins = [1], amount = 1\n",
    "输出：1\n",
    "```\n",
    "示例 5：\n",
    "```\n",
    "输入：coins = [1], amount = 2\n",
    "输出：2\n",
    "``` \n",
    "\n",
    "提示：\n",
    "```\n",
    "1 <= coins.length <= 12\n",
    "1 <= coins[i] <= 2^31 - 1\n",
    "0 <= amount <= 10^4\n",
    "``` \n",
    "\n",
    "注意：本题与主站 322 题相同： https://leetcode-cn.com/problems/coin-change/"
   ]
  },
  {
   "cell_type": "code",
   "execution_count": 1,
   "metadata": {},
   "outputs": [
    {
     "name": "stdout",
     "output_type": "stream",
     "text": [
      "3\n",
      "-1\n",
      "0\n",
      "1\n",
      "2\n"
     ]
    }
   ],
   "source": [
    "from typing import List\n",
    "class Solution:\n",
    "    def coinChange(self, coins: List[int], amount: int) -> int:\n",
    "        dp = [0] + [float('inf')] * amount # dp[i]表示凑成金额i所需的最少硬币数\n",
    "        for coin in coins:\n",
    "            # 注意这里是顺序，倒序表示硬币不能重复使用，而顺序可以\n",
    "            for x in range(coin, amount+1):\n",
    "                dp[x] = min(dp[x], dp[x-coin] + 1)\n",
    "        return dp[amount] if dp[amount] != float('inf') else -1\n",
    "\n",
    "\n",
    "print(Solution().coinChange([1,2,5], 11))\n",
    "print(Solution().coinChange([2], 3))\n",
    "print(Solution().coinChange([1], 0))\n",
    "print(Solution().coinChange([1], 1))\n",
    "print(Solution().coinChange([1], 2))\n"
   ]
  }
 ],
 "metadata": {
  "kernelspec": {
   "display_name": "Python 3.8.10 64-bit",
   "language": "python",
   "name": "python3"
  },
  "language_info": {
   "codemirror_mode": {
    "name": "ipython",
    "version": 3
   },
   "file_extension": ".py",
   "mimetype": "text/x-python",
   "name": "python",
   "nbconvert_exporter": "python",
   "pygments_lexer": "ipython3",
   "version": "3.8.10"
  },
  "orig_nbformat": 4,
  "vscode": {
   "interpreter": {
    "hash": "e0144baad0ecee903f108a3e46e51ceadd7da3fc904cfa79747d813b61464b4e"
   }
  }
 },
 "nbformat": 4,
 "nbformat_minor": 2
}
