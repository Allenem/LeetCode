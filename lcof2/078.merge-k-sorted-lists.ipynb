{
 "cells": [
  {
   "cell_type": "markdown",
   "metadata": {},
   "source": [
    "# LCR 078. 合并 K 个升序链表 (hard)\n",
    "\n",
    "给定一个链表数组，每个链表都已经按升序排列。\n",
    "\n",
    "请将所有链表合并到一个升序链表中，返回合并后的链表。\n",
    "\n",
    "\n",
    "示例 1：\n",
    "```\n",
    "输入：lists = [[1,4,5],[1,3,4],[2,6]]\n",
    "输出：[1,1,2,3,4,4,5,6]\n",
    "解释：链表数组如下：\n",
    "[\n",
    "  1->4->5,\n",
    "  1->3->4,\n",
    "  2->6\n",
    "]\n",
    "将它们合并到一个有序链表中得到。\n",
    "1->1->2->3->4->4->5->6\n",
    "```\n",
    "示例 2：\n",
    "```\n",
    "输入：lists = []\n",
    "输出：[]\n",
    "```\n",
    "示例 3：\n",
    "```\n",
    "输入：lists = [[]]\n",
    "输出：[]\n",
    "``` \n",
    "\n",
    "提示：\n",
    "```\n",
    "k == lists.length\n",
    "0 <= k <= 10^4\n",
    "0 <= lists[i].length <= 500\n",
    "-10^4 <= lists[i][j] <= 10^4\n",
    "lists[i] 按 升序 排列\n",
    "lists[i].length 的总和不超过 10^4\n",
    "``` \n",
    "\n",
    "注意：本题与主站 23 题相同： https://leetcode-cn.com/problems/merge-k-sorted-lists/"
   ]
  },
  {
   "cell_type": "code",
   "execution_count": 1,
   "metadata": {},
   "outputs": [],
   "source": [
    "# 准备\n",
    "\n",
    "from typing import List\n",
    "# Definition for singly-linked list.\n",
    "class ListNode:\n",
    "    def __init__(self, val=0, next=None):\n",
    "        self.val = val\n",
    "        self.next = next\n",
    "\n",
    "def lst2tree(lst: List[int]) -> ListNode:\n",
    "    if not lst:\n",
    "        return None\n",
    "    head = ListNode(lst[0])\n",
    "    p = head\n",
    "    for i in range(1, len(lst)):\n",
    "        p.next = ListNode(lst[i])\n",
    "        p = p.next\n",
    "    return head\n",
    "\n",
    "def tree2lst(head: ListNode) -> List[int]:\n",
    "    lst = []\n",
    "    p = head\n",
    "    while p:\n",
    "        lst.append(p.val)\n",
    "        p = p.next\n",
    "    return lst"
   ]
  },
  {
   "cell_type": "code",
   "execution_count": 2,
   "metadata": {},
   "outputs": [
    {
     "name": "stdout",
     "output_type": "stream",
     "text": [
      "[1, 1, 2, 3, 4, 4, 5, 6]\n",
      "[]\n",
      "[]\n"
     ]
    }
   ],
   "source": [
    "# 1\n",
    "\n",
    "class Solution:\n",
    "    def mergeKLists(self, lists: List[ListNode]) -> ListNode:\n",
    "        x = None\n",
    "        for l in lists:\n",
    "            x = self.merge2ListNode(x, l)\n",
    "        return x\n",
    "\n",
    "    def merge2ListNode(self, a: ListNode, b: ListNode) -> ListNode:\n",
    "        x = newlistnode = ListNode(-1)\n",
    "        while a and b:\n",
    "            if a.val < b.val:\n",
    "                x.next = a\n",
    "                a = a.next\n",
    "            else:\n",
    "                x.next = b\n",
    "                b = b.next\n",
    "            x = x.next # 每次迭代完，x总置为下一项\n",
    "        x.next = a if a else b\n",
    "        return newlistnode.next\n",
    "\n",
    "\n",
    "print(tree2lst(Solution().mergeKLists([lst2tree([1,4,5]), lst2tree([1,3,4]), lst2tree([2,6])])))\n",
    "print(tree2lst(Solution().mergeKLists([])))\n",
    "print(tree2lst(Solution().mergeKLists([[]])))"
   ]
  },
  {
   "cell_type": "code",
   "execution_count": 3,
   "metadata": {},
   "outputs": [
    {
     "name": "stdout",
     "output_type": "stream",
     "text": [
      "[1, 1, 2, 3, 4, 4, 5, 6]\n",
      "[]\n",
      "[]\n"
     ]
    }
   ],
   "source": [
    "# 2\n",
    "# Definition for singly-linked list.\n",
    "# class ListNode:\n",
    "#     def __init__(self, val=0, next=None):\n",
    "#         self.val = val\n",
    "#         self.next = next\n",
    "from functools import reduce\n",
    "class Solution:\n",
    "    def mergeKLists(self, lists: List[ListNode]) -> ListNode:        \n",
    "        def merge(l1, l2):\n",
    "            if not l1: return l2\n",
    "            if not l2: return l1\n",
    "            if l1.val < l2.val:\n",
    "                l1.next = merge(l1.next, l2)\n",
    "                return l1\n",
    "            else:\n",
    "                l2.next = merge(l1, l2.next)\n",
    "                return l2\n",
    "        ln = ListNode(-1)\n",
    "        lists.append(ln.next)\n",
    "        return reduce(lambda x, y: merge(x, y), lists)\n",
    "\n",
    "print(tree2lst(Solution().mergeKLists([lst2tree([1,4,5]), lst2tree([1,3,4]), lst2tree([2,6])])))\n",
    "print(tree2lst(Solution().mergeKLists([])))\n",
    "print(tree2lst(Solution().mergeKLists([[]])))"
   ]
  }
 ],
 "metadata": {
  "kernelspec": {
   "display_name": "Python 3.8.10 64-bit",
   "language": "python",
   "name": "python3"
  },
  "language_info": {
   "codemirror_mode": {
    "name": "ipython",
    "version": 3
   },
   "file_extension": ".py",
   "mimetype": "text/x-python",
   "name": "python",
   "nbconvert_exporter": "python",
   "pygments_lexer": "ipython3",
   "version": "3.8.10"
  },
  "orig_nbformat": 4,
  "vscode": {
   "interpreter": {
    "hash": "e0144baad0ecee903f108a3e46e51ceadd7da3fc904cfa79747d813b61464b4e"
   }
  }
 },
 "nbformat": 4,
 "nbformat_minor": 2
}
