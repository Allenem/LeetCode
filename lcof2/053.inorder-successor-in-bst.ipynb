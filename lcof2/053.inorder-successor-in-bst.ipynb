{
 "cells": [
  {
   "cell_type": "markdown",
   "metadata": {},
   "source": [
    "# LCR 053. 二叉搜索树中的中序后继 (medium)\n",
    "\n",
    "给定一棵二叉搜索树和其中的一个节点 p ，找到该节点在树中的中序后继。如果节点没有中序后继，请返回 null 。\n",
    "\n",
    "节点 p 的后继是值比 p.val 大的节点中键值最小的节点，即按中序遍历的顺序节点 p 的下一个节点。\n",
    "\n",
    " \n",
    "\n",
    "示例 1：\n",
    "```\n",
    "      2 \n",
    "     / \\ \n",
    "    1   3\n",
    "\n",
    "输入：root = [2,1,3], p = 1\n",
    "输出：2\n",
    "解释：这里 1 的中序后继是 2。请注意 p 和返回值都应是 TreeNode 类型。\n",
    "```\n",
    "示例 2：\n",
    "```\n",
    "      5 \n",
    "     / \\ \n",
    "    3   6 \n",
    "   / \\ \n",
    "  2   4 \n",
    " / \n",
    "1 \n",
    "\n",
    "输入：root = [5,3,6,2,4,null,null,1], p = 6\n",
    "输出：null\n",
    "解释：因为给出的节点没有中序后继，所以答案就返回 null 了。\n",
    "``` \n",
    "\n",
    "提示：\n",
    "```\n",
    "树中节点的数目在范围 [1, 10^4] 内。\n",
    "-10^5 <= Node.val <= 10^5\n",
    "树中各节点的值均保证唯一。\n",
    "``` \n",
    "\n",
    "注意：本题与主站 285 题相同： https://leetcode-cn.com/problems/inorder-successor-in-bst/"
   ]
  },
  {
   "cell_type": "code",
   "execution_count": null,
   "metadata": {},
   "outputs": [],
   "source": [
    "# Definition for a binary tree node.\n",
    "class TreeNode:\n",
    "    def __init__(self, x):\n",
    "        self.val = x\n",
    "        self.left = None\n",
    "        self.right = None\n",
    "\n",
    "class Solution:\n",
    "    def inorderSuccessor(self, root: 'TreeNode', p: 'TreeNode') -> 'TreeNode':\n",
    "        successor = None\n",
    "        # case1.p有右节点情况，从p右开始找\n",
    "        if p.right:\n",
    "            successor = p.right\n",
    "            while successor.left:\n",
    "                successor = successor.left\n",
    "            return successor\n",
    "        # case2.p无右节点情况，从root左开始找\n",
    "        while root:\n",
    "            if root.val > p.val:\n",
    "                successor = root\n",
    "                root = root.left\n",
    "            else:\n",
    "                root = root.right\n",
    "        return successor"
   ]
  }
 ],
 "metadata": {
  "kernelspec": {
   "display_name": "Python 3.8.10 64-bit",
   "language": "python",
   "name": "python3"
  },
  "language_info": {
   "name": "python",
   "version": "3.8.10"
  },
  "orig_nbformat": 4,
  "vscode": {
   "interpreter": {
    "hash": "e0144baad0ecee903f108a3e46e51ceadd7da3fc904cfa79747d813b61464b4e"
   }
  }
 },
 "nbformat": 4,
 "nbformat_minor": 2
}
