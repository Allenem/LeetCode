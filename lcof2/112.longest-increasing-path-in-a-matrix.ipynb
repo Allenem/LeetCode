{
 "cells": [
  {
   "cell_type": "markdown",
   "metadata": {},
   "source": [
    "# LCR 112. 矩阵中的最长递增路径 (hard)\n",
    "\n",
    "给定一个 m x n 整数矩阵 matrix ，找出其中 最长递增路径 的长度。\n",
    "\n",
    "对于每个单元格，你可以往上，下，左，右四个方向移动。 不能 在 对角线 方向上移动或移动到 边界外（即不允许环绕）。\n",
    "\n",
    "示例 1：\n",
    "```\n",
    "9   9   4\n",
    "↑\n",
    "6   6   8\n",
    "↑\n",
    "2 ← 1   1\n",
    "\n",
    "输入：matrix = [[9,9,4],[6,6,8],[2,1,1]]\n",
    "输出：4 \n",
    "解释：最长递增路径为 [1, 2, 6, 9]。\n",
    "```\n",
    "示例 2：\n",
    "```\n",
    "3 → 4 → 5\n",
    "        ↓\n",
    "3   2   6\n",
    "\n",
    "2   2   1\n",
    "\n",
    "输入：matrix = [[3,4,5],[3,2,6],[2,2,1]]\n",
    "输出：4 \n",
    "解释：最长递增路径是 [3, 4, 5, 6]。注意不允许在对角线方向上移动。\n",
    "```\n",
    "示例 3：\n",
    "```\n",
    "输入：matrix = [[1]]\n",
    "输出：1\n",
    "``` \n",
    "\n",
    "提示：\n",
    "```\n",
    "m == matrix.length\n",
    "n == matrix[i].length\n",
    "1 <= m, n <= 200\n",
    "0 <= matrix[i][j] <= 2^31 - 1\n",
    "``` \n",
    "\n",
    "注意：本题与主站 329 题相同： https://leetcode-cn.com/problems/longest-increasing-path-in-a-matrix/"
   ]
  },
  {
   "cell_type": "code",
   "execution_count": 2,
   "metadata": {},
   "outputs": [
    {
     "name": "stdout",
     "output_type": "stream",
     "text": [
      "4\n",
      "4\n",
      "1\n"
     ]
    }
   ],
   "source": [
    "from typing import List\n",
    "from functools import lru_cache\n",
    "\n",
    "class Solution:\n",
    "    def longestIncreasingPath(self, matrix: List[List[int]]) -> int:\n",
    "        @lru_cache(None)\n",
    "        def dfs(x, y):\n",
    "            if grid[x][y] !=  0: return grid[x][y]\n",
    "            ret = 1\n",
    "            for dx, dy in (-1, 0), (1, 0), (0, -1), (0, 1):\n",
    "                nx, ny = x + dx, y + dy\n",
    "                if -1 < nx < m and -1 < ny < n and matrix[nx][ny] > matrix[x][y]:\n",
    "                    ret = max(ret, dfs(nx, ny) + 1)\n",
    "            return ret\n",
    "        m, n = len(matrix), len(matrix[0])\n",
    "        grid = [[0] * n for _ in range(m)]\n",
    "        ma = 0\n",
    "        for i in range(m):\n",
    "            for j in range(n):\n",
    "                ma = max(ma, dfs(i, j))\n",
    "        return ma\n",
    "\n",
    "\n",
    "print(Solution().longestIncreasingPath([[9,9,4],[6,6,8],[2,1,1]]))\n",
    "print(Solution().longestIncreasingPath([[3,4,5],[3,2,6],[2,2,1]]))\n",
    "print(Solution().longestIncreasingPath([[1]]))"
   ]
  }
 ],
 "metadata": {
  "kernelspec": {
   "display_name": "Python 3.8.10 64-bit",
   "language": "python",
   "name": "python3"
  },
  "language_info": {
   "codemirror_mode": {
    "name": "ipython",
    "version": 3
   },
   "file_extension": ".py",
   "mimetype": "text/x-python",
   "name": "python",
   "nbconvert_exporter": "python",
   "pygments_lexer": "ipython3",
   "version": "3.8.10"
  },
  "orig_nbformat": 4,
  "vscode": {
   "interpreter": {
    "hash": "e0144baad0ecee903f108a3e46e51ceadd7da3fc904cfa79747d813b61464b4e"
   }
  }
 },
 "nbformat": 4,
 "nbformat_minor": 2
}
