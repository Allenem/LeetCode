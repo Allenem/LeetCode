{
 "cells": [
  {
   "cell_type": "markdown",
   "metadata": {},
   "source": [
    "# LCR 117. 相似字符串组 (hard)\n",
    "\n",
    "如果交换字符串 X 中的两个不同位置的字母，使得它和字符串 Y 相等，那么称 X 和 Y 两个字符串相似。如果这两个字符串本身是相等的，那它们也是相似的。\n",
    "\n",
    "例如，\"tars\" 和 \"rats\" 是相似的 (交换 0 与 2 的位置)； \"rats\" 和 \"arts\" 也是相似的，但是 \"star\" 不与 \"tars\"，\"rats\"，或 \"arts\" 相似。\n",
    "\n",
    "总之，它们通过相似性形成了两个关联组：{\"tars\", \"rats\", \"arts\"} 和 {\"star\"}。注意，\"tars\" 和 \"arts\" 是在同一组中，即使它们并不相似。形式上，对每个组而言，要确定一个单词在组中，只需要这个词和该组中至少一个单词相似。\n",
    "\n",
    "给定一个字符串列表 strs。列表中的每个字符串都是 strs 中其它所有字符串的一个 字母异位词 。请问 strs 中有多少个相似字符串组？\n",
    "\n",
    "字母异位词（anagram），一种把某个字符串的字母的位置（顺序）加以改换所形成的新词。\n",
    "\n",
    "示例 1：\n",
    "```\n",
    "输入：strs = [\"tars\",\"rats\",\"arts\",\"star\"]\n",
    "输出：2\n",
    "```\n",
    "示例 2：\n",
    "```\n",
    "输入：strs = [\"omv\",\"ovm\"]\n",
    "输出：1\n",
    "```\n",
    "\n",
    "提示：\n",
    "```\n",
    "1 <= strs.length <= 300\n",
    "1 <= strs[i].length <= 300\n",
    "strs[i] 只包含小写字母。\n",
    "strs 中的所有单词都具有相同的长度，且是彼此的字母异位词。\n",
    "```   \n",
    "\n",
    "注意：本题与主站 839 题相同：https://leetcode-cn.com/problems/similar-string-groups/"
   ]
  },
  {
   "cell_type": "code",
   "execution_count": 1,
   "metadata": {},
   "outputs": [
    {
     "name": "stdout",
     "output_type": "stream",
     "text": [
      "2\n",
      "1\n",
      "1\n",
      "1\n",
      "2\n"
     ]
    }
   ],
   "source": [
    "# 1.uf\n",
    "from typing import List\n",
    "class Solution:\n",
    "    def numSimilarGroups(self, strs: List[str]) -> int:\n",
    "        def find(x: int) -> int:\n",
    "            if f[x] != x:\n",
    "                f[x] = find(f[x])\n",
    "            return f[x]\n",
    "\n",
    "        def union(x: int, y: int) -> bool:\n",
    "            fx, fy = find(x), find(y)\n",
    "            if fx != fy:\n",
    "                f[fx] = fy\n",
    "                return True\n",
    "            return False\n",
    "\n",
    "        def checkSimilar(w1: str, w2: str) -> bool:\n",
    "            cnt = 0\n",
    "            for i in range(len(w1)):\n",
    "                if w1[i] != w2[i]:\n",
    "                    cnt += 1\n",
    "                    if cnt > 2:\n",
    "                        return False\n",
    "            return True\n",
    "\n",
    "        n = len(strs)\n",
    "        f = list(range(n))\n",
    "        num = n\n",
    "        for i in range(n):\n",
    "            for j in range(i+1, n):\n",
    "                if checkSimilar(strs[i], strs[j]) and union(i, j):\n",
    "                    num -= 1\n",
    "        return num\n",
    "\n",
    "\n",
    "print(Solution().numSimilarGroups([\"tars\",\"rats\",\"arts\",\"star\"]))\n",
    "print(Solution().numSimilarGroups([\"omv\",\"ovm\"]))\n",
    "print(Solution().numSimilarGroups([\"abc\",\"abc\"]))\n",
    "print(Solution().numSimilarGroups([\"blw\",\"bwl\",\"wlb\"]))\n",
    "print(Solution().numSimilarGroups([\"ajdidocuyh\",\"djdyaohuic\",\"ddjyhuicoa\",\"djdhaoyuic\",\"ddjoiuycha\",\"ddhoiuycja\",\"ajdydocuih\",\"ddjiouycha\",\"ajdydohuic\",\"ddjyouicha\"]))"
   ]
  },
  {
   "cell_type": "code",
   "execution_count": 2,
   "metadata": {},
   "outputs": [
    {
     "name": "stdout",
     "output_type": "stream",
     "text": [
      "2\n",
      "1\n",
      "1\n",
      "1\n",
      "2\n"
     ]
    }
   ],
   "source": [
    "# 2. bfs\n",
    "class Solution:\n",
    "    def numSimilarGroups(self, strs: List[str]) -> int:\n",
    "        def similar(s1, s2, ns):\n",
    "            cnt = 0\n",
    "            for i in range(ns):\n",
    "                if cnt > 2:\n",
    "                    return False\n",
    "                if s1[i] != s2[i]:\n",
    "                    cnt += 1\n",
    "            return cnt == 2\n",
    "        ret, n, ns, see = 0, len(strs), len(strs[0]), set()\n",
    "        for i in range(n):\n",
    "            if strs[i] not in see:\n",
    "                see.add(strs[i])\n",
    "                q = [strs[i]]\n",
    "                while q:\n",
    "                    nodes = []\n",
    "                    for node in q:\n",
    "                        for s in strs:\n",
    "                            if s not in see and similar(s, node, ns):\n",
    "                                see.add(s)\n",
    "                                nodes.append(s)\n",
    "                    q = nodes\n",
    "                ret += 1\n",
    "        return ret\n",
    "\n",
    "\n",
    "print(Solution().numSimilarGroups([\"tars\",\"rats\",\"arts\",\"star\"]))\n",
    "print(Solution().numSimilarGroups([\"omv\",\"ovm\"]))\n",
    "print(Solution().numSimilarGroups([\"abc\",\"abc\"]))\n",
    "print(Solution().numSimilarGroups([\"blw\",\"bwl\",\"wlb\"]))\n",
    "print(Solution().numSimilarGroups([\"ajdidocuyh\",\"djdyaohuic\",\"ddjyhuicoa\",\"djdhaoyuic\",\"ddjoiuycha\",\"ddhoiuycja\",\"ajdydocuih\",\"ddjiouycha\",\"ajdydohuic\",\"ddjyouicha\"]))"
   ]
  }
 ],
 "metadata": {
  "kernelspec": {
   "display_name": "Python 3.8.10 64-bit",
   "language": "python",
   "name": "python3"
  },
  "language_info": {
   "codemirror_mode": {
    "name": "ipython",
    "version": 3
   },
   "file_extension": ".py",
   "mimetype": "text/x-python",
   "name": "python",
   "nbconvert_exporter": "python",
   "pygments_lexer": "ipython3",
   "version": "3.8.10"
  },
  "orig_nbformat": 4,
  "vscode": {
   "interpreter": {
    "hash": "e0144baad0ecee903f108a3e46e51ceadd7da3fc904cfa79747d813b61464b4e"
   }
  }
 },
 "nbformat": 4,
 "nbformat_minor": 2
}
