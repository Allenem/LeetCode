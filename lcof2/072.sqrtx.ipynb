{
 "cells": [
  {
   "cell_type": "markdown",
   "metadata": {},
   "source": [
    "# LCR 072. x 的平方根 (easy)\n",
    "\n",
    "给定一个非负整数 x ，计算并返回 x 的平方根，即实现 int sqrt(int x) 函数。\n",
    "\n",
    "正数的平方根有两个，只输出其中的正数平方根。\n",
    "\n",
    "如果平方根不是整数，输出只保留整数的部分，小数部分将被舍去。\n",
    "\n",
    "\n",
    "示例 1:\n",
    "```\n",
    "输入: x = 4\n",
    "输出: 2\n",
    "```\n",
    "示例 2:\n",
    "```\n",
    "输入: x = 8\n",
    "输出: 2\n",
    "解释: 8 的平方根是 2.82842...，由于小数部分将被舍去，所以返回 2\n",
    "``` \n",
    "\n",
    "提示:\n",
    "```\n",
    "0 <= x <= 2^31 - 1\n",
    "``` \n",
    "\n",
    "注意：本题与主站 69 题相同： https://leetcode-cn.com/problems/sqrtx/"
   ]
  },
  {
   "cell_type": "code",
   "execution_count": 1,
   "metadata": {},
   "outputs": [
    {
     "name": "stdout",
     "output_type": "stream",
     "text": [
      "2\n",
      "2\n"
     ]
    }
   ],
   "source": [
    "# 二分\n",
    "class Solution:\n",
    "    def mySqrt(self, x: int) -> int:\n",
    "        l, r, ans = 0, x, -1\n",
    "        while l <= r:\n",
    "            mid = (l + r) // 2\n",
    "            if mid * mid <= x:\n",
    "                ans = mid\n",
    "                l = mid + 1\n",
    "            else:\n",
    "                r = mid - 1\n",
    "        return ans\n",
    "\n",
    "print(Solution().mySqrt(4))\n",
    "print(Solution().mySqrt(8))"
   ]
  },
  {
   "cell_type": "code",
   "execution_count": 2,
   "metadata": {},
   "outputs": [
    {
     "name": "stdout",
     "output_type": "stream",
     "text": [
      "2\n",
      "2\n"
     ]
    }
   ],
   "source": [
    "# math, x^(1/2) = e^(1/2 * log(x))\n",
    "import math\n",
    "\n",
    "class Solution:\n",
    "    def mySqrt(self, x: int) -> int:\n",
    "        if x == 0: return 0\n",
    "        ans = int(math.exp(0.5 * math.log(x)))\n",
    "        return ans + 1 if (ans + 1) ** 2 <= x else ans\n",
    "\n",
    "print(Solution().mySqrt(4))\n",
    "print(Solution().mySqrt(8))"
   ]
  }
 ],
 "metadata": {
  "kernelspec": {
   "display_name": "Python 3.8.10 64-bit",
   "language": "python",
   "name": "python3"
  },
  "language_info": {
   "codemirror_mode": {
    "name": "ipython",
    "version": 3
   },
   "file_extension": ".py",
   "mimetype": "text/x-python",
   "name": "python",
   "nbconvert_exporter": "python",
   "pygments_lexer": "ipython3",
   "version": "3.8.10"
  },
  "orig_nbformat": 4,
  "vscode": {
   "interpreter": {
    "hash": "e0144baad0ecee903f108a3e46e51ceadd7da3fc904cfa79747d813b61464b4e"
   }
  }
 },
 "nbformat": 4,
 "nbformat_minor": 2
}
