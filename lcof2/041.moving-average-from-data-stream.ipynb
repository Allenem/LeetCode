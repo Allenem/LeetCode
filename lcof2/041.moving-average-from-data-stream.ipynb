{
 "cells": [
  {
   "cell_type": "markdown",
   "metadata": {},
   "source": [
    "# LCR 041. 数据流中的移动平均值 (easy)\n",
    "\n",
    "给定一个整数数据流和一个窗口大小，根据该滑动窗口的大小，计算滑动窗口里所有数字的平均值。\n",
    "\n",
    "实现 MovingAverage 类：\n",
    "```\n",
    "MovingAverage(int size) 用窗口大小 size 初始化对象。\n",
    "double next(int val) 成员函数 next 每次调用的时候都会往滑动窗口增加一个整数，请计算并返回数据流中最后 size 个值的移动平均值，即滑动窗口里所有数字的平均值。\n",
    "``` \n",
    "\n",
    "示例：\n",
    "```\n",
    "输入：\n",
    "inputs = [\"MovingAverage\", \"next\", \"next\", \"next\", \"next\"]\n",
    "inputs = [[3], [1], [10], [3], [5]]\n",
    "输出：\n",
    "[null, 1.0, 5.5, 4.66667, 6.0]\n",
    "\n",
    "解释：\n",
    "MovingAverage movingAverage = new MovingAverage(3);\n",
    "movingAverage.next(1); // 返回 1.0 = 1 / 1\n",
    "movingAverage.next(10); // 返回 5.5 = (1 + 10) / 2\n",
    "movingAverage.next(3); // 返回 4.66667 = (1 + 10 + 3) / 3\n",
    "movingAverage.next(5); // 返回 6.0 = (10 + 3 + 5) / 3\n",
    "``` \n",
    "\n",
    "提示：\n",
    "```\n",
    "1 <= size <= 1000\n",
    "-10^5 <= val <= 10^5\n",
    "最多调用 next 方法 10^4 次\n",
    "``` \n",
    "\n",
    "注意：本题与主站 346 题相同： https://leetcode-cn.com/problems/moving-average-from-data-stream/"
   ]
  },
  {
   "cell_type": "code",
   "execution_count": 1,
   "metadata": {},
   "outputs": [
    {
     "name": "stdout",
     "output_type": "stream",
     "text": [
      "1.0\n",
      "5.5\n",
      "4.666666666666667\n",
      "6.0\n"
     ]
    }
   ],
   "source": [
    "class MovingAverage:\n",
    "\n",
    "    def __init__(self, size: int):\n",
    "        \"\"\"\n",
    "        Initialize your data structure here.\n",
    "        \"\"\"\n",
    "        self.size = size\n",
    "        self.queue = []\n",
    "        self.sum = 0\n",
    "\n",
    "\n",
    "    def next(self, val: int) -> float:\n",
    "        self.sum += val\n",
    "        self.queue.append(val)\n",
    "        if len(self.queue) > self.size: self.sum -= self.queue.pop(0)\n",
    "        return self.sum / len(self.queue)\n",
    "\n",
    "\n",
    "\n",
    "# Your MovingAverage object will be instantiated and called as such:\n",
    "# obj = MovingAverage(size)\n",
    "# param_1 = obj.next(val)\n",
    "\n",
    "\n",
    "mv = MovingAverage(3)\n",
    "print(mv.next(1))\n",
    "print(mv.next(10))\n",
    "print(mv.next(3))\n",
    "print(mv.next(5))\n"
   ]
  },
  {
   "cell_type": "code",
   "execution_count": 2,
   "metadata": {},
   "outputs": [
    {
     "name": "stdout",
     "output_type": "stream",
     "text": [
      "1\n",
      "5.5\n",
      "4.666666666666667\n",
      "6.0\n"
     ]
    }
   ],
   "source": [
    "class MovingAverage:\n",
    "\n",
    "    def __init__(self, size: int):\n",
    "        \"\"\"\n",
    "        Initialize your data structure here.\n",
    "        \"\"\"\n",
    "        self.size = size\n",
    "        self.win = []\n",
    "\n",
    "\n",
    "    def next(self, val: int) -> float:\n",
    "        if not self.win:\n",
    "            self.win.append(val)\n",
    "            return val\n",
    "        if len(self.win) + 1 <= self.size:\n",
    "            self.win.append(val)\n",
    "            return sum(self.win) / len(self.win)\n",
    "        self.win.pop(0)\n",
    "        self.win.append(val)\n",
    "        return sum(self.win) / self.size\n",
    "\n",
    "\n",
    "\n",
    "# Your MovingAverage object will be instantiated and called as such:\n",
    "# obj = MovingAverage(size)\n",
    "# param_1 = obj.next(val)\n",
    "\n",
    "\n",
    "mv = MovingAverage(3)\n",
    "print(mv.next(1))\n",
    "print(mv.next(10))\n",
    "print(mv.next(3))\n",
    "print(mv.next(5))"
   ]
  }
 ],
 "metadata": {
  "kernelspec": {
   "display_name": "Python 3.8.10 64-bit",
   "language": "python",
   "name": "python3"
  },
  "language_info": {
   "codemirror_mode": {
    "name": "ipython",
    "version": 3
   },
   "file_extension": ".py",
   "mimetype": "text/x-python",
   "name": "python",
   "nbconvert_exporter": "python",
   "pygments_lexer": "ipython3",
   "version": "3.8.10"
  },
  "orig_nbformat": 4,
  "vscode": {
   "interpreter": {
    "hash": "e0144baad0ecee903f108a3e46e51ceadd7da3fc904cfa79747d813b61464b4e"
   }
  }
 },
 "nbformat": 4,
 "nbformat_minor": 2
}
