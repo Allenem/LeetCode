{
 "cells": [
  {
   "cell_type": "markdown",
   "metadata": {},
   "source": [
    "# LCR 025. 两数相加 II (medium)\n",
    "\n",
    "给定两个 非空链表 l1和 l2 来代表两个非负整数。数字最高位位于链表开始位置。它们的每个节点只存储一位数字。将这两数相加会返回一个新的链表。\n",
    "\n",
    "可以假设除了数字 0 之外，这两个数字都不会以零开头。\n",
    "\n",
    "\n",
    "示例1：\n",
    "\n",
    "```\n",
    "  7->2->4->3\n",
    "+    5->6->4\n",
    "————————————\n",
    "  7->8->0->7\n",
    "```\n",
    "\n",
    "```\n",
    "输入：l1 = [7,2,4,3], l2 = [5,6,4]\n",
    "输出：[7,8,0,7]\n",
    "```\n",
    "示例2：\n",
    "```\n",
    "输入：l1 = [2,4,3], l2 = [5,6,4]\n",
    "输出：[8,0,7]\n",
    "```\n",
    "示例3：\n",
    "```\n",
    "输入：l1 = [0], l2 = [0]\n",
    "输出：[0]\n",
    "``` \n",
    "\n",
    "提示：\n",
    "```\n",
    "链表的长度范围为 [1, 100]\n",
    "0 <= node.val <= 9\n",
    "输入数据保证链表代表的数字无前导 0\n",
    "``` \n",
    "\n",
    "进阶：如果输入链表不能修改该如何处理？换句话说，不能对列表中的节点进行翻转。\n",
    "\n",
    "\n",
    "注意：本题与主站 445 题相同：https://leetcode-cn.com/problems/add-two-numbers-ii/"
   ]
  },
  {
   "cell_type": "code",
   "execution_count": 1,
   "metadata": {},
   "outputs": [
    {
     "name": "stdout",
     "output_type": "stream",
     "text": [
      "[7, 8, 0, 7]\n",
      "[8, 0, 7]\n",
      "[0]\n"
     ]
    }
   ],
   "source": [
    "# Definition for singly-linked list.\n",
    "class ListNode:\n",
    "    def __init__(self, val=0, next=None):\n",
    "        self.val = val\n",
    "        self.next = next\n",
    "class Solution:\n",
    "    def addTwoNumbers(self, l1: ListNode, l2: ListNode) -> ListNode:\n",
    "        lst1, lst2 = [], []\n",
    "        while l1:\n",
    "            lst1.append(l1.val)\n",
    "            l1 = l1.next\n",
    "        while l2:\n",
    "            lst2.append(l2.val)\n",
    "            l2 = l2.next\n",
    "        carry, l = 0, None\n",
    "        while lst1 or lst2 or carry:\n",
    "            if lst1: carry += lst1.pop()\n",
    "            if lst2: carry += lst2.pop()\n",
    "            l = ListNode(carry % 10, l)\n",
    "            carry //= 10\n",
    "        return l\n",
    "\n",
    "# ——————————————————————————————————————————————————————————————————————————\n",
    "\n",
    "def lst2LN(lst):\n",
    "    if not lst: return None\n",
    "    head = ListNode(lst[0])\n",
    "    p = head\n",
    "    for i in range(1, len(lst)):\n",
    "        p.next = ListNode(lst[i])\n",
    "        p = p.next\n",
    "    return head\n",
    "\n",
    "def LN2lst(head):\n",
    "    lst = []\n",
    "    while head:\n",
    "        lst.append(head.val)\n",
    "        head = head.next\n",
    "    return lst\n",
    "\n",
    "print(LN2lst(Solution().addTwoNumbers(lst2LN([7,2,4,3]), lst2LN([5,6,4]))))\n",
    "print(LN2lst(Solution().addTwoNumbers(lst2LN([2,4,3]), lst2LN([5,6,4]))))\n",
    "print(LN2lst(Solution().addTwoNumbers(lst2LN([0]), lst2LN([0]))))\n"
   ]
  }
 ],
 "metadata": {
  "kernelspec": {
   "display_name": "Python 3.8.10 64-bit",
   "language": "python",
   "name": "python3"
  },
  "language_info": {
   "codemirror_mode": {
    "name": "ipython",
    "version": 3
   },
   "file_extension": ".py",
   "mimetype": "text/x-python",
   "name": "python",
   "nbconvert_exporter": "python",
   "pygments_lexer": "ipython3",
   "version": "3.8.10"
  },
  "orig_nbformat": 4,
  "vscode": {
   "interpreter": {
    "hash": "e0144baad0ecee903f108a3e46e51ceadd7da3fc904cfa79747d813b61464b4e"
   }
  }
 },
 "nbformat": 4,
 "nbformat_minor": 2
}
