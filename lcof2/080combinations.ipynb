{
 "cells": [
  {
   "cell_type": "markdown",
   "metadata": {},
   "source": [
    "# LCR 080. 组合 (medium)\n",
    "\n",
    "给定两个整数 n 和 k，返回 1 ... n 中所有可能的 k 个数的组合。\n",
    "\n",
    "\n",
    "示例 1:\n",
    "```\n",
    "输入: n = 4, k = 2\n",
    "输出:\n",
    "[\n",
    "  [2,4],\n",
    "  [3,4],\n",
    "  [2,3],\n",
    "  [1,2],\n",
    "  [1,3],\n",
    "  [1,4],\n",
    "]\n",
    "```\n",
    "示例 2:\n",
    "```\n",
    "输入: n = 1, k = 1\n",
    "输出: [[1]]\n",
    "``` \n",
    "\n",
    "提示:\n",
    "```\n",
    "1 <= n <= 20\n",
    "1 <= k <= n\n",
    "``` \n",
    "\n",
    "注意：本题与主站 77 题相同： https://leetcode-cn.com/problems/combinations/"
   ]
  },
  {
   "cell_type": "code",
   "execution_count": 1,
   "metadata": {},
   "outputs": [
    {
     "name": "stdout",
     "output_type": "stream",
     "text": [
      "[(1, 2), (1, 3), (1, 4), (2, 3), (2, 4), (3, 4)]\n",
      "[(1,)]\n"
     ]
    }
   ],
   "source": [
    "from typing import List\n",
    "from itertools import combinations\n",
    "class Solution:\n",
    "    def combine(self, n: int, k: int) -> List[List[int]]:\n",
    "       return list(combinations(range(1,n+1), k))\n",
    "\n",
    "print(Solution().combine(4,2))\n",
    "print(Solution().combine(1,1))"
   ]
  },
  {
   "cell_type": "code",
   "execution_count": 2,
   "metadata": {},
   "outputs": [
    {
     "name": "stdout",
     "output_type": "stream",
     "text": [
      "[[1, 2], [1, 3], [1, 4], [2, 3], [2, 4], [3, 4]]\n",
      "[[1]]\n"
     ]
    }
   ],
   "source": [
    "# 回溯backtracking\n",
    "class Solution:\n",
    "    def combine(self, n: int, k: int) -> List[List[int]]:\n",
    "        ans = []\n",
    "        def bk(n, tmp, k):\n",
    "            if len(tmp) == k:\n",
    "                ans.append(tmp[:])\n",
    "                return\n",
    "            for i in range(1, n+1):\n",
    "                if not tmp or i > tmp[-1]:\n",
    "                    tmp.append(i)\n",
    "                    bk(n, tmp, k)\n",
    "                    tmp.pop()\n",
    "        bk(n, [], k)\n",
    "        return ans\n",
    "\n",
    "print(Solution().combine(4,2))\n",
    "print(Solution().combine(1,1))"
   ]
  },
  {
   "cell_type": "code",
   "execution_count": 3,
   "metadata": {},
   "outputs": [
    {
     "name": "stdout",
     "output_type": "stream",
     "text": [
      "[[1, 2], [1, 3], [1, 4], [2, 3], [2, 4], [3, 4]]\n",
      "[[1]]\n"
     ]
    }
   ],
   "source": [
    "class Solution:\n",
    "    def combine(self, n: int, k: int) -> List[List[int]]:\n",
    "        \n",
    "        def BackTrack(idx):\n",
    "            if len(tmp) == k:\n",
    "                ans.append(tmp[:])\n",
    "            elif idx > n:\n",
    "                return\n",
    "            else:\n",
    "                tmp.append(idx)\n",
    "                BackTrack(idx + 1)\n",
    "                tmp.pop()\n",
    "                BackTrack(idx + 1) # 为什么要两次BackTrack(idx + 1)？因为这里是回溯，所以要把tmp.pop()后的状态也考虑进去，所以要再次调用BackTrack(idx + 1)\n",
    "        \n",
    "        ans, tmp = [], []\n",
    "        BackTrack(1)\n",
    "        return ans\n",
    "\n",
    "print(Solution().combine(4,2))\n",
    "print(Solution().combine(1,1))"
   ]
  }
 ],
 "metadata": {
  "kernelspec": {
   "display_name": "Python 3.8.10 64-bit",
   "language": "python",
   "name": "python3"
  },
  "language_info": {
   "codemirror_mode": {
    "name": "ipython",
    "version": 3
   },
   "file_extension": ".py",
   "mimetype": "text/x-python",
   "name": "python",
   "nbconvert_exporter": "python",
   "pygments_lexer": "ipython3",
   "version": "3.8.10"
  },
  "orig_nbformat": 4,
  "vscode": {
   "interpreter": {
    "hash": "e0144baad0ecee903f108a3e46e51ceadd7da3fc904cfa79747d813b61464b4e"
   }
  }
 },
 "nbformat": 4,
 "nbformat_minor": 2
}
