{
 "cells": [
  {
   "cell_type": "markdown",
   "metadata": {},
   "source": [
    "# LCR 110. 所有可能的路径 (medium)\n",
    "\n",
    "给定一个有 n 个节点的有向无环图，用二维数组 graph 表示，请找到所有从 0 到 n-1 的路径并输出（不要求按顺序）。\n",
    "\n",
    "graph 的第 i 个数组中的单元都表示有向图中 i 号节点所能到达的下一些结点（译者注：有向图是有方向的，即规定了 a→b 你就不能从 b→a ），若为空，就是没有下一个节点了。\n",
    "\n",
    "示例 1：\n",
    "```\n",
    "  0 → 1\n",
    "  ↓   ↓\n",
    "  2 → 3\n",
    "\n",
    "输入：graph = [[1,2],[3],[3],[]]\n",
    "输出：[[0,1,3],[0,2,3]]\n",
    "解释：有两条路径 0 -> 1 -> 3 和 0 -> 2 -> 3\n",
    "```\n",
    "示例 2：\n",
    "```\n",
    "     ← ←\n",
    "  ↙     ↑\n",
    " ↓   0 → 1\n",
    " ↘ ↙↘ ↙↘\n",
    "   4 ← 3 ← 2\n",
    "\n",
    "输入：graph = [[4,3,1],[3,2,4],[3],[4],[]]\n",
    "输出：[[0,4],[0,3,4],[0,1,3,4],[0,1,2,3,4],[0,1,4]]\n",
    "```\n",
    "示例 3：\n",
    "```\n",
    "输入：graph = [[1],[]]\n",
    "输出：[[0,1]]\n",
    "```\n",
    "示例 4：\n",
    "```\n",
    "输入：graph = [[1,2,3],[2],[3],[]]\n",
    "输出：[[0,1,2,3],[0,2,3],[0,3]]\n",
    "```\n",
    "示例 5：\n",
    "```\n",
    "输入：graph = [[1,3],[2],[3],[]]\n",
    "输出：[[0,1,2,3],[0,3]]\n",
    "``` \n",
    "\n",
    "提示：\n",
    "```\n",
    "n == graph.length\n",
    "2 <= n <= 15\n",
    "0 <= graph[i][j] < n\n",
    "graph[i][j] != i \n",
    "保证输入为有向无环图 (GAD)\n",
    "``` \n",
    "\n",
    "注意：本题与主站 797 题相同：https://leetcode-cn.com/problems/all-paths-from-source-to-target/"
   ]
  },
  {
   "cell_type": "code",
   "execution_count": 2,
   "metadata": {},
   "outputs": [
    {
     "name": "stdout",
     "output_type": "stream",
     "text": [
      "[[0, 1, 3], [0, 2, 3]]\n",
      "[[0, 4], [0, 3, 4], [0, 1, 3, 4], [0, 1, 2, 3, 4], [0, 1, 4]]\n",
      "[[0, 1]]\n",
      "[[0, 1, 2, 3], [0, 2, 3], [0, 3]]\n",
      "[[0, 1, 2, 3], [0, 3]]\n"
     ]
    }
   ],
   "source": [
    "# BK 回溯法\n",
    "\n",
    "from typing import List\n",
    "class Solution:\n",
    "    def allPathsSourceTarget(self, graph: List[List[int]]) -> List[List[int]]:\n",
    "        def bk(cur, tmp):\n",
    "            if cur == len(graph) - 1:\n",
    "                ans.append(tmp[:])\n",
    "                return\n",
    "            for nxt in graph[cur]:\n",
    "                tmp.append(nxt)\n",
    "                bk(nxt, tmp)\n",
    "                tmp.pop()\n",
    "        ans = []\n",
    "        bk(0, [0])\n",
    "        return ans\n",
    "\n",
    "print(Solution().allPathsSourceTarget([[1,2],[3],[3],[]]))\n",
    "print(Solution().allPathsSourceTarget([[4,3,1],[3,2,4],[3],[4],[]]))\n",
    "print(Solution().allPathsSourceTarget([[1],[]]))\n",
    "print(Solution().allPathsSourceTarget([[1,2,3],[2],[3],[]]))\n",
    "print(Solution().allPathsSourceTarget([[1,3],[2],[3],[]]))"
   ]
  }
 ],
 "metadata": {
  "kernelspec": {
   "display_name": "Python 3.8.10 64-bit",
   "language": "python",
   "name": "python3"
  },
  "language_info": {
   "codemirror_mode": {
    "name": "ipython",
    "version": 3
   },
   "file_extension": ".py",
   "mimetype": "text/x-python",
   "name": "python",
   "nbconvert_exporter": "python",
   "pygments_lexer": "ipython3",
   "version": "3.8.10"
  },
  "orig_nbformat": 4,
  "vscode": {
   "interpreter": {
    "hash": "e0144baad0ecee903f108a3e46e51ceadd7da3fc904cfa79747d813b61464b4e"
   }
  }
 },
 "nbformat": 4,
 "nbformat_minor": 2
}
