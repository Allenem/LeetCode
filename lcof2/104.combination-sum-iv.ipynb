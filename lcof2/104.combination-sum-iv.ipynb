{
 "cells": [
  {
   "cell_type": "markdown",
   "metadata": {},
   "source": [
    "# LCR 104. 组合总和 Ⅳ (medium)\n",
    "\n",
    "给定一个由 不同 正整数组成的数组 nums ，和一个目标整数 target 。请从 nums 中找出并返回总和为 target 的元素组合的个数。数组中的数字可以在一次排列中出现任意次，但是顺序不同的序列被视作不同的组合。\n",
    "\n",
    "题目数据保证答案符合 32 位整数范围。\n",
    "\n",
    "示例 1：\n",
    "```\n",
    "输入：nums = [1,2,3], target = 4\n",
    "输出：7\n",
    "解释：\n",
    "所有可能的组合为：\n",
    "(1, 1, 1, 1)\n",
    "(1, 1, 2)\n",
    "(1, 2, 1)\n",
    "(1, 3)\n",
    "(2, 1, 1)\n",
    "(2, 2)\n",
    "(3, 1)\n",
    "请注意，顺序不同的序列被视作不同的组合。\n",
    "```\n",
    "示例 2：\n",
    "```\n",
    "输入：nums = [9], target = 3\n",
    "输出：0\n",
    "``` \n",
    "\n",
    "提示：\n",
    "```\n",
    "1 <= nums.length <= 200\n",
    "1 <= nums[i] <= 1000\n",
    "nums 中的所有元素 互不相同\n",
    "1 <= target <= 1000\n",
    "``` \n",
    "\n",
    "进阶：如果给定的数组中含有负数会发生什么？问题会产生何种变化？如果允许负数出现，需要向题目中添加哪些限制条件？\n",
    "\n",
    "注意：本题与主站 377 题相同：https://leetcode-cn.com/problems/combination-sum-iv/"
   ]
  },
  {
   "cell_type": "code",
   "execution_count": 1,
   "metadata": {},
   "outputs": [
    {
     "name": "stdout",
     "output_type": "stream",
     "text": [
      "7\n",
      "0\n"
     ]
    }
   ],
   "source": [
    "# 动态规划\n",
    "from typing import List\n",
    "class Solution:\n",
    "    def combinationSum4(self, nums: List[int], target: int) -> int:\n",
    "        dp = [1] + [0] * target\n",
    "        # 注意这里两个循环的顺序，与一般的dp大小循环顺序相反，因为相同的数字不同的顺序算作不同的组合。还有就是i顺序，因为 num 可以重复使用\n",
    "        for i in range(1, target+1):\n",
    "            for num in nums:\n",
    "                if i >= num:\n",
    "                    dp[i] += dp[i-num]\n",
    "        return dp[target]\n",
    "\n",
    "print(Solution().combinationSum4([1,2,3], 4))\n",
    "print(Solution().combinationSum4([9], 3))"
   ]
  },
  {
   "cell_type": "markdown",
   "metadata": {},
   "source": [
    "---"
   ]
  },
  {
   "cell_type": "markdown",
   "metadata": {},
   "source": [
    "# 组合总和 I\n",
    "\n",
    "给你一个 无重复元素 的整数数组 candidates 和一个目标整数 target ，找出 candidates 中可以使数字和为目标数 target 的 所有 不同组合 ，并以列表形式返回。你可以按 任意顺序 返回这些组合。\n",
    "\n",
    "candidates 中的 同一个 数字可以 无限制重复被选取 。如果至少一个数字的被选数量不同，则两种组合是不同的。 \n",
    "\n",
    "对于给定的输入，保证和为 target 的不同组合数少于 150 个。\n",
    "\n",
    "示例 1：\n",
    "```\n",
    "输入：candidates = [2,3,6,7], target = 7\n",
    "输出：[[2,2,3],[7]]\n",
    "解释：\n",
    "2 和 3 可以形成一组候选，2 + 2 + 3 = 7 。注意 2 可以使用多次。\n",
    "7 也是一个候选， 7 = 7 。\n",
    "仅有这两种组合。\n",
    "```\n",
    "示例 2：\n",
    "```\n",
    "输入: candidates = [2,3,5], target = 8\n",
    "输出: [[2,2,2,2],[2,3,3],[3,5]]\n",
    "```\n",
    "示例 3：\n",
    "```\n",
    "输入: candidates = [2], target = 1\n",
    "输出: []\n",
    "``` \n",
    "\n",
    "提示：\n",
    "```\n",
    "1 <= candidates.length <= 30\n",
    "2 <= candidates[i] <= 40\n",
    "candidates 的所有元素 互不相同\n",
    "1 <= target <= 40\n",
    "```"
   ]
  },
  {
   "cell_type": "code",
   "execution_count": 2,
   "metadata": {},
   "outputs": [
    {
     "name": "stdout",
     "output_type": "stream",
     "text": [
      "[[2, 2, 3], [7]]\n",
      "[[2, 2, 2, 2], [2, 3, 3], [3, 5]]\n",
      "[]\n"
     ]
    }
   ],
   "source": [
    "# 回溯法\n",
    "class Solution:\n",
    "    def combinationSum(self, candidates: List[int], target: int) -> List[List[int]]:\n",
    "        candidates.sort()\n",
    "        n = len(candidates)\n",
    "        ret = []\n",
    "        def bk(i, tmp, tmpSum):\n",
    "            for j in range(i, n):\n",
    "                if tmpSum + candidates[j] > target:\n",
    "                    break\n",
    "                if tmpSum + candidates[j] == target:\n",
    "                    ret.append(tmp + [candidates[j]])\n",
    "                    break\n",
    "                bk(j, tmp + [candidates[j]], tmpSum + candidates[j])\n",
    "        bk(0, [], 0)\n",
    "        return ret\n",
    "\n",
    "print(Solution().combinationSum([2,3,6,7], 7))\n",
    "print(Solution().combinationSum([2,3,5], 8))\n",
    "print(Solution().combinationSum([2], 1))"
   ]
  },
  {
   "cell_type": "markdown",
   "metadata": {},
   "source": [
    "---"
   ]
  },
  {
   "cell_type": "markdown",
   "metadata": {},
   "source": [
    "# 组合总和 II\n",
    "\n",
    "给定一个可能有重复数字的整数数组 candidates 和一个目标数 target ，找出 candidates 中所有可以使数字和为 target 的组合。\n",
    "\n",
    "candidates 中的每个数字在每个组合中只能使用一次，解集不能包含重复的组合。 \n",
    "\n",
    "\n",
    "示例 1:\n",
    "```\n",
    "输入: candidates = [10,1,2,7,6,1,5], target = 8,\n",
    "输出:\n",
    "[\n",
    "[1,1,6],\n",
    "[1,2,5],\n",
    "[1,7],\n",
    "[2,6]\n",
    "]\n",
    "```\n",
    "示例 2:\n",
    "```\n",
    "输入: candidates = [2,5,2,1,2], target = 5,\n",
    "输出:\n",
    "[\n",
    "[1,2,2],\n",
    "[5]\n",
    "]\n",
    "``` \n",
    "\n",
    "提示:\n",
    "```\n",
    "1 <= candidates.length <= 100\n",
    "1 <= candidates[i] <= 50\n",
    "1 <= target <= 30\n",
    "``` \n"
   ]
  },
  {
   "cell_type": "code",
   "execution_count": 3,
   "metadata": {},
   "outputs": [
    {
     "name": "stdout",
     "output_type": "stream",
     "text": [
      "[[1, 1, 6], [1, 2, 5], [1, 7], [2, 6]]\n",
      "[[1, 2, 2], [5]]\n",
      "[[1, 1, 1, 1, 1, 1, 1, 1, 1, 1]]\n"
     ]
    }
   ],
   "source": [
    "# BK + 2次剪枝\n",
    "\n",
    "from typing import List\n",
    "class Solution:\n",
    "    def combinationSum2(self, candidates: List[int], target: int) -> List[List[int]]:\n",
    "        def bk(tmp, last, idx):\n",
    "            if last == 0:\n",
    "                ans.append(tmp[:])\n",
    "                return\n",
    "            for i in range(idx, n):\n",
    "                if used[i]: continue\n",
    "                if i > 0 and candidates[i-1] == candidates[i] and not used[i-1]: continue\n",
    "                c = candidates[i]\n",
    "                if c <= last:\n",
    "                    tmp.append(c)\n",
    "                    used[i] = 1\n",
    "                    bk(tmp, last-c, i+1)\n",
    "                    tmp.pop()\n",
    "                    used[i] = 0\n",
    "        ans, n = [], len(candidates)\n",
    "        candidates.sort()\n",
    "        used = [0] * n\n",
    "        bk([], target, 0)\n",
    "        return ans\n",
    "\n",
    "\n",
    "print(Solution().combinationSum2([10,1,2,7,6,1,5], 8))\n",
    "print(Solution().combinationSum2([2,5,2,1,2], 5))\n",
    "print(Solution().combinationSum2([1,1,1,1,1,1,1,1,1,1], 10))"
   ]
  },
  {
   "cell_type": "markdown",
   "metadata": {},
   "source": [
    "---"
   ]
  },
  {
   "cell_type": "markdown",
   "metadata": {},
   "source": [
    "# 组合总和 III\n",
    "\n",
    "找出所有相加之和为 n 的 k 个数的组合，且满足下列条件：\n",
    "\n",
    "- 只使用数字1到9\n",
    "- 每个数字 最多使用一次 \n",
    "\n",
    "返回 所有可能的有效组合的列表 。该列表不能包含相同的组合两次，组合可以以任何顺序返回。\n",
    "\n",
    "示例 1:\n",
    "```\n",
    "输入: k = 3, n = 7\n",
    "输出: [[1,2,4]]\n",
    "解释:\n",
    "1 + 2 + 4 = 7\n",
    "没有其他符合的组合了。\n",
    "```\n",
    "示例 2:\n",
    "```\n",
    "输入: k = 3, n = 9\n",
    "输出: [[1,2,6], [1,3,5], [2,3,4]]\n",
    "解释:\n",
    "1 + 2 + 6 = 9\n",
    "1 + 3 + 5 = 9\n",
    "2 + 3 + 4 = 9\n",
    "没有其他符合的组合了。\n",
    "```\n",
    "示例 3:\n",
    "```\n",
    "输入: k = 4, n = 1\n",
    "输出: []\n",
    "解释: 不存在有效的组合。\n",
    "在[1,9]范围内使用4个不同的数字，我们可以得到的最小和是1+2+3+4 = 10，因为10 > 1，没有有效的组合。\n",
    "``` \n",
    "\n",
    "提示:\n",
    "```\n",
    "2 <= k <= 9\n",
    "1 <= n <= 60\n",
    "```"
   ]
  },
  {
   "cell_type": "code",
   "execution_count": 4,
   "metadata": {},
   "outputs": [
    {
     "name": "stdout",
     "output_type": "stream",
     "text": [
      "[[1, 2, 4]]\n",
      "[[1, 2, 6], [1, 3, 5], [2, 3, 4]]\n",
      "[]\n",
      "[]\n",
      "[[1, 2, 3, 4, 5, 6, 7, 8, 9]]\n"
     ]
    }
   ],
   "source": [
    "# 回溯法\n",
    "class Solution:\n",
    "    def combinationSum3(self, k: int, n: int) -> List[List[int]]:\n",
    "        def dfs(ret, tmp, rest, start, end):\n",
    "            if len(tmp) == k and rest == 0:\n",
    "                ret.append(tmp[:])\n",
    "                return\n",
    "            if len(tmp) < k:\n",
    "                for i in range(start, end):\n",
    "                    if not used[i]:\n",
    "                        if i <= rest:\n",
    "                            tmp.append(i)\n",
    "                            used[i] = 1\n",
    "                            dfs(ret, tmp, rest-i, i+1, end)\n",
    "                            tmp.pop()\n",
    "                            used[i] = 0\n",
    "        used = [0] * 10\n",
    "        ret = []\n",
    "        dfs(ret, [], n, 1, 10)\n",
    "        return ret\n",
    "\n",
    "print(Solution().combinationSum3(3, 7))\n",
    "print(Solution().combinationSum3(3, 9))\n",
    "print(Solution().combinationSum3(4, 1))\n",
    "print(Solution().combinationSum3(3, 2))\n",
    "print(Solution().combinationSum3(9, 45))"
   ]
  }
 ],
 "metadata": {
  "kernelspec": {
   "display_name": "Python 3.8.10 64-bit",
   "language": "python",
   "name": "python3"
  },
  "language_info": {
   "codemirror_mode": {
    "name": "ipython",
    "version": 3
   },
   "file_extension": ".py",
   "mimetype": "text/x-python",
   "name": "python",
   "nbconvert_exporter": "python",
   "pygments_lexer": "ipython3",
   "version": "3.8.10"
  },
  "orig_nbformat": 4,
  "vscode": {
   "interpreter": {
    "hash": "e0144baad0ecee903f108a3e46e51ceadd7da3fc904cfa79747d813b61464b4e"
   }
  }
 },
 "nbformat": 4,
 "nbformat_minor": 2
}
