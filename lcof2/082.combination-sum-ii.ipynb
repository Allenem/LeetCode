{
 "cells": [
  {
   "cell_type": "markdown",
   "metadata": {},
   "source": [
    "# LCR 082. 组合总和 II (medium)\n",
    "\n",
    "给定一个可能有重复数字的整数数组 candidates 和一个目标数 target ，找出 candidates 中所有可以使数字和为 target 的组合。\n",
    "\n",
    "candidates 中的每个数字在每个组合中只能使用一次，解集不能包含重复的组合。 \n",
    "\n",
    "\n",
    "示例 1:\n",
    "```\n",
    "输入: candidates = [10,1,2,7,6,1,5], target = 8,\n",
    "输出:\n",
    "[\n",
    "[1,1,6],\n",
    "[1,2,5],\n",
    "[1,7],\n",
    "[2,6]\n",
    "]\n",
    "```\n",
    "示例 2:\n",
    "```\n",
    "输入: candidates = [2,5,2,1,2], target = 5,\n",
    "输出:\n",
    "[\n",
    "[1,2,2],\n",
    "[5]\n",
    "]\n",
    "``` \n",
    "\n",
    "提示:\n",
    "```\n",
    "1 <= candidates.length <= 100\n",
    "1 <= candidates[i] <= 50\n",
    "1 <= target <= 30\n",
    "``` \n",
    "\n",
    "注意：本题与主站 40 题相同： https://leetcode-cn.com/problems/combination-sum-ii/"
   ]
  },
  {
   "cell_type": "code",
   "execution_count": 1,
   "metadata": {},
   "outputs": [
    {
     "name": "stdout",
     "output_type": "stream",
     "text": [
      "[[1, 1, 6], [1, 2, 5], [1, 7], [2, 6]]\n",
      "[[1, 2, 2], [5]]\n",
      "[[1, 1, 1, 1, 1, 1, 1, 1, 1, 1]]\n"
     ]
    }
   ],
   "source": [
    "# BK + 2次剪枝\n",
    "\n",
    "from typing import List\n",
    "class Solution:\n",
    "    def combinationSum2(self, candidates: List[int], target: int) -> List[List[int]]:\n",
    "        def bk(tmp, last, idx):\n",
    "            if last == 0:\n",
    "                ans.append(tmp[:])\n",
    "                return\n",
    "            for i in range(idx, n):\n",
    "                if used[i]: continue\n",
    "                if i > 0 and candidates[i-1] == candidates[i] and not used[i-1]: continue\n",
    "                c = candidates[i]\n",
    "                if c <= last:\n",
    "                    tmp.append(c)\n",
    "                    used[i] = 1\n",
    "                    bk(tmp, last-c, i+1)\n",
    "                    tmp.pop()\n",
    "                    used[i] = 0\n",
    "        ans, n = [], len(candidates)\n",
    "        candidates.sort()\n",
    "        used = [0] * n\n",
    "        bk([], target, 0)\n",
    "        return ans\n",
    "\n",
    "\n",
    "print(Solution().combinationSum2([10,1,2,7,6,1,5], 8))\n",
    "print(Solution().combinationSum2([2,5,2,1,2], 5))\n",
    "print(Solution().combinationSum2([1,1,1,1,1,1,1,1,1,1], 10))"
   ]
  }
 ],
 "metadata": {
  "kernelspec": {
   "display_name": "Python 3.8.10 64-bit",
   "language": "python",
   "name": "python3"
  },
  "language_info": {
   "codemirror_mode": {
    "name": "ipython",
    "version": 3
   },
   "file_extension": ".py",
   "mimetype": "text/x-python",
   "name": "python",
   "nbconvert_exporter": "python",
   "pygments_lexer": "ipython3",
   "version": "3.8.10"
  },
  "orig_nbformat": 4,
  "vscode": {
   "interpreter": {
    "hash": "e0144baad0ecee903f108a3e46e51ceadd7da3fc904cfa79747d813b61464b4e"
   }
  }
 },
 "nbformat": 4,
 "nbformat_minor": 2
}
