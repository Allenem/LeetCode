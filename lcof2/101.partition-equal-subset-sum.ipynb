{
 "cells": [
  {
   "cell_type": "markdown",
   "metadata": {},
   "source": [
    "# LCR 101. 分割等和子集 (easy)\n",
    "\n",
    "给定一个非空的正整数数组 nums ，请判断能否将这些数字分成元素和相等的两部分。\n",
    "\n",
    "示例 1：\n",
    "```\n",
    "输入：nums = [1,5,11,5]\n",
    "输出：true\n",
    "解释：nums 可以分割成 [1, 5, 5] 和 [11] 。\n",
    "```\n",
    "示例 2：\n",
    "```\n",
    "输入：nums = [1,2,3,5]\n",
    "输出：false\n",
    "解释：nums 不可以分为和相等的两部分\n",
    "``` \n",
    "\n",
    "提示：\n",
    "```\n",
    "1 <= nums.length <= 200\n",
    "1 <= nums[i] <= 100\n",
    "``` \n",
    "\n",
    "注意：本题与主站 416 题相同： https://leetcode-cn.com/problems/partition-equal-subset-sum/"
   ]
  },
  {
   "cell_type": "code",
   "execution_count": 2,
   "metadata": {},
   "outputs": [
    {
     "name": "stdout",
     "output_type": "stream",
     "text": [
      "True\n",
      "False\n"
     ]
    }
   ],
   "source": [
    "from typing import List\n",
    "# 一半背包问题\n",
    "class Solution:\n",
    "    def canPartition(self, nums: List[int]) -> bool:\n",
    "        s, n = sum(nums), len(nums)\n",
    "        if (s & 1) != 0: return False # 和非偶数，不能平分\n",
    "        target = s >> 1\n",
    "        dp = [True] + [False] * target # dp[j] 表示是否可以用nums中的数字组成和为 j 的子集\n",
    "        for i in range(n):\n",
    "            # 当前i可以满足的范围[nums[i], target]，倒序是为了满足该i轮次的结果dp[j]是上一轮次i-1的结果运算而来的，\n",
    "            # dp运算\"=\"右边dp[j]真表示不用加入该数字nums[i]就可以满足，dp[i-nums[i]] 真表示加入该nums[i]之前的i-nums[i]数字满足，所以背包可以加入nums[i]\n",
    "            for j in range(target, nums[i] - 1, -1):\n",
    "                dp[j] = dp[j] or dp[j - nums[i]]\n",
    "                # print(f'i={i}, j={j}, nums[i]={nums[i]}, j-nums[i]={j - nums[i]}, dp={dp}')\n",
    "        return dp[target]\n",
    "\n",
    "\n",
    "print(Solution().canPartition([1, 5, 11, 5]))\n",
    "print(Solution().canPartition([1, 2, 3, 5]))"
   ]
  }
 ],
 "metadata": {
  "kernelspec": {
   "display_name": "Python 3.8.10 64-bit",
   "language": "python",
   "name": "python3"
  },
  "language_info": {
   "codemirror_mode": {
    "name": "ipython",
    "version": 3
   },
   "file_extension": ".py",
   "mimetype": "text/x-python",
   "name": "python",
   "nbconvert_exporter": "python",
   "pygments_lexer": "ipython3",
   "version": "3.8.10"
  },
  "orig_nbformat": 4,
  "vscode": {
   "interpreter": {
    "hash": "e0144baad0ecee903f108a3e46e51ceadd7da3fc904cfa79747d813b61464b4e"
   }
  }
 },
 "nbformat": 4,
 "nbformat_minor": 2
}
