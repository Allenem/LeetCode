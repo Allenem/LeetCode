{
 "cells": [
  {
   "cell_type": "markdown",
   "metadata": {},
   "source": [
    "# LCR 013. 二维区域和检索 - 矩阵不可变 (medium)\n",
    "\n",
    "给定一个二维矩阵 matrix，以下类型的多个请求：\n",
    "\n",
    "- 计算其子矩形范围内元素的总和，该子矩阵的左上角为 (row1, col1) ，右下角为 (row2, col2) 。\n",
    "\n",
    "实现 NumMatrix 类：\n",
    "\n",
    "- NumMatrix(int[][] matrix) 给定整数矩阵 matrix 进行初始化\n",
    "- int sumRegion(int row1, int col1, int row2, int col2) 返回左上角 (row1, col1) 、右下角 (row2, col2) 的子矩阵的元素总和。\n",
    " \n",
    "\n",
    "示例 1：\n",
    "\n",
    "3|0|1|4|2\n",
    "-|-|-|-|-\n",
    "5|6|3|2|1\n",
    "1|2|0|1|5\n",
    "4|1|0|1|7\n",
    "1|0|3|0|5\n",
    "\n",
    "![img](https://pic.leetcode-cn.com/1626332422-wUpUHT-image.png)\n",
    "\n",
    "```\n",
    "输入: \n",
    "[\"NumMatrix\",\"sumRegion\",\"sumRegion\",\"sumRegion\"]\n",
    "[[[[3,0,1,4,2],[5,6,3,2,1],[1,2,0,1,5],[4,1,0,1,7],[1,0,3,0,5]]],[2,1,4,3],[1,1,2,2],[1,2,2,4]]\n",
    "输出: \n",
    "[null, 8, 11, 12]\n",
    "\n",
    "解释:\n",
    "NumMatrix numMatrix = new NumMatrix([[3,0,1,4,2],[5,6,3,2,1],[1,2,0,1,5],[4,1,0,1,7],[1,0,3,0,5]]]);\n",
    "numMatrix.sumRegion(2, 1, 4, 3); // return 8 (红色矩形框的元素总和)\n",
    "numMatrix.sumRegion(1, 1, 2, 2); // return 11 (绿色矩形框的元素总和)\n",
    "numMatrix.sumRegion(1, 2, 2, 4); // return 12 (蓝色矩形框的元素总和)\n",
    " ```\n",
    "\n",
    "提示：\n",
    "```\n",
    "m == matrix.length\n",
    "n == matrix[i].length\n",
    "1 <= m, n <= 200\n",
    "-105 <= matrix[i][j] <= 10^5\n",
    "0 <= row1 <= row2 < m\n",
    "0 <= col1 <= col2 < n\n",
    "最多调用 10^4 次 sumRegion 方法\n",
    "```\n",
    "\n",
    "注意：本题与主站 304 题相同： https://leetcode-cn.com/problems/range-sum-query-2d-immutable/"
   ]
  },
  {
   "cell_type": "code",
   "execution_count": 1,
   "metadata": {},
   "outputs": [
    {
     "name": "stdout",
     "output_type": "stream",
     "text": [
      "8\n",
      "11\n",
      "12\n"
     ]
    }
   ],
   "source": [
    "# 二维前缀和\n",
    "from typing import List\n",
    "class NumMatrix:\n",
    "\n",
    "    def __init__(self, matrix: List[List[int]]):\n",
    "        m, n = len(matrix), len(matrix[0])\n",
    "        self.sums = [[0] * (n + 1) for _ in range(m + 1)]\n",
    "        for i in range(m):\n",
    "            for j in range(n):\n",
    "                self.sums[i+1][j+1] = self.sums[i+1][j] + self.sums[i][j+1] - self.sums[i][j] + matrix[i][j]\n",
    "\n",
    "    def sumRegion(self, row1: int, col1: int, row2: int, col2: int) -> int:\n",
    "        return self.sums[row2+1][col2+1] - self.sums[row1][col2+1] - self.sums[row2+1][col1] + self.sums[row1][col1]\n",
    "\n",
    "# Your NumMatrix object will be instantiated and called as such:\n",
    "# obj = NumMatrix(matrix)\n",
    "# param_1 = obj.sumRegion(row1,col1,row2,col2)\n",
    "\n",
    "\n",
    "nm = NumMatrix([[3, 0, 1, 4, 2],[5, 6, 3, 2, 1],[1, 2, 0, 1, 5],[4, 1, 0, 1, 7],[1, 0, 3, 0, 5]])\n",
    "print(nm.sumRegion(2, 1, 4, 3))\n",
    "print(nm.sumRegion(1, 1, 2, 2))\n",
    "print(nm.sumRegion(1, 2, 2, 4))"
   ]
  }
 ],
 "metadata": {
  "kernelspec": {
   "display_name": "Python 3.8.10 64-bit",
   "language": "python",
   "name": "python3"
  },
  "language_info": {
   "codemirror_mode": {
    "name": "ipython",
    "version": 3
   },
   "file_extension": ".py",
   "mimetype": "text/x-python",
   "name": "python",
   "nbconvert_exporter": "python",
   "pygments_lexer": "ipython3",
   "version": "3.8.10"
  },
  "orig_nbformat": 4,
  "vscode": {
   "interpreter": {
    "hash": "e0144baad0ecee903f108a3e46e51ceadd7da3fc904cfa79747d813b61464b4e"
   }
  }
 },
 "nbformat": 4,
 "nbformat_minor": 2
}
