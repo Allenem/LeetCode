{
 "cells": [
  {
   "cell_type": "markdown",
   "metadata": {},
   "source": [
    "# LCR 083. 全排列 (medium)\n",
    "\n",
    "给定一个不含重复数字的整数数组 nums ，返回其 所有可能的全排列 。可以 按任意顺序 返回答案。\n",
    "\n",
    "示例 1：\n",
    "```\n",
    "输入：nums = [1,2,3]\n",
    "输出：[[1,2,3],[1,3,2],[2,1,3],[2,3,1],[3,1,2],[3,2,1]]\n",
    "```\n",
    "示例 2：\n",
    "```\n",
    "输入：nums = [0,1]\n",
    "输出：[[0,1],[1,0]]\n",
    "```\n",
    "示例 3：\n",
    "```\n",
    "输入：nums = [1]\n",
    "输出：[[1]]\n",
    "``` \n",
    "\n",
    "提示：\n",
    "```\n",
    "1 <= nums.length <= 6\n",
    "-10 <= nums[i] <= 10\n",
    "nums 中的所有整数 互不相同\n",
    "``` \n",
    "\n",
    "注意：本题与主站 46 题相同：https://leetcode-cn.com/problems/permutations/ "
   ]
  },
  {
   "cell_type": "code",
   "execution_count": 1,
   "metadata": {},
   "outputs": [
    {
     "name": "stdout",
     "output_type": "stream",
     "text": [
      "[[1, 2, 3], [1, 3, 2], [2, 1, 3], [2, 3, 1], [3, 1, 2], [3, 2, 1]]\n",
      "[[0, 1], [1, 0]]\n",
      "[[1]]\n"
     ]
    }
   ],
   "source": [
    "from typing import List\n",
    "\n",
    "# 方法一，回溯\n",
    "class Solution:\n",
    "    def permute(self, nums: List[int]) -> List[List[int]]:\n",
    "        def bk(tmp):\n",
    "            if len(tmp) == n:\n",
    "                ans.append(tmp[:])\n",
    "            for i in range(n):\n",
    "                if not used[i]:\n",
    "                    tmp.append(nums[i])\n",
    "                    used[i] = 1\n",
    "                    bk(tmp)\n",
    "                    tmp.pop()\n",
    "                    used[i] = 0\n",
    "        ans, n = [], len(nums)\n",
    "        used = [0] * n\n",
    "        bk([])\n",
    "        return ans\n",
    "\n",
    "\n",
    "print(Solution().permute([1,2,3]))\n",
    "print(Solution().permute([0,1]))\n",
    "print(Solution().permute([1]))"
   ]
  },
  {
   "cell_type": "code",
   "execution_count": 2,
   "metadata": {},
   "outputs": [
    {
     "name": "stdout",
     "output_type": "stream",
     "text": [
      "[[1, 2, 3], [1, 3, 2], [2, 1, 3], [2, 3, 1], [3, 2, 1], [3, 1, 2]]\n",
      "[[0, 1], [1, 0]]\n",
      "[[1]]\n"
     ]
    }
   ],
   "source": [
    "# 方法二，只交换两个数字\n",
    "class Solution:\n",
    "    def permute(self, nums: List[int]) -> List[List[int]]:\n",
    "        # Method2 Backtrack exchanging 2 items per time\n",
    "        def Backtrack(first):\n",
    "            if first == len(nums):\n",
    "                ans.append(nums[:])\n",
    "                return\n",
    "            for i in range(first, len(nums)):\n",
    "                nums[first], nums[i] = nums[i], nums[first]\n",
    "                Backtrack(first+1)\n",
    "                nums[first], nums[i] = nums[i], nums[first]\n",
    "        ans = []\n",
    "        Backtrack(0)\n",
    "        return ans\n",
    "\n",
    "\n",
    "print(Solution().permute([1,2,3]))\n",
    "print(Solution().permute([0,1]))\n",
    "print(Solution().permute([1]))"
   ]
  }
 ],
 "metadata": {
  "kernelspec": {
   "display_name": "Python 3.8.10 64-bit",
   "language": "python",
   "name": "python3"
  },
  "language_info": {
   "codemirror_mode": {
    "name": "ipython",
    "version": 3
   },
   "file_extension": ".py",
   "mimetype": "text/x-python",
   "name": "python",
   "nbconvert_exporter": "python",
   "pygments_lexer": "ipython3",
   "version": "3.8.10"
  },
  "orig_nbformat": 4,
  "vscode": {
   "interpreter": {
    "hash": "e0144baad0ecee903f108a3e46e51ceadd7da3fc904cfa79747d813b61464b4e"
   }
  }
 },
 "nbformat": 4,
 "nbformat_minor": 2
}
