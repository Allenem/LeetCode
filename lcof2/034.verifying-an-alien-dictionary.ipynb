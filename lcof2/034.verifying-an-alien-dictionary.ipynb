{
 "cells": [
  {
   "cell_type": "markdown",
   "metadata": {},
   "source": [
    "# LCR 034. 验证外星语词典 (easy)\n",
    "\n",
    "某种外星语也使用英文小写字母，但可能顺序 order 不同。字母表的顺序（order）是一些小写字母的排列。\n",
    "\n",
    "给定一组用外星语书写的单词 words，以及其字母表的顺序 order，只有当给定的单词在这种外星语中按字典序排列时，返回 true；否则，返回 false。\n",
    "\n",
    "\n",
    "示例 1：\n",
    "```\n",
    "输入：words = [\"hello\",\"leetcode\"], order = \"hlabcdefgijkmnopqrstuvwxyz\"\n",
    "输出：true\n",
    "解释：在该语言的字母表中，'h' 位于 'l' 之前，所以单词序列是按字典序排列的。\n",
    "```\n",
    "示例 2：\n",
    "```\n",
    "输入：words = [\"word\",\"world\",\"row\"], order = \"worldabcefghijkmnpqstuvxyz\"\n",
    "输出：false\n",
    "解释：在该语言的字母表中，'d' 位于 'l' 之后，那么 words[0] > words[1]，因此单词序列不是按字典序排列的。\n",
    "```\n",
    "示例 3：\n",
    "```\n",
    "输入：words = [\"apple\",\"app\"], order = \"abcdefghijklmnopqrstuvwxyz\"\n",
    "输出：false\n",
    "解释：当前三个字符 \"app\" 匹配时，第二个字符串相对短一些，然后根据词典编纂规则 \"apple\" > \"app\"，因为 'l' > '∅'，其中 '∅' 是空白字符，定义为比任何其他字符都小（更多信息）。\n",
    "``` \n",
    "\n",
    "提示：\n",
    "```\n",
    "1 <= words.length <= 100\n",
    "1 <= words[i].length <= 20\n",
    "order.length == 26\n",
    "在 words[i] 和 order 中的所有字符都是英文小写字母。\n",
    "``` \n",
    "\n",
    "注意：本题与主站 953 题相同： https://leetcode-cn.com/problems/verifying-an-alien-dictionary/"
   ]
  },
  {
   "cell_type": "code",
   "execution_count": 1,
   "metadata": {},
   "outputs": [
    {
     "name": "stdout",
     "output_type": "stream",
     "text": [
      "True\n",
      "False\n",
      "False\n"
     ]
    }
   ],
   "source": [
    "from typing import List\n",
    "class Solution:\n",
    "    def isAlienSorted(self, words: List[str], order: str) -> bool:\n",
    "        dic = {j:i for i, j in enumerate(order)}\n",
    "        for i in range(len(words) - 1):\n",
    "            twoWordsMaxLength = max(len(words[i]), len(words[i+1]))\n",
    "            for j in range(twoWordsMaxLength):\n",
    "                w1_j = dic[words[i][j]] if j < len(words[i]) else -1\n",
    "                w2_j = dic[words[i+1][j]] if j < len(words[i+1]) else -1\n",
    "                if w1_j > w2_j: return False\n",
    "                elif w1_j < w2_j: break\n",
    "        return True\n",
    "\n",
    "\n",
    "\n",
    "print(Solution().isAlienSorted(words = [\"hello\",\"leetcode\"], order = \"hlabcdefgijkmnopqrstuvwxyz\"))\n",
    "print(Solution().isAlienSorted(words = [\"word\",\"world\",\"row\"], order = \"worldabcefghijkmnpqstuvxyz\"))\n",
    "print(Solution().isAlienSorted(words = [\"apple\",\"app\"], order = \"abcdefghijklmnopqrstuvwxyz\"))\n"
   ]
  }
 ],
 "metadata": {
  "kernelspec": {
   "display_name": "Python 3.8.10 64-bit",
   "language": "python",
   "name": "python3"
  },
  "language_info": {
   "codemirror_mode": {
    "name": "ipython",
    "version": 3
   },
   "file_extension": ".py",
   "mimetype": "text/x-python",
   "name": "python",
   "nbconvert_exporter": "python",
   "pygments_lexer": "ipython3",
   "version": "3.8.10"
  },
  "orig_nbformat": 4,
  "vscode": {
   "interpreter": {
    "hash": "e0144baad0ecee903f108a3e46e51ceadd7da3fc904cfa79747d813b61464b4e"
   }
  }
 },
 "nbformat": 4,
 "nbformat_minor": 2
}
