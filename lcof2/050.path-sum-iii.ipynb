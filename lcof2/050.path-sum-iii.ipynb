{
 "cells": [
  {
   "cell_type": "markdown",
   "metadata": {},
   "source": [
    "# LCR 050. 路径总和 III (medium)\n",
    "\n",
    "给定一个二叉树的根节点 root ，和一个整数 targetSum ，求该二叉树里节点值之和等于 targetSum 的 路径 的数目。\n",
    "\n",
    "路径 不需要从根节点开始，也不需要在叶子节点结束，但是路径方向必须是向下的（只能从父节点到子节点）。\n",
    "\n",
    "\n",
    "示例 1：\n",
    "\n",
    "![](https://assets.leetcode.com/uploads/2021/04/09/pathsum3-1-tree.jpg)\n",
    "```\n",
    "输入：root = [10,5,-3,3,2,null,11,3,-2,null,1], targetSum = 8\n",
    "输出：3\n",
    "解释：和等于 8 的路径有 3 条，如图所示。\n",
    "```\n",
    "示例 2：\n",
    "```\n",
    "输入：root = [5,4,8,11,null,13,4,7,2,null,null,5,1], targetSum = 22\n",
    "输出：3\n",
    "``` \n",
    "\n",
    "提示:\n",
    "\n",
    "- 二叉树的节点个数的范围是 [0,1000]\n",
    "- -109 <= Node.val <= 10^9 \n",
    "- -1000 <= targetSum <= 1000 \n",
    "\n",
    "\n",
    "注意：本题与主站 437 题相同：https://leetcode-cn.com/problems/path-sum-iii/"
   ]
  },
  {
   "cell_type": "code",
   "execution_count": 1,
   "metadata": {},
   "outputs": [],
   "source": [
    "# 方法一\n",
    "# Definition for a binary tree node.\n",
    "class TreeNode:\n",
    "    def __init__(self, val=0, left=None, right=None):\n",
    "        self.val = val\n",
    "        self.left = left\n",
    "        self.right = right\n",
    "class Solution:\n",
    "    cnt = 0\n",
    "    def pathSum(self, root: TreeNode, targetSum: int) -> int:\n",
    "        if not root: return self.cnt\n",
    "        self.help(root, targetSum)\n",
    "        self.pathSum(root.left, targetSum)\n",
    "        self.pathSum(root.right, targetSum)\n",
    "        return self.cnt\n",
    "\n",
    "    def help(self, root, target):\n",
    "        if not root: return\n",
    "        if root.val == target: self.cnt += 1\n",
    "        self.help(root.left, target-root.val)\n",
    "        self.help(root.right, target-root.val)"
   ]
  },
  {
   "cell_type": "code",
   "execution_count": 2,
   "metadata": {},
   "outputs": [
    {
     "name": "stdout",
     "output_type": "stream",
     "text": [
      "3\n",
      "3\n"
     ]
    }
   ],
   "source": [
    "def lst2tree(lst):\n",
    "    if not lst: return None\n",
    "    root = TreeNode(lst[0])\n",
    "    queue = [root]\n",
    "    i = 1\n",
    "    while i < len(lst):\n",
    "        node = queue.pop(0)\n",
    "        if lst[i]:\n",
    "            node.left = TreeNode(lst[i])\n",
    "            queue.append(node.left)\n",
    "        i += 1\n",
    "        if i < len(lst) and lst[i]:\n",
    "            node.right = TreeNode(lst[i])\n",
    "            queue.append(node.right)\n",
    "        i += 1\n",
    "    return root\n",
    "\n",
    "print(Solution().pathSum(lst2tree([10,5,-3,3,2,None,11,3,-2,None,1]), 8))\n",
    "print(Solution().pathSum(lst2tree([5,4,8,11,None,13,4,7,2,None,None,5,1]), 22))"
   ]
  },
  {
   "cell_type": "code",
   "execution_count": 3,
   "metadata": {},
   "outputs": [],
   "source": [
    "# 方法二\n",
    "# Definition for a binary tree node.\n",
    "# class TreeNode:\n",
    "#     def __init__(self, val=0, left=None, right=None):\n",
    "#         self.val = val\n",
    "#         self.left = left\n",
    "#         self.right = right\n",
    "import collections\n",
    "class Solution:\n",
    "    def pathSum(self, root: TreeNode, targetSum: int) -> int:\n",
    "        prefix = collections.defaultdict(int)\n",
    "        prefix[0] = 1 # 前缀和为0的路径有1条，即空路径，为了方便如果某段的前缀和就是targetSum，那么就可以直接加上prefix[0]，即1\n",
    "\n",
    "        def dfs(node: TreeNode, curSum: int) -> int:\n",
    "            if not node: return 0\n",
    "            cnt = 0\n",
    "            curSum += node.val\n",
    "            # 从某个节点到当前节点的路径和为targetSum的数量，假设该节点i, 前缀和curSum, 前面某一节点j, 前缀和x, j到i的路径和为targetSum, \n",
    "            # 则curSum-x=targetSum, 即x=curSum-targetSum, 从j到i的路径和为targetSum的j数量为prefix[x], 即prefix[curSum-targetSum]\n",
    "            cnt += prefix[curSum - targetSum]\n",
    "            prefix[curSum] += 1\n",
    "            cnt += dfs(node.left, curSum)\n",
    "            cnt += dfs(node.right, curSum)\n",
    "            prefix[curSum] -= 1 # 该路径子节点都走完，故字典中-1\n",
    "            return cnt\n",
    "\n",
    "        return dfs(root, 0)"
   ]
  },
  {
   "cell_type": "code",
   "execution_count": 4,
   "metadata": {},
   "outputs": [
    {
     "name": "stdout",
     "output_type": "stream",
     "text": [
      "3\n",
      "3\n"
     ]
    }
   ],
   "source": [
    "print(Solution().pathSum(lst2tree([10,5,-3,3,2,None,11,3,-2,None,1]), 8))\n",
    "print(Solution().pathSum(lst2tree([5,4,8,11,None,13,4,7,2,None,None,5,1]), 22))"
   ]
  }
 ],
 "metadata": {
  "kernelspec": {
   "display_name": "Python 3.8.10 64-bit",
   "language": "python",
   "name": "python3"
  },
  "language_info": {
   "codemirror_mode": {
    "name": "ipython",
    "version": 3
   },
   "file_extension": ".py",
   "mimetype": "text/x-python",
   "name": "python",
   "nbconvert_exporter": "python",
   "pygments_lexer": "ipython3",
   "version": "3.8.10"
  },
  "orig_nbformat": 4,
  "vscode": {
   "interpreter": {
    "hash": "e0144baad0ecee903f108a3e46e51ceadd7da3fc904cfa79747d813b61464b4e"
   }
  }
 },
 "nbformat": 4,
 "nbformat_minor": 2
}
