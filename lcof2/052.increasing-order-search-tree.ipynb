{
 "cells": [
  {
   "cell_type": "markdown",
   "metadata": {},
   "source": [
    "# LCR 052. 递增顺序搜索树 (easy)\n",
    "\n",
    "给你一棵二叉搜索树，请 按中序遍历 将其重新排列为一棵递增顺序搜索树，使树中最左边的节点成为树的根节点，并且每个节点没有左子节点，只有一个右子节点。\n",
    "\n",
    "\n",
    "示例 1：\n",
    "```\n",
    "      5      1\n",
    "     / \\      \\\n",
    "    3   6      2\n",
    "   / \\   \\  ->  \\\n",
    "  2   4   8      3\n",
    " /       / \\      \\\n",
    "1       7   9      4\n",
    "                    \\\n",
    "                     5\n",
    "                      \\\n",
    "                       6\n",
    "                        \\\n",
    "                         7\n",
    "                          \\\n",
    "                           8\n",
    "                            \\\n",
    "                             9\n",
    "\n",
    "输入：root = [5,3,6,2,4,null,8,1,null,null,null,7,9]\n",
    "输出：[1,null,2,null,3,null,4,null,5,null,6,null,7,null,8,null,9]\n",
    "``\n",
    "示例 2：\n",
    "```\n",
    "     5      1\n",
    "    / \\      \\\n",
    "   1   7  ->  5\n",
    "               \\\n",
    "                7\n",
    "\n",
    "输入：root = [5,1,7]\n",
    "输出：[1,null,5,null,7]\n",
    "```\n",
    "\n",
    "提示：\n",
    "```\n",
    "树中节点数的取值范围是 [1, 100]\n",
    "0 <= Node.val <= 1000\n",
    "``` \n",
    "\n",
    "注意：本题与主站 897 题相同： https://leetcode-cn.com/problems/increasing-order-search-tree/"
   ]
  },
  {
   "cell_type": "code",
   "execution_count": 3,
   "metadata": {},
   "outputs": [
    {
     "name": "stdout",
     "output_type": "stream",
     "text": [
      "[1, None, 2, None, 3, None, 4, None, 5, None, 6, None, 7, None, 8, None, 9]\n",
      "[1, None, 5, None, 7]\n"
     ]
    }
   ],
   "source": [
    "# Definition for a binary tree node.\n",
    "class TreeNode:\n",
    "    def __init__(self, val=0, left=None, right=None):\n",
    "        self.val = val\n",
    "        self.left = left\n",
    "        self.right = right\n",
    "class Solution:\n",
    "    def increasingBST(self, root: TreeNode) -> TreeNode:\n",
    "        self.curtree = newtree = TreeNode()\n",
    "        self.dfs(root)\n",
    "        return newtree.right\n",
    "\n",
    "    def dfs(self, node: TreeNode):\n",
    "        if not node: return\n",
    "        self.dfs(node.left)\n",
    "        self.curtree.right = node\n",
    "        node.left = None\n",
    "        self.curtree = node\n",
    "        self.dfs(node.right)\n",
    "\n",
    "\n",
    "# test\n",
    "def list2tree(l: list) -> TreeNode:\n",
    "    if not l: return None\n",
    "    root = TreeNode(l[0])\n",
    "    queue = [root]\n",
    "    i = 1\n",
    "    while queue and i < len(l):\n",
    "        node = queue.pop(0)\n",
    "        if l[i]:\n",
    "            node.left = TreeNode(l[i])\n",
    "            queue.append(node.left)\n",
    "        i += 1\n",
    "        if l[i]:\n",
    "            node.right = TreeNode(l[i])\n",
    "            queue.append(node.right)\n",
    "        i += 1\n",
    "    return root\n",
    "\n",
    "def tree2list(root: TreeNode) -> list:\n",
    "    if not root: return []\n",
    "    queue = [root]\n",
    "    res = []\n",
    "    while queue:\n",
    "        node = queue.pop(0)\n",
    "        if node:\n",
    "            res.append(node.val)\n",
    "            queue.append(node.left)\n",
    "            queue.append(node.right)\n",
    "        else:\n",
    "            res.append(None)\n",
    "    while res[-1] == None:\n",
    "        res.pop()\n",
    "    return res\n",
    "\n",
    "\n",
    "print(tree2list(Solution().increasingBST(list2tree([5,3,6,2,4,None,8,1,None,None,None,7,9]))))\n",
    "print(tree2list(Solution().increasingBST(list2tree([5,1,7]))))"
   ]
  }
 ],
 "metadata": {
  "kernelspec": {
   "display_name": "Python 3.8.10 64-bit",
   "language": "python",
   "name": "python3"
  },
  "language_info": {
   "codemirror_mode": {
    "name": "ipython",
    "version": 3
   },
   "file_extension": ".py",
   "mimetype": "text/x-python",
   "name": "python",
   "nbconvert_exporter": "python",
   "pygments_lexer": "ipython3",
   "version": "3.8.10"
  },
  "orig_nbformat": 4,
  "vscode": {
   "interpreter": {
    "hash": "e0144baad0ecee903f108a3e46e51ceadd7da3fc904cfa79747d813b61464b4e"
   }
  }
 },
 "nbformat": 4,
 "nbformat_minor": 2
}
