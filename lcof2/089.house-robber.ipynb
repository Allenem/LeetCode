{
 "cells": [
  {
   "cell_type": "markdown",
   "metadata": {},
   "source": [
    "# LCR 089. 打家劫舍 (medium)\n",
    "\n",
    "一个专业的小偷，计划偷窃沿街的房屋。每间房内都藏有一定的现金，影响小偷偷窃的唯一制约因素就是相邻的房屋装有相互连通的防盗系统，如果两间相邻的房屋在同一晚上被小偷闯入，系统会自动报警。\n",
    "\n",
    "给定一个代表每个房屋存放金额的非负整数数组 nums ，请计算 不触动警报装置的情况下 ，一夜之内能够偷窃到的最高金额。\n",
    "\n",
    "示例 1：\n",
    "```\n",
    "输入：nums = [1,2,3,1]\n",
    "输出：4\n",
    "解释：偷窃 1 号房屋 (金额 = 1) ，然后偷窃 3 号房屋 (金额 = 3)。\n",
    "     偷窃到的最高金额 = 1 + 3 = 4 。\n",
    "```\n",
    "示例 2：\n",
    "```\n",
    "输入：nums = [2,7,9,3,1]\n",
    "输出：12\n",
    "解释：偷窃 1 号房屋 (金额 = 2), 偷窃 3 号房屋 (金额 = 9)，接着偷窃 5 号房屋 (金额 = 1)。\n",
    "     偷窃到的最高金额 = 2 + 9 + 1 = 12 。\n",
    "``` \n",
    "\n",
    "提示：\n",
    "```\n",
    "1 <= nums.length <= 100\n",
    "0 <= nums[i] <= 400\n",
    "``` \n",
    "\n",
    "注意：本题与主站 198 题相同： https://leetcode-cn.com/problems/house-robber/"
   ]
  },
  {
   "cell_type": "code",
   "execution_count": 1,
   "metadata": {},
   "outputs": [
    {
     "name": "stdout",
     "output_type": "stream",
     "text": [
      "4\n",
      "12\n",
      "13\n"
     ]
    }
   ],
   "source": [
    "from typing import List\n",
    "class Solution:\n",
    "    def rob(self, nums: List[int]) -> int:\n",
    "        n = len(nums)\n",
    "        if n == 1: return nums[0]\n",
    "        dp = [nums[0], max(nums[0], nums[1])] # dp[0] means not rob, dp[1] means rob max value at i\n",
    "        for i in range(2, len(nums)):\n",
    "            dp[0], dp[1] = dp[1], max(dp[0]+nums[i], dp[1])\n",
    "        return dp[1]\n",
    "\n",
    "print(Solution().rob([1,2,3,1]))\n",
    "print(Solution().rob([2,7,9,3,1]))\n",
    "print(Solution().rob([2,7,9,3,1,2]))"
   ]
  }
 ],
 "metadata": {
  "kernelspec": {
   "display_name": "Python 3.8.10 64-bit",
   "language": "python",
   "name": "python3"
  },
  "language_info": {
   "codemirror_mode": {
    "name": "ipython",
    "version": 3
   },
   "file_extension": ".py",
   "mimetype": "text/x-python",
   "name": "python",
   "nbconvert_exporter": "python",
   "pygments_lexer": "ipython3",
   "version": "3.8.10"
  },
  "orig_nbformat": 4,
  "vscode": {
   "interpreter": {
    "hash": "e0144baad0ecee903f108a3e46e51ceadd7da3fc904cfa79747d813b61464b4e"
   }
  }
 },
 "nbformat": 4,
 "nbformat_minor": 2
}
