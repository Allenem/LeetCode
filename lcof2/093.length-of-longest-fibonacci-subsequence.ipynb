{
 "cells": [
  {
   "cell_type": "markdown",
   "metadata": {},
   "source": [
    "# LCR 093. 最长的斐波那契子序列的长度 (medium)\n",
    "\n",
    "如果序列 X_1, X_2, ..., X_n 满足下列条件，就说它是 斐波那契式 的：\n",
    "\n",
    "n >= 3\n",
    "对于所有 i + 2 <= n，都有 X_i + X_{i+1} = X_{i+2}\n",
    "给定一个严格递增的正整数数组形成序列 arr ，找到 arr 中最长的斐波那契式的子序列的长度。如果一个不存在，返回  0 。\n",
    "\n",
    "（回想一下，子序列是从原序列  arr 中派生出来的，它从 arr 中删掉任意数量的元素（也可以不删），而不改变其余元素的顺序。例如， [3, 5, 8] 是 [3, 4, 5, 6, 7, 8] 的一个子序列）\n",
    "\n",
    "示例 1：\n",
    "```\n",
    "输入: arr = [1,2,3,4,5,6,7,8]\n",
    "输出: 5\n",
    "解释: 最长的斐波那契式子序列为 [1,2,3,5,8] 。\n",
    "```\n",
    "示例 2：\n",
    "```\n",
    "输入: arr = [1,3,7,11,12,14,18]\n",
    "输出: 3\n",
    "解释: 最长的斐波那契式子序列有 [1,11,12]、[3,11,14] 以及 [7,11,18] 。\n",
    "``` \n",
    "\n",
    "提示：\n",
    "```\n",
    "3 <= arr.length <= 1000\n",
    "1 <= arr[i] < arr[i + 1] <= 10^9\n",
    "```\n",
    " \n",
    "\n",
    "注意：本题与主站 873 题相同： https://leetcode-cn.com/problems/length-of-longest-fibonacci-subsequence/"
   ]
  },
  {
   "cell_type": "code",
   "execution_count": 1,
   "metadata": {},
   "outputs": [
    {
     "name": "stdout",
     "output_type": "stream",
     "text": [
      "5\n",
      "3\n",
      "5\n"
     ]
    }
   ],
   "source": [
    "from typing import List\n",
    "# 方法一：双指针，动态规划，时间复杂度O(n^2)，空间复杂度O(n^2)\n",
    "\n",
    "class Solution:\n",
    "    def lenLongestFibSubseq(self, arr: List[int]) -> int:\n",
    "        n = len(arr)\n",
    "        maxlen = 0\n",
    "        dp = [[0] * n for _ in range(n)] # dp[i][j]表示以arr[i]和arr[j]结尾的最长斐波那契子序列的长度\n",
    "\n",
    "        for i in range(2, n):\n",
    "            j, k = 0, i - 1\n",
    "            while j < k:\n",
    "                if arr[j] + arr[k] == arr[i]:\n",
    "                    if dp[j][k] == 0:\n",
    "                        dp[k][i] = 3\n",
    "                    else:\n",
    "                        dp[k][i] = dp[j][k] + 1\n",
    "                    maxlen = max(maxlen, dp[k][i])\n",
    "                    j += 1\n",
    "                    k -= 1\n",
    "                elif arr[j] + arr[k] < arr[i]:\n",
    "                    j += 1\n",
    "                else:\n",
    "                    k -= 1\n",
    "        \n",
    "        return maxlen\n",
    "\n",
    "\n",
    "print(Solution().lenLongestFibSubseq([1,2,3,4,5,6,7,8]))\n",
    "print(Solution().lenLongestFibSubseq([1,3,7,11,12,14,18]))\n",
    "print(Solution().lenLongestFibSubseq([2,4,7,8,9,10,14,15,18,23,32,50]))"
   ]
  },
  {
   "cell_type": "code",
   "execution_count": 2,
   "metadata": {},
   "outputs": [
    {
     "name": "stdout",
     "output_type": "stream",
     "text": [
      "5\n",
      "3\n",
      "5\n"
     ]
    }
   ],
   "source": [
    "# 方法二：双指针，哈希表，动态规划，时间复杂度O(n^2)，空间复杂度O(n^2)\n",
    "class Solution:\n",
    "    def lenLongestFibSubseq(self, arr: List[int]) -> int:\n",
    "        n, ans = len(arr), 0\n",
    "        dp = [[0] * n for _ in range(n)] # dp[i][j]表示以arr[i]和arr[j]结尾的最长斐波那契子序列的长度\n",
    "        mp = {k: v for v, k in enumerate(arr)} # 哈希表，key为arr中的值，value为对应的索引\n",
    "        for i in range(n):\n",
    "            for j in range(i+1, n):\n",
    "                ky = arr[i] + arr[j]\n",
    "                if ky in mp:\n",
    "                    k = mp[ky]\n",
    "                    dp[j][k] = dp[i][j] + 1\n",
    "                    ans = max(ans, dp[j][k])\n",
    "        return ans+2 if ans else ans # ans+2是因为dp[i][j]是从第三个数开始算的，所以要加上前两个数\n",
    "\n",
    "print(Solution().lenLongestFibSubseq([1,2,3,4,5,6,7,8]))\n",
    "print(Solution().lenLongestFibSubseq([1,3,7,11,12,14,18]))\n",
    "print(Solution().lenLongestFibSubseq([2,4,7,8,9,10,14,15,18,23,32,50]))"
   ]
  }
 ],
 "metadata": {
  "kernelspec": {
   "display_name": "Python 3.8.10 64-bit",
   "language": "python",
   "name": "python3"
  },
  "language_info": {
   "codemirror_mode": {
    "name": "ipython",
    "version": 3
   },
   "file_extension": ".py",
   "mimetype": "text/x-python",
   "name": "python",
   "nbconvert_exporter": "python",
   "pygments_lexer": "ipython3",
   "version": "3.8.10"
  },
  "orig_nbformat": 4,
  "vscode": {
   "interpreter": {
    "hash": "e0144baad0ecee903f108a3e46e51ceadd7da3fc904cfa79747d813b61464b4e"
   }
  }
 },
 "nbformat": 4,
 "nbformat_minor": 2
}
