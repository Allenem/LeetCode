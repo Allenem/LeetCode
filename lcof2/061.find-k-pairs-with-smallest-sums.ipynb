{
 "cells": [
  {
   "cell_type": "markdown",
   "metadata": {},
   "source": [
    "# LCR 061. 查找和最小的 K 对数字 (medium)\n",
    "\n",
    "给定两个以升序排列的整数数组 nums1 和 nums2 , 以及一个整数 k 。\n",
    "\n",
    "定义一对值 (u,v)，其中第一个元素来自 nums1，第二个元素来自 nums2 。\n",
    "\n",
    "请找到和最小的 k 个数对 (u1,v1),  (u2,v2)  ...  (uk,vk) 。\n",
    "\n",
    "\n",
    "示例 1:\n",
    "```\n",
    "输入: nums1 = [1,7,11], nums2 = [2,4,6], k = 3\n",
    "输出: [1,2],[1,4],[1,6]\n",
    "解释: 返回序列中的前 3 对数：\n",
    "    [1,2],[1,4],[1,6],[7,2],[7,4],[11,2],[7,6],[11,4],[11,6]\n",
    "```\n",
    "示例 2:\n",
    "```\n",
    "输入: nums1 = [1,1,2], nums2 = [1,2,3], k = 2\n",
    "输出: [1,1],[1,1]\n",
    "解释: 返回序列中的前 2 对数：\n",
    "     [1,1],[1,1],[1,2],[2,1],[1,2],[2,2],[1,3],[1,3],[2,3]\n",
    "```\n",
    "示例 3:\n",
    "```\n",
    "输入: nums1 = [1,2], nums2 = [3], k = 3 \n",
    "输出: [1,3],[2,3]\n",
    "解释: 也可能序列中所有的数对都被返回:[1,3],[2,3]\n",
    "``` \n",
    "\n",
    "提示:\n",
    "```\n",
    "1 <= nums1.length, nums2.length <= 10^4\n",
    "-10^9 <= nums1[i], nums2[i] <= 10^9\n",
    "nums1, nums2 均为升序排列\n",
    "1 <= k <= 1000\n",
    "``` \n",
    "\n",
    "注意：本题与主站 373 题相同：https://leetcode-cn.com/problems/find-k-pairs-with-smallest-sums/"
   ]
  },
  {
   "cell_type": "code",
   "execution_count": 1,
   "metadata": {},
   "outputs": [
    {
     "name": "stdout",
     "output_type": "stream",
     "text": [
      "[[1, 2], [1, 4], [1, 6]]\n",
      "[[1, 1], [1, 1]]\n",
      "[[1, 3], [2, 3]]\n"
     ]
    }
   ],
   "source": [
    "# 方法一\n",
    "from typing import List\n",
    "import heapq\n",
    "class Solution:\n",
    "    def kSmallestPairs(self, nums1: List[int], nums2: List[int], k: int) -> List[List[int]]:\n",
    "        P = []\n",
    "        n = 0\n",
    "        # P 最大堆，目的是每次推入新元素，把大于k的最大的推出\n",
    "        for i in nums1[:k]:\n",
    "            for j in nums2[:k]:\n",
    "                heapq.heappush(P, (-i-j, [i, j]))\n",
    "                if n < k:\n",
    "                    n += 1\n",
    "                else:\n",
    "                    heapq.heappop(P)\n",
    "        Q = []\n",
    "        ret = []\n",
    "        # Q 最小堆，目的是按照从小到大顺序输出\n",
    "        Plist = [(-negSum, p) for negSum, p in P]\n",
    "        for pl in Plist:\n",
    "            heapq.heappush(Q, pl)\n",
    "        while Q:\n",
    "            ret.append(heapq.heappop(Q)[1])\n",
    "        return ret\n",
    "\n",
    "\n",
    "print(Solution().kSmallestPairs([1, 7, 11], [2, 4, 6], 3))\n",
    "print(Solution().kSmallestPairs([1, 1, 2], [1, 2, 3], 2))\n",
    "print(Solution().kSmallestPairs([1, 2], [3], 3))"
   ]
  },
  {
   "cell_type": "code",
   "execution_count": 2,
   "metadata": {},
   "outputs": [
    {
     "name": "stdout",
     "output_type": "stream",
     "text": [
      "[[1, 2], [1, 4], [1, 6]]\n",
      "[[1, 1], [1, 1]]\n",
      "[[1, 3], [2, 3]]\n"
     ]
    }
   ],
   "source": [
    "# 方法二\n",
    "from typing import List\n",
    "import heapq\n",
    "class Solution:\n",
    "    def kSmallestPairs(self, nums1: List[int], nums2: List[int], k: int) -> List[List[int]]:\n",
    "        m, n = len(nums1), len(nums2)\n",
    "        ans = []\n",
    "        pq = [(nums1[i] + nums2[0], i, 0) for i in range(min(k, m))]\n",
    "        while pq and len(ans) < k:\n",
    "            _, i, j = heapq.heappop(pq)\n",
    "            ans.append([nums1[i], nums2[j]])\n",
    "            if j+1 < n:\n",
    "                heapq.heappush(pq, (nums1[i] + nums2[j+1], i, j+1))\n",
    "        return ans\n",
    "\n",
    "print(Solution().kSmallestPairs([1, 7, 11], [2, 4, 6], 3))\n",
    "print(Solution().kSmallestPairs([1, 1, 2], [1, 2, 3], 2))\n",
    "print(Solution().kSmallestPairs([1, 2], [3], 3))"
   ]
  }
 ],
 "metadata": {
  "kernelspec": {
   "display_name": "Python 3.8.10 64-bit",
   "language": "python",
   "name": "python3"
  },
  "language_info": {
   "codemirror_mode": {
    "name": "ipython",
    "version": 3
   },
   "file_extension": ".py",
   "mimetype": "text/x-python",
   "name": "python",
   "nbconvert_exporter": "python",
   "pygments_lexer": "ipython3",
   "version": "3.8.10"
  },
  "orig_nbformat": 4,
  "vscode": {
   "interpreter": {
    "hash": "e0144baad0ecee903f108a3e46e51ceadd7da3fc904cfa79747d813b61464b4e"
   }
  }
 },
 "nbformat": 4,
 "nbformat_minor": 2
}
