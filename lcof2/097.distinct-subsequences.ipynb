{
 "cells": [
  {
   "cell_type": "markdown",
   "metadata": {},
   "source": [
    "# LCR 097. 不同的子序列 (hard)\n",
    "\n",
    "给定一个字符串 s 和一个字符串 t ，计算在 s 的子序列中 t 出现的个数。\n",
    "\n",
    "字符串的一个 子序列 是指，通过删除一些（也可以不删除）字符且不干扰剩余字符相对位置所组成的新字符串。（例如，\"ACE\" 是 \"ABCDE\" 的一个子序列，而 \"AEC\" 不是）\n",
    "\n",
    "题目数据保证答案符合 32 位带符号整数范围。\n",
    "\n",
    "示例 1：\n",
    "```md\n",
    "输入：s = \"rabbbit\", t = \"rabbit\"\n",
    "输出：3\n",
    "解释：\n",
    "如下图所示, 有 3 种可以从 s 中得到 \"rabbit\" 的方案。\n",
    "```\n",
    "**rabb**b**it**, **ra**bb**bit**, **rab**b**bit**\n",
    "\n",
    "示例 2：\n",
    "```\n",
    "输入：s = \"babgbag\", t = \"bag\"\n",
    "输出：5\n",
    "解释：\n",
    "如下图所示, 有 5 种可以从 s 中得到 \"bag\" 的方案。 \n",
    "``` \n",
    "**ba**b**g**bag, **ba**bgba**g**, **b**abgb**ag**, ba**b**gb**ag**, babg**bag**\n",
    "\n",
    "提示：\n",
    "```\n",
    "0 <= s.length, t.length <= 1000\n",
    "s 和 t 由英文字母组成\n",
    "``` \n",
    "\n",
    "注意：本题与主站 115 题相同： https://leetcode-cn.com/problems/distinct-subsequences/"
   ]
  },
  {
   "cell_type": "code",
   "execution_count": 1,
   "metadata": {},
   "outputs": [
    {
     "name": "stdout",
     "output_type": "stream",
     "text": [
      "3\n",
      "5\n"
     ]
    }
   ],
   "source": [
    "# 1 2d dp\n",
    "class Solution:\n",
    "    def numDistinct(self, s: str, t: str) -> int:\n",
    "        m, n = len(s), len(t)\n",
    "        if m < n: return 0\n",
    "        dp = [[0] * (n+1) for _ in range(m+1)] # dp[i][j] 表示 s[:i] 中 t[:j] 的个数\n",
    "        dp[0][0] = 1\n",
    "        for i in range(m):\n",
    "            dp[i+1][0] = 1\n",
    "            for j in range(min(i+1, n)):\n",
    "                #  f(i, j) = f(i - 1, j) + f(i - 1, j - 1), when s[i] == t[j]\n",
    "                #  f(i, j) = f(i - 1, j)                  , when s[i] != t[j]\n",
    "                dp[i+1][j+1] = dp[i][j+1] + dp[i][j] if s[i] == t[j] else dp[i][j+1]\n",
    "        return dp[m][n]\n",
    "\n",
    "print(Solution().numDistinct(s = \"rabbbit\", t = \"rabbit\"))\n",
    "print(Solution().numDistinct(s = \"babgbag\", t = \"bag\"))"
   ]
  },
  {
   "cell_type": "code",
   "execution_count": 2,
   "metadata": {},
   "outputs": [
    {
     "name": "stdout",
     "output_type": "stream",
     "text": [
      "3\n",
      "5\n"
     ]
    }
   ],
   "source": [
    "# 2 1d dp + 倒序遍历 j\n",
    "# 最小：i限制了s能组成的t最远字符距离，n-1限制了组成的t的最远距离\n",
    "# 倒序：保证修改后面dp[j+1]的是根据前一轮i-1轮后的dp[j]运算得到的\n",
    "class Solution:\n",
    "    def numDistinct(self, s: str, t: str) -> int:\n",
    "        m, n = len(s), len(t)\n",
    "        if m < n: return 0\n",
    "        dp = [0] * (n+1) # dp[j] 表示 s[:i] 中 t[:j] 的个数\n",
    "        dp[0] = 1\n",
    "        for i in range(m):\n",
    "            for j in range(min(i, n-1), -1, -1):\n",
    "                #  f(i, j) = f(i - 1, j) + f(i - 1, j - 1), when s[i] == t[j]\n",
    "                #  f(i, j) = f(i - 1, j)                  , when s[i] != t[j]\n",
    "                if s[i] == t[j]: dp[j+1] += dp[j]\n",
    "        return dp[n]\n",
    "\n",
    "print(Solution().numDistinct(s = \"rabbbit\", t = \"rabbit\"))\n",
    "print(Solution().numDistinct(s = \"babgbag\", t = \"bag\"))\n"
   ]
  }
 ],
 "metadata": {
  "kernelspec": {
   "display_name": "Python 3.8.10 64-bit",
   "language": "python",
   "name": "python3"
  },
  "language_info": {
   "codemirror_mode": {
    "name": "ipython",
    "version": 3
   },
   "file_extension": ".py",
   "mimetype": "text/x-python",
   "name": "python",
   "nbconvert_exporter": "python",
   "pygments_lexer": "ipython3",
   "version": "3.8.10"
  },
  "orig_nbformat": 4,
  "vscode": {
   "interpreter": {
    "hash": "e0144baad0ecee903f108a3e46e51ceadd7da3fc904cfa79747d813b61464b4e"
   }
  }
 },
 "nbformat": 4,
 "nbformat_minor": 2
}
