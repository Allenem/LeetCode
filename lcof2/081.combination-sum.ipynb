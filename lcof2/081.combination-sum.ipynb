{
 "cells": [
  {
   "cell_type": "markdown",
   "metadata": {},
   "source": [
    "# LCR 081. 组合总和 (medium)\n",
    "\n",
    "给定一个无重复元素的正整数数组 candidates 和一个正整数 target ，找出 candidates 中所有可以使数字和为目标数 target 的唯一组合。\n",
    "\n",
    "candidates 中的数字可以无限制重复被选取。如果至少一个所选数字数量不同，则两种组合是不同的。 \n",
    "\n",
    "对于给定的输入，保证和为 target 的唯一组合数少于 150 个。\n",
    "\n",
    "示例 1：\n",
    "```\n",
    "输入: candidates = [2,3,6,7], target = 7\n",
    "输出: [[7],[2,2,3]]\n",
    "```\n",
    "示例 2：\n",
    "```\n",
    "输入: candidates = [2,3,5], target = 8\n",
    "输出: [[2,2,2,2],[2,3,3],[3,5]]\n",
    "```\n",
    "示例 3：\n",
    "```\n",
    "输入: candidates = [2], target = 1\n",
    "输出: []\n",
    "```\n",
    "示例 4：\n",
    "```\n",
    "输入: candidates = [1], target = 1\n",
    "输出: [[1]]\n",
    "```\n",
    "示例 5：\n",
    "```\n",
    "输入: candidates = [1], target = 2\n",
    "输出: [[1,1]]\n",
    "``` \n",
    "\n",
    "提示：\n",
    "```\n",
    "1 <= candidates.length <= 30\n",
    "1 <= candidates[i] <= 200\n",
    "candidate 中的每个元素都是独一无二的。\n",
    "1 <= target <= 500\n",
    "``` \n",
    "\n",
    "注意：本题与主站 39 题相同： https://leetcode-cn.com/problems/combination-sum/"
   ]
  },
  {
   "cell_type": "code",
   "execution_count": 1,
   "metadata": {},
   "outputs": [
    {
     "name": "stdout",
     "output_type": "stream",
     "text": [
      "[[2, 2, 3], [7]]\n",
      "[[2, 2, 2, 2], [2, 3, 3], [3, 5]]\n",
      "[]\n",
      "[[1]]\n",
      "[[1, 1]]\n"
     ]
    }
   ],
   "source": [
    "from typing import List\n",
    "class Solution:\n",
    "    def combinationSum(self, candidates: List[int], target: int) -> List[List[int]]:\n",
    "        def bk(tmp, last, idx):\n",
    "            if last == 0:\n",
    "                ans.append(tmp[:])\n",
    "                return\n",
    "            for i in range(idx, len(candidates)):\n",
    "                if candidates[i] > last: continue\n",
    "                tmp.append(candidates[i])\n",
    "                bk(tmp, last-candidates[i], i)\n",
    "                tmp.pop()\n",
    "        ans = []\n",
    "        bk([], target, 0)\n",
    "        return ans\n",
    "\n",
    "print(Solution().combinationSum([2,3,6,7], 7))\n",
    "print(Solution().combinationSum([2,3,5], 8))\n",
    "print(Solution().combinationSum([2], 1))\n",
    "print(Solution().combinationSum([1], 1))\n",
    "print(Solution().combinationSum([1], 2))\n"
   ]
  }
 ],
 "metadata": {
  "kernelspec": {
   "display_name": "Python 3.8.10 64-bit",
   "language": "python",
   "name": "python3"
  },
  "language_info": {
   "codemirror_mode": {
    "name": "ipython",
    "version": 3
   },
   "file_extension": ".py",
   "mimetype": "text/x-python",
   "name": "python",
   "nbconvert_exporter": "python",
   "pygments_lexer": "ipython3",
   "version": "3.8.10"
  },
  "orig_nbformat": 4,
  "vscode": {
   "interpreter": {
    "hash": "e0144baad0ecee903f108a3e46e51ceadd7da3fc904cfa79747d813b61464b4e"
   }
  }
 },
 "nbformat": 4,
 "nbformat_minor": 2
}
