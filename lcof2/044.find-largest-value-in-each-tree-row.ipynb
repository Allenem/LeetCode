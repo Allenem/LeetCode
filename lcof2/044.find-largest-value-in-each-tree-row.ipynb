{
 "cells": [
  {
   "cell_type": "markdown",
   "metadata": {},
   "source": [
    "# LCR 044. 在每个树行中找最大值 (medium)\n",
    "\n",
    "给定一棵二叉树的根节点 root ，请找出该二叉树中每一层的最大值。\n",
    "\n",
    "示例1：\n",
    "```\n",
    "输入: root = [1,3,2,5,3,null,9]\n",
    "输出: [1,3,9]\n",
    "解释:\n",
    "          1\n",
    "         / \\\n",
    "        3   2\n",
    "       / \\   \\  \n",
    "      5   3   9 \n",
    "```\n",
    "示例2：\n",
    "```\n",
    "输入: root = [1,2,3]\n",
    "输出: [1,3]\n",
    "解释:\n",
    "          1\n",
    "         / \\\n",
    "        2   3\n",
    "```\n",
    "示例3：\n",
    "```\n",
    "输入: root = [1]\n",
    "输出: [1]\n",
    "```\n",
    "示例4：\n",
    "```\n",
    "输入: root = [1,null,2]\n",
    "输出: [1,2]\n",
    "解释:      \n",
    "           1 \n",
    "            \\\n",
    "             2     \n",
    "```\n",
    "示例5：\n",
    "```\n",
    "输入: root = []\n",
    "输出: []\n",
    "``` \n",
    "\n",
    "提示：\n",
    "```\n",
    "二叉树的节点个数的范围是 [0,10^4]\n",
    "-2^31 <= Node.val <= 2^31 - 1\n",
    "``` \n",
    "\n",
    "注意：本题与主站 515 题相同： https://leetcode-cn.com/problems/find-largest-value-in-each-tree-row/"
   ]
  },
  {
   "cell_type": "code",
   "execution_count": 2,
   "metadata": {},
   "outputs": [
    {
     "name": "stdout",
     "output_type": "stream",
     "text": [
      "[1, 3, 9]\n",
      "[1, 3]\n",
      "[1]\n",
      "[1, 2]\n",
      "[]\n"
     ]
    }
   ],
   "source": [
    "# 层序遍历\n",
    "from typing import List\n",
    "\n",
    "# Definition for a binary tree node.\n",
    "class TreeNode:\n",
    "    def __init__(self, val=0, left=None, right=None):\n",
    "        self.val = val\n",
    "        self.left = left\n",
    "        self.right = right\n",
    "\n",
    "class Solution:\n",
    "    def largestValues(self, root: TreeNode) -> List[int]:\n",
    "        if not root: return []\n",
    "        q = [root]\n",
    "        ret = []\n",
    "        while q:\n",
    "            ma = -float('inf')\n",
    "            for _ in range(len(q)):\n",
    "                node = q.pop(0)\n",
    "                ma = max(ma, node.val)\n",
    "                if node.left: q.append(node.left)\n",
    "                if node.right: q.append(node.right)\n",
    "            ret.append(ma)\n",
    "        return ret\n",
    "\n",
    "# _______________________TESTS_______________________\n",
    "def lst2tree(lst):\n",
    "    if not lst: return None\n",
    "    root = TreeNode(lst.pop(0))\n",
    "    q = [root]\n",
    "    while lst:\n",
    "        node = q.pop(0)\n",
    "        if lst:\n",
    "            va = lst.pop(0)\n",
    "            node.left = TreeNode(va) if va else None\n",
    "            q.append(node.left)\n",
    "        if lst:\n",
    "            va = lst.pop(0)\n",
    "            node.right = TreeNode(va) if va else None\n",
    "            q.append(node.right)\n",
    "    return root\n",
    "\n",
    "print(Solution().largestValues(lst2tree([1,3,2,5,3,None,9])))\n",
    "print(Solution().largestValues(lst2tree([1,2,3])))\n",
    "print(Solution().largestValues(lst2tree([1])))\n",
    "print(Solution().largestValues(lst2tree([1,None,2])))\n",
    "print(Solution().largestValues(lst2tree([])))"
   ]
  }
 ],
 "metadata": {
  "kernelspec": {
   "display_name": "Python 3.8.10 64-bit",
   "language": "python",
   "name": "python3"
  },
  "language_info": {
   "codemirror_mode": {
    "name": "ipython",
    "version": 3
   },
   "file_extension": ".py",
   "mimetype": "text/x-python",
   "name": "python",
   "nbconvert_exporter": "python",
   "pygments_lexer": "ipython3",
   "version": "3.8.10"
  },
  "orig_nbformat": 4,
  "vscode": {
   "interpreter": {
    "hash": "e0144baad0ecee903f108a3e46e51ceadd7da3fc904cfa79747d813b61464b4e"
   }
  }
 },
 "nbformat": 4,
 "nbformat_minor": 2
}
