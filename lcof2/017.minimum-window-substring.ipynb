{
 "cells": [
  {
   "cell_type": "markdown",
   "metadata": {},
   "source": [
    "# LCR 017. 最小覆盖子串 (hard)\n",
    "\n",
    "给定两个字符串 s 和 t 。返回 s 中包含 t 的所有字符的最短子字符串。如果 s 中不存在符合条件的子字符串，则返回空字符串 \"\" 。\n",
    "\n",
    "如果 s 中存在多个符合条件的子字符串，返回任意一个。\n",
    "\n",
    "注意： 对于 t 中重复字符，我们寻找的子字符串中该字符数量必须不少于 t 中该字符数量。\n",
    "\n",
    "\n",
    "示例 1：\n",
    "```\n",
    "输入：s = \"ADOBECODEBANC\", t = \"ABC\"\n",
    "输出：\"BANC\" \n",
    "解释：最短子字符串 \"BANC\" 包含了字符串 t 的所有字符 'A'、'B'、'C'\n",
    "```\n",
    "示例 2：\n",
    "```\n",
    "输入：s = \"a\", t = \"a\"\n",
    "输出：\"a\"\n",
    "```\n",
    "示例 3：\n",
    "```\n",
    "输入：s = \"a\", t = \"aa\"\n",
    "输出：\"\"\n",
    "解释：t 中两个字符 'a' 均应包含在 s 的子串中，因此没有符合条件的子字符串，返回空字符串。\n",
    "``` \n",
    "\n",
    "提示：\n",
    "```\n",
    "1 <= s.length, t.length <= 10^5\n",
    "s 和 t 由英文字母组成\n",
    "``` \n",
    "\n",
    "进阶：你能设计一个在 o(n) 时间内解决此问题的算法吗？\n",
    "\n",
    "\n",
    "注意：本题与主站 76 题相似（本题答案不唯一）：https://leetcode-cn.com/problems/minimum-window-substring/"
   ]
  },
  {
   "cell_type": "code",
   "execution_count": 1,
   "metadata": {},
   "outputs": [
    {
     "name": "stdout",
     "output_type": "stream",
     "text": [
      "BANC\n",
      "a\n",
      "\n"
     ]
    }
   ],
   "source": [
    "# 滑动窗口\n",
    "from collections import Counter, defaultdict\n",
    "class Solution:\n",
    "    def minWindow(self, s: str, t: str) -> str:\n",
    "        from collections import defaultdict, Counter\n",
    "        # s子窗口[l,r]中各个字符计数字典\n",
    "        hs = defaultdict(int)\n",
    "        # 字符串t中各个字符计数字典\n",
    "        ht = Counter(t)\n",
    "        # l滑窗左边界；cnt有效添加滑窗右边界字符的操作计数，上限可以到len(t)；要返回的最小窗口\n",
    "        l, cnt, ret = 0, 0, ''\n",
    "        # 开始滑窗，r滑窗右边界\n",
    "        for r in range(len(s)):\n",
    "            # 右边界字符计数在字典hs里+1\n",
    "            hs[s[r]] += 1\n",
    "            # 该右边界字符在hs数量不能满足ht中的数量，则每次操作+1，注意这里的操作是指滑窗加入的s[r]是对构成t有效的操作\n",
    "            if hs[s[r]] <= ht[s[r]]:\n",
    "                cnt += 1\n",
    "            # 左边界多余了：窗口左边界字符计数-1，左边界l+1\n",
    "            while l < r and hs[s[l]] > ht[s[l]]:\n",
    "                hs[s[l]] -= 1\n",
    "                l += 1\n",
    "            # 有效操作完成，即该滑窗包含所有t的字符，r-l+1>=len(t) & cnt == len(t)\n",
    "            if cnt == len(t):\n",
    "                # 第一次有效操作完成直接赋值；或者现在的窗口长度<之前的窗口长度\n",
    "                if not ret or r-l+1 < len(ret):\n",
    "                    ret = s[l:r+1]\n",
    "        return ret\n",
    "\n",
    "\n",
    "print(Solution().minWindow(\"ADOBECODEBANC\", \"ABC\"))\n",
    "print(Solution().minWindow(\"a\", \"a\"))\n",
    "print(Solution().minWindow(\"a\", \"aa\"))\n"
   ]
  }
 ],
 "metadata": {
  "kernelspec": {
   "display_name": "Python 3.8.10 64-bit",
   "language": "python",
   "name": "python3"
  },
  "language_info": {
   "codemirror_mode": {
    "name": "ipython",
    "version": 3
   },
   "file_extension": ".py",
   "mimetype": "text/x-python",
   "name": "python",
   "nbconvert_exporter": "python",
   "pygments_lexer": "ipython3",
   "version": "3.8.10"
  },
  "orig_nbformat": 4,
  "vscode": {
   "interpreter": {
    "hash": "e0144baad0ecee903f108a3e46e51ceadd7da3fc904cfa79747d813b61464b4e"
   }
  }
 },
 "nbformat": 4,
 "nbformat_minor": 2
}
