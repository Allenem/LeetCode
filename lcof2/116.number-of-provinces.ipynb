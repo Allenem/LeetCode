{
 "cells": [
  {
   "cell_type": "markdown",
   "metadata": {},
   "source": [
    "# LCR 116. 省份数量 (medium)\n",
    "\n",
    "有 n 个城市，其中一些彼此相连，另一些没有相连。如果城市 a 与城市 b 直接相连，且城市 b 与城市 c 直接相连，那么城市 a 与城市 c 间接相连。\n",
    "\n",
    "省份 是一组直接或间接相连的城市，组内不含其他没有相连的城市。\n",
    "\n",
    "给你一个 n x n 的矩阵 isConnected ，其中 isConnected[i][j] = 1 表示第 i 个城市和第 j 个城市直接相连，而 isConnected[i][j] = 0 表示二者不直接相连。\n",
    "\n",
    "返回矩阵中 省份 的数量。\n",
    "\n",
    "示例 1：\n",
    "```\n",
    "1————2\n",
    "  3\n",
    "\n",
    "输入：isConnected = [[1,1,0],[1,1,0],[0,0,1]]\n",
    "输出：2\n",
    "```\n",
    "示例 2：\n",
    "```\n",
    "1    2\n",
    "   3\n",
    "   \n",
    "输入：isConnected = [[1,0,0],[0,1,0],[0,0,1]]\n",
    "输出：3\n",
    "```\n",
    "\n",
    "提示：\n",
    "```\n",
    "1 <= n <= 200\n",
    "n == isConnected.length\n",
    "n == isConnected[i].length\n",
    "isConnected[i][j] 为 1 或 0\n",
    "isConnected[i][i] == 1\n",
    "isConnected[i][j] == isConnected[j][i]\n",
    "``` \n",
    "\n",
    "注意：本题与主站 547 题相同： https://leetcode-cn.com/problems/number-of-provinces/"
   ]
  },
  {
   "cell_type": "code",
   "execution_count": 2,
   "metadata": {},
   "outputs": [
    {
     "name": "stdout",
     "output_type": "stream",
     "text": [
      "2\n",
      "3\n"
     ]
    }
   ],
   "source": [
    "# 1. DFS\n",
    "from typing import List\n",
    "class Solution:\n",
    "    def findCircleNum(self, isConnected: List[List[int]]) -> int:\n",
    "        def dfs(i):\n",
    "            for j in cities:\n",
    "                if isConnected[i][j] and j not in see:\n",
    "                    see.add(j)\n",
    "                    dfs(j)\n",
    "\n",
    "        n = len(isConnected)\n",
    "        cities, provinces, see = list(range(n)), 0, set()\n",
    "\n",
    "        for i in range(n):\n",
    "            if i not in see:\n",
    "                see.add(i)\n",
    "                dfs(i)\n",
    "                provinces += 1\n",
    "        return provinces\n",
    "\n",
    "print(Solution().findCircleNum([[1,1,0],[1,1,0],[0,0,1]]))\n",
    "print(Solution().findCircleNum([[1,0,0],[0,1,0],[0,0,1]]))\n"
   ]
  },
  {
   "cell_type": "code",
   "execution_count": 3,
   "metadata": {},
   "outputs": [
    {
     "name": "stdout",
     "output_type": "stream",
     "text": [
      "2\n",
      "3\n"
     ]
    }
   ],
   "source": [
    "# 2. Union Find\n",
    "from typing import List\n",
    "\n",
    "class UionFind():\n",
    "    def __init__(self):\n",
    "        self.father = {}\n",
    "        self.numOfSets = 0\n",
    "\n",
    "    def find(self, x):\n",
    "        root = x\n",
    "        # 寻找根\n",
    "        while self.father[root] != None:\n",
    "            root = self.father[root]\n",
    "        # 路径压缩\n",
    "        while x != root:\n",
    "            fa = self.father[x]\n",
    "            self.father[x] = root\n",
    "            x = fa\n",
    "        return root\n",
    "\n",
    "    def union(self, x, y):\n",
    "        fx, fy = self.find(x), self.find(y)\n",
    "        if fx != fy:\n",
    "            self.father[fx] = fy\n",
    "            self.numOfSets -= 1\n",
    "\n",
    "    def add(self, x):\n",
    "        if x not in self.father:\n",
    "            self.father[x] = None\n",
    "            self.numOfSets += 1\n",
    "\n",
    "\n",
    "class Solution:\n",
    "    def findCircleNum(self, isConnected: List[List[int]]) -> int:\n",
    "        uf = UionFind()\n",
    "        for i in range(len(isConnected)):\n",
    "            uf.add(i)\n",
    "            for j in range(i):\n",
    "                if isConnected[i][j]:\n",
    "                    uf.union(i, j)\n",
    "        return uf.numOfSets\n",
    "\n",
    "print(Solution().findCircleNum([[1,1,0],[1,1,0],[0,0,1]]))\n",
    "print(Solution().findCircleNum([[1,0,0],[0,1,0],[0,0,1]]))"
   ]
  }
 ],
 "metadata": {
  "kernelspec": {
   "display_name": "Python 3.8.10 64-bit",
   "language": "python",
   "name": "python3"
  },
  "language_info": {
   "codemirror_mode": {
    "name": "ipython",
    "version": 3
   },
   "file_extension": ".py",
   "mimetype": "text/x-python",
   "name": "python",
   "nbconvert_exporter": "python",
   "pygments_lexer": "ipython3",
   "version": "3.8.10"
  },
  "orig_nbformat": 4,
  "vscode": {
   "interpreter": {
    "hash": "e0144baad0ecee903f108a3e46e51ceadd7da3fc904cfa79747d813b61464b4e"
   }
  }
 },
 "nbformat": 4,
 "nbformat_minor": 2
}
