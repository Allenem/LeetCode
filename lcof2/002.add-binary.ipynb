{
 "cells": [
  {
   "cell_type": "markdown",
   "metadata": {},
   "source": [
    "# LCR 002. 二进制求和 (easy)\n",
    "\n",
    "给定两个 01 字符串 a 和 b ，请计算它们的和，并以二进制字符串的形式输出。\n",
    "\n",
    "输入为 非空 字符串且只包含数字 1 和 0。\n",
    " \n",
    "\n",
    "示例 1:\n",
    "```\n",
    "输入: a = \"11\", b = \"10\"\n",
    "输出: \"101\"\n",
    "```\n",
    "示例 2:\n",
    "```\n",
    "输入: a = \"1010\", b = \"1011\"\n",
    "输出: \"10101\"\n",
    "```\n",
    "\n",
    "提示：\n",
    "```\n",
    "每个字符串仅由字符 '0' 或 '1' 组成。\n",
    "1 <= a.length, b.length <= 10^4\n",
    "字符串如果不是 \"0\" ，就都不含前导零。\n",
    "```\n",
    "注意：本题与主站 67 题相同：https://leetcode-cn.com/problems/add-binary/\n",
    "\n",
    "来源：力扣（LeetCode）\n",
    "链接：https://leetcode.cn/problems/JFETK5\n",
    "著作权归领扣网络所有。商业转载请联系官方授权，非商业转载请注明出处。"
   ]
  },
  {
   "cell_type": "code",
   "execution_count": 1,
   "metadata": {},
   "outputs": [
    {
     "name": "stdout",
     "output_type": "stream",
     "text": [
      "101\n",
      "10101\n"
     ]
    }
   ],
   "source": [
    "# 解法一：二进制转十进制，相加后再转二进制\n",
    "class Solution:\n",
    "    def addBinary(self, a: str, b: str) -> str:\n",
    "        bilist = []\n",
    "        c, d = 0, 0\n",
    "        m, n = len(a), len(b)\n",
    "        for i in range(m):\n",
    "            c += int(a[i])*2**(m-1-i)\n",
    "        for i in range(n):\n",
    "            d += int(b[i])*2**(n-1-i)\n",
    "        c, d = int(c), int(d)\n",
    "        while d != 0:\n",
    "            c, d = c^d, (c&d)<<1\n",
    "        while c != 0:\n",
    "            bilist.append(c%2)\n",
    "            c //= 2\n",
    "        res = ''\n",
    "        for i in bilist[::-1]:\n",
    "            res += str(i)\n",
    "        return res if res else '0'\n",
    "\n",
    "\n",
    "print(Solution().addBinary('11', '10'))\n",
    "print(Solution().addBinary('1010', '1011'))"
   ]
  },
  {
   "cell_type": "code",
   "execution_count": 2,
   "metadata": {},
   "outputs": [
    {
     "name": "stdout",
     "output_type": "stream",
     "text": [
      "101\n",
      "10101\n"
     ]
    }
   ],
   "source": [
    "# 解法二：二进制从后到前每一位相加，注意进位\n",
    "class Solution:\n",
    "    def addBinary(self, a: str, b: str) -> str:\n",
    "        m, n = len(a), len(b)\n",
    "        maxlen = max(m, n)\n",
    "        newstr = ''\n",
    "        c = 0\n",
    "        if maxlen == m: b = '0'*(m-n)+b\n",
    "        else: a = '0'*(n-m)+a\n",
    "        # print(a,b)\n",
    "        for i in range(maxlen):\n",
    "            s = int(a[-i-1])^int(b[-i-1])^c\n",
    "            c = int(a[-i-1])&int(b[-i-1]) or int(a[-i-1])&c or int(b[-i-1])&c\n",
    "            newstr += str(s)\n",
    "            # print(s,c,newstr)\n",
    "        if c != 0: newstr += str(c)\n",
    "        return newstr[::-1]\n",
    "\n",
    "\n",
    "print(Solution().addBinary('11', '10'))\n",
    "print(Solution().addBinary('1010', '1011'))"
   ]
  },
  {
   "cell_type": "code",
   "execution_count": 3,
   "metadata": {},
   "outputs": [
    {
     "name": "stdout",
     "output_type": "stream",
     "text": [
      "101\n",
      "10101\n"
     ]
    }
   ],
   "source": [
    "# 解法三：用int()函数将二进制转换为十进制，再用bin()函数将十进制转换为二进制\n",
    "class Solution:\n",
    "    def addBinary(self, a: str, b: str) -> str:\n",
    "        return bin(int(a,2)+int(b,2))[2:]\n",
    "\n",
    "\n",
    "print(Solution().addBinary('11', '10'))\n",
    "print(Solution().addBinary('1010', '1011'))"
   ]
  }
 ],
 "metadata": {
  "kernelspec": {
   "display_name": "Python 3.8.10 64-bit",
   "language": "python",
   "name": "python3"
  },
  "language_info": {
   "codemirror_mode": {
    "name": "ipython",
    "version": 3
   },
   "file_extension": ".py",
   "mimetype": "text/x-python",
   "name": "python",
   "nbconvert_exporter": "python",
   "pygments_lexer": "ipython3",
   "version": "3.8.10"
  },
  "orig_nbformat": 4,
  "vscode": {
   "interpreter": {
    "hash": "e0144baad0ecee903f108a3e46e51ceadd7da3fc904cfa79747d813b61464b4e"
   }
  }
 },
 "nbformat": 4,
 "nbformat_minor": 2
}
