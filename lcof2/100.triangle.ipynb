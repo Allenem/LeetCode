{
 "cells": [
  {
   "cell_type": "markdown",
   "metadata": {},
   "source": [
    "# LCR 100. 三角形最小路径和 (medium)\n",
    "\n",
    "给定一个三角形 triangle ，找出自顶向下的最小路径和。\n",
    "\n",
    "每一步只能移动到下一行中相邻的结点上。相邻的结点 在这里指的是 下标 与 上一层结点下标 相同或者等于 上一层结点下标 + 1 的两个结点。也就是说，如果正位于当前行的下标 i ，那么下一步可以移动到下一行的下标 i 或 i + 1 。\n",
    "\n",
    "示例 1：\n",
    "```\n",
    "输入：triangle = [[2],[3,4],[6,5,7],[4,1,8,3]]\n",
    "输出：11\n",
    "解释：如下面简图所示：\n",
    "   (2)\n",
    "  (3) 4\n",
    " 6 (5) 7\n",
    "4 (1) 8 3\n",
    "自顶向下的最小路径和为 11（即，2 + 3 + 5 + 1 = 11）。\n",
    "```\n",
    "\n",
    "示例 2：\n",
    "```\n",
    "输入：triangle = [[-10]]\n",
    "输出：-10\n",
    "``` \n",
    "\n",
    "提示：\n",
    "```\n",
    "1 <= triangle.length <= 200\n",
    "triangle[0].length == 1\n",
    "triangle[i].length == triangle[i - 1].length + 1\n",
    "-10^4 <= triangle[i][j] <= 10^4\n",
    "``` \n",
    "\n",
    "进阶：\n",
    "\n",
    "你可以只使用 O(n) 的额外空间（n 为三角形的总行数）来解决这个问题吗？\n",
    " \n",
    "\n",
    "注意：本题与主站 120 题相同： https://leetcode-cn.com/problems/triangle/"
   ]
  },
  {
   "cell_type": "code",
   "execution_count": 1,
   "metadata": {},
   "outputs": [
    {
     "name": "stdout",
     "output_type": "stream",
     "text": [
      "11\n",
      "-10\n"
     ]
    }
   ],
   "source": [
    "from typing import List\n",
    "\n",
    "# 1 2ddp Space O(n^2)\n",
    "class Solution:\n",
    "    def minimumTotal(self, triangle: List[List[int]]) -> int:\n",
    "        n = len(triangle)\n",
    "        f = [[0] * n for _ in range(n)]\n",
    "        f[0][0] = triangle[0][0]\n",
    "\n",
    "        for i in range(1, n):\n",
    "            # 左边界\n",
    "            f[i][0] = f[i - 1][0] + triangle[i][0]\n",
    "            # 中间\n",
    "            for j in range(1, i):\n",
    "                f[i][j] = min(f[i-1][j], f[i-1][j-1]) + triangle[i][j]\n",
    "            # 右边界\n",
    "            f[i][i] = f[i - 1][i - 1] + triangle[i][i]\n",
    "            \n",
    "        return min(f[-1])\n",
    "\n",
    "print(Solution().minimumTotal([[2],[3,4],[6,5,7],[4,1,8,3]]))\n",
    "print(Solution().minimumTotal([[-10]]))"
   ]
  },
  {
   "cell_type": "code",
   "execution_count": 2,
   "metadata": {},
   "outputs": [
    {
     "name": "stdout",
     "output_type": "stream",
     "text": [
      "11\n",
      "-10\n"
     ]
    }
   ],
   "source": [
    "# 2 1ddp Space O(n)\n",
    "class Solution:\n",
    "    def minimumTotal(self, triangle: List[List[int]]) -> int:\n",
    "        n = len(triangle)\n",
    "        f = [0] * n\n",
    "        f[0] = triangle[0][0]\n",
    "\n",
    "        for i in range(1, n):\n",
    "            # 右边界\n",
    "            f[i] = f[i - 1] + triangle[i][i]\n",
    "            # 中间\n",
    "            for j in range(i-1, 0, -1):\n",
    "                f[j] = min(f[j], f[j-1]) + triangle[i][j]\n",
    "            # 左边界\n",
    "            f[0] += triangle[i][0]\n",
    "\n",
    "        return min(f)\n",
    "        \n",
    "print(Solution().minimumTotal([[2],[3,4],[6,5,7],[4,1,8,3]]))\n",
    "print(Solution().minimumTotal([[-10]]))"
   ]
  },
  {
   "cell_type": "code",
   "execution_count": 3,
   "metadata": {},
   "outputs": [
    {
     "name": "stdout",
     "output_type": "stream",
     "text": [
      "11\n",
      "-10\n"
     ]
    }
   ],
   "source": [
    "# 3 原地修改\n",
    "class Solution:\n",
    "    def minimumTotal(self, triangle: List[List[int]]) -> int:\n",
    "        for i in range(len(triangle)):\n",
    "            for j in range(len(triangle[i])):\n",
    "                if i == j == 0: continue\n",
    "                elif j == 0: triangle[i][j] += triangle[i-1][0]\n",
    "                elif j == len(triangle[i])-1: triangle[i][j] += triangle[i-1][-1]\n",
    "                else: triangle[i][j] += min(triangle[i-1][j-1], triangle[i-1][j])\n",
    "        return min(triangle[-1])\n",
    "        \n",
    "print(Solution().minimumTotal([[2],[3,4],[6,5,7],[4,1,8,3]]))\n",
    "print(Solution().minimumTotal([[-10]]))"
   ]
  }
 ],
 "metadata": {
  "kernelspec": {
   "display_name": "Python 3.8.10 64-bit",
   "language": "python",
   "name": "python3"
  },
  "language_info": {
   "codemirror_mode": {
    "name": "ipython",
    "version": 3
   },
   "file_extension": ".py",
   "mimetype": "text/x-python",
   "name": "python",
   "nbconvert_exporter": "python",
   "pygments_lexer": "ipython3",
   "version": "3.8.10"
  },
  "orig_nbformat": 4,
  "vscode": {
   "interpreter": {
    "hash": "e0144baad0ecee903f108a3e46e51ceadd7da3fc904cfa79747d813b61464b4e"
   }
  }
 },
 "nbformat": 4,
 "nbformat_minor": 2
}
