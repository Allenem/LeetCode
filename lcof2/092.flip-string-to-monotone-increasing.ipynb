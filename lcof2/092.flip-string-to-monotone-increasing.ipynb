{
 "cells": [
  {
   "cell_type": "markdown",
   "metadata": {},
   "source": [
    "# LCR 092. 将字符串翻转到单调递增 (medium)\n",
    "\n",
    "如果一个由 '0' 和 '1' 组成的字符串，是以一些 '0'（可能没有 '0'）后面跟着一些 '1'（也可能没有 '1'）的形式组成的，那么该字符串是 单调递增 的。\n",
    "\n",
    "我们给出一个由字符 '0' 和 '1' 组成的字符串 s，我们可以将任何 '0' 翻转为 '1' 或者将 '1' 翻转为 '0'。\n",
    "\n",
    "返回使 s 单调递增 的最小翻转次数。\n",
    "\n",
    "示例 1：\n",
    "```\n",
    "输入：s = \"00110\"\n",
    "输出：1\n",
    "解释：我们翻转最后一位得到 00111.\n",
    "```\n",
    "示例 2：\n",
    "```\n",
    "输入：s = \"010110\"\n",
    "输出：2\n",
    "解释：我们翻转得到 011111，或者是 000111。\n",
    "```\n",
    "示例 3：\n",
    "```\n",
    "输入：s = \"00011000\"\n",
    "输出：2\n",
    "解释：我们翻转得到 00000000。\n",
    "``` \n",
    "\n",
    "提示：\n",
    "```\n",
    "1 <= s.length <= 20000\n",
    "s 中只包含字符 '0' 和 '1'\n",
    "``` \n",
    "\n",
    "注意：本题与主站 926 题相同： https://leetcode-cn.com/problems/flip-string-to-monotone-increasing/"
   ]
  },
  {
   "cell_type": "code",
   "execution_count": 1,
   "metadata": {},
   "outputs": [
    {
     "name": "stdout",
     "output_type": "stream",
     "text": [
      "1\n",
      "2\n",
      "2\n"
     ]
    }
   ],
   "source": [
    "class Solution:\n",
    "    def minFlipsMonoIncr(self, s: str) -> int:\n",
    "        dp0 = dp1 = 0 # 当前最终是0/1时的最小翻转次数\n",
    "        for i in s:\n",
    "            dp1 = min(dp0, dp1) + 1 if i == '0' else min(dp0, dp1)\n",
    "            dp0 = dp0 if i == '0' else dp0 + 1\n",
    "        return min(dp0, dp1)\n",
    "        \n",
    "print(Solution().minFlipsMonoIncr(\"00110\"))\n",
    "print(Solution().minFlipsMonoIncr(\"010110\"))\n",
    "print(Solution().minFlipsMonoIncr(\"00011000\"))"
   ]
  }
 ],
 "metadata": {
  "kernelspec": {
   "display_name": "Python 3.8.10 64-bit",
   "language": "python",
   "name": "python3"
  },
  "language_info": {
   "codemirror_mode": {
    "name": "ipython",
    "version": 3
   },
   "file_extension": ".py",
   "mimetype": "text/x-python",
   "name": "python",
   "nbconvert_exporter": "python",
   "pygments_lexer": "ipython3",
   "version": "3.8.10"
  },
  "orig_nbformat": 4,
  "vscode": {
   "interpreter": {
    "hash": "e0144baad0ecee903f108a3e46e51ceadd7da3fc904cfa79747d813b61464b4e"
   }
  }
 },
 "nbformat": 4,
 "nbformat_minor": 2
}
