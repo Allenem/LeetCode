{
 "cells": [
  {
   "cell_type": "markdown",
   "metadata": {},
   "source": [
    "# LCR 021. 删除链表的倒数第 N 个结点 (medium)\n",
    "\n",
    "给定一个链表，删除链表的倒数第 n 个结点，并且返回链表的头结点。\n",
    "\n",
    "\n",
    "示例 1：\n",
    "\n",
    "```\n",
    "1->2->3->4->5\n",
    "↓\n",
    "1->2->3->5\n",
    "```\n",
    "\n",
    "![img](https://assets.leetcode.com/uploads/2020/10/03/remove_ex1.jpg)\n",
    "\n",
    "```\n",
    "输入：head = [1,2,3,4,5], n = 2\n",
    "输出：[1,2,3,5]\n",
    "```\n",
    "示例 2：\n",
    "```\n",
    "输入：head = [1], n = 1\n",
    "输出：[]\n",
    "```\n",
    "示例 3：\n",
    "```\n",
    "输入：head = [1,2], n = 1\n",
    "输出：[1]\n",
    "``` \n",
    "\n",
    "提示：\n",
    "```\n",
    "链表中结点的数目为 sz\n",
    "1 <= sz <= 30\n",
    "0 <= Node.val <= 100\n",
    "1 <= n <= sz\n",
    "```\n",
    "\n",
    "进阶：能尝试使用一趟扫描实现吗？\n",
    "\n",
    "\n",
    "注意：本题与主站 19 题相同： https://leetcode-cn.com/problems/remove-nth-node-from-end-of-list/"
   ]
  },
  {
   "cell_type": "code",
   "execution_count": 1,
   "metadata": {},
   "outputs": [
    {
     "name": "stdout",
     "output_type": "stream",
     "text": [
      "[1, 2, 3, 5]\n",
      "[]\n",
      "[1]\n"
     ]
    }
   ],
   "source": [
    "# 快慢指针\n",
    "# Definition for singly-linked list.\n",
    "class ListNode:\n",
    "    def __init__(self, val=0, next=None):\n",
    "        self.val = val\n",
    "        self.next = next\n",
    "\n",
    "class Solution:\n",
    "    def removeNthFromEnd(self, head: ListNode, n: int) -> ListNode:\n",
    "        s = dummy = ListNode(0, head)\n",
    "        f = head\n",
    "        n -= 1\n",
    "        while n:\n",
    "            f = f.next\n",
    "            n -= 1\n",
    "        while f.next:\n",
    "            s = s.next\n",
    "            f = f.next\n",
    "        s.next = s.next.next\n",
    "        return dummy.next\n",
    "\n",
    "\n",
    "# ------------------以下为测试代码------------------\n",
    "\n",
    "def ln2lst(ln: ListNode) -> list:\n",
    "    lst = []\n",
    "    while ln:\n",
    "        lst.append(ln.val)\n",
    "        ln = ln.next\n",
    "    return lst\n",
    "\n",
    "\n",
    "head = ListNode(1, ListNode(2, ListNode(3, ListNode(4, ListNode(5)))))\n",
    "n = 2\n",
    "print(ln2lst(Solution().removeNthFromEnd(head, n)))\n",
    "\n",
    "head = ListNode(1)\n",
    "n = 1\n",
    "print(ln2lst(Solution().removeNthFromEnd(head, n)))\n",
    "\n",
    "head = ListNode(1, ListNode(2))\n",
    "n = 1\n",
    "print(ln2lst(Solution().removeNthFromEnd(head, n)))"
   ]
  }
 ],
 "metadata": {
  "kernelspec": {
   "display_name": "Python 3.8.10 64-bit",
   "language": "python",
   "name": "python3"
  },
  "language_info": {
   "codemirror_mode": {
    "name": "ipython",
    "version": 3
   },
   "file_extension": ".py",
   "mimetype": "text/x-python",
   "name": "python",
   "nbconvert_exporter": "python",
   "pygments_lexer": "ipython3",
   "version": "3.8.10"
  },
  "orig_nbformat": 4,
  "vscode": {
   "interpreter": {
    "hash": "e0144baad0ecee903f108a3e46e51ceadd7da3fc904cfa79747d813b61464b4e"
   }
  }
 },
 "nbformat": 4,
 "nbformat_minor": 2
}
