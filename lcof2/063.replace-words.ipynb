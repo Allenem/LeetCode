{
 "cells": [
  {
   "cell_type": "markdown",
   "metadata": {},
   "source": [
    "# LCR 063. 单词替换 (medium)\n",
    "\n",
    "在英语中，有一个叫做 词根(root) 的概念，它可以跟着其他一些词组成另一个较长的单词——我们称这个词为 继承词(successor)。例如，词根an，跟随着单词 other(其他)，可以形成新的单词 another(另一个)。\n",
    "\n",
    "现在，给定一个由许多词根组成的词典和一个句子，需要将句子中的所有继承词用词根替换掉。如果继承词有许多可以形成它的词根，则用最短的词根替换它。\n",
    "\n",
    "需要输出替换之后的句子。\n",
    "\n",
    "\n",
    "示例 1：\n",
    "```\n",
    "输入：dictionary = [\"cat\",\"bat\",\"rat\"], sentence = \"the cattle was rattled by the battery\"\n",
    "输出：\"the cat was rat by the bat\"\n",
    "```\n",
    "示例 2：\n",
    "```\n",
    "输入：dictionary = [\"a\",\"b\",\"c\"], sentence = \"aadsfasf absbs bbab cadsfafs\"\n",
    "输出：\"a a b c\"\n",
    "```\n",
    "示例 3：\n",
    "```\n",
    "输入：dictionary = [\"a\", \"aa\", \"aaa\", \"aaaa\"], sentence = \"a aa a aaaa aaa aaa aaa aaaaaa bbb baba ababa\"\n",
    "输出：\"a a a a a a a a bbb baba a\"\n",
    "```\n",
    "示例 4：\n",
    "```\n",
    "输入：dictionary = [\"catt\",\"cat\",\"bat\",\"rat\"], sentence = \"the cattle was rattled by the battery\"\n",
    "输出：\"the cat was rat by the bat\"\n",
    "```\n",
    "示例 5：\n",
    "```\n",
    "输入：dictionary = [\"ac\",\"ab\"], sentence = \"it is abnormal that this solution is accepted\"\n",
    "输出：\"it is ab that this solution is ac\"\n",
    "``` \n",
    "\n",
    "提示：\n",
    "```\n",
    "1 <= dictionary.length <= 1000\n",
    "1 <= dictionary[i].length <= 100\n",
    "dictionary[i] 仅由小写字母组成。\n",
    "1 <= sentence.length <= 10^6\n",
    "sentence 仅由小写字母和空格组成。\n",
    "sentence 中单词的总量在范围 [1, 1000] 内。\n",
    "sentence 中每个单词的长度在范围 [1, 1000] 内。\n",
    "sentence 中单词之间由一个空格隔开。\n",
    "sentence 没有前导或尾随空格。\n",
    "``` \n",
    "\n",
    "注意：本题与主站 648 题相同： https://leetcode-cn.com/problems/replace-words/"
   ]
  },
  {
   "cell_type": "code",
   "execution_count": 1,
   "metadata": {},
   "outputs": [
    {
     "name": "stdout",
     "output_type": "stream",
     "text": [
      "the cat was rat by the bat\n",
      "a a b c\n",
      "a a a a a a a a bbb baba a\n",
      "the cat was rat by the bat\n",
      "it is ab that this solution is ac\n"
     ]
    }
   ],
   "source": [
    "from typing import List\n",
    "\n",
    "class Trie:\n",
    "    def __init__(self):\n",
    "        self.children = [None] * 26\n",
    "        self.isEnd = False\n",
    "    \n",
    "    def insertPrefix(self, prefix: str):\n",
    "        node = self\n",
    "        for w in prefix:\n",
    "            ch = ord(w) - ord('a')\n",
    "            if not node.children[ch]:\n",
    "                node.children[ch] = Trie()\n",
    "            node = node.children[ch]\n",
    "        node.isEnd = True\n",
    "\n",
    "    def searchPrefix4word(self, word: str) -> str:\n",
    "        node = self\n",
    "        for i, w in enumerate(word):\n",
    "            ch = ord(w) - ord('a')\n",
    "            if not node.children[ch]: # 前缀不匹配返回word（因为如果匹配则之前就返回了，如下代码）\n",
    "                break\n",
    "            node = node.children[ch]\n",
    "            if node.isEnd:\n",
    "                return word[: i+1]\n",
    "        return word\n",
    "             \n",
    "\n",
    "class Solution:\n",
    "    def replaceWords(self, dictionary: List[str], sentence: str) -> str:\n",
    "        T = Trie()\n",
    "        for prefix in dictionary:\n",
    "            T.insertPrefix(prefix)\n",
    "        sl = sentence.split(' ') # sentence_list\n",
    "        for i, word in enumerate(sl):\n",
    "            sl[i] = T.searchPrefix4word(word)\n",
    "        return ' '.join(sl)\n",
    "\n",
    "\n",
    "print(Solution().replaceWords([\"cat\",\"bat\",\"rat\"], \"the cattle was rattled by the battery\"))\n",
    "print(Solution().replaceWords([\"a\",\"b\",\"c\"], \"aadsfasf absbs bbab cadsfafs\"))\n",
    "print(Solution().replaceWords([\"a\", \"aa\", \"aaa\", \"aaaa\"], \"a aa a aaaa aaa aaa aaa aaaaaa bbb baba ababa\"))\n",
    "print(Solution().replaceWords([\"catt\",\"cat\",\"bat\",\"rat\"], \"the cattle was rattled by the battery\"))\n",
    "print(Solution().replaceWords([\"ac\",\"ab\"], \"it is abnormal that this solution is accepted\"))\n"
   ]
  }
 ],
 "metadata": {
  "kernelspec": {
   "display_name": "Python 3.8.10 64-bit",
   "language": "python",
   "name": "python3"
  },
  "language_info": {
   "codemirror_mode": {
    "name": "ipython",
    "version": 3
   },
   "file_extension": ".py",
   "mimetype": "text/x-python",
   "name": "python",
   "nbconvert_exporter": "python",
   "pygments_lexer": "ipython3",
   "version": "3.8.10"
  },
  "orig_nbformat": 4,
  "vscode": {
   "interpreter": {
    "hash": "e0144baad0ecee903f108a3e46e51ceadd7da3fc904cfa79747d813b61464b4e"
   }
  }
 },
 "nbformat": 4,
 "nbformat_minor": 2
}
