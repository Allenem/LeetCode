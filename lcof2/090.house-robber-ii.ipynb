{
 "cells": [
  {
   "cell_type": "markdown",
   "metadata": {},
   "source": [
    "# LCR 090. 打家劫舍 II (medium)\n",
    "\n",
    "一个专业的小偷，计划偷窃一个环形街道上沿街的房屋，每间房内都藏有一定的现金。这个地方所有的房屋都 围成一圈 ，这意味着第一个房屋和最后一个房屋是紧挨着的。同时，相邻的房屋装有相互连通的防盗系统，如果两间相邻的房屋在同一晚上被小偷闯入，系统会自动报警 。\n",
    "\n",
    "给定一个代表每个房屋存放金额的非负整数数组 nums ，请计算 在不触动警报装置的情况下 ，今晚能够偷窃到的最高金额。\n",
    "\n",
    "示例 1：\n",
    "```\n",
    "输入：nums = [2,3,2]\n",
    "输出：3\n",
    "解释：你不能先偷窃 1 号房屋（金额 = 2），然后偷窃 3 号房屋（金额 = 2）, 因为他们是相邻的。\n",
    "```\n",
    "示例 2：\n",
    "```\n",
    "输入：nums = [1,2,3,1]\n",
    "输出：4\n",
    "解释：你可以先偷窃 1 号房屋（金额 = 1），然后偷窃 3 号房屋（金额 = 3）。\n",
    "     偷窃到的最高金额 = 1 + 3 = 4 。\n",
    "```\n",
    "示例 3：\n",
    "```\n",
    "输入：nums = [0]\n",
    "输出：0\n",
    "``` \n",
    "\n",
    "提示：\n",
    "```\n",
    "1 <= nums.length <= 100\n",
    "0 <= nums[i] <= 1000\n",
    "``` \n",
    "\n",
    "注意：本题与主站 213 题相同： https://leetcode-cn.com/problems/house-robber-ii/"
   ]
  },
  {
   "cell_type": "code",
   "execution_count": 1,
   "metadata": {},
   "outputs": [
    {
     "name": "stdout",
     "output_type": "stream",
     "text": [
      "3\n",
      "4\n",
      "0\n"
     ]
    }
   ],
   "source": [
    "from typing import List\n",
    "class Solution:\n",
    "    def rob(self, nums: List[int]) -> int:\n",
    "        n = len(nums)\n",
    "        return max(nums) if n < 3 else max(self.robRange(nums[:-1]), self.robRange(nums[1:]))\n",
    "    \n",
    "    def robRange(self, nums: List[int]) -> int:\n",
    "        n = len(nums)\n",
    "        if n == 1: return nums[0]\n",
    "        dp = [nums[0], max(nums[0], nums[1])] # dp[0] means not rob, dp[1] means rob max value at i\n",
    "        for i in range(2, len(nums)):\n",
    "            dp[0], dp[1] = dp[1], max(dp[0]+nums[i], dp[1])\n",
    "        return dp[1]\n",
    "\n",
    "print(Solution().rob([2,3,2]))\n",
    "print(Solution().rob([1,2,3,1]))\n",
    "print(Solution().rob([0]))\n"
   ]
  }
 ],
 "metadata": {
  "kernelspec": {
   "display_name": "Python 3.8.10 64-bit",
   "language": "python",
   "name": "python3"
  },
  "language_info": {
   "codemirror_mode": {
    "name": "ipython",
    "version": 3
   },
   "file_extension": ".py",
   "mimetype": "text/x-python",
   "name": "python",
   "nbconvert_exporter": "python",
   "pygments_lexer": "ipython3",
   "version": "3.8.10"
  },
  "orig_nbformat": 4,
  "vscode": {
   "interpreter": {
    "hash": "e0144baad0ecee903f108a3e46e51ceadd7da3fc904cfa79747d813b61464b4e"
   }
  }
 },
 "nbformat": 4,
 "nbformat_minor": 2
}
