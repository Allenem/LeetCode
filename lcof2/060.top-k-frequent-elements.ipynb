{
 "cells": [
  {
   "cell_type": "markdown",
   "metadata": {},
   "source": [
    "# LCR 060. 前 K 个高频元素 (medium)\n",
    "\n",
    "给定一个整数数组 nums 和一个整数 k ，请返回其中出现频率前 k 高的元素。可以按 任意顺序 返回答案。\n",
    "\n",
    "\n",
    "示例 1:\n",
    "```\n",
    "输入: nums = [1,1,1,2,2,3], k = 2\n",
    "输出: [1,2]\n",
    "```\n",
    "示例 2:\n",
    "```\n",
    "输入: nums = [1], k = 1\n",
    "输出: [1]\n",
    "``` \n",
    "\n",
    "提示：\n",
    "```\n",
    "1 <= nums.length <= 10^5\n",
    "k 的取值范围是 [1, 数组中不相同的元素的个数]\n",
    "题目数据保证答案唯一，换句话说，数组中前 k 个高频元素的集合是唯一的\n",
    "```\n",
    "\n",
    "进阶：所设计算法的时间复杂度 必须 优于 O(n log n) ，其中 n 是数组大小。\n",
    "\n",
    "注意：本题与主站 347 题相同：https://leetcode-cn.com/problems/top-k-frequent-elements/"
   ]
  },
  {
   "cell_type": "code",
   "execution_count": 1,
   "metadata": {},
   "outputs": [
    {
     "name": "stdout",
     "output_type": "stream",
     "text": [
      "[1, 2]\n",
      "[1]\n"
     ]
    }
   ],
   "source": [
    "# 方法一：Counter\n",
    "from collections import Counter\n",
    "from typing import List\n",
    "class Solution:\n",
    "    def topKFrequent(self, nums: List[int], k: int) -> List[int]:\n",
    "        return [x[0] for x in Counter(nums).most_common(k)]\n",
    "\n",
    "print(Solution().topKFrequent([1,1,1,2,2,3], 2))\n",
    "print(Solution().topKFrequent([1], 1))\n"
   ]
  },
  {
   "cell_type": "code",
   "execution_count": 2,
   "metadata": {},
   "outputs": [
    {
     "name": "stdout",
     "output_type": "stream",
     "text": [
      "[1, 2]\n",
      "[1]\n"
     ]
    }
   ],
   "source": [
    "# 方法二：defaultdict\n",
    "from collections import defaultdict\n",
    "class Solution:\n",
    "    def topKFrequent(self, nums: List[int], k: int) -> List[int]:\n",
    "        d = defaultdict(int)\n",
    "        for n in nums: d[n] += 1\n",
    "        lst = sorted([[k, v] for k, v in d.items()], key=lambda x:-x[1])\n",
    "        return [x[0] for x in lst[:k]]\n",
    "\n",
    "print(Solution().topKFrequent([1,1,1,2,2,3], 2))\n",
    "print(Solution().topKFrequent([1], 1))"
   ]
  }
 ],
 "metadata": {
  "kernelspec": {
   "display_name": "Python 3.8.10 64-bit",
   "language": "python",
   "name": "python3"
  },
  "language_info": {
   "codemirror_mode": {
    "name": "ipython",
    "version": 3
   },
   "file_extension": ".py",
   "mimetype": "text/x-python",
   "name": "python",
   "nbconvert_exporter": "python",
   "pygments_lexer": "ipython3",
   "version": "3.8.10"
  },
  "orig_nbformat": 4,
  "vscode": {
   "interpreter": {
    "hash": "e0144baad0ecee903f108a3e46e51ceadd7da3fc904cfa79747d813b61464b4e"
   }
  }
 },
 "nbformat": 4,
 "nbformat_minor": 2
}
