{
 "cells": [
  {
   "cell_type": "markdown",
   "metadata": {},
   "source": [
    "# LCR 011. 连续数组 (medium)\n",
    "\n",
    "给定一个二进制数组 nums , 找到含有相同数量的 0 和 1 的最长连续子数组，并返回该子数组的长度。\n",
    "\n",
    "\n",
    "示例 1：\n",
    "```\n",
    "输入: nums = [0,1]\n",
    "输出: 2\n",
    "说明: [0, 1] 是具有相同数量 0 和 1 的最长连续子数组。\n",
    "```\n",
    "示例 2：\n",
    "```\n",
    "输入: nums = [0,1,0]\n",
    "输出: 2\n",
    "说明: [0, 1] (或 [1, 0]) 是具有相同数量 0 和 1 的最长连续子数组。\n",
    "```\n",
    "\n",
    "提示：\n",
    "```\n",
    "1 <= nums.length <= 10^5\n",
    "nums[i] 不是 0 就是 1\n",
    "```\n",
    "\n",
    "注意：本题与主站 525 题相同： https://leetcode-cn.com/problems/contiguous-array/"
   ]
  },
  {
   "cell_type": "code",
   "execution_count": 2,
   "metadata": {},
   "outputs": [
    {
     "name": "stdout",
     "output_type": "stream",
     "text": [
      "2\n",
      "2\n"
     ]
    }
   ],
   "source": [
    "from typing import List\n",
    "class Solution:\n",
    "    def findMaxLength(self, nums: List[int]) -> int:\n",
    "        n, maxlen, presum, d = len(nums), 0, 0, {0: -1}\n",
    "        for i, n in enumerate(nums):\n",
    "            presum += n if n else -1\n",
    "            if presum in d: maxlen = max(maxlen, i - d[presum])\n",
    "            else: d[presum] = i\n",
    "        return maxlen\n",
    "\n",
    "\n",
    "print(Solution().findMaxLength([0, 1]))\n",
    "print(Solution().findMaxLength([0, 1, 0]))"
   ]
  }
 ],
 "metadata": {
  "kernelspec": {
   "display_name": "Python 3.8.10 64-bit",
   "language": "python",
   "name": "python3"
  },
  "language_info": {
   "codemirror_mode": {
    "name": "ipython",
    "version": 3
   },
   "file_extension": ".py",
   "mimetype": "text/x-python",
   "name": "python",
   "nbconvert_exporter": "python",
   "pygments_lexer": "ipython3",
   "version": "3.8.10"
  },
  "orig_nbformat": 4,
  "vscode": {
   "interpreter": {
    "hash": "e0144baad0ecee903f108a3e46e51ceadd7da3fc904cfa79747d813b61464b4e"
   }
  }
 },
 "nbformat": 4,
 "nbformat_minor": 2
}
