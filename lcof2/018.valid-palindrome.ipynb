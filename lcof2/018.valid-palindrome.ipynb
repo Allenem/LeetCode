{
 "cells": [
  {
   "cell_type": "markdown",
   "metadata": {},
   "source": [
    "# LCR 018. 验证回文串 (easy)\n",
    "\n",
    "给定一个字符串 s ，验证 s 是否是 回文串 ，只考虑字母和数字字符，可以忽略字母的大小写。\n",
    "\n",
    "本题中，将空字符串定义为有效的 回文串 。\n",
    "\n",
    "\n",
    "示例 1:\n",
    "```\n",
    "输入: s = \"A man, a plan, a canal: Panama\"\n",
    "输出: true\n",
    "解释：\"amanaplanacanalpanama\" 是回文串\n",
    "```\n",
    "示例 2:\n",
    "```\n",
    "输入: s = \"race a car\"\n",
    "输出: false\n",
    "解释：\"raceacar\" 不是回文串\n",
    "``` \n",
    "\n",
    "提示：\n",
    "```\n",
    "1 <= s.length <= 2 * 10^5\n",
    "字符串 s 由 ASCII 字符组成\n",
    "``` \n",
    "\n",
    "注意：本题与主站 125 题相同： https://leetcode-cn.com/problems/valid-palindrome/"
   ]
  },
  {
   "cell_type": "code",
   "execution_count": 1,
   "metadata": {},
   "outputs": [
    {
     "name": "stdout",
     "output_type": "stream",
     "text": [
      "True\n",
      "False\n"
     ]
    }
   ],
   "source": [
    "# ord + ascii\n",
    "class Solution:\n",
    "    def isPalindrome(self, s: str) -> bool:\n",
    "        new_s = ''\n",
    "        for v in s:\n",
    "            if 48 <= ord(v) <= 57:\n",
    "                new_s += v\n",
    "            if 65 <= ord(v) <= 90 or 97 <= ord(v) <= 122:\n",
    "                new_s += v.lower()\n",
    "        i, j = 0, len(new_s)-1\n",
    "        while i < j:\n",
    "            if new_s[i] != new_s[j]: return False\n",
    "            i += 1\n",
    "            j -= 1\n",
    "        return True\n",
    "\n",
    "\n",
    "print(Solution().isPalindrome(\"A man, a plan, a canal: Panama\"))\n",
    "print(Solution().isPalindrome(\"race a car\"))\n"
   ]
  },
  {
   "cell_type": "code",
   "execution_count": 2,
   "metadata": {},
   "outputs": [
    {
     "name": "stdout",
     "output_type": "stream",
     "text": [
      "True\n",
      "False\n"
     ]
    }
   ],
   "source": [
    "# isdigit(), islower(), isupper()\n",
    "class Solution:\n",
    "    def isPalindrome(self, s: str) -> bool:\n",
    "        new_s = ''\n",
    "        for v in s:\n",
    "            # 数字,小写字母\n",
    "            if v.isdigit() or v.islower():\n",
    "                new_s += v\n",
    "            # 大写字母\n",
    "            elif v.isupper():\n",
    "                new_s += v.lower()\n",
    "        i, j = 0, len(new_s)-1\n",
    "        while i < j:\n",
    "            if new_s[i] != new_s[j]: return False\n",
    "            i += 1\n",
    "            j -= 1\n",
    "        return True\n",
    "\n",
    "\n",
    "print(Solution().isPalindrome(\"A man, a plan, a canal: Panama\"))\n",
    "print(Solution().isPalindrome(\"race a car\"))"
   ]
  }
 ],
 "metadata": {
  "kernelspec": {
   "display_name": "Python 3.8.10 64-bit",
   "language": "python",
   "name": "python3"
  },
  "language_info": {
   "codemirror_mode": {
    "name": "ipython",
    "version": 3
   },
   "file_extension": ".py",
   "mimetype": "text/x-python",
   "name": "python",
   "nbconvert_exporter": "python",
   "pygments_lexer": "ipython3",
   "version": "3.8.10"
  },
  "orig_nbformat": 4,
  "vscode": {
   "interpreter": {
    "hash": "e0144baad0ecee903f108a3e46e51ceadd7da3fc904cfa79747d813b61464b4e"
   }
  }
 },
 "nbformat": 4,
 "nbformat_minor": 2
}
