{
 "cells": [
  {
   "cell_type": "markdown",
   "metadata": {},
   "source": [
    "# LCR 014. 字符串的排列 (medium)\n",
    "\n",
    "给定两个字符串 s1 和 s2，写一个函数来判断 s2 是否包含 s1 的某个变位词。\n",
    "\n",
    "换句话说，第一个字符串的排列之一是第二个字符串的 子串 。\n",
    " \n",
    "\n",
    "示例 1：\n",
    "```\n",
    "输入: s1 = \"ab\" s2 = \"eidbaooo\"\n",
    "输出: True\n",
    "解释: s2 包含 s1 的排列之一 (\"ba\").\n",
    "```\n",
    "示例 2：\n",
    "```\n",
    "输入: s1= \"ab\" s2 = \"eidboaoo\"\n",
    "输出: False\n",
    "``` \n",
    "\n",
    "提示：\n",
    "```\n",
    "1 <= s1.length, s2.length <= 104\n",
    "s1 和 s2 仅包含小写字母\n",
    "``` \n",
    "\n",
    "注意：本题与主站 567 题相同： https://leetcode-cn.com/problems/permutation-in-string/"
   ]
  },
  {
   "cell_type": "code",
   "execution_count": 1,
   "metadata": {},
   "outputs": [
    {
     "name": "stdout",
     "output_type": "stream",
     "text": [
      "True\n",
      "False\n"
     ]
    }
   ],
   "source": [
    "# 方法1. XOR\n",
    "import functools\n",
    "class Solution:\n",
    "    def checkInclusion(self, s1: str, s2: str) -> bool:\n",
    "        m, n = len(s1), len(s2)\n",
    "        if m > n: return False\n",
    "        s1list = [1<<(ord(x)-ord('a')) for x in s1]\n",
    "        s2list = [1<<(ord(x)-ord('a')) for x in s2]\n",
    "        xor1 = functools.reduce(lambda x,y:x^y, s1list)\n",
    "        for i in range(n-m+1):\n",
    "            xor2 = functools.reduce(lambda x,y:x^y, s2list[i:i+m])\n",
    "            if xor1^xor2 == 0 and sum(s1list) == sum(s2list[i:i+m]): return True\n",
    "        return False\n",
    "\n",
    "\n",
    "print(Solution().checkInclusion(\"ab\", \"eidbaooo\"))\n",
    "print(Solution().checkInclusion(\"ab\", \"eidboaoo\"))"
   ]
  },
  {
   "cell_type": "code",
   "execution_count": 2,
   "metadata": {},
   "outputs": [
    {
     "name": "stdout",
     "output_type": "stream",
     "text": [
      "True\n",
      "False\n"
     ]
    }
   ],
   "source": [
    "# 方法2. 两次滑窗\n",
    "class Solution:\n",
    "    def checkInclusion(self, s1: str, s2: str) -> bool:\n",
    "        m, n = len(s1), len(s2)\n",
    "        arr1, arr2 = [0]*26, [0]*26\n",
    "        if m > n: return False\n",
    "        for i in range(m):\n",
    "            arr1[ord(s1[i])-ord('a')] += 1\n",
    "            arr2[ord(s2[i])-ord('a')] += 1\n",
    "        for j in range(m, n):\n",
    "            if arr1 == arr2: return True\n",
    "            arr2[ord(s2[j-m])-ord('a')] -= 1\n",
    "            arr2[ord(s2[j])-ord('a')] += 1\n",
    "        return arr1 == arr2\n",
    "\n",
    "\n",
    "print(Solution().checkInclusion(\"ab\", \"eidbaooo\"))\n",
    "print(Solution().checkInclusion(\"ab\", \"eidboaoo\"))"
   ]
  }
 ],
 "metadata": {
  "kernelspec": {
   "display_name": "Python 3.8.10 64-bit",
   "language": "python",
   "name": "python3"
  },
  "language_info": {
   "codemirror_mode": {
    "name": "ipython",
    "version": 3
   },
   "file_extension": ".py",
   "mimetype": "text/x-python",
   "name": "python",
   "nbconvert_exporter": "python",
   "pygments_lexer": "ipython3",
   "version": "3.8.10"
  },
  "orig_nbformat": 4,
  "vscode": {
   "interpreter": {
    "hash": "e0144baad0ecee903f108a3e46e51ceadd7da3fc904cfa79747d813b61464b4e"
   }
  }
 },
 "nbformat": 4,
 "nbformat_minor": 2
}
