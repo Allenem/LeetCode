{
 "cells": [
  {
   "cell_type": "markdown",
   "metadata": {},
   "source": [
    "# LCR 046. 二叉树的右视图 (medium)\n",
    "\n",
    "给定一个二叉树的 根节点 root，想象自己站在它的右侧，按照从顶部到底部的顺序，返回从右侧所能看到的节点值。\n",
    "\n",
    "\n",
    "示例 1:\n",
    "```\n",
    "          1      <-\n",
    "         / \\\n",
    "        2   3    <-\n",
    "         \\   \\  \n",
    "          5   4  <-\n",
    "          \n",
    "输入: [1,2,3,null,5,null,4]\n",
    "输出: [1,3,4]\n",
    "```\n",
    "示例 2:\n",
    "```\n",
    "输入: [1,null,3]\n",
    "输出: [1,3]\n",
    "```\n",
    "示例 3:\n",
    "```\n",
    "输入: []\n",
    "输出: []\n",
    "``` \n",
    "\n",
    "提示:\n",
    "```\n",
    "二叉树的节点个数的范围是 [0,100]\n",
    "-100 <= Node.val <= 100 \n",
    "``` \n",
    "\n",
    "注意：本题与主站 199 题相同：https://leetcode-cn.com/problems/binary-tree-right-side-view/"
   ]
  },
  {
   "cell_type": "code",
   "execution_count": 1,
   "metadata": {},
   "outputs": [],
   "source": [
    "# Definition for a binary tree node.\n",
    "class TreeNode:\n",
    "    def __init__(self, val=0, left=None, right=None):\n",
    "        self.val = val\n",
    "        self.left = left\n",
    "        self.right = right\n",
    "\n",
    "\n",
    "def lst2tree(lst):\n",
    "    if not lst: return None\n",
    "    root = TreeNode(lst.pop(0))\n",
    "    q = [root]\n",
    "    while lst:\n",
    "        node = q.pop(0)\n",
    "        if node:\n",
    "            if lst:\n",
    "                va = lst.pop(0)\n",
    "                node.left = TreeNode(va) if va else None\n",
    "                q.append(node.left)\n",
    "            if lst:\n",
    "                va = lst.pop(0)\n",
    "                node.right = TreeNode(va) if va else None\n",
    "                q.append(node.right)\n",
    "        # print((node.val, node.left.val if node.left else None, node.right.val if node.right else None) if node else None)\n",
    "    return root"
   ]
  },
  {
   "cell_type": "code",
   "execution_count": 2,
   "metadata": {},
   "outputs": [
    {
     "name": "stdout",
     "output_type": "stream",
     "text": [
      "[1, 3, 4]\n",
      "[1, 3]\n",
      "[]\n"
     ]
    }
   ],
   "source": [
    "from collections import deque\n",
    "from typing import List\n",
    "class Solution:\n",
    "    def rightSideView(self, root: TreeNode) -> List[int]:\n",
    "        if not root: return []\n",
    "        ans, q = [], deque([root])\n",
    "        while q:\n",
    "            levelright = None\n",
    "            for _ in range(len(q)):\n",
    "                node = q.popleft()\n",
    "                if node: levelright = node.val\n",
    "                if node.left: q.append(node.left)\n",
    "                if node.right: q.append(node.right)\n",
    "            ans.append(levelright)\n",
    "        return ans\n",
    "\n",
    "\n",
    "print(Solution().rightSideView(lst2tree([1,2,3,None,5,None,4])))\n",
    "print(Solution().rightSideView(lst2tree([1,None,3])))\n",
    "print(Solution().rightSideView(lst2tree([])))"
   ]
  }
 ],
 "metadata": {
  "kernelspec": {
   "display_name": "Python 3.8.10 64-bit",
   "language": "python",
   "name": "python3"
  },
  "language_info": {
   "codemirror_mode": {
    "name": "ipython",
    "version": 3
   },
   "file_extension": ".py",
   "mimetype": "text/x-python",
   "name": "python",
   "nbconvert_exporter": "python",
   "pygments_lexer": "ipython3",
   "version": "3.8.10"
  },
  "orig_nbformat": 4,
  "vscode": {
   "interpreter": {
    "hash": "e0144baad0ecee903f108a3e46e51ceadd7da3fc904cfa79747d813b61464b4e"
   }
  }
 },
 "nbformat": 4,
 "nbformat_minor": 2
}
