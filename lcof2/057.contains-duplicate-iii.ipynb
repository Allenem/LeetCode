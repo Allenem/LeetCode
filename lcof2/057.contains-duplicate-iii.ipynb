{
 "cells": [
  {
   "cell_type": "markdown",
   "metadata": {},
   "source": [
    "# LCR 057. 存在重复元素 III (medium)\n",
    "\n",
    "给你一个整数数组 nums 和两个整数 k 和 t 。请你判断是否存在 两个不同下标 i 和 j，使得 abs(nums[i] - nums[j]) <= t ，同时又满足 abs(i - j) <= k 。\n",
    "\n",
    "如果存在则返回 true，不存在返回 false。\n",
    "\n",
    "\n",
    "示例 1：\n",
    "```\n",
    "输入：nums = [1,2,3,1], k = 3, t = 0\n",
    "输出：true\n",
    "```\n",
    "示例 2：\n",
    "```\n",
    "输入：nums = [1,0,1,1], k = 1, t = 2\n",
    "输出：true\n",
    "```\n",
    "示例 3：\n",
    "```\n",
    "输入：nums = [1,5,9,1,5,9], k = 2, t = 3\n",
    "输出：false\n",
    "``` \n",
    "\n",
    "提示：\n",
    "```\n",
    "0 <= nums.length <= 2 * 10^4\n",
    "-2^31 <= nums[i] <= 2^31 - 1\n",
    "0 <= k <= 10^4\n",
    "0 <= t <= 2^31 - 1\n",
    "``` \n",
    "\n",
    "注意：本题与主站 220 题相同： https://leetcode-cn.com/problems/contains-duplicate-iii/"
   ]
  },
  {
   "cell_type": "code",
   "execution_count": 3,
   "metadata": {},
   "outputs": [
    {
     "name": "stdout",
     "output_type": "stream",
     "text": [
      "True\n",
      "True\n",
      "False\n"
     ]
    }
   ],
   "source": [
    "from typing import List\n",
    "from bisect import bisect_left\n",
    "from sortedcontainers import SortedList\n",
    "\n",
    "class Solution:\n",
    "    def containsNearbyAlmostDuplicate(self, nums: List[int], k: int, t: int) -> bool:\n",
    "        sl = SortedList()\n",
    "        for i, num in enumerate(nums):\n",
    "            sl.add(num)\n",
    "            idx = bisect_left(sl, num)\n",
    "            if idx < len(sl) - 1 and sl[idx + 1] - sl[idx] <= t: return True\n",
    "            if idx > 0 and sl[idx] - sl[idx - 1] <= t: return True\n",
    "            if len(sl) > k: sl.remove(nums[i - k])\n",
    "        return False\n",
    "\n",
    "print(Solution().containsNearbyAlmostDuplicate([1,2,3,1], 3, 0))\n",
    "print(Solution().containsNearbyAlmostDuplicate([1,0,1,1], 1, 2))\n",
    "print(Solution().containsNearbyAlmostDuplicate([1,5,9,1,5,9], 2, 3))"
   ]
  }
 ],
 "metadata": {
  "kernelspec": {
   "display_name": "Python 3.8.10 64-bit",
   "language": "python",
   "name": "python3"
  },
  "language_info": {
   "codemirror_mode": {
    "name": "ipython",
    "version": 3
   },
   "file_extension": ".py",
   "mimetype": "text/x-python",
   "name": "python",
   "nbconvert_exporter": "python",
   "pygments_lexer": "ipython3",
   "version": "3.8.10"
  },
  "orig_nbformat": 4,
  "vscode": {
   "interpreter": {
    "hash": "e0144baad0ecee903f108a3e46e51ceadd7da3fc904cfa79747d813b61464b4e"
   }
  }
 },
 "nbformat": 4,
 "nbformat_minor": 2
}
