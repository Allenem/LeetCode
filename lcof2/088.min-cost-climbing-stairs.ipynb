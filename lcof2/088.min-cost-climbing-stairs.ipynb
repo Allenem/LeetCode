{
 "cells": [
  {
   "cell_type": "markdown",
   "metadata": {},
   "source": [
    "# LCR 088. 使用最小花费爬楼梯 (easy)\n",
    "\n",
    "数组的每个下标作为一个阶梯，第 i 个阶梯对应着一个非负数的体力花费值 cost[i]（下标从 0 开始）。\n",
    "\n",
    "每当爬上一个阶梯都要花费对应的体力值，一旦支付了相应的体力值，就可以选择向上爬一个阶梯或者爬两个阶梯。\n",
    "\n",
    "请找出达到楼层顶部的最低花费。在开始时，你可以选择从下标为 0 或 1 的元素作为初始阶梯。\n",
    "\n",
    "示例 1：\n",
    "```\n",
    "输入：cost = [10, 15, 20]\n",
    "输出：15\n",
    "解释：最低花费是从 cost[1] 开始，然后走两步即可到阶梯顶，一共花费 15 。\n",
    "```\n",
    "示例 2：\n",
    "```\n",
    "输入：cost = [1, 100, 1, 1, 1, 100, 1, 1, 100, 1]\n",
    "输出：6\n",
    "解释：最低花费方式是从 cost[0] 开始，逐个经过那些 1 ，跳过 cost[3] ，一共花费 6 。\n",
    "``` \n",
    "\n",
    "提示：\n",
    "```\n",
    "2 <= cost.length <= 1000\n",
    "0 <= cost[i] <= 999\n",
    "``` \n",
    "\n",
    "注意：本题与主站 746 题相同： https://leetcode-cn.com/problems/min-cost-climbing-stairs/"
   ]
  },
  {
   "cell_type": "code",
   "execution_count": 1,
   "metadata": {},
   "outputs": [
    {
     "name": "stdout",
     "output_type": "stream",
     "text": [
      "15\n",
      "6\n"
     ]
    }
   ],
   "source": [
    "from typing import List\n",
    "# 踩狗屎\n",
    "class Solution:\n",
    "    def minCostClimbingStairs(self, cost: List[int]) -> int:\n",
    "        mc0, mc1 = 0, min(cost[0], cost[1]) # mc0: 前一步的最小花费, mc1: 前两步的最小花费\n",
    "        for i in range(2, len(cost)):\n",
    "            mc0, mc1 = mc1, min(mc0 + cost[i-1], mc1 + cost[i])\n",
    "        return mc1\n",
    "\n",
    "print(Solution().minCostClimbingStairs([10, 15, 20]))\n",
    "print(Solution().minCostClimbingStairs([1, 100, 1, 1, 1, 100, 1, 1, 100, 1]))\n"
   ]
  }
 ],
 "metadata": {
  "kernelspec": {
   "display_name": "Python 3.8.10 64-bit",
   "language": "python",
   "name": "python3"
  },
  "language_info": {
   "codemirror_mode": {
    "name": "ipython",
    "version": 3
   },
   "file_extension": ".py",
   "mimetype": "text/x-python",
   "name": "python",
   "nbconvert_exporter": "python",
   "pygments_lexer": "ipython3",
   "version": "3.8.10"
  },
  "orig_nbformat": 4,
  "vscode": {
   "interpreter": {
    "hash": "e0144baad0ecee903f108a3e46e51ceadd7da3fc904cfa79747d813b61464b4e"
   }
  }
 },
 "nbformat": 4,
 "nbformat_minor": 2
}
