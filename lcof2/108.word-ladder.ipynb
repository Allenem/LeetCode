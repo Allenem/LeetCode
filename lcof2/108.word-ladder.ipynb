{
 "cells": [
  {
   "cell_type": "markdown",
   "metadata": {},
   "source": [
    "# LCR 108. 单词接龙 (hard)\n",
    "\n",
    "在字典（单词列表） wordList 中，从单词 beginWord 和 endWord 的 转换序列 是一个按下述规格形成的序列：\n",
    "\n",
    "- 序列中第一个单词是 beginWord 。\n",
    "- 序列中最后一个单词是 endWord 。\n",
    "- 每次转换只能改变一个字母。\n",
    "- 转换过程中的中间单词必须是字典 wordList 中的单词。\n",
    "\n",
    "给定两个长度相同但内容不同的单词 beginWord 和 endWord 和一个字典 wordList ，找到从 beginWord 到 endWord 的 最短转换序列 中的 单词数目 。如果不存在这样的转换序列，返回 0。\n",
    "\n",
    "示例 1：\n",
    "```\n",
    "输入：beginWord = \"hit\", endWord = \"cog\", wordList = [\"hot\",\"dot\",\"dog\",\"lot\",\"log\",\"cog\"]\n",
    "输出：5\n",
    "解释：一个最短转换序列是 \"hit\" -> \"hot\" -> \"dot\" -> \"dog\" -> \"cog\", 返回它的长度 5。\n",
    "```\n",
    "示例 2：\n",
    "```\n",
    "输入：beginWord = \"hit\", endWord = \"cog\", wordList = [\"hot\",\"dot\",\"dog\",\"lot\",\"log\"]\n",
    "输出：0\n",
    "解释：endWord \"cog\" 不在字典中，所以无法进行转换。\n",
    "``` \n",
    "\n",
    "提示：\n",
    "```\n",
    "1 <= beginWord.length <= 10\n",
    "endWord.length == beginWord.length\n",
    "1 <= wordList.length <= 5000\n",
    "wordList[i].length == beginWord.length\n",
    "beginWord、endWord 和 wordList[i] 由小写英文字母组成\n",
    "beginWord != endWord\n",
    "wordList 中的所有字符串 互不相同\n",
    "``` \n",
    "\n",
    "注意：本题与主站 127 题相同： https://leetcode-cn.com/problems/word-ladder/"
   ]
  },
  {
   "cell_type": "code",
   "execution_count": 1,
   "metadata": {},
   "outputs": [
    {
     "name": "stdout",
     "output_type": "stream",
     "text": [
      "5\n",
      "0\n",
      "4\n"
     ]
    }
   ],
   "source": [
    "# BFS\n",
    "from typing import List\n",
    "import collections\n",
    "class Solution:\n",
    "    def ladderLength(self, beginWord: str, endWord: str, wordList: List[str]) -> int:\n",
    "        wordList = set(wordList)\n",
    "        if endWord not in wordList: return 0\n",
    "        q = collections.deque([beginWord])\n",
    "        see = {beginWord}\n",
    "        step = 0\n",
    "        while q:\n",
    "            for _ in range(len(q)):\n",
    "                word = q.popleft()\n",
    "                if word == endWord:\n",
    "                    return step + 1\n",
    "                chars = list(word)\n",
    "                for i, char in enumerate(chars):\n",
    "                    for asc in range(97, 123):\n",
    "                        if chr(asc) != char:\n",
    "                            chars[i] = chr(asc)\n",
    "                            newword = ''.join(chars)\n",
    "                            if (newword not in see) and (newword in wordList):\n",
    "                                q.append(newword)\n",
    "                                see.add(newword)\n",
    "                    chars[i] = char\n",
    "            step += 1\n",
    "        return 0\n",
    "\n",
    "print(Solution().ladderLength(\"hit\", \"cog\", [\"hot\",\"dot\",\"dog\",\"lot\",\"log\",\"cog\"]))\n",
    "print(Solution().ladderLength(\"hit\", \"cog\", [\"hot\",\"dot\",\"dog\",\"lot\",\"log\"]))\n",
    "print(Solution().ladderLength(\"hit\", \"cog\", [\"hot\",\"dot\",\"dog\",\"lot\",\"log\",\"cog\",\"cot\"]))"
   ]
  },
  {
   "cell_type": "code",
   "execution_count": 1,
   "metadata": {},
   "outputs": [
    {
     "name": "stdout",
     "output_type": "stream",
     "text": [
      "5\n",
      "0\n",
      "4\n"
     ]
    }
   ],
   "source": [
    "# 图+BFS：建议忽略，不好理解\n",
    "from typing import List\n",
    "from collections import defaultdict, deque\n",
    "class Solution:\n",
    "    def ladderLength(self, beginWord: str, endWord: str, wordList: List[str]) -> int:\n",
    "        # word -> id\n",
    "        def word2Id(word: str):\n",
    "            if word not in wordIdDic:\n",
    "                nonlocal nodeNum\n",
    "                wordIdDic[word] = nodeNum\n",
    "                nodeNum += 1\n",
    "        \n",
    "        # add edge between hit and *it, h*t, hi*\n",
    "        def addEdge(word: str):\n",
    "            word2Id(word)\n",
    "            id1 = wordIdDic[word]\n",
    "            w = list(word)\n",
    "            for i in range(len(w)):\n",
    "                tmp = w[i]\n",
    "                w[i] = '*'\n",
    "                neighor_word = ''.join(w)\n",
    "                word2Id(neighor_word)\n",
    "                id2 = wordIdDic[neighor_word]\n",
    "                edge[id1].append(id2)\n",
    "                edge[id2].append(id1)\n",
    "                w[i] = tmp\n",
    "\n",
    "        # 一、如果单词列表没有endWord则返回0\n",
    "        if endWord not in wordList:\n",
    "            return 0\n",
    "        \n",
    "        # 二、\n",
    "        # 初始化构建边字典的参数\n",
    "        wordIdDic = dict()\n",
    "        edge = defaultdict(list)\n",
    "        nodeNum = 0\n",
    "\n",
    "        # 构建边字典\n",
    "        for word in wordList:\n",
    "            addEdge(word)\n",
    "        addEdge(beginWord)\n",
    "\n",
    "        # 初始化计算最短距离需要用到的参数\n",
    "        beginId, endId = wordIdDic[beginWord], wordIdDic[endWord]\n",
    "        dist = [float('inf')] * nodeNum\n",
    "        dist[beginId] = 0\n",
    "\n",
    "        # BFS\n",
    "        q = deque([beginId])\n",
    "        while q:\n",
    "            curId = q.popleft()\n",
    "            # 找到了终了单词，返回最短距离：加了中间变量，//2；没有计算beginWord，+1\n",
    "            if curId == endId:\n",
    "                return dist[curId] // 2 + 1\n",
    "            # 未找到终了单词，则遍历当前单词id的领边，将其距离+1\n",
    "            for it in edge[curId]:\n",
    "                # it在之前还未遍历，从而保证到达每个it计算的dist是最小值\n",
    "                if dist[it] == float('inf'):\n",
    "                    dist[it] = dist[curId] + 1\n",
    "                    q.append(it)\n",
    "\n",
    "        # 避免出错\n",
    "        return 0\n",
    "\n",
    "print(Solution().ladderLength(\"hit\", \"cog\", [\"hot\",\"dot\",\"dog\",\"lot\",\"log\",\"cog\"]))\n",
    "print(Solution().ladderLength(\"hit\", \"cog\", [\"hot\",\"dot\",\"dog\",\"lot\",\"log\"]))\n",
    "print(Solution().ladderLength(\"hit\", \"cog\", [\"hot\",\"dot\",\"dog\",\"lot\",\"log\",\"cog\",\"cot\"]))"
   ]
  }
 ],
 "metadata": {
  "kernelspec": {
   "display_name": "Python 3.8.10 64-bit",
   "language": "python",
   "name": "python3"
  },
  "language_info": {
   "codemirror_mode": {
    "name": "ipython",
    "version": 3
   },
   "file_extension": ".py",
   "mimetype": "text/x-python",
   "name": "python",
   "nbconvert_exporter": "python",
   "pygments_lexer": "ipython3",
   "version": "3.8.10"
  },
  "orig_nbformat": 4,
  "vscode": {
   "interpreter": {
    "hash": "e0144baad0ecee903f108a3e46e51ceadd7da3fc904cfa79747d813b61464b4e"
   }
  }
 },
 "nbformat": 4,
 "nbformat_minor": 2
}
