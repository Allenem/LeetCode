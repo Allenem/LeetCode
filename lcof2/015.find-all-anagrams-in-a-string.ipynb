{
 "cells": [
  {
   "cell_type": "markdown",
   "metadata": {},
   "source": [
    "# LCR 015. 找到字符串中所有字母异位词 (medium)\n",
    "\n",
    "给定两个字符串 s 和 p，找到 s 中所有 p 的 **变位词** 的子串，返回这些子串的起始索引。不考虑答案输出的顺序。\n",
    "\n",
    "**变位词** 指字母相同，但排列不同的字符串。\n",
    "\n",
    " \n",
    "\n",
    "示例 1：\n",
    "```\n",
    "输入: s = \"cbaebabacd\", p = \"abc\"\n",
    "输出: [0,6]\n",
    "解释:\n",
    "起始索引等于 0 的子串是 \"cba\", 它是 \"abc\" 的变位词。\n",
    "起始索引等于 6 的子串是 \"bac\", 它是 \"abc\" 的变位词。\n",
    "```\n",
    "示例 2：\n",
    "```\n",
    "输入: s = \"abab\", p = \"ab\"\n",
    "输出: [0,1,2]\n",
    "解释:\n",
    "起始索引等于 0 的子串是 \"ab\", 它是 \"ab\" 的变位词。\n",
    "起始索引等于 1 的子串是 \"ba\", 它是 \"ab\" 的变位词。\n",
    "起始索引等于 2 的子串是 \"ab\", 它是 \"ab\" 的变位词。\n",
    "```\n",
    "\n",
    "提示:\n",
    "```\n",
    "1 <= s.length, p.length <= 3 * 10^4\n",
    "s 和 p 仅包含小写字母\n",
    "``` \n",
    "\n",
    "注意：本题与主站 438 题相同： https://leetcode-cn.com/problems/find-all-anagrams-in-a-string/"
   ]
  },
  {
   "cell_type": "code",
   "execution_count": 1,
   "metadata": {},
   "outputs": [
    {
     "name": "stdout",
     "output_type": "stream",
     "text": [
      "[0, 6]\n",
      "[0, 1, 2]\n",
      "[1]\n"
     ]
    }
   ],
   "source": [
    "from typing import List\n",
    "class Solution:\n",
    "    def findAnagrams(self, s: str, p: str) -> List[int]:\n",
    "        m, n = len(s), len(p)\n",
    "        arr1, arr2, arridx = [0]*26, [0]*26, []\n",
    "        if n > m: return []\n",
    "        for i in range(n):\n",
    "            arr1[ord(s[i])-ord('a')] += 1\n",
    "            arr2[ord(p[i])-ord('a')] += 1\n",
    "        if arr1 == arr2: arridx.append(0)\n",
    "        for j in range(n, m):\n",
    "            arr1[ord(s[j-n])-ord('a')] -= 1\n",
    "            arr1[ord(s[j])-ord('a')] += 1\n",
    "            if arr1 == arr2: arridx.append(j-n+1)\n",
    "        return arridx\n",
    "\n",
    "\n",
    "print(Solution().findAnagrams(\"cbaebabacd\", \"abc\"))\n",
    "print(Solution().findAnagrams(\"abab\", \"ab\"))\n",
    "print(Solution().findAnagrams(\"baa\", \"aa\"))"
   ]
  }
 ],
 "metadata": {
  "kernelspec": {
   "display_name": "Python 3.8.10 64-bit",
   "language": "python",
   "name": "python3"
  },
  "language_info": {
   "codemirror_mode": {
    "name": "ipython",
    "version": 3
   },
   "file_extension": ".py",
   "mimetype": "text/x-python",
   "name": "python",
   "nbconvert_exporter": "python",
   "pygments_lexer": "ipython3",
   "version": "3.8.10"
  },
  "orig_nbformat": 4,
  "vscode": {
   "interpreter": {
    "hash": "e0144baad0ecee903f108a3e46e51ceadd7da3fc904cfa79747d813b61464b4e"
   }
  }
 },
 "nbformat": 4,
 "nbformat_minor": 2
}
