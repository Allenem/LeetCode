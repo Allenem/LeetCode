{
 "cells": [
  {
   "cell_type": "markdown",
   "metadata": {},
   "source": [
    "# LCR 096. 交错字符串 (medium)\n",
    "\n",
    "给定三个字符串 s1、s2、s3，请判断 s3 能不能由 s1 和 s2 交织（交错） 组成。\n",
    "\n",
    "两个字符串 s 和 t 交织 的定义与过程如下，其中每个字符串都会被分割成若干 非空 子字符串：\n",
    "\n",
    "- s = s1 + s2 + ... + sn\n",
    "- t = t1 + t2 + ... + tm\n",
    "- |n - m| <= 1\n",
    "- 交织 是 s1 + t1 + s2 + t2 + s3 + t3 + ... 或者 t1 + s1 + t2 + s2 + t3 + s3 + ...\n",
    "\n",
    "提示：a + b 意味着字符串 a 和 b 连接。\n",
    "\n",
    "示例 1：\n",
    "\n",
    "![](https://assets.leetcode.com/uploads/2020/09/02/interleave.jpg)\n",
    "\n",
    "```\n",
    "输入：s1 = \"aabcc\", s2 = \"dbbca\", s3 = \"aadbbcbcac\"\n",
    "输出：true\n",
    "```\n",
    "示例 2：\n",
    "```\n",
    "输入：s1 = \"aabcc\", s2 = \"dbbca\", s3 = \"aadbbbaccc\"\n",
    "输出：false\n",
    "```\n",
    "示例 3：\n",
    "```\n",
    "输入：s1 = \"\", s2 = \"\", s3 = \"\"\n",
    "输出：true\n",
    "``` \n",
    "\n",
    "提示：\n",
    "```\n",
    "0 <= s1.length, s2.length <= 100\n",
    "0 <= s3.length <= 200\n",
    "s1、s2、和 s3 都由小写英文字母组成\n",
    "``` \n",
    "\n",
    "注意：本题与主站 97 题相同： https://leetcode-cn.com/problems/interleaving-string/"
   ]
  },
  {
   "cell_type": "code",
   "execution_count": 1,
   "metadata": {},
   "outputs": [
    {
     "name": "stdout",
     "output_type": "stream",
     "text": [
      "True\n",
      "False\n",
      "True\n"
     ]
    }
   ],
   "source": [
    "# 方法一：动态规划\n",
    "class Solution:\n",
    "    def isInterleave(self, s1: str, s2: str, s3: str) -> bool:\n",
    "        m, n, t = len(s1), len(s2), len(s3)\n",
    "        if m + n != t: return False\n",
    "        f = [False] * (n + 1) # f[j] 表示 s2 的前 j 个字符和 s1 的前 i 个字符是否匹配 s3 的前 i+j 个字符 \n",
    "        f[0] = True\n",
    "        for i in range(m + 1):\n",
    "            for j in range(n + 1):\n",
    "                p = i + j\n",
    "                if i > 0:\n",
    "                    f[j] &= s1[i - 1] == s3[p - 1]\n",
    "                if j > 0:\n",
    "                    f[j] |= f[j - 1] and s2[j - 1] == s3[p - 1]\n",
    "        return f[n]\n",
    "\n",
    "\n",
    "print(Solution().isInterleave(s1=\"aabcc\", s2=\"dbbca\", s3=\"aadbbcbcac\"))\n",
    "print(Solution().isInterleave(s1=\"aabcc\", s2=\"dbbca\", s3=\"aadbbbaccc\"))\n",
    "print(Solution().isInterleave(s1=\"\", s2=\"\", s3=\"\"))"
   ]
  },
  {
   "cell_type": "code",
   "execution_count": 2,
   "metadata": {},
   "outputs": [
    {
     "name": "stdout",
     "output_type": "stream",
     "text": [
      "True\n",
      "False\n",
      "True\n"
     ]
    }
   ],
   "source": [
    "# 方法二：二维动态规划\n",
    "class Solution:\n",
    "    def isInterleave(self, s1: str, s2: str, s3: str) -> bool:\n",
    "        m, n, t = len(s1), len(s2), len(s3)\n",
    "        if m+n != t: return False\n",
    "        dp = [[False] * (n+1) for _ in range(m+1)] # dp[i][j]表示s1的前i个字符和s2的前j个字符能否交错组成s3的前i+j个字符\n",
    "        dp[0][0] = True\n",
    "        for i in range(1, m+1):\n",
    "            dp[i][0] = dp[i-1][0] and s1[i-1] == s3[i-1]\n",
    "        for i in range(1, n+1):\n",
    "            dp[0][i] = dp[0][i-1] and s2[i-1] == s3[i-1]\n",
    "        for i in range(1, m+1):\n",
    "            for j in range(1, n+1):\n",
    "                p = i + j - 1\n",
    "                dp[i][j] = (dp[i-1][j] and s1[i-1] == s3[p]) or (dp[i][j-1] and s2[j-1] == s3[p])\n",
    "        return dp[m][n]\n",
    "\n",
    "\n",
    "print(Solution().isInterleave(s1=\"aabcc\", s2=\"dbbca\", s3=\"aadbbcbcac\"))\n",
    "print(Solution().isInterleave(s1=\"aabcc\", s2=\"dbbca\", s3=\"aadbbbaccc\"))\n",
    "print(Solution().isInterleave(s1=\"\", s2=\"\", s3=\"\"))"
   ]
  }
 ],
 "metadata": {
  "kernelspec": {
   "display_name": "Python 3.8.10 64-bit",
   "language": "python",
   "name": "python3"
  },
  "language_info": {
   "codemirror_mode": {
    "name": "ipython",
    "version": 3
   },
   "file_extension": ".py",
   "mimetype": "text/x-python",
   "name": "python",
   "nbconvert_exporter": "python",
   "pygments_lexer": "ipython3",
   "version": "3.8.10"
  },
  "orig_nbformat": 4,
  "vscode": {
   "interpreter": {
    "hash": "e0144baad0ecee903f108a3e46e51ceadd7da3fc904cfa79747d813b61464b4e"
   }
  }
 },
 "nbformat": 4,
 "nbformat_minor": 2
}
