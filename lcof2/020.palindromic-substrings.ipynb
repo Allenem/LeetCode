{
 "cells": [
  {
   "cell_type": "markdown",
   "metadata": {},
   "source": [
    "# LCR 020. 回文子串 (medium)\n",
    "\n",
    "给定一个字符串 s ，请计算这个字符串中有多少个回文子字符串。\n",
    "\n",
    "具有不同开始位置或结束位置的子串，即使是由相同的字符组成，也会被视作不同的子串。\n",
    "\n",
    "\n",
    "示例 1：\n",
    "```\n",
    "输入：s = \"abc\"\n",
    "输出：3\n",
    "解释：三个回文子串: \"a\", \"b\", \"c\"\n",
    "```\n",
    "示例 2：\n",
    "```\n",
    "输入：s = \"aaa\"\n",
    "输出：6\n",
    "解释：6个回文子串: \"a\", \"a\", \"a\", \"aa\", \"aa\", \"aaa\"\n",
    "``` \n",
    "\n",
    "提示：\n",
    "```\n",
    "1 <= s.length <= 1000\n",
    "s 由小写英文字母组成\n",
    "``` \n",
    "\n",
    "注意：本题与主站 70 题相同：https://leetcode-cn.com/problems/palindromic-substrings/ "
   ]
  },
  {
   "cell_type": "code",
   "execution_count": 6,
   "metadata": {},
   "outputs": [
    {
     "name": "stdout",
     "output_type": "stream",
     "text": [
      "3\n",
      "6\n"
     ]
    }
   ],
   "source": [
    "# manacher算法 https://www.cnblogs.com/grandyang/p/4475985.html\n",
    "from functools import reduce\n",
    "class Solution:\n",
    "    def countSubstrings(self, s: str) -> int:\n",
    "        t = '$#'+reduce(lambda x, y: x+y, [c+'#' for c in s])+'!'\n",
    "        n = len(t)-1\n",
    "        f = [1] * n                    # f[i] 表示以i为中心t可拓展的最大半径, 对应s中元素f[i]-1个\n",
    "        i_max, r_max, cnt = 0, 0, 0    # 当前最大回文的 中心、右端点，回文数量\n",
    "        for i in range(n):\n",
    "            # 初始化f[i], 保证t[i-f(i)+1]=t[i+f(i)-1]\n",
    "            f[i] = min(r_max - i + 1, f[2 * i_max - i]) if i <= r_max else 1\n",
    "            # 中心拓展，继续判断t[i-f(i)]=t[i+f(i)]?\n",
    "            while t[i - f[i]] == t[i + f[i]]:\n",
    "                f[i] += 1\n",
    "            # 动态维护 i_max, r_max\n",
    "            if i + f[i] - 1 > r_max:\n",
    "                i_max = i\n",
    "                r_max = i + f[i] - 1\n",
    "            cnt += f[i]//2\n",
    "        return cnt\n",
    "\n",
    "\n",
    "print(Solution().countSubstrings(\"abc\"))\n",
    "print(Solution().countSubstrings(\"aaa\"))"
   ]
  }
 ],
 "metadata": {
  "kernelspec": {
   "display_name": "Python 3.8.10 64-bit",
   "language": "python",
   "name": "python3"
  },
  "language_info": {
   "codemirror_mode": {
    "name": "ipython",
    "version": 3
   },
   "file_extension": ".py",
   "mimetype": "text/x-python",
   "name": "python",
   "nbconvert_exporter": "python",
   "pygments_lexer": "ipython3",
   "version": "3.8.10"
  },
  "orig_nbformat": 4,
  "vscode": {
   "interpreter": {
    "hash": "e0144baad0ecee903f108a3e46e51ceadd7da3fc904cfa79747d813b61464b4e"
   }
  }
 },
 "nbformat": 4,
 "nbformat_minor": 2
}
