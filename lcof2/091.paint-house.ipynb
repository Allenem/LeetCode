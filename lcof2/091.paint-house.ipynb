{
 "cells": [
  {
   "cell_type": "markdown",
   "metadata": {},
   "source": [
    "# LCR 091. 粉刷房子 (medium)\n",
    "\n",
    "假如有一排房子，共 n 个，每个房子可以被粉刷成红色、蓝色或者绿色这三种颜色中的一种，你需要粉刷所有的房子并且使其相邻的两个房子颜色不能相同。\n",
    "\n",
    "当然，因为市场上不同颜色油漆的价格不同，所以房子粉刷成不同颜色的花费成本也是不同的。每个房子粉刷成不同颜色的花费是以一个 n x 3 的正整数矩阵 costs 来表示的。\n",
    "\n",
    "例如，costs[0][0] 表示第 0 号房子粉刷成红色的成本花费；costs[1][2] 表示第 1 号房子粉刷成绿色的花费，以此类推。\n",
    "\n",
    "请计算出粉刷完所有房子最少的花费成本。\n",
    "\n",
    "示例 1：\n",
    "```\n",
    "输入: costs = [[17,2,17],[16,16,5],[14,3,19]]\n",
    "输出: 10\n",
    "解释: 将 0 号房子粉刷成蓝色，1 号房子粉刷成绿色，2 号房子粉刷成蓝色。\n",
    "     最少花费: 2 + 5 + 3 = 10。\n",
    "```\n",
    "示例 2：\n",
    "```\n",
    "输入: costs = [[7,6,2]]\n",
    "输出: 2\n",
    "``` \n",
    "\n",
    "提示:\n",
    "```\n",
    "costs.length == n\n",
    "costs[i].length == 3\n",
    "1 <= n <= 100\n",
    "1 <= costs[i][j] <= 20\n",
    "``` \n",
    "\n",
    "注意：本题与主站 256 题相同：https://leetcode-cn.com/problems/paint-house/"
   ]
  },
  {
   "cell_type": "code",
   "execution_count": 1,
   "metadata": {},
   "outputs": [
    {
     "name": "stdout",
     "output_type": "stream",
     "text": [
      "10\n",
      "2\n"
     ]
    }
   ],
   "source": [
    "from typing import List\n",
    "class Solution:\n",
    "    def minCost(self, costs: List[List[int]]) -> int:\n",
    "        dp = costs[0] # dp: length 3, dp[j] is the min cost of painting current house i with color j\n",
    "        for i in range(1, len(costs)):\n",
    "            dp = [c + min(dp[j-1], dp[j-2]) for j, c in enumerate(costs[i])]\n",
    "        return min(dp)\n",
    "\n",
    "print(Solution().minCost([[17,2,17],[16,16,5],[14,3,19]]))\n",
    "print(Solution().minCost([[7,6,2]]))\n"
   ]
  }
 ],
 "metadata": {
  "kernelspec": {
   "display_name": "Python 3.8.10 64-bit",
   "language": "python",
   "name": "python3"
  },
  "language_info": {
   "codemirror_mode": {
    "name": "ipython",
    "version": 3
   },
   "file_extension": ".py",
   "mimetype": "text/x-python",
   "name": "python",
   "nbconvert_exporter": "python",
   "pygments_lexer": "ipython3",
   "version": "3.8.10"
  },
  "orig_nbformat": 4,
  "vscode": {
   "interpreter": {
    "hash": "e0144baad0ecee903f108a3e46e51ceadd7da3fc904cfa79747d813b61464b4e"
   }
  }
 },
 "nbformat": 4,
 "nbformat_minor": 2
}
