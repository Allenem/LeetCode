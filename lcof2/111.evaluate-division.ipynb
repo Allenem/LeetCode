{
 "cells": [
  {
   "cell_type": "markdown",
   "metadata": {},
   "source": [
    "# LCR 111. 除法求值 (medium)\n",
    "\n",
    "给定一个变量对数组 equations 和一个实数值数组 values 作为已知条件，其中 equations[i] = [Ai, Bi] 和 values[i] 共同表示等式 Ai / Bi = values[i] 。每个 Ai 或 Bi 是一个表示单个变量的字符串。\n",
    "\n",
    "另有一些以数组 queries 表示的问题，其中 queries[j] = [Cj, Dj] 表示第 j 个问题，请你根据已知条件找出 Cj / Dj = ? 的结果作为答案。\n",
    "\n",
    "返回 所有问题的答案 。如果存在某个无法确定的答案，则用 -1.0 替代这个答案。如果问题中出现了给定的已知条件中没有出现的字符串，也需要用 -1.0 替代这个答案。\n",
    "\n",
    "注意：输入总是有效的。可以假设除法运算中不会出现除数为 0 的情况，且不存在任何矛盾的结果。\n",
    "\n",
    "示例 1：\n",
    "```\n",
    "输入：equations = [[\"a\",\"b\"],[\"b\",\"c\"]], values = [2.0,3.0], queries = [[\"a\",\"c\"],[\"b\",\"a\"],[\"a\",\"e\"],[\"a\",\"a\"],[\"x\",\"x\"]]\n",
    "输出：[6.00000,0.50000,-1.00000,1.00000,-1.00000]\n",
    "解释：\n",
    "条件：a / b = 2.0, b / c = 3.0\n",
    "问题：a / c = ?, b / a = ?, a / e = ?, a / a = ?, x / x = ?\n",
    "结果：[6.0, 0.5, -1.0, 1.0, -1.0 ]\n",
    "```\n",
    "示例 2：\n",
    "```\n",
    "输入：equations = [[\"a\",\"b\"],[\"b\",\"c\"],[\"bc\",\"cd\"]], values = [1.5,2.5,5.0], queries = [[\"a\",\"c\"],[\"c\",\"b\"],[\"bc\",\"cd\"],[\"cd\",\"bc\"]]\n",
    "输出：[3.75000,0.40000,5.00000,0.20000]\n",
    "```\n",
    "示例 3：\n",
    "```\n",
    "输入：equations = [[\"a\",\"b\"]], values = [0.5], queries = [[\"a\",\"b\"],[\"b\",\"a\"],[\"a\",\"c\"],[\"x\",\"y\"]]\n",
    "输出：[0.50000,2.00000,-1.00000,-1.00000]\n",
    "``` \n",
    "\n",
    "提示：\n",
    "```\n",
    "1 <= equations.length <= 20\n",
    "equations[i].length == 2\n",
    "1 <= Ai.length, Bi.length <= 5\n",
    "values.length == equations.length\n",
    "0.0 < values[i] <= 20.0\n",
    "1 <= queries.length <= 20\n",
    "queries[i].length == 2\n",
    "1 <= Cj.length, Dj.length <= 5\n",
    "Ai, Bi, Cj, Dj 由小写英文字母与数字组成\n",
    "``` \n",
    "\n",
    "注意：本题与主站 399 题相同： https://leetcode-cn.com/problems/evaluate-division/"
   ]
  },
  {
   "cell_type": "code",
   "execution_count": 1,
   "metadata": {},
   "outputs": [
    {
     "name": "stdout",
     "output_type": "stream",
     "text": [
      "[6.0, 0.5, -1.0, 1.0, -1.0]\n",
      "[3.75, 0.4, 5.0, 0.2]\n",
      "[0.5, 2.0, -1.0, -1.0]\n"
     ]
    }
   ],
   "source": [
    "# 1. UF 并查集\n",
    "from typing import List\n",
    "class Solution:\n",
    "    def calcEquation(self, equations: List[List[str]], values: List[float], queries: List[List[str]]) -> List[float]:\n",
    "        ID, word_ID = 0, {}\n",
    "        for w1, w2 in equations:\n",
    "            if w1 not in word_ID:\n",
    "                word_ID[w1] = ID\n",
    "                ID += 1\n",
    "            if w2 not in word_ID:\n",
    "                word_ID[w2] = ID\n",
    "                ID += 1\n",
    "\n",
    "        UF = UnionFind(ID)\n",
    "        for [w1, w2], val in zip(equations, values):\n",
    "            x_ID, y_ID = word_ID[w1], word_ID[w2]\n",
    "            UF.union(x_ID, y_ID, val)\n",
    "\n",
    "        ans = []\n",
    "        for w1, w2 in queries:\n",
    "            # 默认不在字典中，无公共父节点，tmp=-1\n",
    "            tmp = -1.0\n",
    "            if w1 in word_ID  and w2 in word_ID:\n",
    "                x_ID, y_ID = word_ID[w1], word_ID[w2]\n",
    "                fx, fy = UF.find(x_ID), UF.find(y_ID)\n",
    "                # 有公共父节点，权重相除\n",
    "                if fx == fy:\n",
    "                    tmp = UF.w[x_ID] / UF.w[y_ID]\n",
    "            ans.append(tmp)\n",
    "        return ans\n",
    "        \n",
    "\n",
    "class UnionFind:\n",
    "    def __init__(self, n: int):\n",
    "        self.f = list(range(n))\n",
    "        self.w = [1.0] * n\n",
    "\n",
    "    def find(self, x: int) -> int:\n",
    "        if self.f[x] != x:\n",
    "            father = self.find(self.f[x])\n",
    "            # w[x] = v[x] / v[father] = v[x] / v[f[x]] * v[f[x]] / v[father] = w[x] * w[f[x]]\n",
    "            self.w[x] *= self.w[self.f[x]]\n",
    "            self.f[x] = father\n",
    "        return self.f[x]\n",
    "\n",
    "    def union(self, x: int, y: int, v: float):\n",
    "        fx = self.find(x)\n",
    "        fy = self.find(y)\n",
    "        self.f[fx] = fy\n",
    "        # w[fx] = v[fx] / v[fy] = (v[x] / w[x]) / (v[y] / w[y]) = v[x] / v[y] * w[y] / w[x]\n",
    "        self.w[fx] = v * self.w[y] / self.w[x]\n",
    "\n",
    "\n",
    "print(Solution().calcEquation([[\"a\",\"b\"],[\"b\",\"c\"]], [2.0,3.0], [[\"a\",\"c\"],[\"b\",\"a\"],[\"a\",\"e\"],[\"a\",\"a\"],[\"x\",\"x\"]]))\n",
    "print(Solution().calcEquation([[\"a\",\"b\"],[\"b\",\"c\"],[\"bc\",\"cd\"]], [1.5,2.5,5.0], [[\"a\",\"c\"],[\"c\",\"b\"],[\"bc\",\"cd\"],[\"cd\",\"bc\"]]))\n",
    "print(Solution().calcEquation([[\"a\",\"b\"]], [0.5], [[\"a\",\"b\"],[\"b\",\"a\"],[\"a\",\"c\"],[\"x\",\"y\"]]))"
   ]
  },
  {
   "cell_type": "code",
   "execution_count": 2,
   "metadata": {},
   "outputs": [
    {
     "name": "stdout",
     "output_type": "stream",
     "text": [
      "[6.0, 0.5, -1.0, 1.0, -1.0]\n",
      "[3.75, 0.4, 5.0, 0.2]\n",
      "[0.5, 2.0, -1.0, -1.0]\n"
     ]
    }
   ],
   "source": [
    "# BFS\n",
    "from typing import List\n",
    "from collections import defaultdict\n",
    "class Solution:\n",
    "    def calcEquation(self, equations: List[List[str]], values: List[float], queries: List[List[str]]) -> List[float]:\n",
    "        graph = defaultdict(list)\n",
    "        allnum = set()\n",
    "        for (u, v), w in zip(equations, values):\n",
    "            graph[u].append((v, w))\n",
    "            graph[v].append((u, 1/w))\n",
    "            allnum.update((u, v))\n",
    "        def bfs(st, ed):\n",
    "            if st not in allnum or ed not in allnum:\n",
    "                return -1.0\n",
    "            q = [(st, 1.0)]\n",
    "            see = set([st])\n",
    "            while q:\n",
    "                u, val = q.pop(0)\n",
    "                if u == ed:\n",
    "                    return val # 一定要在这里返回，不然会超时\n",
    "                for v, w in graph[u]:\n",
    "                    if v not in see:\n",
    "                        q.append((v, val * w))\n",
    "                        see.add(v)\n",
    "            return -1.0\n",
    "        return [bfs(u, v) for u, v in queries]\n",
    "\n",
    "print(Solution().calcEquation([[\"a\",\"b\"],[\"b\",\"c\"]], [2.0,3.0], [[\"a\",\"c\"],[\"b\",\"a\"],[\"a\",\"e\"],[\"a\",\"a\"],[\"x\",\"x\"]]))\n",
    "print(Solution().calcEquation([[\"a\",\"b\"],[\"b\",\"c\"],[\"bc\",\"cd\"]], [1.5,2.5,5.0], [[\"a\",\"c\"],[\"c\",\"b\"],[\"bc\",\"cd\"],[\"cd\",\"bc\"]]))\n",
    "print(Solution().calcEquation([[\"a\",\"b\"]], [0.5], [[\"a\",\"b\"],[\"b\",\"a\"],[\"a\",\"c\"],[\"x\",\"y\"]]))"
   ]
  }
 ],
 "metadata": {
  "kernelspec": {
   "display_name": "Python 3.8.10 64-bit",
   "language": "python",
   "name": "python3"
  },
  "language_info": {
   "codemirror_mode": {
    "name": "ipython",
    "version": 3
   },
   "file_extension": ".py",
   "mimetype": "text/x-python",
   "name": "python",
   "nbconvert_exporter": "python",
   "pygments_lexer": "ipython3",
   "version": "3.8.10"
  },
  "orig_nbformat": 4,
  "vscode": {
   "interpreter": {
    "hash": "e0144baad0ecee903f108a3e46e51ceadd7da3fc904cfa79747d813b61464b4e"
   }
  }
 },
 "nbformat": 4,
 "nbformat_minor": 2
}
