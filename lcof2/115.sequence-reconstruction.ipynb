{
 "cells": [
  {
   "cell_type": "markdown",
   "metadata": {},
   "source": [
    "# LCR 115. 序列重建 (medium)\n",
    "\n",
    "给定一个长度为 n 的整数数组 nums ，其中 nums 是范围为 [1，n] 的整数的排列。还提供了一个 2D 整数数组 sequences ，其中 sequences[i] 是 nums 的子序列。\n",
    "检查 nums 是否是唯一的最短 超序列 。最短 超序列 是 长度最短 的序列，并且所有序列 sequences[i] 都是它的子序列。对于给定的数组 sequences ，可能存在多个有效的 超序列 。\n",
    "\n",
    "- 例如，对于 sequences = [[1,2],[1,3]] ，有两个最短的 超序列 ，[1,2,3] 和 [1,3,2] 。\n",
    "- 而对于 sequences = [[1,2],[1,3],[1,2,3]] ，唯一可能的最短 超序列 是 [1,2,3] 。[1,2,3,4] 是可能的超序列，但不是最短的。\n",
    "\n",
    "如果 nums 是序列的唯一最短 超序列 ，则返回 true ，否则返回 false 。\n",
    "\n",
    "子序列 是一个可以通过从另一个序列中删除一些元素或不删除任何元素，而不改变其余元素的顺序的序列。\n",
    "\n",
    " \n",
    "\n",
    "示例 1：\n",
    "```\n",
    "输入：nums = [1,2,3], sequences = [[1,2],[1,3]]\n",
    "输出：false\n",
    "解释：有两种可能的超序列：[1,2,3]和[1,3,2]。\n",
    "序列 [1,2] 是[1,2,3]和[1,3,2]的子序列。\n",
    "序列 [1,3] 是[1,2,3]和[1,3,2]的子序列。\n",
    "因为 nums 不是唯一最短的超序列，所以返回false。\n",
    "```\n",
    "示例 2：\n",
    "```\n",
    "输入：nums = [1,2,3], sequences = [[1,2]]\n",
    "输出：false\n",
    "解释：最短可能的超序列为 [1,2]。\n",
    "序列 [1,2] 是它的子序列：[1,2]。\n",
    "因为 nums 不是最短的超序列，所以返回false。\n",
    "```\n",
    "示例 3：\n",
    "```\n",
    "输入：nums = [1,2,3], sequences = [[1,2],[1,3],[2,3]]\n",
    "输出：true\n",
    "解释：最短可能的超序列为[1,2,3]。\n",
    "序列 [1,2] 是它的一个子序列：[1,2,3]。\n",
    "序列 [1,3] 是它的一个子序列：[1,2,3]。\n",
    "序列 [2,3] 是它的一个子序列：[1,2,3]。\n",
    "因为 nums 是唯一最短的超序列，所以返回true。\n",
    "``` \n",
    "\n",
    "提示：\n",
    "```\n",
    "n == nums.length\n",
    "1 <= n <= 10^4\n",
    "nums 是 [1, n] 范围内所有整数的排列\n",
    "1 <= sequences.length <= 10^4\n",
    "1 <= sequences[i].length <= 10^4\n",
    "1 <= sum(sequences[i].length) <= 10^5\n",
    "1 <= sequences[i][j] <= n\n",
    "sequences 的所有数组都是 唯一 的\n",
    "sequences[i] 是 nums 的一个子序列\n",
    "``` \n",
    "\n",
    "注意：本题与主站 444 题相同：https://leetcode-cn.com/problems/sequence-reconstruction/"
   ]
  },
  {
   "cell_type": "code",
   "execution_count": 1,
   "metadata": {},
   "outputs": [
    {
     "name": "stdout",
     "output_type": "stream",
     "text": [
      "False\n",
      "False\n",
      "True\n"
     ]
    }
   ],
   "source": [
    "# graph + indegree + bfs\n",
    "\n",
    "from typing import List\n",
    "from itertools import tee\n",
    "\n",
    "class Solution:\n",
    "    def sequenceReconstruction(self, nums: List[int], sequences: List[List[int]]) -> bool:\n",
    "        if not sequences: return False\n",
    "\n",
    "        n = len(nums)\n",
    "        edg = [[] for _ in range(n + 1)]\n",
    "        deg = [0] * (n + 1)\n",
    "        for seq in sequences:\n",
    "            for s, t in pairwise(seq):\n",
    "                if s < 1 or s > n:\n",
    "                    return False\n",
    "                edg[s].append(t)\n",
    "                deg[t] += 1\n",
    "\n",
    "        q = [i for i in range(1, n+1) if deg[i] == 0]\n",
    "        ans = []\n",
    "\n",
    "        while q:\n",
    "            # 当前度值的数字必须唯一\n",
    "            if len(q) != 1: return False\n",
    "            cur = q.pop(0)\n",
    "            ans.append(cur)\n",
    "            for nxt in edg[cur]:\n",
    "                deg[nxt] -= 1\n",
    "                if deg[nxt] == 0:\n",
    "                    q.append(nxt)\n",
    "\n",
    "        return nums == ans\n",
    "\n",
    "def pairwise(iterable):\n",
    "    a, b = tee(iterable)\n",
    "    next(b, None)\n",
    "    return zip(a, b)\n",
    "\n",
    "print(Solution().sequenceReconstruction([1,2,3], [[1,2],[1,3]]))\n",
    "print(Solution().sequenceReconstruction([1,2,3], [[1,2]]))\n",
    "print(Solution().sequenceReconstruction([1,2,3], [[1,2],[1,3],[2,3]]))"
   ]
  }
 ],
 "metadata": {
  "kernelspec": {
   "display_name": "Python 3.8.10 64-bit",
   "language": "python",
   "name": "python3"
  },
  "language_info": {
   "codemirror_mode": {
    "name": "ipython",
    "version": 3
   },
   "file_extension": ".py",
   "mimetype": "text/x-python",
   "name": "python",
   "nbconvert_exporter": "python",
   "pygments_lexer": "ipython3",
   "version": "3.8.10"
  },
  "orig_nbformat": 4,
  "vscode": {
   "interpreter": {
    "hash": "e0144baad0ecee903f108a3e46e51ceadd7da3fc904cfa79747d813b61464b4e"
   }
  }
 },
 "nbformat": 4,
 "nbformat_minor": 2
}
