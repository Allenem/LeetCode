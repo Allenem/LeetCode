{
 "cells": [
  {
   "cell_type": "markdown",
   "metadata": {},
   "source": [
    "# LCR 007. 三数之和 (easy)\n",
    "\n",
    "给定一个包含 n 个整数的数组 nums，判断 nums 中是否存在三个元素 a ，b ，c ，使得 a + b + c = 0 ？请找出所有和为 0 且 不重复 的三元组。\n",
    "\n",
    "示例 1：\n",
    "```\n",
    "输入：nums = [-1,0,1,2,-1,-4]\n",
    "输出：[[-1,-1,2],[-1,0,1]]\n",
    "```\n",
    "示例 2：\n",
    "```\n",
    "输入：nums = []\n",
    "输出：[]\n",
    "```\n",
    "示例 3：\n",
    "```\n",
    "输入：nums = [0]\n",
    "输出：[]\n",
    "```\n",
    "\n",
    "提示：\n",
    "```\n",
    "0 <= nums.length <= 3000\n",
    "-105 <= nums[i] <= 105\n",
    "```\n",
    "\n",
    "注意：本题与主站 15 题相同：https://leetcode-cn.com/problems/3sum/"
   ]
  },
  {
   "cell_type": "code",
   "execution_count": 1,
   "metadata": {},
   "outputs": [
    {
     "name": "stdout",
     "output_type": "stream",
     "text": [
      "[[-1, -1, 2], [-1, 0, 1]]\n",
      "[]\n",
      "[[0, 0, 0]]\n",
      "[[-2, 0, 2]]\n"
     ]
    }
   ],
   "source": [
    "from typing import List\n",
    "class Solution:\n",
    "    def threeSum(self, nums: List[int]) -> List[List[int]]:\n",
    "        if not nums or len(nums)<3: return []\n",
    "        nums.sort()\n",
    "        ans = []\n",
    "        for l in range(len(nums)):\n",
    "            m = l+1\n",
    "            r = len(nums)-1\n",
    "            while m < r:\n",
    "                tmpsum=nums[l]+nums[m]+nums[r]\n",
    "                if tmpsum<0: m+=1\n",
    "                elif tmpsum>0: r-=1\n",
    "                else:\n",
    "                    lst=[nums[l],nums[m],nums[r]]\n",
    "                    if lst not in ans: ans.append(lst)\n",
    "                    m+=1\n",
    "                    r-=1\n",
    "        return ans\n",
    "\n",
    "\n",
    "print(Solution().threeSum([-1,0,1,2,-1,-4]))\n",
    "print(Solution().threeSum([]))\n",
    "print(Solution().threeSum([0,0,0,0]))\n",
    "print(Solution().threeSum([-2,0,0,2,2]))\n"
   ]
  }
 ],
 "metadata": {
  "kernelspec": {
   "display_name": "Python 3.8.10 64-bit",
   "language": "python",
   "name": "python3"
  },
  "language_info": {
   "codemirror_mode": {
    "name": "ipython",
    "version": 3
   },
   "file_extension": ".py",
   "mimetype": "text/x-python",
   "name": "python",
   "nbconvert_exporter": "python",
   "pygments_lexer": "ipython3",
   "version": "3.8.10"
  },
  "orig_nbformat": 4,
  "vscode": {
   "interpreter": {
    "hash": "e0144baad0ecee903f108a3e46e51ceadd7da3fc904cfa79747d813b61464b4e"
   }
  }
 },
 "nbformat": 4,
 "nbformat_minor": 2
}
