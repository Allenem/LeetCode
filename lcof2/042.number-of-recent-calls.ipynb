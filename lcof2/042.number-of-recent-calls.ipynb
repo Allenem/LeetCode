{
 "cells": [
  {
   "cell_type": "markdown",
   "metadata": {},
   "source": [
    "# LCR 042. 最近的请求次数 (easy)\n",
    "\n",
    "写一个 RecentCounter 类来计算特定时间范围内最近的请求。\n",
    "\n",
    "请实现 RecentCounter 类：\n",
    "```\n",
    "RecentCounter() 初始化计数器，请求数为 0 。\n",
    "int ping(int t) 在时间 t 添加一个新请求，其中 t 表示以毫秒为单位的某个时间，并返回过去 3000 毫秒内发生的所有请求数（包括新请求）。确切地说，返回在 [t-3000, t] 内发生的请求数。\n",
    "保证 每次对 ping 的调用都使用比之前更大的 t 值。\n",
    "```\n",
    "\n",
    "示例：\n",
    "```\n",
    "输入：\n",
    "inputs = [\"RecentCounter\", \"ping\", \"ping\", \"ping\", \"ping\"]\n",
    "inputs = [[], [1], [100], [3001], [3002]]\n",
    "输出：\n",
    "[null, 1, 2, 3, 3]\n",
    "\n",
    "解释：\n",
    "RecentCounter recentCounter = new RecentCounter();\n",
    "recentCounter.ping(1);     // requests = [1]，范围是 [-2999,1]，返回 1\n",
    "recentCounter.ping(100);   // requests = [1, 100]，范围是 [-2900,100]，返回 2\n",
    "recentCounter.ping(3001);  // requests = [1, 100, 3001]，范围是 [1,3001]，返回 3\n",
    "recentCounter.ping(3002);  // requests = [1, 100, 3001, 3002]，范围是 [2,3002]，返回 3\n",
    "``` \n",
    "\n",
    "提示：\n",
    "```\n",
    "1 <= t <= 10^9\n",
    "保证每次对 ping 调用所使用的 t 值都 严格递增\n",
    "至多调用 ping 方法 10^4 次\n",
    "``` \n",
    "\n",
    "注意：本题与主站 933 题相同： https://leetcode-cn.com/problems/number-of-recent-calls/"
   ]
  },
  {
   "cell_type": "code",
   "execution_count": 1,
   "metadata": {},
   "outputs": [
    {
     "name": "stdout",
     "output_type": "stream",
     "text": [
      "1\n",
      "2\n",
      "3\n",
      "3\n"
     ]
    }
   ],
   "source": [
    "class RecentCounter:\n",
    "\n",
    "    def __init__(self):\n",
    "        self.requests = []\n",
    "\n",
    "\n",
    "    def ping(self, t: int) -> int:\n",
    "        self.requests.append(t)\n",
    "        while self.requests[0] < t - 3000:\n",
    "            self.requests.pop(0)\n",
    "        return len(self.requests)\n",
    "\n",
    "\n",
    "\n",
    "# Your RecentCounter object will be instantiated and called as such:\n",
    "# obj = RecentCounter()\n",
    "# param_1 = obj.ping(t)\n",
    "\n",
    "\n",
    "rc = RecentCounter()\n",
    "print(rc.ping(1))\n",
    "print(rc.ping(100))\n",
    "print(rc.ping(3001))\n",
    "print(rc.ping(3002))"
   ]
  }
 ],
 "metadata": {
  "kernelspec": {
   "display_name": "Python 3.8.10 64-bit",
   "language": "python",
   "name": "python3"
  },
  "language_info": {
   "codemirror_mode": {
    "name": "ipython",
    "version": 3
   },
   "file_extension": ".py",
   "mimetype": "text/x-python",
   "name": "python",
   "nbconvert_exporter": "python",
   "pygments_lexer": "ipython3",
   "version": "3.8.10"
  },
  "orig_nbformat": 4,
  "vscode": {
   "interpreter": {
    "hash": "e0144baad0ecee903f108a3e46e51ceadd7da3fc904cfa79747d813b61464b4e"
   }
  }
 },
 "nbformat": 4,
 "nbformat_minor": 2
}
