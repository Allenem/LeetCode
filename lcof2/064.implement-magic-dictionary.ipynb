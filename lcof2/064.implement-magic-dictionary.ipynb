{
 "cells": [
  {
   "cell_type": "markdown",
   "metadata": {},
   "source": [
    "# LCR 064. 实现一个魔法字典 (medium)\n",
    "\n",
    "设计一个使用单词列表进行初始化的数据结构，单词列表中的单词 互不相同 。 如果给出一个单词，请判定能否只将这个单词中一个字母换成另一个字母，使得所形成的新单词存在于已构建的神奇字典中。\n",
    "\n",
    "实现 MagicDictionary 类：\n",
    "\n",
    "- MagicDictionary() 初始化对象\n",
    "- void buildDict(String[] dictionary) 使用字符串数组 dictionary 设定该数据结构，dictionary 中的字符串互不相同\n",
    "- bool search(String searchWord) 给定一个字符串 searchWord ，判定能否只将字符串中 一个 字母换成另一个字母，使得所形成的新字符串能够与字典中的任一字符串匹配。如果可以，返回 true ；否则，返回 false 。\n",
    " \n",
    "\n",
    "示例：\n",
    "```\n",
    "输入\n",
    "inputs = [\"MagicDictionary\", \"buildDict\", \"search\", \"search\", \"search\", \"search\"]\n",
    "inputs = [[], [[\"hello\", \"leetcode\"]], [\"hello\"], [\"hhllo\"], [\"hell\"], [\"leetcoded\"]]\n",
    "输出\n",
    "[null, null, false, true, false, false]\n",
    "\n",
    "解释\n",
    "MagicDictionary magicDictionary = new MagicDictionary();\n",
    "magicDictionary.buildDict([\"hello\", \"leetcode\"]);\n",
    "magicDictionary.search(\"hello\"); // 返回 False\n",
    "magicDictionary.search(\"hhllo\"); // 将第二个 'h' 替换为 'e' 可以匹配 \"hello\" ，所以返回 True\n",
    "magicDictionary.search(\"hell\"); // 返回 False\n",
    "magicDictionary.search(\"leetcoded\"); // 返回 False\n",
    "``` \n",
    "\n",
    "提示：\n",
    "```\n",
    "1 <= dictionary.length <= 100\n",
    "1 <= dictionary[i].length <= 100\n",
    "dictionary[i] 仅由小写英文字母组成\n",
    "dictionary 中的所有字符串 互不相同\n",
    "1 <= searchWord.length <= 100\n",
    "searchWord 仅由小写英文字母组成\n",
    "buildDict 仅在 search 之前调用一次\n",
    "最多调用 100 次 search\n",
    "``` \n",
    "\n",
    "注意：本题与主站 676 题相同： https://leetcode-cn.com/problems/implement-magic-dictionary/"
   ]
  },
  {
   "cell_type": "code",
   "execution_count": 1,
   "metadata": {},
   "outputs": [
    {
     "name": "stdout",
     "output_type": "stream",
     "text": [
      "False\n",
      "True\n",
      "False\n",
      "False\n"
     ]
    }
   ],
   "source": [
    "from typing import List\n",
    "\n",
    "class MagicDictionary:\n",
    "\n",
    "    def __init__(self):\n",
    "        \"\"\"\n",
    "        Initialize your data structure here.\n",
    "        \"\"\"\n",
    "        self.dic = []\n",
    "\n",
    "\n",
    "    def buildDict(self, dictionary: List[str]) -> None:\n",
    "        for word in dictionary:\n",
    "            self.dic.append(word)\n",
    "\n",
    "\n",
    "    def find(self, dicword: str, searchWord: str) -> bool:\n",
    "        times = 0\n",
    "        for i in range(len(searchWord)):\n",
    "            if dicword[i] != searchWord[i]:\n",
    "                if times == 0: times += 1\n",
    "                else: return False\n",
    "        return True if times else False\n",
    "\n",
    "\n",
    "    def search(self, searchWord: str) -> bool:\n",
    "        for dicword in self.dic:\n",
    "            if len(dicword) != len(searchWord): continue\n",
    "            if self.find(dicword, searchWord): return True\n",
    "        return False\n",
    "\n",
    "\n",
    "\n",
    "# Your MagicDictionary object will be instantiated and called as such:\n",
    "# obj = MagicDictionary()\n",
    "# obj.buildDict(dictionary)\n",
    "# param_2 = obj.search(searchWord)\n",
    "\n",
    "\n",
    "md = MagicDictionary()\n",
    "md.buildDict([\"hello\", \"leetcode\"])\n",
    "print(md.search(\"hello\"))\n",
    "print(md.search(\"hhllo\"))\n",
    "print(md.search(\"hell\"))\n",
    "print(md.search(\"leetcoded\"))\n"
   ]
  }
 ],
 "metadata": {
  "kernelspec": {
   "display_name": "Python 3.8.10 64-bit",
   "language": "python",
   "name": "python3"
  },
  "language_info": {
   "codemirror_mode": {
    "name": "ipython",
    "version": 3
   },
   "file_extension": ".py",
   "mimetype": "text/x-python",
   "name": "python",
   "nbconvert_exporter": "python",
   "pygments_lexer": "ipython3",
   "version": "3.8.10"
  },
  "orig_nbformat": 4,
  "vscode": {
   "interpreter": {
    "hash": "e0144baad0ecee903f108a3e46e51ceadd7da3fc904cfa79747d813b61464b4e"
   }
  }
 },
 "nbformat": 4,
 "nbformat_minor": 2
}
