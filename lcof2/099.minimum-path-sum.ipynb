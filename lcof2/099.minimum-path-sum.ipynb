{
 "cells": [
  {
   "cell_type": "markdown",
   "metadata": {},
   "source": [
    "# LCR 099. 最小路径和 (medium)\n",
    "\n",
    "给定一个包含非负整数的 m x n 网格 grid ，请找出一条从左上角到右下角的路径，使得路径上的数字总和为最小。\n",
    "\n",
    "说明：一个机器人每次只能向下或者向右移动一步。\n",
    "\n",
    "示例 1：\n",
    "\n",
    "1|3|1\n",
    "-|-|-\n",
    "1|5|**1**\n",
    "4|2|**1**\n",
    "\n",
    "```\n",
    "输入：grid = [[1,3,1],[1,5,1],[4,2,1]]\n",
    "输出：7\n",
    "解释：因为路径 1→3→1→1→1 的总和最小。\n",
    "```\n",
    "示例 2：\n",
    "```\n",
    "输入：grid = [[1,2,3],[4,5,6]]\n",
    "输出：12\n",
    "``` \n",
    "\n",
    "提示：\n",
    "```\n",
    "m == grid.length\n",
    "n == grid[i].length\n",
    "1 <= m, n <= 200\n",
    "0 <= grid[i][j] <= 100\n",
    "``` \n",
    "\n",
    "注意：本题与主站 64 题相同： https://leetcode-cn.com/problems/minimum-path-sum/"
   ]
  },
  {
   "cell_type": "code",
   "execution_count": 1,
   "metadata": {},
   "outputs": [
    {
     "name": "stdout",
     "output_type": "stream",
     "text": [
      "7\n",
      "12\n"
     ]
    }
   ],
   "source": [
    "# 原数组上修改 NB\n",
    "from typing import List\n",
    "class Solution:\n",
    "    def minPathSum(self, grid: List[List[int]]) -> int:\n",
    "        for i in range(len(grid)):\n",
    "            for j in range(len(grid[0])):\n",
    "                if i == j == 0: continue\n",
    "                elif i == 0: grid[i][j] += grid[i][j-1]\n",
    "                elif j == 0: grid[i][j] += grid[i-1][j]\n",
    "                else: grid[i][j] += min(grid[i][j-1], grid[i-1][j])\n",
    "        return grid[-1][-1]\n",
    "        \n",
    "\n",
    "print(Solution().minPathSum([[1,3,1],[1,5,1],[4,2,1]]))\n",
    "print(Solution().minPathSum([[1,2,3],[4,5,6]]))"
   ]
  }
 ],
 "metadata": {
  "kernelspec": {
   "display_name": "Python 3.8.10 64-bit",
   "language": "python",
   "name": "python3"
  },
  "language_info": {
   "codemirror_mode": {
    "name": "ipython",
    "version": 3
   },
   "file_extension": ".py",
   "mimetype": "text/x-python",
   "name": "python",
   "nbconvert_exporter": "python",
   "pygments_lexer": "ipython3",
   "version": "3.8.10"
  },
  "orig_nbformat": 4,
  "vscode": {
   "interpreter": {
    "hash": "e0144baad0ecee903f108a3e46e51ceadd7da3fc904cfa79747d813b61464b4e"
   }
  }
 },
 "nbformat": 4,
 "nbformat_minor": 2
}
