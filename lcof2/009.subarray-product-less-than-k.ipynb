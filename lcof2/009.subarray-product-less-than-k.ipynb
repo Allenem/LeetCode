{
 "cells": [
  {
   "cell_type": "markdown",
   "metadata": {},
   "source": [
    "# LCR 009. 乘积小于 K 的子数组 (medium)\n",
    "\n",
    "给定一个正整数数组 nums和整数 k ，请找出该数组内乘积小于 k 的连续的子数组的个数。\n",
    "\n",
    "\n",
    "示例 1:\n",
    "```\n",
    "输入: nums = [10,5,2,6], k = 100\n",
    "输出: 8\n",
    "解释: 8 个乘积小于 100 的子数组分别为: [10], [5], [2], [6], [10,5], [5,2], [2,6], [5,2,6]。\n",
    "需要注意的是 [10,5,2] 并不是乘积小于100的子数组。\n",
    "```\n",
    "示例 2:\n",
    "```\n",
    "输入: nums = [1,2,3], k = 0\n",
    "输出: 0\n",
    "``` \n",
    "\n",
    "提示: \n",
    "```\n",
    "1 <= nums.length <= 3 * 10^4\n",
    "1 <= nums[i] <= 1000\n",
    "0 <= k <= 10^6\n",
    "``` \n",
    "\n",
    "注意：本题与主站 713 题相同：https://leetcode-cn.com/problems/subarray-product-less-than-k/ "
   ]
  },
  {
   "cell_type": "code",
   "execution_count": 1,
   "metadata": {},
   "outputs": [
    {
     "name": "stdout",
     "output_type": "stream",
     "text": [
      "8\n",
      "0\n"
     ]
    }
   ],
   "source": [
    "# count = count + r - l + 1\n",
    "from typing import List\n",
    "class Solution:\n",
    "    def numSubarrayProductLessThanK(self, nums: List[int], k: int) -> int:\n",
    "        count, l, n, multiply = 0, 0, len(nums), 1\n",
    "        for r in range(n):\n",
    "            multiply *= nums[r]\n",
    "            while l <= r and multiply >= k:\n",
    "                multiply /= nums[l]\n",
    "                l += 1\n",
    "            if l <= r: count += r - l + 1 # count = count + r - l + 1 !!!\n",
    "        return count\n",
    "\n",
    "\n",
    "print(Solution().numSubarrayProductLessThanK([10,5,2,6], 100))\n",
    "print(Solution().numSubarrayProductLessThanK([1,2,3], 0))"
   ]
  }
 ],
 "metadata": {
  "kernelspec": {
   "display_name": "Python 3.8.10 64-bit",
   "language": "python",
   "name": "python3"
  },
  "language_info": {
   "codemirror_mode": {
    "name": "ipython",
    "version": 3
   },
   "file_extension": ".py",
   "mimetype": "text/x-python",
   "name": "python",
   "nbconvert_exporter": "python",
   "pygments_lexer": "ipython3",
   "version": "3.8.10"
  },
  "orig_nbformat": 4,
  "vscode": {
   "interpreter": {
    "hash": "e0144baad0ecee903f108a3e46e51ceadd7da3fc904cfa79747d813b61464b4e"
   }
  }
 },
 "nbformat": 4,
 "nbformat_minor": 2
}
