{
 "cells": [
  {
   "cell_type": "markdown",
   "metadata": {},
   "source": [
    "# LCR 004. 只出现一次的数字 II (medium)\n",
    "\n",
    "给你一个整数数组 nums ，除某个元素仅出现 一次 外，其余每个元素都恰出现 三次 。请你找出并返回那个只出现了一次的元素。\n",
    "\n",
    "示例 1：\n",
    "```\n",
    "输入：nums = [2,2,3,2]\n",
    "输出：3\n",
    "```\n",
    "示例 2：\n",
    "```\n",
    "输入：nums = [0,1,0,1,0,1,100]\n",
    "输出：100\n",
    "```\n",
    "\n",
    "提示：\n",
    "```\n",
    "1 <= nums.length <= 3 * 10^4\n",
    "-2^31 <= nums[i] <= 2^31 - 1\n",
    "nums 中，除某个元素仅出现 一次 外，其余每个元素都恰出现 三次\n",
    "```\n",
    "\n",
    "进阶：你的算法应该具有线性时间复杂度。 你可以不使用额外空间来实现吗？\n",
    "\n",
    "\n",
    "注意：本题与主站 137 题相同：https://leetcode-cn.com/problems/single-number-ii/"
   ]
  },
  {
   "cell_type": "code",
   "execution_count": 1,
   "metadata": {},
   "outputs": [
    {
     "name": "stdout",
     "output_type": "stream",
     "text": [
      "3\n",
      "100\n"
     ]
    }
   ],
   "source": [
    "# 解法一：DFA 全称为：Deterministic Finite Automaton，即确定有穷自动机\n",
    "from typing import List\n",
    "class Solution:\n",
    "    def singleNumber(self, nums: List[int]) -> int:\n",
    "        twos, ones = 0, 0\n",
    "        for n in nums:\n",
    "            ones = ones ^ n & ~ twos\n",
    "            twos = twos ^ n & ~ ones\n",
    "        return ones\n",
    "        # https://leetcode.cn/problems/single-number-ii/solution/single-number-ii-mo-ni-san-jin-zhi-fa-by-jin407891/\n",
    "\n",
    "\n",
    "print(Solution().singleNumber([2,2,3,2]))\n",
    "print(Solution().singleNumber([0,1,0,1,0,1,100]))"
   ]
  },
  {
   "cell_type": "code",
   "execution_count": 2,
   "metadata": {},
   "outputs": [
    {
     "name": "stdout",
     "output_type": "stream",
     "text": [
      "3\n",
      "100\n"
     ]
    }
   ],
   "source": [
    "# 解法二：hashmap\n",
    "class Solution:\n",
    "    def singleNumber(self, nums: List[int]) -> int:\n",
    "        from collections import Counter\n",
    "        cnt = Counter(nums)\n",
    "        for k, v in cnt.items():\n",
    "            if v == 1:\n",
    "                return k\n",
    "\n",
    "\n",
    "print(Solution().singleNumber([2,2,3,2]))\n",
    "print(Solution().singleNumber([0,1,0,1,0,1,100]))"
   ]
  }
 ],
 "metadata": {
  "kernelspec": {
   "display_name": "Python 3.8.10 64-bit",
   "language": "python",
   "name": "python3"
  },
  "language_info": {
   "codemirror_mode": {
    "name": "ipython",
    "version": 3
   },
   "file_extension": ".py",
   "mimetype": "text/x-python",
   "name": "python",
   "nbconvert_exporter": "python",
   "pygments_lexer": "ipython3",
   "version": "3.8.10"
  },
  "orig_nbformat": 4,
  "vscode": {
   "interpreter": {
    "hash": "e0144baad0ecee903f108a3e46e51ceadd7da3fc904cfa79747d813b61464b4e"
   }
  }
 },
 "nbformat": 4,
 "nbformat_minor": 2
}
