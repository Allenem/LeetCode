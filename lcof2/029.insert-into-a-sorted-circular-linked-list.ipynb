{
 "cells": [
  {
   "cell_type": "markdown",
   "metadata": {},
   "source": [
    "# LCR 029. 循环有序列表的插入 (medium)\n",
    "\n",
    "给定循环单调非递减列表中的一个点，写一个函数向这个列表中插入一个新元素 insertVal ，使这个列表仍然是循环升序的。\n",
    "\n",
    "给定的可以是这个列表中任意一个顶点的指针，并不一定是这个列表中最小元素的指针。\n",
    "\n",
    "如果有多个满足条件的插入位置，可以选择任意一个位置插入新的值，插入后整个列表仍然保持有序。\n",
    "\n",
    "如果列表为空（给定的节点是 null），需要创建一个循环有序列表并返回这个节点。否则。请返回原先给定的节点。\n",
    "\n",
    "\n",
    "示例 1：\n",
    "\n",
    "![](https://assets.leetcode.com/uploads/2019/01/19/example_1_before_65p.jpg)\n",
    " \n",
    "```\n",
    "输入：head = [3,4,1], insertVal = 2\n",
    "输出：[3,4,1,2]\n",
    "解释：在上图中，有一个包含三个元素的循环有序列表，你获得值为 3 的节点的指针，我们需要向表中插入元素 2 。新插入的节点应该在 1 和 3 之间，插入之后，整个列表如上图所示，最后返回节点 3 。\n",
    "```\n",
    "![](https://assets.leetcode.com/uploads/2019/01/19/example_1_after_65p.jpg)\n",
    "\n",
    "示例 2：\n",
    "```\n",
    "输入：head = [], insertVal = 1\n",
    "输出：[1]\n",
    "解释：列表为空（给定的节点是 null），创建一个循环有序列表并返回这个节点。\n",
    "```\n",
    "示例 3：\n",
    "```\n",
    "输入：head = [1], insertVal = 0\n",
    "输出：[1,0]\n",
    "``` \n",
    "\n",
    "提示：\n",
    "\n",
    "0 <= Number of Nodes <= 5 * 10^4\n",
    "-10^6 <= Node.val <= 10^6\n",
    "-10^6 <= insertVal <= 10^6\n",
    " \n",
    "\n",
    "注意：本题与主站 708 题相同： https://leetcode-cn.com/problems/insert-into-a-sorted-circular-linked-list/"
   ]
  },
  {
   "cell_type": "code",
   "execution_count": null,
   "metadata": {},
   "outputs": [],
   "source": [
    "\n",
    "# Definition for a Node.\n",
    "class Node:\n",
    "    def __init__(self, val=None, next=None):\n",
    "        self.val = val\n",
    "        self.next = next\n",
    "\n",
    "\n",
    "class Solution:\n",
    "    def insert(self, head: 'Node', insertVal: int) -> 'Node':\n",
    "        # 1. None\n",
    "        if not head:\n",
    "            head = Node(insertVal)\n",
    "            head.next = head\n",
    "            return head\n",
    "        # 2. insertVal is 2.1.mid, 2.2.min, 2.2.max\n",
    "        cur = head\n",
    "        while cur.next != head:\n",
    "            if cur.val <= insertVal <= cur.next.val: break\n",
    "            if cur.val > cur.next.val:\n",
    "                if insertVal <= cur.next.val or cur.val <= insertVal: break\n",
    "            cur = cur.next\n",
    "        cur.next = Node(insertVal, cur.next)\n",
    "        return head"
   ]
  }
 ],
 "metadata": {
  "kernelspec": {
   "display_name": "Python 3.8.10 64-bit",
   "language": "python",
   "name": "python3"
  },
  "language_info": {
   "name": "python",
   "version": "3.8.10"
  },
  "orig_nbformat": 4,
  "vscode": {
   "interpreter": {
    "hash": "e0144baad0ecee903f108a3e46e51ceadd7da3fc904cfa79747d813b61464b4e"
   }
  }
 },
 "nbformat": 4,
 "nbformat_minor": 2
}
