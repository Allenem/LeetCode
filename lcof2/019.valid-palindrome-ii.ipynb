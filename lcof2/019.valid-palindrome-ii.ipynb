{
 "cells": [
  {
   "cell_type": "markdown",
   "metadata": {},
   "source": [
    "# LCR 019. 验证回文串 II (easy)\n",
    "\n",
    "给定一个非空字符串 s，请判断如果 最多 从字符串中删除一个字符能否得到一个回文字符串。\n",
    "\n",
    "\n",
    "示例 1:\n",
    "```\n",
    "输入: s = \"aba\"\n",
    "输出: true\n",
    "```\n",
    "示例 2:\n",
    "```\n",
    "输入: s = \"abca\"\n",
    "输出: true\n",
    "解释: 可以删除 \"c\" 字符 或者 \"b\" 字符\n",
    "```\n",
    "示例 3:\n",
    "```\n",
    "输入: s = \"abc\"\n",
    "输出: false\n",
    "``` \n",
    "\n",
    "提示:\n",
    "```\n",
    "1 <= s.length <= 105\n",
    "s 由小写英文字母组成\n",
    "``` \n",
    "\n",
    "注意：本题与主站 680 题相同： https://leetcode-cn.com/problems/valid-palindrome-ii/"
   ]
  },
  {
   "cell_type": "code",
   "execution_count": 1,
   "metadata": {},
   "outputs": [
    {
     "name": "stdout",
     "output_type": "stream",
     "text": [
      "True\n",
      "True\n",
      "False\n"
     ]
    }
   ],
   "source": [
    "class Solution:\n",
    "    def validPalindrome(self, s: str) -> bool:\n",
    "        def palindrome(s, i, j):\n",
    "            while i < j: \n",
    "                if s[i] != s[j]: return False\n",
    "                i += 1\n",
    "                j -= 1\n",
    "            return True\n",
    "\n",
    "        i, j = 0, len(s)-1\n",
    "        while i < j:\n",
    "            if s[i] != s[j]:\n",
    "                # 左删1位或者右删1位是回文即可\n",
    "                return palindrome(s, i+1, j) or palindrome(s, i, j-1)\n",
    "            i += 1\n",
    "            j -= 1\n",
    "        # 本来就回文，不用删\n",
    "        return True\n",
    "\n",
    "\n",
    "print(Solution().validPalindrome(\"aba\"))\n",
    "print(Solution().validPalindrome(\"abca\"))\n",
    "print(Solution().validPalindrome(\"abc\"))"
   ]
  }
 ],
 "metadata": {
  "kernelspec": {
   "display_name": "Python 3.8.10 64-bit",
   "language": "python",
   "name": "python3"
  },
  "language_info": {
   "codemirror_mode": {
    "name": "ipython",
    "version": 3
   },
   "file_extension": ".py",
   "mimetype": "text/x-python",
   "name": "python",
   "nbconvert_exporter": "python",
   "pygments_lexer": "ipython3",
   "version": "3.8.10"
  },
  "orig_nbformat": 4,
  "vscode": {
   "interpreter": {
    "hash": "e0144baad0ecee903f108a3e46e51ceadd7da3fc904cfa79747d813b61464b4e"
   }
  }
 },
 "nbformat": 4,
 "nbformat_minor": 2
}
