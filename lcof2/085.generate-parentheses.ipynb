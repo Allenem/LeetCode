{
 "cells": [
  {
   "cell_type": "markdown",
   "metadata": {},
   "source": [
    "# LCR 085. 括号生成 (medium)\n",
    "\n",
    "正整数 n 代表生成括号的对数，请设计一个函数，用于能够生成所有可能的并且 有效的 括号组合。\n",
    "\n",
    "示例 1：\n",
    "```\n",
    "输入：n = 3\n",
    "输出：[\"((()))\",\"(()())\",\"(())()\",\"()(())\",\"()()()\"]\n",
    "```\n",
    "示例 2：\n",
    "```\n",
    "输入：n = 1\n",
    "输出：[\"()\"]\n",
    "``` \n",
    "\n",
    "提示：\n",
    "```\n",
    "1 <= n <= 8\n",
    "``` \n",
    "\n",
    "注意：本题与主站 22 题相同： https://leetcode-cn.com/problems/generate-parentheses/"
   ]
  },
  {
   "cell_type": "code",
   "execution_count": 1,
   "metadata": {},
   "outputs": [
    {
     "name": "stdout",
     "output_type": "stream",
     "text": [
      "['((()))', '(()())', '(())()', '()(())', '()()()']\n",
      "['()']\n"
     ]
    }
   ],
   "source": [
    "from typing import List\n",
    "# 2次回溯\n",
    "class Solution:\n",
    "    def generateParenthesis(self, n: int) -> List[str]:\n",
    "        def bk(tmp, l, r):\n",
    "            if l+r == 2*n:\n",
    "                ans.append(''.join(tmp))\n",
    "                return\n",
    "            if l < n:\n",
    "                tmp.append('(')\n",
    "                bk(tmp, l+1, r)\n",
    "                tmp.pop()\n",
    "            if r < l:\n",
    "                tmp.append(')')\n",
    "                bk(tmp, l, r+1)\n",
    "                tmp.pop()\n",
    "        ans = []\n",
    "        bk([], 0, 0)\n",
    "        return ans\n",
    "\n",
    "\n",
    "print(Solution().generateParenthesis(3))\n",
    "print(Solution().generateParenthesis(1))"
   ]
  }
 ],
 "metadata": {
  "kernelspec": {
   "display_name": "Python 3.8.10 64-bit",
   "language": "python",
   "name": "python3"
  },
  "language_info": {
   "codemirror_mode": {
    "name": "ipython",
    "version": 3
   },
   "file_extension": ".py",
   "mimetype": "text/x-python",
   "name": "python",
   "nbconvert_exporter": "python",
   "pygments_lexer": "ipython3",
   "version": "3.8.10"
  },
  "orig_nbformat": 4,
  "vscode": {
   "interpreter": {
    "hash": "e0144baad0ecee903f108a3e46e51ceadd7da3fc904cfa79747d813b61464b4e"
   }
  }
 },
 "nbformat": 4,
 "nbformat_minor": 2
}
