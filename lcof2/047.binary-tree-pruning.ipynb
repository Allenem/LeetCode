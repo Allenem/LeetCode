{
 "cells": [
  {
   "cell_type": "markdown",
   "metadata": {},
   "source": [
    "# LCR 047. 二叉树剪枝 (medium)\n",
    "\n",
    "给定一个二叉树 根节点 root ，树的每个节点的值要么是 0，要么是 1。请剪除该二叉树中所有节点的值为 0 的子树。\n",
    "\n",
    "节点 node 的子树为 node 本身，以及所有 node 的后代。\n",
    "\n",
    "示例 1:\n",
    "```\n",
    "输入: [1,null,0,0,1]\n",
    "输出: [1,null,0,null,1] \n",
    "解释: \n",
    "只有红色节点满足条件“所有不包含 1 的子树”。\n",
    "右图为返回的答案。\n",
    "\n",
    "          1            1\n",
    "           \\            \\\n",
    "            0    ->      0\n",
    "           /  \\            \\\n",
    "          0    1            1\n",
    "\n",
    "```\n",
    "示例 2:\n",
    "```\n",
    "输入: [1,0,1,0,0,0,1]\n",
    "输出: [1,null,1,null,1]\n",
    "解释: \n",
    "\n",
    "          1             1\n",
    "        /   \\            \\\n",
    "       0     1    ->      1\n",
    "      / \\    / \\           \\\n",
    "     0   0  0   1           1\n",
    "\n",
    "```\n",
    "示例 3:\n",
    "```\n",
    "输入: [1,1,0,1,1,0,1,0]\n",
    "输出: [1,1,0,1,1,null,1]\n",
    "解释: \n",
    "\n",
    "          1                  1\n",
    "        /   \\              /   \\\n",
    "       1     0    ->      1     0\n",
    "      / \\    / \\        /  \\      \\\n",
    "     1   1  0   1      1    1      1\n",
    "    /\n",
    "   0\n",
    "```\n",
    "\n",
    "提示:\n",
    "\n",
    "二叉树的节点个数的范围是 [1,200]\n",
    "二叉树节点的值只会是 0 或 1\n",
    " \n",
    "\n",
    "注意：本题与主站 814 题相同：https://leetcode-cn.com/problems/binary-tree-pruning/"
   ]
  },
  {
   "cell_type": "code",
   "execution_count": 8,
   "metadata": {},
   "outputs": [],
   "source": [
    "# Definition for a binary tree node.\n",
    "class TreeNode:\n",
    "    def __init__(self, val=0, left=None, right=None):\n",
    "        self.val = val\n",
    "        self.left = left\n",
    "        self.right = right\n",
    "\n",
    "\n",
    "def lst2tree(lst):\n",
    "    if not lst: return None\n",
    "    root = TreeNode(lst.pop(0))\n",
    "    q = [root]\n",
    "    while lst:\n",
    "        node = q.pop(0)\n",
    "        if node!=None:\n",
    "            if lst:\n",
    "                va = lst.pop(0)\n",
    "                node.left = TreeNode(va) if va!=None else None\n",
    "                q.append(node.left)\n",
    "            if lst:\n",
    "                va = lst.pop(0)\n",
    "                node.right = TreeNode(va) if va!=None else None\n",
    "                q.append(node.right)\n",
    "        # print((node.val, node.left.val if node.left else None, node.right.val if node.right else None) if node else None)\n",
    "    return root\n",
    "\n",
    "def tree2lst(root):\n",
    "    if not root: return []\n",
    "    q = [root]\n",
    "    res = []\n",
    "    while q:\n",
    "        node = q.pop(0)\n",
    "        if node:\n",
    "            res.append(node.val)\n",
    "            q.append(node.left)\n",
    "            q.append(node.right)\n",
    "        else:\n",
    "            res.append(None)\n",
    "    while res and res[-1]==None: res.pop()\n",
    "    return res"
   ]
  },
  {
   "cell_type": "code",
   "execution_count": 10,
   "metadata": {},
   "outputs": [
    {
     "name": "stdout",
     "output_type": "stream",
     "text": [
      "[1, None, 0, None, 1]\n",
      "[1, None, 1, None, 1]\n",
      "[1, 1, 0, 1, 1, None, 1]\n"
     ]
    }
   ],
   "source": [
    "\n",
    "class Solution:\n",
    "    def pruneTree(self, root: TreeNode) -> TreeNode:\n",
    "        if not root: return root\n",
    "        root.left = self.pruneTree(root.left)\n",
    "        root.right = self.pruneTree(root.right)\n",
    "        if root.val == 0 and not root.left and not root.right: return None\n",
    "        return root\n",
    "\n",
    "\n",
    "print(tree2lst(Solution().pruneTree(lst2tree([1,None,0,0,1]))))\n",
    "print(tree2lst(Solution().pruneTree(lst2tree([1,None,1,None,1]))))\n",
    "print(tree2lst(Solution().pruneTree(lst2tree([1,1,0,1,1,0,1,0]))))"
   ]
  }
 ],
 "metadata": {
  "kernelspec": {
   "display_name": "Python 3.8.10 64-bit",
   "language": "python",
   "name": "python3"
  },
  "language_info": {
   "codemirror_mode": {
    "name": "ipython",
    "version": 3
   },
   "file_extension": ".py",
   "mimetype": "text/x-python",
   "name": "python",
   "nbconvert_exporter": "python",
   "pygments_lexer": "ipython3",
   "version": "3.8.10"
  },
  "orig_nbformat": 4,
  "vscode": {
   "interpreter": {
    "hash": "e0144baad0ecee903f108a3e46e51ceadd7da3fc904cfa79747d813b61464b4e"
   }
  }
 },
 "nbformat": 4,
 "nbformat_minor": 2
}
