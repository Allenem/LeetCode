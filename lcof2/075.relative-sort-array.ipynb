{
 "cells": [
  {
   "cell_type": "markdown",
   "metadata": {},
   "source": [
    "# LCR 075. 数组的相对排序 (easy)\n",
    "\n",
    "给定两个数组，arr1 和 arr2，\n",
    "\n",
    "- arr2 中的元素各不相同\n",
    "- arr2 中的每个元素都出现在 arr1 中\n",
    "\n",
    "对 arr1 中的元素进行排序，使 arr1 中项的相对顺序和 arr2 中的相对顺序相同。未在 arr2 中出现过的元素需要按照升序放在 arr1 的末尾。\n",
    "\n",
    "\n",
    "示例：\n",
    "```\n",
    "输入：arr1 = [2,3,1,3,2,4,6,7,9,2,19], arr2 = [2,1,4,3,9,6]\n",
    "输出：[2,2,2,1,4,3,3,9,6,7,19]\n",
    "``` \n",
    "\n",
    "提示：\n",
    "```\n",
    "1 <= arr1.length, arr2.length <= 1000\n",
    "0 <= arr1[i], arr2[i] <= 1000\n",
    "arr2 中的元素 arr2[i] 各不相同\n",
    "arr2 中的每个元素 arr2[i] 都出现在 arr1 中\n",
    "```\n",
    "\n",
    "注意：本题与主站 1122 题相同：https://leetcode-cn.com/problems/relative-sort-array/ "
   ]
  },
  {
   "cell_type": "code",
   "execution_count": 3,
   "metadata": {},
   "outputs": [
    {
     "name": "stdout",
     "output_type": "stream",
     "text": [
      "[2, 2, 2, 1, 4, 3, 3, 9, 6, 7, 19]\n"
     ]
    }
   ],
   "source": [
    "# 自定义排序函数\n",
    "from typing import List, Tuple\n",
    "class Solution:\n",
    "    def relativeSortArray(self, arr1: List[int], arr2: List[int]) -> List[int]:\n",
    "        rank = {v: i for i, v in enumerate(arr2)}\n",
    "        def compfunc(v: int) -> Tuple[int, int]:\n",
    "            return (0, rank[v]) if v in arr2 else (1, v)\n",
    "        arr1.sort(key=compfunc)\n",
    "        return arr1\n",
    "\n",
    "print(Solution().relativeSortArray([2,3,1,3,2,4,6,7,9,2,19], [2,1,4,3,9,6]))"
   ]
  },
  {
   "cell_type": "code",
   "execution_count": 4,
   "metadata": {},
   "outputs": [
    {
     "name": "stdout",
     "output_type": "stream",
     "text": [
      "[2, 2, 2, 1, 4, 3, 3, 9, 6, 7, 19]\n"
     ]
    }
   ],
   "source": [
    "# dict\n",
    "class Solution:\n",
    "    def relativeSortArray(self, arr1: List[int], arr2: List[int]) -> List[int]:\n",
    "        dIdx = {n: i for i, n in enumerate(arr2)}\n",
    "        return sorted(arr1, key=lambda x: dIdx[x] if x in dIdx else 1000+x)\n",
    "\n",
    "print(Solution().relativeSortArray([2,3,1,3,2,4,6,7,9,2,19], [2,1,4,3,9,6]))"
   ]
  }
 ],
 "metadata": {
  "kernelspec": {
   "display_name": "Python 3.8.10 64-bit",
   "language": "python",
   "name": "python3"
  },
  "language_info": {
   "codemirror_mode": {
    "name": "ipython",
    "version": 3
   },
   "file_extension": ".py",
   "mimetype": "text/x-python",
   "name": "python",
   "nbconvert_exporter": "python",
   "pygments_lexer": "ipython3",
   "version": "3.8.10"
  },
  "orig_nbformat": 4,
  "vscode": {
   "interpreter": {
    "hash": "e0144baad0ecee903f108a3e46e51ceadd7da3fc904cfa79747d813b61464b4e"
   }
  }
 },
 "nbformat": 4,
 "nbformat_minor": 2
}
