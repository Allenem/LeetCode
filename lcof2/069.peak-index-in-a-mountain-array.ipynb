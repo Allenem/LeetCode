{
 "cells": [
  {
   "cell_type": "markdown",
   "metadata": {},
   "source": [
    "# LCR 069. 山脉数组的峰顶索引 (easy)\n",
    "\n",
    "符合下列属性的数组 arr 称为 山峰数组（山脉数组） ：\n",
    "\n",
    "- arr.length >= 3\n",
    "- 存在 i（0 < i < arr.length - 1）使得：\n",
    "    - arr[0] < arr[1] < ... arr[i-1] < arr[i] \n",
    "    - arr[i] > arr[i+1] > ... > arr[arr.length - 1]\n",
    "\n",
    "给定由整数组成的山峰数组 arr ，返回任何满足 arr[0] < arr[1] < ... arr[i - 1] < arr[i] > arr[i + 1] > ... > arr[arr.length - 1] 的下标 i ，即山峰顶部。\n",
    "\n",
    "\n",
    "示例 1：\n",
    "```\n",
    "输入：arr = [0,1,0]\n",
    "输出：1\n",
    "```\n",
    "示例 2：\n",
    "```\n",
    "输入：arr = [1,3,5,4,2]\n",
    "输出：2\n",
    "```\n",
    "示例 3：\n",
    "```\n",
    "输入：arr = [0,10,5,2]\n",
    "输出：1\n",
    "```\n",
    "示例 4：\n",
    "```\n",
    "输入：arr = [3,4,5,1]\n",
    "输出：2\n",
    "```\n",
    "示例 5：\n",
    "```\n",
    "输入：arr = [24,69,100,99,79,78,67,36,26,19]\n",
    "输出：2\n",
    "``` \n",
    "\n",
    "提示：\n",
    "```\n",
    "3 <= arr.length <= 10^4\n",
    "0 <= arr[i] <= 10^6\n",
    "题目数据保证 arr 是一个山脉数组\n",
    "``` \n",
    "\n",
    "进阶：很容易想到时间复杂度 O(n) 的解决方案，你可以设计一个 O(log(n)) 的解决方案吗？\n",
    "\n",
    "\n",
    "注意：本题与主站 852 题相同：https://leetcode-cn.com/problems/peak-index-in-a-mountain-array/"
   ]
  },
  {
   "cell_type": "code",
   "execution_count": 3,
   "metadata": {},
   "outputs": [
    {
     "name": "stdout",
     "output_type": "stream",
     "text": [
      "1\n",
      "2\n",
      "1\n",
      "2\n",
      "2\n"
     ]
    }
   ],
   "source": [
    "# 方法一：二分\n",
    "from typing import List\n",
    "class Solution:\n",
    "    def peakIndexInMountainArray(self, arr: List[int]) -> int:\n",
    "        n = len(arr)\n",
    "        l, r, ans = 0, n-2, 0\n",
    "        while l <= r:\n",
    "            mid = (l + r) >> 1\n",
    "            if arr[mid] > arr[mid+1]:\n",
    "                ans = mid\n",
    "                r -= 1\n",
    "            else:\n",
    "                l += 1\n",
    "        return ans\n",
    "\n",
    "print(Solution().peakIndexInMountainArray([0,1,0]))\n",
    "print(Solution().peakIndexInMountainArray([1,3,5,4,2]))\n",
    "print(Solution().peakIndexInMountainArray([0,10,5,2]))\n",
    "print(Solution().peakIndexInMountainArray([3,4,5,1]))\n",
    "print(Solution().peakIndexInMountainArray([24,69,100,99,79,78,67,36,26,19]))\n"
   ]
  },
  {
   "cell_type": "code",
   "execution_count": 4,
   "metadata": {},
   "outputs": [
    {
     "name": "stdout",
     "output_type": "stream",
     "text": [
      "1\n",
      "2\n",
      "1\n",
      "2\n",
      "2\n"
     ]
    }
   ],
   "source": [
    "# 方法二：最大值\n",
    "class Solution:\n",
    "    def peakIndexInMountainArray(self, arr: List[int]) -> int:\n",
    "        return arr.index(max(arr))\n",
    "\n",
    "print(Solution().peakIndexInMountainArray([0,1,0]))\n",
    "print(Solution().peakIndexInMountainArray([1,3,5,4,2]))\n",
    "print(Solution().peakIndexInMountainArray([0,10,5,2]))\n",
    "print(Solution().peakIndexInMountainArray([3,4,5,1]))\n",
    "print(Solution().peakIndexInMountainArray([24,69,100,99,79,78,67,36,26,19]))\n",
    " "
   ]
  },
  {
   "cell_type": "code",
   "execution_count": 5,
   "metadata": {},
   "outputs": [
    {
     "name": "stdout",
     "output_type": "stream",
     "text": [
      "1\n",
      "2\n",
      "1\n",
      "2\n",
      "2\n"
     ]
    }
   ],
   "source": [
    "# 方法三：线性扫描，最快\n",
    "class Solution:\n",
    "    def peakIndexInMountainArray(self, arr: List[int]) -> int:\n",
    "        for i in range(1, len(arr)):\n",
    "            if arr[i] < arr[i-1]:\n",
    "                return i-1\n",
    "\n",
    "print(Solution().peakIndexInMountainArray([0,1,0]))\n",
    "print(Solution().peakIndexInMountainArray([1,3,5,4,2]))\n",
    "print(Solution().peakIndexInMountainArray([0,10,5,2]))\n",
    "print(Solution().peakIndexInMountainArray([3,4,5,1]))\n",
    "print(Solution().peakIndexInMountainArray([24,69,100,99,79,78,67,36,26,19]))\n"
   ]
  }
 ],
 "metadata": {
  "kernelspec": {
   "display_name": "Python 3.8.10 64-bit",
   "language": "python",
   "name": "python3"
  },
  "language_info": {
   "codemirror_mode": {
    "name": "ipython",
    "version": 3
   },
   "file_extension": ".py",
   "mimetype": "text/x-python",
   "name": "python",
   "nbconvert_exporter": "python",
   "pygments_lexer": "ipython3",
   "version": "3.8.10"
  },
  "orig_nbformat": 4,
  "vscode": {
   "interpreter": {
    "hash": "e0144baad0ecee903f108a3e46e51ceadd7da3fc904cfa79747d813b61464b4e"
   }
  }
 },
 "nbformat": 4,
 "nbformat_minor": 2
}
