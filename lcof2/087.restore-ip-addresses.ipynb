{
 "cells": [
  {
   "cell_type": "markdown",
   "metadata": {},
   "source": [
    "# LCR 087. 复原 IP 地址 (medium)\n",
    "\n",
    "给定一个只包含数字的字符串 s ，用以表示一个 IP 地址，返回所有可能从 s 获得的 有效 IP 地址 。你可以按任何顺序返回答案。\n",
    "\n",
    "有效 IP 地址 正好由四个整数（每个整数位于 0 到 255 之间组成，且不能含有前导 0），整数之间用 '.' 分隔。\n",
    "\n",
    "例如：\"0.1.2.201\" 和 \"192.168.1.1\" 是 有效 IP 地址，但是 \"0.011.255.245\"、\"192.168.1.312\" 和 \"192.168@1.1\" 是 无效 IP 地址。\n",
    "\n",
    "示例 1：\n",
    "```\n",
    "输入：s = \"25525511135\"\n",
    "输出：[\"255.255.11.135\",\"255.255.111.35\"]\n",
    "```\n",
    "示例 2：\n",
    "```\n",
    "输入：s = \"0000\"\n",
    "输出：[\"0.0.0.0\"]\n",
    "```\n",
    "示例 3：\n",
    "```\n",
    "输入：s = \"1111\"\n",
    "输出：[\"1.1.1.1\"]\n",
    "```\n",
    "示例 4：\n",
    "```\n",
    "输入：s = \"010010\"\n",
    "输出：[\"0.10.0.10\",\"0.100.1.0\"]\n",
    "```\n",
    "示例 5：\n",
    "```\n",
    "输入：s = \"10203040\"\n",
    "输出：[\"10.20.30.40\",\"102.0.30.40\",\"10.203.0.40\"]\n",
    "``` \n",
    "\n",
    "提示：\n",
    "```\n",
    "0 <= s.length <= 3000\n",
    "s 仅由数字组成\n",
    "``` \n",
    "\n",
    "注意：本题与主站 93 题相同：https://leetcode-cn.com/problems/restore-ip-addresses/ "
   ]
  },
  {
   "cell_type": "code",
   "execution_count": 1,
   "metadata": {},
   "outputs": [
    {
     "name": "stdout",
     "output_type": "stream",
     "text": [
      "['255.255.11.135', '255.255.111.35']\n",
      "['0.0.0.0']\n",
      "['1.1.1.1']\n",
      "['0.10.0.10', '0.100.1.0']\n",
      "['10.20.30.40', '10.203.0.40', '102.0.30.40']\n"
     ]
    }
   ],
   "source": [
    "from typing import List\n",
    "class Solution:\n",
    "    def restoreIpAddresses(self, s: str) -> List[str]:\n",
    "        n, ans = len(s), []\n",
    "        if n < 4 or n > 12: return ans\n",
    "\n",
    "        def bk(tmp, i):\n",
    "            if i == n:\n",
    "                if len(tmp) == 4:\n",
    "                    ans.append('.'.join(tmp))\n",
    "                return            \n",
    "            if s[i] == '0':\n",
    "                tmp.append('0')\n",
    "                bk(tmp, i+1)\n",
    "                tmp.pop()\n",
    "            else:\n",
    "                for j in range(i, n):\n",
    "                    if 0 < int(s[i:j+1]) < 256:\n",
    "                        tmp.append(s[i:j+1])\n",
    "                        bk(tmp, j+1)\n",
    "                        tmp.pop()\n",
    "                    else:\n",
    "                        break\n",
    "        \n",
    "        bk([], 0)\n",
    "        return ans\n",
    "\n",
    "print(Solution().restoreIpAddresses(\"25525511135\"))\n",
    "print(Solution().restoreIpAddresses(\"0000\"))\n",
    "print(Solution().restoreIpAddresses(\"1111\"))\n",
    "print(Solution().restoreIpAddresses(\"010010\"))\n",
    "print(Solution().restoreIpAddresses(\"10203040\"))"
   ]
  }
 ],
 "metadata": {
  "kernelspec": {
   "display_name": "Python 3.8.10 64-bit",
   "language": "python",
   "name": "python3"
  },
  "language_info": {
   "codemirror_mode": {
    "name": "ipython",
    "version": 3
   },
   "file_extension": ".py",
   "mimetype": "text/x-python",
   "name": "python",
   "nbconvert_exporter": "python",
   "pygments_lexer": "ipython3",
   "version": "3.8.10"
  },
  "orig_nbformat": 4,
  "vscode": {
   "interpreter": {
    "hash": "e0144baad0ecee903f108a3e46e51ceadd7da3fc904cfa79747d813b61464b4e"
   }
  }
 },
 "nbformat": 4,
 "nbformat_minor": 2
}
