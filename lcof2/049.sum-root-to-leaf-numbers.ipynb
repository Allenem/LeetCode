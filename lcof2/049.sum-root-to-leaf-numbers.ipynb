{
 "cells": [
  {
   "cell_type": "markdown",
   "metadata": {},
   "source": [
    "# LCR 049. 求根节点到叶节点数字之和 (medium)\n",
    "\n",
    "给定一个二叉树的根节点 root ，树中每个节点都存放有一个 0 到 9 之间的数字。\n",
    "\n",
    "每条从根节点到叶节点的路径都代表一个数字：\n",
    "\n",
    "例如，从根节点到叶节点的路径 1 -> 2 -> 3 表示数字 123 。\n",
    "计算从根节点到叶节点生成的 所有数字之和 。\n",
    "\n",
    "叶节点 是指没有子节点的节点。\n",
    "\n",
    " \n",
    "\n",
    "示例 1：\n",
    "```\n",
    "  1\n",
    " / \\\n",
    "2   3\n",
    "\n",
    "输入：root = [1,2,3]\n",
    "输出：25\n",
    "解释：\n",
    "从根到叶子节点路径 1->2 代表数字 12\n",
    "从根到叶子节点路径 1->3 代表数字 13\n",
    "因此，数字总和 = 12 + 13 = 25\n",
    "```\n",
    "示例 2：\n",
    "```\n",
    "    4\n",
    "   / \\\n",
    "  9   0\n",
    " / \\\n",
    "5   1\n",
    "\n",
    "输入：root = [4,9,0,5,1]\n",
    "输出：1026\n",
    "解释：\n",
    "从根到叶子节点路径 4->9->5 代表数字 495\n",
    "从根到叶子节点路径 4->9->1 代表数字 491\n",
    "从根到叶子节点路径 4->0 代表数字 40\n",
    "因此，数字总和 = 495 + 491 + 40 = 1026\n",
    "``` \n",
    "\n",
    "提示：\n",
    "```\n",
    "树中节点的数目在范围 [1, 1000] 内\n",
    "0 <= Node.val <= 9\n",
    "树的深度不超过 10\n",
    "``` \n",
    "\n",
    "注意：本题与主站 129 题相同： https://leetcode-cn.com/problems/sum-root-to-leaf-numbers/"
   ]
  },
  {
   "cell_type": "code",
   "execution_count": 1,
   "metadata": {},
   "outputs": [
    {
     "name": "stdout",
     "output_type": "stream",
     "text": [
      "25\n",
      "1026\n"
     ]
    }
   ],
   "source": [
    "# DFS\n",
    "\n",
    "# Definition for a binary tree node.\n",
    "class TreeNode:\n",
    "    def __init__(self, val=0, left=None, right=None):\n",
    "        self.val = val\n",
    "        self.left = left\n",
    "        self.right = right\n",
    "class Solution:\n",
    "    def sumNumbers(self, root: TreeNode) -> int:\n",
    "        def dfs(node: TreeNode, preNum: int) -> int:\n",
    "            if not node: return 0\n",
    "            curNum = node.val + 10 * preNum\n",
    "            if not node.left and not node.right: return curNum\n",
    "            else: return dfs(node.left, curNum) + dfs(node.right, curNum)\n",
    "        return dfs(root, 0)\n",
    "\n",
    "# _________________TEST__CASES_________________\n",
    "\n",
    "def lst2tree(lst: list) -> TreeNode:\n",
    "    if not lst: return None\n",
    "    root = TreeNode(lst[0])\n",
    "    queue = [root]\n",
    "    i = 1\n",
    "    while i < len(lst):\n",
    "        node = queue.pop(0)\n",
    "        if lst[i] is not None:\n",
    "            node.left = TreeNode(lst[i])\n",
    "            queue.append(node.left)\n",
    "        i += 1\n",
    "        if lst[i] is not None:\n",
    "            node.right = TreeNode(lst[i])\n",
    "            queue.append(node.right)\n",
    "        i += 1\n",
    "    return root\n",
    "\n",
    "print(Solution().sumNumbers(lst2tree([1,2,3])))\n",
    "print(Solution().sumNumbers(lst2tree([4,9,0,5,1])))"
   ]
  }
 ],
 "metadata": {
  "kernelspec": {
   "display_name": "Python 3.8.10 64-bit",
   "language": "python",
   "name": "python3"
  },
  "language_info": {
   "codemirror_mode": {
    "name": "ipython",
    "version": 3
   },
   "file_extension": ".py",
   "mimetype": "text/x-python",
   "name": "python",
   "nbconvert_exporter": "python",
   "pygments_lexer": "ipython3",
   "version": "3.8.10"
  },
  "orig_nbformat": 4,
  "vscode": {
   "interpreter": {
    "hash": "e0144baad0ecee903f108a3e46e51ceadd7da3fc904cfa79747d813b61464b4e"
   }
  }
 },
 "nbformat": 4,
 "nbformat_minor": 2
}
