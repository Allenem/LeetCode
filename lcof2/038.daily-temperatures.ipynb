{
 "cells": [
  {
   "cell_type": "markdown",
   "metadata": {},
   "source": [
    "# LCR 038. 每日温度 (medium)\n",
    "\n",
    "请根据每日 气温 列表 temperatures ，重新生成一个列表，要求其对应位置的输出为：要想观测到更高的气温，至少需要等待的天数。如果气温在这之后都不会升高，请在该位置用 0 来代替。\n",
    "\n",
    "\n",
    "示例 1:\n",
    "```\n",
    "输入: temperatures = [73,74,75,71,69,72,76,73]\n",
    "输出: [1,1,4,2,1,1,0,0]\n",
    "```\n",
    "示例 2:\n",
    "```\n",
    "输入: temperatures = [30,40,50,60]\n",
    "输出: [1,1,1,0]\n",
    "```\n",
    "示例 3:\n",
    "```\n",
    "输入: temperatures = [30,60,90]\n",
    "输出: [1,1,0]\n",
    "``` \n",
    "\n",
    "提示：\n",
    "```\n",
    "1 <= temperatures.length <= 105\n",
    "30 <= temperatures[i] <= 100\n",
    "``` \n",
    "\n",
    "注意：本题与主站 739 题相同： https://leetcode-cn.com/problems/daily-temperatures/"
   ]
  },
  {
   "cell_type": "code",
   "execution_count": 1,
   "metadata": {},
   "outputs": [
    {
     "name": "stdout",
     "output_type": "stream",
     "text": [
      "[1, 1, 4, 2, 1, 1, 0, 0]\n",
      "[1, 1, 1, 0]\n",
      "[1, 1, 0]\n"
     ]
    }
   ],
   "source": [
    "from typing import List\n",
    "class Solution:\n",
    "    def dailyTemperatures(self, temperatures: List[int]) -> List[int]:\n",
    "        idxStk, ans = [], [0] * len(temperatures)\n",
    "        for i, t in enumerate(temperatures):\n",
    "            while idxStk and temperatures[idxStk[-1]] < t:\n",
    "                idx = idxStk.pop()\n",
    "                ans[idx] = i - idx\n",
    "            idxStk.append(i)\n",
    "        return ans\n",
    "\n",
    "\n",
    "print(Solution().dailyTemperatures([73,74,75,71,69,72,76,73])) # [1,1,4,2,1,1,0,0]\n",
    "print(Solution().dailyTemperatures([30,40,50,60])) # [1,1,1,0]\n",
    "print(Solution().dailyTemperatures([30,60,90])) # [1,1,0]"
   ]
  }
 ],
 "metadata": {
  "kernelspec": {
   "display_name": "Python 3.8.10 64-bit",
   "language": "python",
   "name": "python3"
  },
  "language_info": {
   "codemirror_mode": {
    "name": "ipython",
    "version": 3
   },
   "file_extension": ".py",
   "mimetype": "text/x-python",
   "name": "python",
   "nbconvert_exporter": "python",
   "pygments_lexer": "ipython3",
   "version": "3.8.10"
  },
  "orig_nbformat": 4,
  "vscode": {
   "interpreter": {
    "hash": "e0144baad0ecee903f108a3e46e51ceadd7da3fc904cfa79747d813b61464b4e"
   }
  }
 },
 "nbformat": 4,
 "nbformat_minor": 2
}
