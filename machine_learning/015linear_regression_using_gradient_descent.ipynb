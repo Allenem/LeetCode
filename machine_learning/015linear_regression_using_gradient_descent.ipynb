{
 "cells": [
  {
   "cell_type": "markdown",
   "metadata": {},
   "source": [
    "# Linear Regression Using Gradient Descent (easy)\n",
    "\n",
    "Write a Python function that performs linear regression using gradient descent. The function should take NumPy arrays X (features with a column of ones for the intercept) and y (target) as input, along with learning rate alpha and the number of iterations, and return the coefficients of the linear regression model as a NumPy array. Round your answer to four decimal places. -0.0 is a valid result for rounding a very small number.\n",
    "\n",
    "Example:\n",
    "```py\n",
    "        input: X = np.array([[1, 1], [1, 2], [1, 3]]), y = np.array([1, 2, 3]), alpha = 0.01, iterations = 1000\n",
    "        output: np.array([0.1107, 0.9513])\n",
    "        reasoning: The linear model is y = 0.0 + 1.0*x, which fits the input data after gradient descent optimization.\n",
    "```"
   ]
  },
  {
   "cell_type": "markdown",
   "metadata": {},
   "source": [
    "## Linear Regression Using Gradient Descent\n",
    "\n",
    "Linear regression can also be performed using a technique called gradient descent, where the coefficients (or weights) of the model are iteratively adjusted to minimize a cost function (usually mean squared error). This method is particularly useful when the number of features is too large for analytical solutions like the normal equation or when the feature matrix is not invertible. The gradient descent algorithm updates the weights by moving in the direction of the negative gradient of the cost function with respect to the weights. The updates occur iteratively until the algorithm converges to a minimum of the cost function. The update rule for each weight is given by:\n",
    "\n",
    "$$\\theta_j := \\theta_j - \\alpha \\frac{1}{m} \\sum_{i=1}^{m} (h_{\\theta}(x^{(i)}) - y^{(i)}) x_j^{(i)}$$\n",
    "\n",
    " \n",
    "Where:\n",
    "- $\\alpha$ is the learning rate,\n",
    "- $m$ is the number of training examples,\n",
    "- $h_{\\theta}(x^{(i)})$ is the hypothesis function at iteration $i$,\n",
    "- $x^{(i)}$ is the feature vector of the $i$th training example,\n",
    "- $y^{(i)}$ is the actual target value for the $i$th training example,\n",
    "- $x_j^{(i)}$ is the value of feature $j$ for the $i$th training example.\n",
    "\n",
    "\n",
    "**Things to note**: The choice of learning rate and the number of iterations are crucial for the convergence and performance of gradient descent. Too small a learning rate may lead to slow convergence, while too large a learning rate may cause overshooting and divergence.\n",
    "\n",
    "## Practical Implementation\n",
    "Implementing gradient descent involves initializing the weights, computing the gradient of the cost function, and iteratively updating the weights according to the update rule."
   ]
  },
  {
   "cell_type": "code",
   "execution_count": 1,
   "metadata": {},
   "outputs": [],
   "source": [
    "import numpy as np\n",
    "\n",
    "def linear_regression_gradient_descent(X: np.ndarray, y: np.ndarray, alpha: float, iterations: int) -> np.ndarray:\n",
    "    m, n = X.shape\n",
    "    theta = np.zeros((n, 1))\n",
    "    for _ in range(iterations):\n",
    "        predictions = X @ theta\n",
    "        errors = predictions - y.reshape(-1, 1)\n",
    "        updates = X.T @ errors / m\n",
    "        theta -= alpha * updates\n",
    "    return np.round(theta.flatten(), 4)"
   ]
  },
  {
   "cell_type": "code",
   "execution_count": 2,
   "metadata": {},
   "outputs": [
    {
     "name": "stdout",
     "output_type": "stream",
     "text": [
      "Test Case 1: Accepted\n",
      "Input:\n",
      "print(linear_regression_gradient_descent(np.array([[1, 1], [1, 2], [1, 3]]), np.array([1, 2, 3]), 0.01, 1000))\n",
      "\n",
      "Output:\n",
      "[0.1107 0.9513]\n",
      "\n",
      "Expected:\n",
      "[0.1107, 0.9513]\n"
     ]
    }
   ],
   "source": [
    "print('Test Case 1: Accepted') if linear_regression_gradient_descent(np.array([[1, 1], [1, 2], [1, 3]]), np.array([1, 2, 3]), 0.01, 1000).tolist() == [0.1107, 0.9513] else print('Test Case 1: Rejected')\n",
    "print('Input:')\n",
    "print('print(linear_regression_gradient_descent(np.array([[1, 1], [1, 2], [1, 3]]), np.array([1, 2, 3]), 0.01, 1000))')\n",
    "print()\n",
    "print('Output:')\n",
    "print(linear_regression_gradient_descent(np.array([[1, 1], [1, 2], [1, 3]]), np.array([1, 2, 3]), 0.01, 1000))\n",
    "print()\n",
    "print('Expected:')\n",
    "print('[0.1107, 0.9513]')"
   ]
  }
 ],
 "metadata": {
  "kernelspec": {
   "display_name": "llm",
   "language": "python",
   "name": "python3"
  },
  "language_info": {
   "codemirror_mode": {
    "name": "ipython",
    "version": 3
   },
   "file_extension": ".py",
   "mimetype": "text/x-python",
   "name": "python",
   "nbconvert_exporter": "python",
   "pygments_lexer": "ipython3",
   "version": "3.12.3"
  }
 },
 "nbformat": 4,
 "nbformat_minor": 2
}
