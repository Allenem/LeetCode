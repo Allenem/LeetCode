{
 "cells": [
  {
   "cell_type": "markdown",
   "metadata": {},
   "source": [
    "# Implement Precision Metric\n",
    "\n",
    "Write a Python function `precision` that calculates the precision metric given two numpy arrays: `y_true` and `y_pred`. The `y_true` array contains the true binary labels, and the `y_pred` array contains the predicted binary labels. Precision is defined as the ratio of true positives to the sum of true positives and false positives.\n",
    "\n",
    "Example:\n",
    "```py\n",
    "import numpy as np\n",
    "\n",
    "y_true = np.array([1, 0, 1, 1, 0, 1])\n",
    "y_pred = np.array([1, 0, 1, 0, 0, 1])\n",
    "\n",
    "result = precision(y_true, y_pred)\n",
    "print(result)\n",
    "# Expected Output: 1.0\n",
    "```\n",
    "\n",
    "## Understanding Precision in Classification\n",
    "\n",
    "Precision is a key metric used in the evaluation of classification models, particularly in binary classification. It provides insight into the accuracy of the positive predictions made by the model.\n",
    "\n",
    "## Mathematical Definition\n",
    "\n",
    "Precision is defined as the ratio of true positives (TP) to the sum of true positives and false positives (FP):\n",
    "\n",
    "$$Precision = \\frac{TP}{TP + FP}$$ \n",
    " \n",
    "Where:\n",
    "\n",
    "- **True Positives (TP)**: The number of positive samples that are correctly identified as positive.\n",
    "- **False Positives (FP)**: The number of negative samples that are incorrectly identified as positive.\n",
    "\n",
    "## Characteristics of Precision\n",
    "\n",
    "- **Range**: Precision ranges from 0 to 1, where 1 indicates perfect precision (no false positives) and 0 indicates no true positives.\n",
    "- **Interpretation**: High precision means that the model has a low false positive rate, meaning it rarely labels negative samples as positive.\n",
    "- **Use Case**: Precision is particularly useful when the cost of false positives is high, such as in medical diagnosis or fraud detection.\n",
    "\n",
    "In this problem, you will implement a function to calculate precision given the true labels and predicted labels of a binary classification task."
   ]
  },
  {
   "cell_type": "code",
   "execution_count": 1,
   "metadata": {},
   "outputs": [],
   "source": [
    "import numpy as np\n",
    "def precision(y_true, y_pred):\n",
    "    tp = np.sum((y_true == 1) & (y_pred == 1))\n",
    "    fp = np.sum((y_true == 0) & (y_pred == 1))\n",
    "    return tp / (tp + fp) if (tp + fp) > 0 else 0.0"
   ]
  },
  {
   "cell_type": "code",
   "execution_count": 3,
   "metadata": {},
   "outputs": [
    {
     "name": "stdout",
     "output_type": "stream",
     "text": [
      "Test Case 1: Accepted\n",
      "Input:\n",
      "import numpy as np\n",
      "y_true = np.array([1, 0, 1, 1, 0, 1])\n",
      "y_pred = np.array([1, 0, 1, 0, 0, 1])\n",
      "result = precision(y_true, y_pred)\n",
      "print(result)\n",
      "\n",
      "Output:\n",
      "1.0\n",
      "\n",
      "Expected:\n",
      "1.0\n",
      "\n",
      "\n",
      "Test Case 2: Accepted\n",
      "Input:\n",
      "import numpy as np\n",
      "y_true = np.array([1, 0, 1, 1, 0, 0])\n",
      "y_pred = np.array([1, 0, 0, 0, 0, 1])\n",
      "result = precision(y_true, y_pred)\n",
      "print(result)\n",
      "\n",
      "Output:\n",
      "0.5\n",
      "\n",
      "Expected:\n",
      "0.5\n"
     ]
    }
   ],
   "source": [
    "import numpy as np\n",
    "y_true = np.array([1, 0, 1, 1, 0, 1])\n",
    "y_pred = np.array([1, 0, 1, 0, 0, 1])\n",
    "result = precision(y_true, y_pred)\n",
    "print('Test Case 1: Accepted') if result == 1.0 else print('Test Case 1: Failed')\n",
    "print('Input:')\n",
    "print('import numpy as np\\ny_true = np.array([1, 0, 1, 1, 0, 1])\\ny_pred = np.array([1, 0, 1, 0, 0, 1])\\nresult = precision(y_true, y_pred)\\nprint(result)')\n",
    "print()\n",
    "print('Output:')\n",
    "print(result)\n",
    "print()\n",
    "print('Expected:')\n",
    "print('1.0')\n",
    "print()\n",
    "print()\n",
    "\n",
    "import numpy as np\n",
    "y_true = np.array([1, 0, 1, 1, 0, 0])\n",
    "y_pred = np.array([1, 0, 0, 0, 0, 1])\n",
    "result = precision(y_true, y_pred)\n",
    "print('Test Case 2: Accepted') if result == 0.5 else print('Test Case 2: Failed')\n",
    "print('Input:')\n",
    "print('import numpy as np\\ny_true = np.array([1, 0, 1, 1, 0, 0])\\ny_pred = np.array([1, 0, 0, 0, 0, 1])\\nresult = precision(y_true, y_pred)\\nprint(result)')\n",
    "print()\n",
    "print('Output:')\n",
    "print(result)\n",
    "print()\n",
    "print('Expected:')\n",
    "print('0.5')"
   ]
  }
 ],
 "metadata": {
  "kernelspec": {
   "display_name": "llm",
   "language": "python",
   "name": "python3"
  },
  "language_info": {
   "codemirror_mode": {
    "name": "ipython",
    "version": 3
   },
   "file_extension": ".py",
   "mimetype": "text/x-python",
   "name": "python",
   "nbconvert_exporter": "python",
   "pygments_lexer": "ipython3",
   "version": "3.12.3"
  }
 },
 "nbformat": 4,
 "nbformat_minor": 2
}
