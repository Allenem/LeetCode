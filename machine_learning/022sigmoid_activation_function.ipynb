{
 "cells": [
  {
   "cell_type": "markdown",
   "metadata": {},
   "source": [
    "# Sigmoid Activation Function Understanding (easy)\n",
    "Write a Python function that computes the output of the sigmoid activation function given an input value z. The function should return the output rounded to four decimal places.\n",
    "\n",
    "Example:\n",
    "```python\n",
    "        input: z = 0\n",
    "        output: 0.5\n",
    "        reasoning: The sigmoid function is defined as σ(z) = 1 / (1 + exp(-z)). For z = 0, exp(-0) = 1, hence the output is 1 / (1 + 1) = 0.5.\n",
    "```"
   ]
  },
  {
   "cell_type": "markdown",
   "metadata": {},
   "source": [
    "## Understanding the Sigmoid Activation Function\n",
    "\n",
    "The sigmoid activation function is crucial in neural networks, especially for binary classification tasks. It maps any real-valued number into the (0, 1) interval, making it useful for modeling probability as an output.\n",
    "\n",
    "## Mathematical Definition\n",
    "\n",
    "The sigmoid function is mathematically defined as:\n",
    "\n",
    "$$\\sigma(z) = \\frac{1}{1 + e^{-z}}$$\n",
    " \n",
    "Where $z$ is the input to the function.\n",
    "\n",
    "## Characteristics\n",
    "\n",
    "- Output Range: The output is always between 0 and 1.\n",
    "- Shape: It has an \"S\" shaped curve.\n",
    "- Gradient: The function's gradient is highest near z = 0 and decreases toward either end of the z-axis.\n",
    "\n",
    "This function is particularly useful for turning logits (raw prediction values) into probabilities in binary classification models."
   ]
  },
  {
   "cell_type": "code",
   "execution_count": 1,
   "metadata": {},
   "outputs": [],
   "source": [
    "import math\n",
    "\n",
    "def sigmoid(z: float) -> float:\n",
    "    # Your code here\n",
    "    return round(1 / (1 + math.exp(-z)), 4)"
   ]
  },
  {
   "cell_type": "code",
   "execution_count": 2,
   "metadata": {},
   "outputs": [
    {
     "name": "stdout",
     "output_type": "stream",
     "text": [
      "Test Case 1: Accepted\n",
      "Input:\n",
      "print(sigmoid(0))\n",
      "\n",
      "Output:\n",
      "0.5\n",
      "\n",
      "Expected:\n",
      "0.5\n",
      "\n",
      "\n",
      "Test Case 2: Accepted\n",
      "Input:\n",
      "print(sigmoid(1))\n",
      "\n",
      "Output:\n",
      "0.7311\n",
      "\n",
      "Expected:\n",
      "0.7311\n",
      "\n",
      "\n",
      "Test Case 3: Accepted\n",
      "Input:\n",
      "print(sigmoid(-1))\n",
      "\n",
      "Output:\n",
      "0.2689\n",
      "\n",
      "Expected:\n",
      "0.2689\n"
     ]
    }
   ],
   "source": [
    "print('Test Case 1: Accepted') if sigmoid(0) == 0.5 else print('Test Case 1: Rejected')\n",
    "print('Input:')\n",
    "print('print(sigmoid(0))')\n",
    "print()\n",
    "print('Output:')\n",
    "print(sigmoid(0))\n",
    "print()\n",
    "print('Expected:')\n",
    "print('0.5')\n",
    "print()\n",
    "print()\n",
    "\n",
    "print('Test Case 2: Accepted') if sigmoid(1) == 0.7311 else print('Test Case 2: Rejected')\n",
    "print('Input:')\n",
    "print('print(sigmoid(1))')\n",
    "print()\n",
    "print('Output:')\n",
    "print(sigmoid(1))\n",
    "print()\n",
    "print('Expected:')\n",
    "print('0.7311')\n",
    "print()\n",
    "print()\n",
    "\n",
    "print('Test Case 3: Accepted') if sigmoid(-1) == 0.2689 else print('Test Case 3: Rejected')\n",
    "print('Input:')\n",
    "print('print(sigmoid(-1))')\n",
    "print()\n",
    "print('Output:')\n",
    "print(sigmoid(-1))\n",
    "print()\n",
    "print('Expected:')\n",
    "print('0.2689')"
   ]
  }
 ],
 "metadata": {
  "kernelspec": {
   "display_name": "llm",
   "language": "python",
   "name": "python3"
  },
  "language_info": {
   "codemirror_mode": {
    "name": "ipython",
    "version": 3
   },
   "file_extension": ".py",
   "mimetype": "text/x-python",
   "name": "python",
   "nbconvert_exporter": "python",
   "pygments_lexer": "ipython3",
   "version": "3.12.3"
  }
 },
 "nbformat": 4,
 "nbformat_minor": 2
}
