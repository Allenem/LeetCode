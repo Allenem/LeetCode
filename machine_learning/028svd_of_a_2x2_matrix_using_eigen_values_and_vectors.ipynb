{
 "cells": [
  {
   "cell_type": "markdown",
   "metadata": {},
   "source": [
    "# SVD of a 2x2 Matrix using eigen values & vectors\n",
    "\n",
    "Given a 2x2 matrix, write a Python function to compute its Singular Value Decomposition (SVD). The function should return the matrices U, S, and V such that A = U * S * V, use the method described in this post https://metamerist.blogspot.com/2006/10/linear-algebra-for-graphics-geeks-svd.html\n",
    "\n",
    "Example:\n",
    "```python\n",
    "    A = [[-10, 8], \n",
    "         [10, -1]]\n",
    "    output:(array([[  0.8, -0.6], [-0.6, -0.8]]), \n",
    "    array([15.65247584,  4.47213595]), \n",
    "    array([[ -0.89442719,  0.4472136], [ -0.4472136 , -0.89442719]]))\n",
    "```"
   ]
  },
  {
   "cell_type": "markdown",
   "metadata": {},
   "source": [
    "## Understanding Singular Value Decomposition (SVD)\n",
    "\n",
    "Singular Value Decomposition (SVD) is a method in linear algebra for decomposing a matrix into three other matrices. For a given matrix A, SVD is represented as:\n",
    "\n",
    "$$A = U \\dot S \\dot V^T$$\n",
    "\n",
    "Here's a step-by-step method to calculate the SVD of a 2x2 matrix by hand:\n",
    "\n",
    "1. **Calculate $A^TA$ and $AA^T$**: Compute the product of the matrix with its transpose and the transpose of the matrix with itself. These matrices share the same eigenvalues.\n",
    "2. **Find the Eigenvalues**: To find the eigenvalues of a 2x2 matrix, solve the characteristic equation $det(A - \\lambda I) = 0$. This results in a quadratic equation.\n",
    "3. **Compute the Singular Values**: The singular values, which form the diagonal elements of the matrix S, are the square roots of the eigenvalues.\n",
    "4. **Calculate the Eigenvectors**: For each eigenvalue, solve the equation $(A - \\lambda I)x = 0$ to find the corresponding eigenvector. Normalize these eigenvectors to form the columns of U and V.\n",
    "5. **Form the Matrices U, S, and V**: Combine the singular values and eigenvectors to construct the matrices U, S, and V such that $A = U \\dot S \\dot V^T$.\n",
    "\n",
    "This method involves solving quadratic equations to find eigenvalues and eigenvectors and normalizing these vectors to unit length.\n",
    "\n",
    "Resources: [Linear Algebra for Graphics Geeks (SVD-IX)](https://metamerist.blogspot.com/2006/10/linear-algebra-for-graphics-geeks-svd.html) by METAMERIST [Robust algorithm for 2×2 SVD](https://scicomp.stackexchange.com/questions/8899/robust-algorithm-for-2-times-2-svd/19646)"
   ]
  },
  {
   "cell_type": "code",
   "execution_count": 1,
   "metadata": {},
   "outputs": [],
   "source": [
    "import numpy as np\n",
    "\n",
    "def svd_2x2(A: np.ndarray) -> tuple:\n",
    "    y1, x1 = (A[1, 0] + A[0, 1]), (A[0, 0] - A[1, 1])\n",
    "    y2, x2 = (A[1, 0] - A[0, 1]), (A[0, 0] + A[1, 1])\n",
    "\n",
    "    h1 = np.sqrt(y1**2 + x1**2)\n",
    "    h2 = np.sqrt(y2**2 + x2**2)\n",
    "\n",
    "    t1 = x1 / h1\n",
    "    t2 = x2 / h2\n",
    "\n",
    "    cc = np.sqrt((1.0 + t1) * (1.0 + t2))\n",
    "    ss = np.sqrt((1.0 - t1) * (1.0 - t2))\n",
    "    cs = np.sqrt((1.0 + t1) * (1.0 - t2))\n",
    "    sc = np.sqrt((1.0 - t1) * (1.0 + t2))\n",
    "\n",
    "    c1, s1 = (cc - ss) / 2.0, (sc + cs) / 2.0\n",
    "    U = np.array([[-c1, -s1], [-s1, c1]])\n",
    "\n",
    "    s = np.array([(h1 + h2) / 2.0, abs(h1 - h2) / 2.0])\n",
    "\n",
    "    V = np.diag(1.0 / s) @ U.T @ A\n",
    "\n",
    "    return U, s, V"
   ]
  },
  {
   "cell_type": "code",
   "execution_count": 2,
   "metadata": {},
   "outputs": [
    {
     "name": "stdout",
     "output_type": "stream",
     "text": [
      "Test Case 1: Accepted\n",
      "Input:\n",
      "U, s, V = svd_2x2(np.array([[-10, 8], [10, -1]]))\n",
      "result = U @ np.diag(s) @ V\n",
      "print(result)\n",
      "\n",
      "Output:\n",
      "[[-10.   8.]\n",
      " [ 10.  -1.]]\n",
      "\n",
      "Expected:\n",
      "[[-10, 8], [10, -1]]\n",
      "\n",
      "\n",
      "Test Case 2: Accepted\n",
      "Input:\n",
      "U, s, V = svd_2x2(np.array([[1, 2], [3, 4]]))\n",
      "result = U @ np.diag(s) @ V\n",
      "print(result)\n",
      "\n",
      "Output:\n",
      "[[1. 2.]\n",
      " [3. 4.]]\n",
      "\n",
      "Expected:\n",
      "[[1, 2], [3, 4]]\n"
     ]
    }
   ],
   "source": [
    "U, s, V = svd_2x2(np.array([[-10, 8], [10, -1]]))\n",
    "result = U @ np.diag(s) @ V\n",
    "\n",
    "print('Test Case 1: Accepted') if result.all() == np.array([[-10, 8], [10, -1]]).all() else print('Test Case 1: Rejected')\n",
    "print('Input:')\n",
    "print('U, s, V = svd_2x2(np.array([[-10, 8], [10, -1]]))\\nresult = U @ np.diag(s) @ V\\nprint(result)')\n",
    "print()\n",
    "print('Output:')\n",
    "print(result)\n",
    "print()\n",
    "print('Expected:')\n",
    "print('[[-10, 8], [10, -1]]')\n",
    "print()\n",
    "print()\n",
    "\n",
    "U, s, V = svd_2x2(np.array([[1, 2], [3, 4]]))\n",
    "result = U @ np.diag(s) @ V\n",
    "print('Test Case 2: Accepted') if result.all() == np.array([[1, 2], [3, 4]]).all() else print('Test Case 2: Rejected')\n",
    "print('Input:')\n",
    "print('U, s, V = svd_2x2(np.array([[1, 2], [3, 4]]))\\nresult = U @ np.diag(s) @ V\\nprint(result)')\n",
    "print()\n",
    "print('Output:')\n",
    "print(result)\n",
    "print()\n",
    "print('Expected:')\n",
    "print('[[1, 2], [3, 4]]')"
   ]
  }
 ],
 "metadata": {
  "kernelspec": {
   "display_name": "llm",
   "language": "python",
   "name": "python3"
  },
  "language_info": {
   "codemirror_mode": {
    "name": "ipython",
    "version": 3
   },
   "file_extension": ".py",
   "mimetype": "text/x-python",
   "name": "python",
   "nbconvert_exporter": "python",
   "pygments_lexer": "ipython3",
   "version": "3.12.3"
  }
 },
 "nbformat": 4,
 "nbformat_minor": 2
}
