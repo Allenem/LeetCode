{
 "cells": [
  {
   "cell_type": "markdown",
   "metadata": {},
   "source": [
    "# Single Neuron with Backpropagation (medium)\n",
    "\n",
    "Write a Python function that simulates a single neuron with sigmoid activation, and implements backpropagation to update the neuron's weights and bias. The function should take a list of feature vectors, associated true binary labels, initial weights, initial bias, a learning rate, and the number of epochs. The function should update the weights and bias using gradient descent based on the MSE loss, and return the updated weights, bias, and a list of MSE values for each epoch, each rounded to four decimal places.\n",
    "\n",
    "Example:\n",
    "```python\n",
    "        input: features = [[1.0, 2.0], [2.0, 1.0], [-1.0, -2.0]], labels = [1, 0, 0], initial_weights = [0.1, -0.2], initial_bias = 0.0, learning_rate = 0.1, epochs = 2\n",
    "        output: updated_weights = [0.1036, -0.1425], updated_bias = -0.0167, mse_values =[0.3033, 0.2942]\n",
    "        reasoning: The neuron receives feature vectors and computes predictions using the sigmoid activation. Based on the predictions and true labels, the gradients of MSE loss with respect to weights and bias are computed and used to update the model parameters across epochs.\n",
    "```"
   ]
  },
  {
   "cell_type": "markdown",
   "metadata": {},
   "source": [
    "## Neural Network Learning with Backpropagation\n",
    "\n",
    "This question involves implementing backpropagation for a single neuron in a neural network. The neuron processes inputs and updates parameters to minimize the Mean Squared Error (MSE) between predicted outputs and true labels.\n",
    "\n",
    "## Mathematical Background\n",
    "\n",
    "### Forward Pass:\n",
    "Compute the neuron output by calculating the dot product of the weights and input features and adding the bias:\n",
    "\n",
    "$$z = w_1 * x_1 + w_2 * x_2 + ... + w_n * x_n + b$$\n",
    "$$\\sigma(z) = \\frac{1}{1 + e^{-z}}$$\n",
    " \n",
    "### Loss Calculation (MSE):\n",
    "The Mean Squared Error is used to quantify the error between the neuron's predictions and the actual labels:\n",
    "\n",
    "$$MSE = \\frac{1}{N} \\sum_{i=1}^{N} (y_i - \\hat{y_i})^2$$\n",
    " \n",
    "### Backward Pass (Gradient Calculation):\n",
    "Compute the gradient of the MSE with respect to each weight and the bias. This involves the partial derivatives of the loss function with respect to the output of the neuron, multiplied by the derivative of the sigmoid function:\n",
    " \n",
    "$$\\frac{\\partial MSE}{\\partial w_j} = \\frac{2}{N} \\sum_{i=1}^{N} (\\sigma(z_i) - y_i) * \\sigma'(z_i) * x_{ij}$$\n",
    "$$\\frac{\\partial MSE}{\\partial b} = \\frac{2}{N} \\sum_{i=1}^{N} (\\sigma(z_i) - y_i) * \\sigma'(z_i)$$\n",
    "$$\\sigma'(z) = \\sigma(z) * (1 - \\sigma(z))$$ \n",
    " \n",
    "### Parameter Update:\n",
    "Update each weight and the bias by subtracting a portion of the gradient determined by the learning rate:\n",
    " \n",
    "$$w_i = w_i - \\alpha * \\frac{\\partial MSE}{\\partial w_i}$$\n",
    "$$b = b - \\alpha * \\frac{\\partial MSE}{\\partial b}$$ \n",
    " \n",
    "## Practical Implementation\n",
    "This process refines the neuron's ability to predict accurately by iteratively adjusting the weights and bias based on the error gradients, optimizing the neural network's performance over multiple iterations."
   ]
  },
  {
   "cell_type": "code",
   "execution_count": 1,
   "metadata": {},
   "outputs": [],
   "source": [
    "import numpy as np\n",
    "\n",
    "def sigmoid(x):\n",
    "    return 1 / (1 + np.exp(-x)) # sigmoid'(x) = sigmoid(x) * (1 - sigmoid(x))\n",
    "\n",
    "def train_neuron(features, labels, initial_weights, initial_bias, learning_rate, epochs):\n",
    "    weights = np.array(initial_weights)\n",
    "    bias = initial_bias\n",
    "    features = np.array(features)\n",
    "    labels = np.array(labels)\n",
    "    mse_values = []\n",
    "\n",
    "    for _ in range(epochs):\n",
    "        z = np.dot(features, weights) + bias\n",
    "        predictions = sigmoid(z)\n",
    "        \n",
    "        mse = np.mean((predictions - labels) ** 2)\n",
    "        mse_values.append(round(mse, 4))\n",
    "\n",
    "        # Gradient calculation for weights and bias\n",
    "        errors = predictions - labels\n",
    "        weight_gradients = (2/len(labels)) * np.dot(features.T, errors * predictions * (1 - predictions))\n",
    "        bias_gradient = (2/len(labels)) * np.sum(errors * predictions * (1 - predictions)) # predictions * (1 - predictions) = sigmoid'(z)\n",
    "        \n",
    "        # Update weights and bias\n",
    "        weights -= learning_rate * weight_gradients\n",
    "        bias -= learning_rate * bias_gradient\n",
    "\n",
    "        # Round weights and bias for output\n",
    "        updated_weights = np.round(weights, 4)\n",
    "        updated_bias = round(bias, 4)\n",
    "\n",
    "    return updated_weights.tolist(), updated_bias, mse_values"
   ]
  },
  {
   "cell_type": "code",
   "execution_count": 2,
   "metadata": {},
   "outputs": [
    {
     "name": "stdout",
     "output_type": "stream",
     "text": [
      "Test Case 1: Accepted\n",
      "Input:\n",
      "print(train_neuron(np.array([[1.0, 2.0], [2.0, 1.0], [-1.0, -2.0]]), np.array([1, 0, 0]), np.array([0.1, -0.2]), 0.0, 0.1, 2))\n",
      "\n",
      "Output:\n",
      "([0.1036, -0.1425], -0.0167, [0.3033, 0.2942])\n",
      "\n",
      "Expected:\n",
      "([0.1036, -0.1425], -0.0167, [0.3033, 0.2942])\n",
      "\n",
      "\n",
      "Test Case 2: Accepted\n",
      "Input:\n",
      "print(train_neuron(np.array([[1, 2], [2, 3], [3, 1]]), np.array([1, 0, 1]), np.array([0.5, -0.2]), 0, 0.1, 3))\n",
      "\n",
      "Output:\n",
      "([0.4892, -0.2301], 0.0029, [0.21, 0.2087, 0.2076])\n",
      "\n",
      "Expected:\n",
      "([0.4892, -0.2301], 0.0029, [0.21, 0.2087, 0.2076])\n"
     ]
    }
   ],
   "source": [
    "print('Test Case 1: Accepted') if train_neuron(np.array([[1.0, 2.0], [2.0, 1.0], [-1.0, -2.0]]), np.array([1, 0, 0]), np.array([0.1, -0.2]), 0.0, 0.1, 2) == ([0.1036, -0.1425], -0.0167, [0.3033, 0.2942]) else print('Test Case 1: Rejected')\n",
    "print('Input:')\n",
    "print('print(train_neuron(np.array([[1.0, 2.0], [2.0, 1.0], [-1.0, -2.0]]), np.array([1, 0, 0]), np.array([0.1, -0.2]), 0.0, 0.1, 2))')\n",
    "print()\n",
    "print('Output:')\n",
    "print(train_neuron(np.array([[1.0, 2.0], [2.0, 1.0], [-1.0, -2.0]]), np.array([1, 0, 0]), np.array([0.1, -0.2]), 0.0, 0.1, 2))\n",
    "print()\n",
    "print('Expected:')\n",
    "print('([0.1036, -0.1425], -0.0167, [0.3033, 0.2942])')\n",
    "print()\n",
    "print()\n",
    "\n",
    "print('Test Case 2: Accepted') if train_neuron(np.array([[1, 2], [2, 3], [3, 1]]), np.array([1, 0, 1]), np.array([0.5, -0.2]), 0, 0.1, 3) == ([0.4892, -0.2301], 0.0029, [0.21, 0.2087, 0.2076]) else print('Test Case 2: Rejected')\n",
    "print('Input:')\n",
    "print('print(train_neuron(np.array([[1, 2], [2, 3], [3, 1]]), np.array([1, 0, 1]), np.array([0.5, -0.2]), 0, 0.1, 3))')\n",
    "print()\n",
    "print('Output:')\n",
    "print(train_neuron(np.array([[1, 2], [2, 3], [3, 1]]), np.array([1, 0, 1]), np.array([0.5, -0.2]), 0, 0.1, 3))\n",
    "print()\n",
    "print('Expected:')\n",
    "print('([0.4892, -0.2301], 0.0029, [0.21, 0.2087, 0.2076])')"
   ]
  }
 ],
 "metadata": {
  "kernelspec": {
   "display_name": "llm",
   "language": "python",
   "name": "python3"
  },
  "language_info": {
   "codemirror_mode": {
    "name": "ipython",
    "version": 3
   },
   "file_extension": ".py",
   "mimetype": "text/x-python",
   "name": "python",
   "nbconvert_exporter": "python",
   "pygments_lexer": "ipython3",
   "version": "3.12.4"
  }
 },
 "nbformat": 4,
 "nbformat_minor": 2
}
