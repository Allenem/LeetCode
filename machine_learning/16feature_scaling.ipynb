{
 "cells": [
  {
   "cell_type": "markdown",
   "metadata": {},
   "source": [
    "# Feature Scaling Implementation (easy)\n",
    "\n",
    "Write a Python function that performs feature scaling on a dataset using both standardization and min-max normalization. The function should take a 2D NumPy array as input, where each row represents a data sample and each column represents a feature. It should return two 2D NumPy arrays: one scaled by standardization and one by min-max normalization. Make sure all results are rounded to the nearest 4th decimal.\n",
    "\n",
    "Example:\n",
    "```python\n",
    "        input: data = np.array([[1, 2], [3, 4], [5, 6]])\n",
    "        output: ([[-1.2247, -1.2247], [0.0, 0.0], [1.2247, 1.2247]], [[0.0, 0.0], [0.5, 0.5], [1.0, 1.0]])\n",
    "        reasoning: Standardization rescales the feature to have a mean of 0 and a standard deviation of 1.\n",
    "        Min-max normalization rescales the feature to a range of [0, 1], where the minimum feature value\n",
    "        maps to 0 and the maximum to 1.\n",
    "```"
   ]
  },
  {
   "cell_type": "markdown",
   "metadata": {},
   "source": [
    "## Feature Scaling Techniques\n",
    "\n",
    "Feature scaling is crucial in many machine learning algorithms that are sensitive to the magnitude of features. This includes algorithms that use distance measures like k-nearest neighbors and gradient descent-based algorithms like linear regression.\n",
    "\n",
    "## Standardization:\n",
    "\n",
    "Standardization (or Z-score normalization) is the process where the features are rescaled so that they have the properties of a standard normal distribution with a mean of zero and a standard deviation of one:\n",
    "\n",
    "$$\n",
    "z = \\frac{x - \\mu}{\\sigma}\n",
    "$$ \n",
    " \n",
    "Where $x$ is the original feature, $\\mu$ is the mean of that feature, and $\\sigma$ is the standard deviation.\n",
    "\n",
    "## Min-Max Normalization:\n",
    "\n",
    "Min-max normalization rescales the feature to a fixed range, typically 0 to 1, or it can be shifted to any range $[a, b]$ by transforming the data according to the formula:\n",
    "\n",
    "$$\n",
    "x' = \\frac{x - \\min(x)}{\\max(x) - \\min(x)} \\times (max - min) + min\n",
    "$$ \n",
    " \n",
    "Where $x$ is the original value, $\\min(x)$ is the minimum value for that feature, $\\max(x)$ is the maximum value, and $min$ and $max$ are the new minimum and maximum values for the scaled data. Implementing these scaling techniques will ensure that the features contribute equally to the development of the model and improve the convergence speed of learning algorithms."
   ]
  },
  {
   "cell_type": "code",
   "execution_count": 3,
   "metadata": {},
   "outputs": [],
   "source": [
    "import numpy as np\n",
    "\n",
    "def feature_scaling(data: np.ndarray) -> (np.ndarray, np.ndarray):\n",
    "\n",
    "    # Standardization\n",
    "    standardized_data = (data - np.mean(data, axis=0)) / np.std(data, axis=0)\n",
    "\n",
    "    # Normalization\n",
    "    normalized_data = (data - np.min(data, axis=0)) / (np.max(data, axis=0) - np.min(data, axis=0))\n",
    "\n",
    "    return np.round(standardized_data, 4).tolist(), np.round(normalized_data, 4).tolist()"
   ]
  },
  {
   "cell_type": "code",
   "execution_count": 4,
   "metadata": {},
   "outputs": [
    {
     "name": "stdout",
     "output_type": "stream",
     "text": [
      "Test Case 1: Accepted\n",
      "Input:\n",
      "print(feature_scaling(np.array([[1, 2], [3, 4], [5, 6]])))\n",
      "\n",
      "Output:\n",
      "([[-1.2247, -1.2247], [0.0, 0.0], [1.2247, 1.2247]], [[0.0, 0.0], [0.5, 0.5], [1.0, 1.0]])\n",
      "\n",
      "Expected:\n",
      "([[-1.2247, -1.2247], [0.0, 0.0], [1.2247, 1.2247]], [[0.0, 0.0], [0.5, 0.5], [1.0, 1.0]])\n"
     ]
    }
   ],
   "source": [
    "print('Test Case 1: Accepted') if feature_scaling(np.array([[1, 2], [3, 4], [5, 6]])) == ([[-1.2247, -1.2247], [0.0, 0.0], [1.2247, 1.2247]], [[0.0, 0.0], [0.5, 0.5], [1.0, 1.0]]) else print('Test Case 1: Rejected')\n",
    "print('Input:')\n",
    "print('print(feature_scaling(np.array([[1, 2], [3, 4], [5, 6]])))')\n",
    "print()\n",
    "print('Output:')\n",
    "print(feature_scaling(np.array([[1, 2], [3, 4], [5, 6]])))\n",
    "print()\n",
    "print('Expected:')\n",
    "print('([[-1.2247, -1.2247], [0.0, 0.0], [1.2247, 1.2247]], [[0.0, 0.0], [0.5, 0.5], [1.0, 1.0]])')"
   ]
  }
 ],
 "metadata": {
  "kernelspec": {
   "display_name": "llm",
   "language": "python",
   "name": "python3"
  },
  "language_info": {
   "codemirror_mode": {
    "name": "ipython",
    "version": 3
   },
   "file_extension": ".py",
   "mimetype": "text/x-python",
   "name": "python",
   "nbconvert_exporter": "python",
   "pygments_lexer": "ipython3",
   "version": "3.12.3"
  }
 },
 "nbformat": 4,
 "nbformat_minor": 2
}
