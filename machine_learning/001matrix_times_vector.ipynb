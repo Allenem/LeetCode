{
 "cells": [
  {
   "cell_type": "markdown",
   "metadata": {},
   "source": [
    "# Matrix times Vector (easy)\n",
    "\n",
    "Write a Python function that takes the dot product of a matrix and a vector. return -1 if the matrix could not be dotted with the vector\n",
    "\n",
    "Example:\n",
    "```\n",
    "        input: a = [[1,2],[2,4]], b = [1,2]\n",
    "        output:[5, 10] \n",
    "        reasoning: 1*1 + 2*2 = 5;\n",
    "                   1*2+ 2*4 = 10\n",
    "```"
   ]
  },
  {
   "cell_type": "markdown",
   "metadata": {},
   "source": [
    "## Matrix Times Vector\n",
    "\n",
    "Consider a matrix $\\mathbf{A}$ and a vector $\\mathbf{v}$, where: $\\mathbf{A}$:\n",
    "\n",
    "$$\n",
    "\\mathbf{A} = \n",
    "\\begin{bmatrix}\n",
    "a_{11} & a_{12} \\\\\n",
    "a_{21} & a_{22}\n",
    "\\end{bmatrix}\n",
    "$$\n",
    " \n",
    "Vector $\\mathbf{v}$:\n",
    " \n",
    "$$\n",
    "\\mathbf{v} =\n",
    "\\begin{bmatrix}\n",
    "v_{1} \\\\\n",
    "v_{2}\n",
    "\\end{bmatrix}\n",
    "$$\n",
    " \n",
    "The dot product of $\\mathbf{A}$ and $\\mathbf{v}$ results in a new vector:\n",
    "\n",
    "$$\n",
    "\\mathbf{A} \\cdot \\mathbf{v} =\n",
    "\\left(\n",
    "\\begin{matrix}\n",
    "a_{11} \\cdot v_{1} + a_{12} \\cdot v_{2} \\\\\n",
    "a_{21} \\cdot v_{1} + a_{22} \\cdot v_{2}\n",
    "\\end{matrix}\n",
    "\\right)\n",
    "$$\n",
    " \n",
    " \n",
    "Things to note: an $n \\times m$ matrix will need to be multiplied by a vector of size $m$ or else this will not work."
   ]
  },
  {
   "cell_type": "code",
   "execution_count": 4,
   "metadata": {},
   "outputs": [],
   "source": [
    "\n",
    "def matrix_dot_vector(a:list[list[int|float]],b:list[int|float])-> list[int|float]:\n",
    "\tm, n, o = len(a), len(a[0]), len(b)\n",
    "\tif n!=o: return -1\n",
    "\tc = [0 for _ in range(m)]\n",
    "\tfor i in range(m):\n",
    "\t\tc[i] = sum(a[i][j] * b[j] for j in range(n))\n",
    "\treturn c"
   ]
  },
  {
   "cell_type": "code",
   "execution_count": 5,
   "metadata": {},
   "outputs": [
    {
     "name": "stdout",
     "output_type": "stream",
     "text": [
      "Input matrix a and vector b:\n",
      "[[1,2,3],[2,4,5],[6,8,9]],[1,2,3]\n",
      "Output:\n",
      "[14, 25, 49]\n",
      "Expected:\n",
      "[14, 25, 49]\n"
     ]
    }
   ],
   "source": [
    "print('Input matrix a and vector b:')\n",
    "print('[[1,2,3],[2,4,5],[6,8,9]],[1,2,3]')\n",
    "print('Output:')\n",
    "print(matrix_dot_vector([[1,2,3],[2,4,5],[6,8,9]],[1,2,3]))\n",
    "print('Expected:')\n",
    "print('[14, 25, 49]')"
   ]
  },
  {
   "cell_type": "code",
   "execution_count": 6,
   "metadata": {},
   "outputs": [
    {
     "name": "stdout",
     "output_type": "stream",
     "text": [
      "Input matrix a and vector b:\n",
      "[[1,2],[2,4],[6,8],[12,4]],[1,2,3]\n",
      "Output:\n",
      "-1\n",
      "Expected:\n",
      "-1\n"
     ]
    }
   ],
   "source": [
    "print('Input matrix a and vector b:')\n",
    "print('[[1,2],[2,4],[6,8],[12,4]],[1,2,3]')\n",
    "print('Output:')\n",
    "print(matrix_dot_vector([[1,2],[2,4],[6,8],[12,4]],[1,2,3]))\n",
    "print('Expected:')\n",
    "print('-1')"
   ]
  }
 ],
 "metadata": {
  "kernelspec": {
   "display_name": "llm",
   "language": "python",
   "name": "python3"
  },
  "language_info": {
   "codemirror_mode": {
    "name": "ipython",
    "version": 3
   },
   "file_extension": ".py",
   "mimetype": "text/x-python",
   "name": "python",
   "nbconvert_exporter": "python",
   "pygments_lexer": "ipython3",
   "version": "3.12.3"
  }
 },
 "nbformat": 4,
 "nbformat_minor": 2
}
