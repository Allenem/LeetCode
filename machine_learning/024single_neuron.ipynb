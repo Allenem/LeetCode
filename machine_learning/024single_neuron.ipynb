{
 "cells": [
  {
   "cell_type": "markdown",
   "metadata": {},
   "source": [
    "# Single Neuron (easy)\n",
    "\n",
    "Write a Python function that simulates a single neuron with a sigmoid activation function for binary classification, handling multidimensional input features. The function should take a list of feature vectors (each vector representing multiple features for an example), associated true binary labels, and the neuron's weights (one for each feature) and bias as input. It should return the predicted probabilities after sigmoid activation and the mean squared error between the predicted probabilities and the true labels, both rounded to four decimal places.\n",
    "\n",
    "Example:\n",
    "```py\n",
    "        input: features = [[0.5, 1.0], [-1.5, -2.0], [2.0, 1.5]], labels = [0, 1, 0], weights = [0.7, -0.4], bias = -0.1\n",
    "        output: ([0.4626, 0.4134, 0.6682], 0.3349)\n",
    "        reasoning: For each input vector, the weighted sum is calculated by multiplying each feature by its corresponding weight, adding these up along with the bias, then applying the sigmoid function to produce a probability. The MSE is calculated as the average squared difference between each predicted probability and the corresponding true label.\n",
    "```\n",
    "\n",
    "## Single Neuron Model with Multidimensional Input and Sigmoid Activation\n",
    "\n",
    "This task involves a neuron model designed for binary classification with multidimensional input features, using the sigmoid activation function to output probabilities. It also involves calculating the mean squared error (MSE) to evaluate prediction accuracy.\n",
    "\n",
    "## Mathematical Background\n",
    "\n",
    "- Neuron Output Calculation:\n",
    "\n",
    "$$z = \\sum_{i=1}^{N} weight_i \\times feature_i + bias$$\n",
    "$$\\sigma(z) = \\frac{1}{1 + e^{-z}}$$\n",
    "\n",
    "- MSE Calculation:\n",
    "\n",
    "$$MSE = \\frac{1}{M} \\sum_{i=1}^{M} (predicted - true)^2$$\n",
    " \n",
    "Where:\n",
    "\n",
    "$z$ is the sum of weighted inputs plus bias,\n",
    "\n",
    "$\\sigma(z)$ is the sigmoid activation output,\n",
    "\n",
    "$predicted$ are the probabilities after sigmoid activation,\n",
    "\n",
    "$true$ are the true binary labels.\n",
    "\n",
    "## Practical Implementation\n",
    "\n",
    "- Each feature vector is processed to calculate a combined weighted sum, which is then passed through the sigmoid function to determine the probability of the input belonging to the positive class.\n",
    "- MSE provides a measure of error, offering insights into the model's performance and aiding in its optimization."
   ]
  },
  {
   "cell_type": "code",
   "execution_count": 1,
   "metadata": {},
   "outputs": [],
   "source": [
    "import math\n",
    "\n",
    "def single_neuron_model(features: list[list[float]], labels: list[int], weights: list[float], bias: float) -> (list[float], float):\n",
    "\t# Your code here\n",
    "\tm, n = len(features), len(weights)\n",
    "\tzs = [sum(weights[j] * features[i][j] for j in range(n)) + bias for i in range(m)]\n",
    "\tprobabilities = [1 / (1 + math.exp(-zi)) for zi in zs]\n",
    "\tmse = sum((probabilities[i] - labels[i])**2 for i in range(m)) / m\n",
    "\tprobabilities = [round(pi, 4) for pi in probabilities]\n",
    "\tmse = round(mse, 4)\n",
    "\treturn probabilities, mse"
   ]
  },
  {
   "cell_type": "code",
   "execution_count": 2,
   "metadata": {},
   "outputs": [
    {
     "name": "stdout",
     "output_type": "stream",
     "text": [
      "Input:\n",
      "print(single_neuron_model([[0.5, 1.0], [-1.5, -2.0], [2.0, 1.5]], [0, 1, 0], [0.7, -0.4], -0.1))\n",
      "\n",
      "Output:\n",
      "([0.4626, 0.4134, 0.6682], 0.3349)\n",
      "\n",
      "Expected:\n",
      "([0.4626, 0.4134, 0.6682], 0.3349)\n"
     ]
    }
   ],
   "source": [
    "print('Input:')\n",
    "print('print(single_neuron_model([[0.5, 1.0], [-1.5, -2.0], [2.0, 1.5]], [0, 1, 0], [0.7, -0.4], -0.1))')\n",
    "print()\n",
    "print('Output:')\n",
    "print(single_neuron_model([[0.5, 1.0], [-1.5, -2.0], [2.0, 1.5]], [0, 1, 0], [0.7, -0.4], -0.1))\n",
    "print()\n",
    "print('Expected:')\n",
    "print('([0.4626, 0.4134, 0.6682], 0.3349)')\n"
   ]
  },
  {
   "cell_type": "code",
   "execution_count": 3,
   "metadata": {},
   "outputs": [
    {
     "name": "stdout",
     "output_type": "stream",
     "text": [
      "Input:\n",
      "print(single_neuron_model([[1, 2], [2, 3], [3, 1]], [1, 0, 1], [0.5, -0.2], 0))\n",
      "\n",
      "Output:\n",
      "([0.525, 0.5987, 0.7858], 0.21)\n",
      "\n",
      "Expected:\n",
      "([0.525, 0.5987, 0.7858], 0.21)\n"
     ]
    }
   ],
   "source": [
    "print('Input:')\n",
    "print('print(single_neuron_model([[1, 2], [2, 3], [3, 1]], [1, 0, 1], [0.5, -0.2], 0))')\n",
    "print()\n",
    "print('Output:')\n",
    "print(single_neuron_model([[1, 2], [2, 3], [3, 1]], [1, 0, 1], [0.5, -0.2], 0))\n",
    "print()\n",
    "print('Expected:')\n",
    "print('([0.525, 0.5987, 0.7858], 0.21)')"
   ]
  }
 ],
 "metadata": {
  "kernelspec": {
   "display_name": "llm",
   "language": "python",
   "name": "python3"
  },
  "language_info": {
   "codemirror_mode": {
    "name": "ipython",
    "version": 3
   },
   "file_extension": ".py",
   "mimetype": "text/x-python",
   "name": "python",
   "nbconvert_exporter": "python",
   "pygments_lexer": "ipython3",
   "version": "3.12.3"
  }
 },
 "nbformat": 4,
 "nbformat_minor": 2
}
