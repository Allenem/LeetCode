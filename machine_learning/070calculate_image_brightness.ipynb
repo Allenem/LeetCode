{
 "cells": [
  {
   "cell_type": "markdown",
   "metadata": {},
   "source": [
    "# Calculate Image Brightness\n",
    "\n",
    "Task: Image Brightness Calculator\n",
    "\n",
    "In this task, you will implement a function calculate_brightness(img) that calculates the average brightness of a grayscale image. The image is represented as a 2D matrix, where each element represents a pixel value between 0 (black) and 255 (white).\n",
    "\n",
    "Your Task:\n",
    "\n",
    "Implement the function calculate_brightness(img) to:\n",
    "\n",
    "Return the average brightness of the image rounded to two decimal places.\n",
    "\n",
    "Handle edge cases:\n",
    "\n",
    "- If the image matrix is empty.\n",
    "- If the rows in the matrix have inconsistent lengths.\n",
    "- If any pixel values are outside the valid range (0-255).\n",
    "  \n",
    "For any of these edge cases, the function should return -1.\n",
    "\n",
    "Example:\n",
    "```py\n",
    "Input:\n",
    "img = [\n",
    "    [100, 200],\n",
    "    [50, 150]\n",
    "]\n",
    "print(calculate_brightness(img))\n",
    "Output:\n",
    "125.0\n",
    "Reasoning:\n",
    "The average brightness is calculated as (100 + 200 + 50 + 150) / 4 = 125.0\n",
    "```\n",
    "\n",
    "## Learn About topic\n",
    "\n",
    "Image Brightness Calculator\n",
    "\n",
    "Consider a grayscale image represented as a 2D matrix where each element represents a pixel value between 0 (black) and 255 (white):\n",
    "\n",
    "$$img = \\begin{bmatrix} p_{11} & p_{12} & \\cdots & p_{1n} \\\\ p_{21} & p_{22} & \\cdots & p_{2n} \\\\ \\vdots & \\vdots & \\ddots & \\vdots \\\\ p_{m1} & p_{m2} & \\cdots & p_{mn} \\end{bmatrix}$$\n",
    "\n",
    "The average brightness is calculated as:\n",
    "\n",
    "$$\\text{brightness} = \\frac{p_{11} + p_{12} + \\cdots + p_{1n} + p_{21} + p_{22} + \\cdots + p_{2n} + \\cdots + p_{m1} + p_{m2} + \\cdots + p_{mn}}{m \\times n}$$\n",
    "\n",
    "Where:\n",
    "\n",
    "- $p_{ij}$ is the pixel value at row i and column j\n",
    "- $m$ is the number of rows\n",
    "- $n$ is the number of columns\n",
    "\n",
    "## Things to Note:\n",
    "\n",
    "- All pixel values must be between 0 and 255\n",
    "- The image matrix must be well-formed (all rows same length)\n",
    "- Empty or invalid images return -1"
   ]
  },
  {
   "cell_type": "code",
   "execution_count": 1,
   "metadata": {},
   "outputs": [],
   "source": [
    "\n",
    "def calculate_brightness(img):\n",
    "\tif not img: return -1\n",
    "\tm, n = len(img), len(img[0])\n",
    "\tsumm = 0\n",
    "\tfor i in range(m):\n",
    "\t\tif len(img[i])!=n: return -1\n",
    "\t\tfor j in range(n):\n",
    "\t\t\tif img[i][i] < 0 or img[i][i] > 255: return -1\n",
    "\t\t\tsumm += img[i][j]\n",
    "\treturn round(summ / (m * n), 2)"
   ]
  },
  {
   "cell_type": "code",
   "execution_count": 2,
   "metadata": {},
   "outputs": [
    {
     "name": "stdout",
     "output_type": "stream",
     "text": [
      "125.0\n"
     ]
    }
   ],
   "source": [
    "img = [\n",
    "    [100, 200],\n",
    "    [50, 150]\n",
    "]\n",
    "print(calculate_brightness(img))"
   ]
  },
  {
   "cell_type": "code",
   "execution_count": 3,
   "metadata": {},
   "outputs": [
    {
     "name": "stdout",
     "output_type": "stream",
     "text": [
      "-1\n"
     ]
    }
   ],
   "source": [
    "# Test invalid dimensions \n",
    "print(calculate_brightness([[100, 200], [150]]))"
   ]
  },
  {
   "cell_type": "code",
   "execution_count": 4,
   "metadata": {},
   "outputs": [
    {
     "name": "stdout",
     "output_type": "stream",
     "text": [
      "-1\n"
     ]
    }
   ],
   "source": [
    "# Test empty image \n",
    "print(calculate_brightness([]))"
   ]
  }
 ],
 "metadata": {
  "kernelspec": {
   "display_name": "llm",
   "language": "python",
   "name": "python3"
  },
  "language_info": {
   "codemirror_mode": {
    "name": "ipython",
    "version": 3
   },
   "file_extension": ".py",
   "mimetype": "text/x-python",
   "name": "python",
   "nbconvert_exporter": "python",
   "pygments_lexer": "ipython3",
   "version": "3.12.3"
  }
 },
 "nbformat": 4,
 "nbformat_minor": 2
}
