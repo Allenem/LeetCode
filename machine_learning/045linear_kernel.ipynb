{
 "cells": [
  {
   "cell_type": "markdown",
   "metadata": {},
   "source": [
    "# Linear Kernel Function\n",
    "\n",
    "Write a Python function `kernel_function` that computes the linear kernel between two input vectors `x1` and `x2`. The linear kernel is defined as the dot product (inner product) of two vectors.\n",
    "\n",
    "Example:\n",
    "```python\n",
    "import numpy as np\n",
    "\n",
    "x1 = np.array([1, 2, 3])\n",
    "x2 = np.array([4, 5, 6])\n",
    "\n",
    "result = kernel_function(x1, x2)\n",
    "print(result)\n",
    "# Expected Output: 32\n",
    "```"
   ]
  },
  {
   "cell_type": "markdown",
   "metadata": {},
   "source": [
    "## Understanding the Linear Kernel\n",
    "\n",
    "A kernel function in machine learning is used to measure the similarity between two data points in a higher-dimensional space without having to compute the coordinates of the points in that space explicitly. The linear kernel is one of the simplest and most commonly used kernel functions. It computes the dot product (or inner product) of two vectors.\n",
    "\n",
    "## Mathematical Definition\n",
    "\n",
    "The linear kernel between two vectors $\\mathbf{x}_1$ and $\\mathbf{x}_2$ is mathematically defined as:\n",
    "\n",
    "$$\n",
    "K(\\mathbf{x}_1, \\mathbf{x}_2) = \\mathbf{x}_1 \\cdot \\mathbf{x}_2 = \\sum_{i=1}^{n} x_{1,i} \\cdot x_{2,i}\n",
    "$$\n",
    "\n",
    "Where $n$ is the number of features, and $x_{1,i}$ and $x_{2,i}$ are the components of the vectors $\\mathbf{x}_1$ and $\\mathbf{x}_2$ respectively.\n",
    "\n",
    "The linear kernel is widely used in support vector machines (SVMs) and other machine learning algorithms for linear classification and regression tasks. It is computationally efficient and works well when the data is linearly separable.\n",
    "\n",
    "## Characteristics\n",
    "\n",
    "- **Simplicity**: The linear kernel is straightforward to implement and compute.\n",
    "- **Efficiency**: It is computationally less expensive compared to other complex kernels like polynomial or RBF kernels.\n",
    "- **Interpretability**: The linear kernel is interpretable because it corresponds directly to the dot product, a well-understood operation in vector algebra.\n",
    "\n",
    "In this problem, you will implement a function capable of computing the linear kernel between two vectors."
   ]
  },
  {
   "cell_type": "code",
   "execution_count": 1,
   "metadata": {},
   "outputs": [],
   "source": [
    "import numpy as np\n",
    "\n",
    "def kernel_function(x1, x2):\n",
    "\treturn sum(x1i * x2i for x1i, x2i in zip(x1, x2))"
   ]
  },
  {
   "cell_type": "code",
   "execution_count": 2,
   "metadata": {},
   "outputs": [
    {
     "name": "stdout",
     "output_type": "stream",
     "text": [
      "Test Case 1: Accepted\n",
      "Input:\n",
      "import numpy as np\n",
      "x1 = np.array([1, 2, 3])\n",
      "x2 = np.array([4, 5, 6])\n",
      "result = kernel_function(x1, x2)\n",
      "print(result)\n",
      "\n",
      "Output:\n",
      "32\n",
      "\n",
      "Expected:\n",
      "32\n"
     ]
    }
   ],
   "source": [
    "print('Test Case 1: Accepted') if kernel_function(np.array([1, 2, 3]), np.array([4, 5, 6])) == 32 else print('Test Case 1: Rejected')\n",
    "print('Input:')\n",
    "print('import numpy as np\\nx1 = np.array([1, 2, 3])\\nx2 = np.array([4, 5, 6])\\nresult = kernel_function(x1, x2)\\nprint(result)')\n",
    "print()\n",
    "print('Output:')\n",
    "print(kernel_function(np.array([1, 2, 3]), np.array([4, 5, 6])))\n",
    "print()\n",
    "print('Expected:')\n",
    "print('32')"
   ]
  },
  {
   "cell_type": "code",
   "execution_count": 3,
   "metadata": {},
   "outputs": [
    {
     "name": "stdout",
     "output_type": "stream",
     "text": [
      "Test Case 2: Accepted\n",
      "Input:\n",
      "import numpy as np\n",
      "x1 = np.array([0, 1, 2])\n",
      "x2 = np.array([3, 4, 5])\n",
      "result = kernel_function(x1, x2)\n",
      "print(result)\n",
      "\n",
      "Output:\n",
      "14\n",
      "\n",
      "Expected:\n",
      "14\n"
     ]
    }
   ],
   "source": [
    "print('Test Case 2: Accepted') if kernel_function(np.array([0, 1, 2]), np.array([3, 4, 5])) == 14 else print('Test Case 2: Rejected')\n",
    "print('Input:')\n",
    "print('import numpy as np\\nx1 = np.array([0, 1, 2])\\nx2 = np.array([3, 4, 5])\\nresult = kernel_function(x1, x2)\\nprint(result)')\n",
    "print()\n",
    "print('Output:')\n",
    "print(kernel_function(np.array([0, 1, 2]), np.array([3, 4, 5])))\n",
    "print()\n",
    "print('Expected:')\n",
    "print('14')"
   ]
  }
 ],
 "metadata": {
  "kernelspec": {
   "display_name": "llm",
   "language": "python",
   "name": "python3"
  },
  "language_info": {
   "codemirror_mode": {
    "name": "ipython",
    "version": 3
   },
   "file_extension": ".py",
   "mimetype": "text/x-python",
   "name": "python",
   "nbconvert_exporter": "python",
   "pygments_lexer": "ipython3",
   "version": "3.12.3"
  }
 },
 "nbformat": 4,
 "nbformat_minor": 2
}
