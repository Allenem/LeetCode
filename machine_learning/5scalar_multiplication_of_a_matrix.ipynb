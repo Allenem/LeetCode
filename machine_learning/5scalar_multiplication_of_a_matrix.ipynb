{
 "cells": [
  {
   "cell_type": "markdown",
   "metadata": {},
   "source": [
    "# Scalar Multiplication of a Matrix (easy)\n",
    "\n",
    "Write a Python function that multiplies a matrix by a scalar and returns the result.\n",
    "\n",
    "Example:\n",
    "```python\n",
    "        input: matrix = [[1, 2], [3, 4]], scalar = 2\n",
    "        output: [[2, 4], [6, 8]]\n",
    "        reasoning: Each element of the matrix is multiplied by the scalar.\n",
    "```"
   ]
  },
  {
   "cell_type": "markdown",
   "metadata": {},
   "source": [
    "## Scalar Multiplication of a Matrix\n",
    "\n",
    "When a matrix $\\mathbf{A}$ is multiplied by a scalar $k$, the operation is defined as multiplying each element of $\\mathbf{A}$ by $k$. Given a matrix $\\mathbf{A}$:\n",
    "\n",
    "$$\n",
    "\\mathbf{A} = \\begin{bmatrix}\n",
    "a_{11} & a_{12} & \\cdots & a_{1n} \\\\\n",
    "a_{21} & a_{22} & \\cdots & a_{2n} \\\\\n",
    "\\vdots & \\vdots & \\ddots & \\vdots \\\\\n",
    "a_{m1} & a_{m2} & \\cdots & a_{mn}\n",
    "\\end{bmatrix}\n",
    "$$ \n",
    " \n",
    "And a scalar $k$, the result of the scalar multiplication $k\\mathbf{A}$ is:\n",
    "\n",
    "$$\n",
    "k\\mathbf{A} = \\begin{bmatrix}\n",
    "ka_{11} & ka_{12} & \\cdots & ka_{1n} \\\\\n",
    "ka_{21} & ka_{22} & \\cdots & ka_{2n} \\\\\n",
    "\\vdots & \\vdots & \\ddots & \\vdots \\\\\n",
    "ka_{m1} & ka_{m2} & \\cdots & ka_{mn}\n",
    "\\end{bmatrix}\n",
    "$$ \n",
    " \n",
    "This operation scales the matrix by $k$ without changing its dimension or the relative proportion of its elements."
   ]
  },
  {
   "cell_type": "code",
   "execution_count": 1,
   "metadata": {},
   "outputs": [],
   "source": [
    "def scalar_multiply(matrix: list[list[int|float]], scalar: int|float) -> list[list[int|float]]:\n",
    "\tm, n = len(matrix), len(matrix[0])\n",
    "\tresult = [[0] * n for _ in range(m)]\n",
    "\tfor i in range(m):\n",
    "\t\tfor j in range(n):\n",
    "\t\t\tresult[i][j] = scalar * matrix[i][j]\n",
    "\treturn result"
   ]
  },
  {
   "cell_type": "code",
   "execution_count": 2,
   "metadata": {},
   "outputs": [
    {
     "name": "stdout",
     "output_type": "stream",
     "text": [
      "Test Case 1: Accepted\n",
      "Input:\n",
      "print(scalar_multiply([[1,2],[3,4]], 2))\n",
      "\n",
      "Output:\n",
      "[[2, 4], [6, 8]]\n",
      "\n",
      "Expected:\n",
      "[[2, 4], [6, 8]]\n"
     ]
    }
   ],
   "source": [
    "print('Test Case 1: Accepted') if scalar_multiply([[1, 2], [3, 4]], 2) == [[2, 4], [6, 8]] else print('Test Case 1: Rejected')\n",
    "print('Input:')\n",
    "print('print(scalar_multiply([[1,2],[3,4]], 2))')\n",
    "print()\n",
    "print('Output:')\n",
    "print(scalar_multiply([[1, 2], [3, 4]], 2))\n",
    "print()\n",
    "print('Expected:')\n",
    "print('[[2, 4], [6, 8]]')"
   ]
  },
  {
   "cell_type": "code",
   "execution_count": 3,
   "metadata": {},
   "outputs": [
    {
     "name": "stdout",
     "output_type": "stream",
     "text": [
      "Test Case 2: Accepted\n",
      "Input:\n",
      "print(scalar_multiply([[0,-1],[1,0]], -1))\n",
      "\n",
      "Output:\n",
      "[[0, 1], [-1, 0]]\n",
      "\n",
      "Expected:\n",
      "[[0, 1], [-1, 0]]\n"
     ]
    }
   ],
   "source": [
    "print('Test Case 2: Accepted') if scalar_multiply([[0, -1], [1, 0]], -1) == [[0, 1], [-1, 0]] else print('Test Case 2: Rejected')\n",
    "print('Input:')\n",
    "print('print(scalar_multiply([[0,-1],[1,0]], -1))')\n",
    "print()\n",
    "print('Output:')\n",
    "print(scalar_multiply([[0, -1], [1, 0]], -1))\n",
    "print()\n",
    "print('Expected:')\n",
    "print('[[0, 1], [-1, 0]]')"
   ]
  }
 ],
 "metadata": {
  "kernelspec": {
   "display_name": "llm",
   "language": "python",
   "name": "python3"
  },
  "language_info": {
   "codemirror_mode": {
    "name": "ipython",
    "version": 3
   },
   "file_extension": ".py",
   "mimetype": "text/x-python",
   "name": "python",
   "nbconvert_exporter": "python",
   "pygments_lexer": "ipython3",
   "version": "3.12.3"
  }
 },
 "nbformat": 4,
 "nbformat_minor": 2
}
