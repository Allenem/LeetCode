{
 "cells": [
  {
   "cell_type": "markdown",
   "metadata": {},
   "source": [
    "# Reshape Matrix (easy)\n",
    "\n",
    "Write a Python function that reshapes a given matrix into a specified shape.\n",
    "\n",
    "Example:\n",
    "```python\n",
    "        input: a = [[1,2,3,4],[5,6,7,8]], new_shape = (4, 2)\n",
    "        output: [[1, 2], [3, 4], [5, 6], [7, 8]]\n",
    "        reasoning: The given matrix is reshaped from 2x4 to 4x2.\n",
    "```"
   ]
  },
  {
   "cell_type": "markdown",
   "metadata": {},
   "source": [
    "## Reshaping a Matrix\n",
    "\n",
    "Matrix reshaping involves changing the shape of a matrix without altering its data. This is essential in many machine learning tasks where the input data needs to be formatted in a specific way. For example, consider a matrix $\\mathbf{M}$ : Original Matrix $\\mathbf{M}$ :\n",
    "\n",
    "$$\n",
    "\\mathbf{M} =\n",
    "\\begin{bmatrix}\n",
    "1 & 2 & 3 & 4 \\\\\n",
    "5 & 6 & 7 & 8\n",
    "\\end{bmatrix}\n",
    "$$\n",
    " \n",
    "Reshaped Matrix : $\\mathbf{M}'$ with shape (4, 2):\n",
    "\n",
    "$$\n",
    "\\mathbf{M}' =\n",
    "\\begin{bmatrix}\n",
    "1 & 2 \\\\\n",
    "3 & 4 \\\\\n",
    "5 & 6 \\\\\n",
    "7 & 8\n",
    "\\end{bmatrix}\n",
    "$$\n",
    " \n",
    "Ensure the total number of elements remains constant during reshaping."
   ]
  },
  {
   "cell_type": "code",
   "execution_count": 1,
   "metadata": {},
   "outputs": [],
   "source": [
    "import numpy as np\n",
    "\n",
    "def reshape_matrix(a: list[list[int|float]], new_shape: tuple[int, int]) -> list[list[int|float]]:\n",
    "\t# Write your code here and return a python list after reshaping by using numpy's tolist() method\n",
    "\tm, n = new_shape\n",
    "\tnewa = [ai for row in a for ai in row]\n",
    "\treshaped_matrix = [[newa[i*n+j] for j in range(n)] for i in range(m)]\n",
    "\treturn reshaped_matrix"
   ]
  },
  {
   "cell_type": "code",
   "execution_count": 2,
   "metadata": {},
   "outputs": [
    {
     "name": "stdout",
     "output_type": "stream",
     "text": [
      "Input:\n",
      "print(reshape_matrix([[1,2,3,4],[5,6,7,8]], (4, 2)))\n",
      "\n",
      "Output:\n",
      "[[1, 2], [3, 4], [5, 6], [7, 8]]\n",
      "\n",
      "Expected:\n",
      "[[1, 2], [3, 4], [5, 6], [7, 8]]\n"
     ]
    }
   ],
   "source": [
    "print('Input:')\n",
    "print('print(reshape_matrix([[1,2,3,4],[5,6,7,8]], (4, 2)))')\n",
    "print()\n",
    "print('Output:')\n",
    "print(reshape_matrix([[1,2,3,4],[5,6,7,8]], (4, 2)))\n",
    "print()\n",
    "print('Expected:')\n",
    "print('[[1, 2], [3, 4], [5, 6], [7, 8]]')"
   ]
  },
  {
   "cell_type": "code",
   "execution_count": 3,
   "metadata": {},
   "outputs": [
    {
     "name": "stdout",
     "output_type": "stream",
     "text": [
      "Input:\n",
      "print(reshape_matrix([[1,2,3],[4,5,6]], (3, 2)))\n",
      "\n",
      "Output:\n",
      "[[1, 2], [3, 4], [5, 6]]\n",
      "\n",
      "Expected:\n",
      "[[1, 2], [3, 4], [5, 6]]\n"
     ]
    }
   ],
   "source": [
    "print('Input:')\n",
    "print('print(reshape_matrix([[1,2,3],[4,5,6]], (3, 2)))')\n",
    "print()\n",
    "print('Output:')\n",
    "print(reshape_matrix([[1,2,3],[4,5,6]], (3, 2)))\n",
    "print()\n",
    "print('Expected:')\n",
    "print('[[1, 2], [3, 4], [5, 6]]')"
   ]
  },
  {
   "cell_type": "code",
   "execution_count": 4,
   "metadata": {},
   "outputs": [
    {
     "name": "stdout",
     "output_type": "stream",
     "text": [
      "Input:\n",
      "print(reshape_matrix([[1,2,3,4],[5,6,7,8]], (2, 4)))\n",
      "\n",
      "Output:\n",
      "[[1, 2, 3, 4], [5, 6, 7, 8]]\n",
      "\n",
      "Expected:\n",
      "[[1, 2, 3, 4], [5, 6, 7, 8]]\n"
     ]
    }
   ],
   "source": [
    "print('Input:')\n",
    "print('print(reshape_matrix([[1,2,3,4],[5,6,7,8]], (2, 4)))')\n",
    "print()\n",
    "print('Output:')\n",
    "print(reshape_matrix([[1,2,3,4],[5,6,7,8]], (2, 4)))\n",
    "print()\n",
    "print('Expected:')\n",
    "print('[[1, 2, 3, 4], [5, 6, 7, 8]]')"
   ]
  }
 ],
 "metadata": {
  "kernelspec": {
   "display_name": "llm",
   "language": "python",
   "name": "python3"
  },
  "language_info": {
   "codemirror_mode": {
    "name": "ipython",
    "version": 3
   },
   "file_extension": ".py",
   "mimetype": "text/x-python",
   "name": "python",
   "nbconvert_exporter": "python",
   "pygments_lexer": "ipython3",
   "version": "3.12.3"
  }
 },
 "nbformat": 4,
 "nbformat_minor": 2
}
