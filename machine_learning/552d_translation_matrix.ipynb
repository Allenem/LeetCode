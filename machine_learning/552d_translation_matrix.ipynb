{
 "cells": [
  {
   "cell_type": "markdown",
   "metadata": {},
   "source": [
    "# 2D Translation Matrix Implementation\n",
    "\n",
    "Task: Implement a 2D Translation Matrix\n",
    "\n",
    "Your task is to implement a function that applies a 2D translation matrix to a set of points. A translation matrix is used to move points in 2D space by a specified distance in the x and y directions.\n",
    "\n",
    "Write a function translate_object(points, tx, ty) where points is a list of [x, y] coordinates and tx and ty are the translation distances in the x and y directions respectively.\n",
    "\n",
    "The function should return a new list of points after applying the translation matrix.\n",
    "\n",
    "Example:\n",
    "```py\n",
    "import numpy as np\n",
    "\n",
    "points = [[0, 0], [1, 0], [0.5, 1]]\n",
    "tx, ty = 2, 3\n",
    "\n",
    "print(translate_object(points, tx, ty))\n",
    "\n",
    "# Expected Output:\n",
    "# [[2.0, 3.0], [3.0, 3.0], [2.5, 4.0]]\n",
    "```"
   ]
  },
  {
   "cell_type": "markdown",
   "metadata": {},
   "source": [
    "## 2D Translation Matrix Implementation\n",
    "\n",
    "The translation matrix is a fundamental concept in linear algebra and computer graphics, used to move points or objects in a 2D space. For a 2D translation, we use a 3x3 matrix to move a point (x, y) by x_t units in the x-direction and y_t units in the y-direction. For any point P in 2D Cartesian space with coordinates (x, y), we can represent it in homogeneous coordinates as (x, y, 1):\n",
    "\n",
    "$$P_{Cartesian} = (x, y) \\rightarrow P_{Homogeneous} = (x, y, 1)$$\n",
    "\n",
    "More generally, any scalar multiple of (x, y, 1) represents the same point in 2D space. So (kx, ky, k) for any non-zero k also represents the same point (x, y) in 2D space. The addition of this third coordinate allows us to represent translation as a linear transformation.\n",
    "\n",
    "The translation matrix is defined as:\n",
    " \n",
    "$$T = \\begin{bmatrix} 1 & 0 & x_t \\\\ 0 & 1 & y_t \\\\ 0 & 0 & 1 \\end{bmatrix}$$\n",
    "\n",
    "To apply this translation to a point (x, y) we use homogeneous coordinates by representing the point as (x, y, 1). Then the transformation is performed by matrix multiplication:\n",
    "\n",
    "$$\\begin{bmatrix} 1 & 0 & x_t \\\\ 0 & 1 & y_t \\\\ 0 & 0 & 1 \\end{bmatrix} \\begin{bmatrix} x \\\\ y \\\\ 1 \\end{bmatrix} = \\begin{bmatrix} x + x_t \\\\ y + y_t \\\\ 1 \\end{bmatrix}$$\n",
    "\n",
    "Where:\n",
    "\n",
    "- $(x, y)$ is the original point,\n",
    "- $x_t$ is the translation in the x-direction,\n",
    "- $y_t$ is the translation in the y-direction,\n",
    "- $(x + x_t, y + y_t)$ is the resulting translated point."
   ]
  },
  {
   "cell_type": "code",
   "execution_count": 1,
   "metadata": {},
   "outputs": [],
   "source": [
    "import numpy as np\n",
    "def translate_object(points, tx, ty):\n",
    "\ttranslated_points = [[float(x+tx), float(y+ty)] for (x, y) in points]\n",
    "\treturn translated_points"
   ]
  },
  {
   "cell_type": "code",
   "execution_count": 2,
   "metadata": {},
   "outputs": [
    {
     "name": "stdout",
     "output_type": "stream",
     "text": [
      "Input:\n",
      "import numpy as np\n",
      "triangle = [[0, 0], [1, 0], [0.5, 1]]\n",
      "tx, ty = 2, 3\n",
      "print(translate_object(triangle, tx, ty))\n",
      "\n",
      "Output:\n",
      "[[2.0, 3.0], [3.0, 3.0], [2.5, 4.0]]\n",
      "\n",
      "Expected:\n",
      "[[2.0, 3.0], [3.0, 3.0], [2.5, 4.0]]\n"
     ]
    }
   ],
   "source": [
    "triangle = [[0, 0], [1, 0], [0.5, 1]]\n",
    "tx, ty = 2, 3\n",
    "\n",
    "print('Input:')\n",
    "print('import numpy as np\\n\\\n",
    "triangle = [[0, 0], [1, 0], [0.5, 1]]\\n\\\n",
    "tx, ty = 2, 3\\n\\\n",
    "print(translate_object(triangle, tx, ty))')\n",
    "print()\n",
    "print('Output:')\n",
    "print(translate_object(triangle, tx, ty))\n",
    "print()\n",
    "print('Expected:')\n",
    "print('[[2.0, 3.0], [3.0, 3.0], [2.5, 4.0]]')"
   ]
  },
  {
   "cell_type": "code",
   "execution_count": 3,
   "metadata": {},
   "outputs": [
    {
     "name": "stdout",
     "output_type": "stream",
     "text": [
      "Input:\n",
      "import numpy as np\n",
      "square = [[0, 0], [1, 0], [1, 1], [0, 1]]\n",
      "tx, ty = -1, 2\n",
      "print(translate_object(square, tx, ty))\n",
      "\n",
      "Output:\n",
      "[[-1.0, 2.0], [0.0, 2.0], [0.0, 3.0], [-1.0, 3.0]]\n",
      "\n",
      "Expected:\n",
      "[[-1.0, 2.0], [0.0, 2.0], [0.0, 3.0], [-1.0, 3.0]]\n"
     ]
    }
   ],
   "source": [
    "square = [[0, 0], [1, 0], [1, 1], [0, 1]]\n",
    "tx, ty = -1, 2\n",
    "\n",
    "print('Input:')\n",
    "print('import numpy as np\\n\\\n",
    "square = [[0, 0], [1, 0], [1, 1], [0, 1]]\\n\\\n",
    "tx, ty = -1, 2\\n\\\n",
    "print(translate_object(square, tx, ty))')\n",
    "print()\n",
    "print('Output:')\n",
    "print(translate_object(square, tx, ty))\n",
    "print()\n",
    "print('Expected:')\n",
    "print('[[-1.0, 2.0], [0.0, 2.0], [0.0, 3.0], [-1.0, 3.0]]')"
   ]
  }
 ],
 "metadata": {
  "kernelspec": {
   "display_name": "llm",
   "language": "python",
   "name": "python3"
  },
  "language_info": {
   "codemirror_mode": {
    "name": "ipython",
    "version": 3
   },
   "file_extension": ".py",
   "mimetype": "text/x-python",
   "name": "python",
   "nbconvert_exporter": "python",
   "pygments_lexer": "ipython3",
   "version": "3.12.3"
  }
 },
 "nbformat": 4,
 "nbformat_minor": 2
}
