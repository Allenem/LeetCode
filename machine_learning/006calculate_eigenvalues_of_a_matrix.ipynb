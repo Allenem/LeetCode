{
 "cells": [
  {
   "cell_type": "markdown",
   "metadata": {},
   "source": [
    "# Calculate Eigenvalues of a Matrix (medium)\n",
    "\n",
    "Write a Python function that calculates the eigenvalues of a 2x2 matrix. The function should return a list containing the eigenvalues, sort values from highest to lowest.\n",
    "\n",
    "Example:\n",
    "```python\n",
    "input: matrix = [[2, 1], [1, 2]]\n",
    "output: [3.0, 1.0]\n",
    "```\n",
    "reasoning: The eigenvalues of the matrix are calculated using the characteristic equation of the matrix, which for a 2x2 matrix is $\\lambda^2 - \\text{trace}(A)\\lambda + \\text{det}(A) = 0$, where $\\lambda$ are the eigenvalues."
   ]
  },
  {
   "cell_type": "markdown",
   "metadata": {},
   "source": [
    "## Calculate Eigenvalues\n",
    "\n",
    "Eigenvalues of a matrix offer significant insight into the matrix's behavior, particularly in the context of linear transformations and systems of linear equations.\n",
    "\n",
    "## Definition\n",
    "\n",
    "For a square matrix $\\mathbf{A}$, eigenvalues are scalars $\\lambda$ that satisfy the equation for some non-zero vector $\\mathbf{v}$ (eigenvector):\n",
    "\n",
    "$$\\mathbf{A}\\mathbf{v} = \\lambda\\mathbf{v}$$\n",
    "\n",
    "## Calculation for a 2x2 Matrix\n",
    "\n",
    "The eigenvalues of a 2x2 matrix $\\mathbf{A}$, given by:\n",
    "\n",
    "$$\\mathbf{A} = \\begin{bmatrix} a & b \\\\ c & d \\end{bmatrix}$$ \n",
    " \n",
    "are determined by solving the characteristic equation:\n",
    "\n",
    "$$\\text{det}(\\mathbf{A} - \\lambda\\mathbf{I}) = 0$$\n",
    "\n",
    "This simplifies to a quadratic equation:\n",
    "\n",
    "$$\\lambda^2 - \\text{tr}(\\mathbf{A})\\lambda + \\text{det}(\\mathbf{A}) = 0$$\n",
    "Here, the trace of $\\mathbf{A}$ denoted as $\\text{tr}(\\mathbf{A})$, is $a + d$, and the determinant of $\\mathbf{A}$, denoted as $\\text{det}(\\mathbf{A})$, is $ad - bc$.Solving this equation yields the eigenvalues, $\\lambda_1$ and $\\lambda_2$.\n",
    "\n",
    "## Significance\n",
    "\n",
    "Understanding eigenvalues is essential for analyzing the effects of linear transformations represented by the matrix. They are crucial in various applications, including stability analysis, vibration analysis, and Principal Component Analysis (PCA) in machine learning."
   ]
  },
  {
   "cell_type": "code",
   "execution_count": 1,
   "metadata": {},
   "outputs": [],
   "source": [
    "def calculate_eigenvalues(matrix: list[list[float|int]]) -> list[float]:\n",
    "    a, b, c, d = matrix[0][0], matrix[0][1], matrix[1][0], matrix[1][1]\n",
    "    eigenvalues = []\n",
    "    eigenvalues.append((a + d + ((a + d)**2 - 4*1*(a*d-b*c))**0.5)/2)\n",
    "    eigenvalues.append((a + d - ((a + d)**2 - 4*1*(a*d-b*c))**0.5)/2)\n",
    "    return eigenvalues"
   ]
  },
  {
   "cell_type": "code",
   "execution_count": 2,
   "metadata": {},
   "outputs": [
    {
     "name": "stdout",
     "output_type": "stream",
     "text": [
      "Test Case 1: Accepted\n",
      "Input:\n",
      "print(calculate_eigenvalues([[2, 1], [1, 2]]))\n",
      "\n",
      "Output:\n",
      "[3.0, 1.0]\n",
      "\n",
      "Expected:\n",
      "[3.0, 1.0]\n"
     ]
    }
   ],
   "source": [
    "print('Test Case 1: Accepted') if calculate_eigenvalues([[2, 1], [1, 2]]) == [3.0, 1.0] else print('Test Case 1: Rejected')\n",
    "print('Input:')\n",
    "print('print(calculate_eigenvalues([[2, 1], [1, 2]]))')\n",
    "print()\n",
    "print('Output:')\n",
    "print(calculate_eigenvalues([[2, 1], [1, 2]]))\n",
    "print()\n",
    "print('Expected:')\n",
    "print('[3.0, 1.0]')"
   ]
  },
  {
   "cell_type": "code",
   "execution_count": 3,
   "metadata": {},
   "outputs": [
    {
     "name": "stdout",
     "output_type": "stream",
     "text": [
      "Test Case 2: Accepted\n",
      "Input:\n",
      "print(calculate_eigenvalues([[4, -2], [1, 1]]))\n",
      "\n",
      "Output:\n",
      "[3.0, 2.0]\n",
      "\n",
      "Expected:\n",
      "[3.0, 2.0]\n"
     ]
    }
   ],
   "source": [
    "print('Test Case 2: Accepted') if calculate_eigenvalues([[4, -2], [1, 1]]) == [3.0, 2.0] else print('Test Case 2: Rejected')\n",
    "print('Input:')\n",
    "print('print(calculate_eigenvalues([[4, -2], [1, 1]]))')\n",
    "print()\n",
    "print('Output:')\n",
    "print(calculate_eigenvalues([[4, -2], [1, 1]]))\n",
    "print()\n",
    "print('Expected:')\n",
    "print('[3.0, 2.0]')"
   ]
  }
 ],
 "metadata": {
  "kernelspec": {
   "display_name": "llm",
   "language": "python",
   "name": "python3"
  },
  "language_info": {
   "codemirror_mode": {
    "name": "ipython",
    "version": 3
   },
   "file_extension": ".py",
   "mimetype": "text/x-python",
   "name": "python",
   "nbconvert_exporter": "python",
   "pygments_lexer": "ipython3",
   "version": "3.12.3"
  }
 },
 "nbformat": 4,
 "nbformat_minor": 2
}
