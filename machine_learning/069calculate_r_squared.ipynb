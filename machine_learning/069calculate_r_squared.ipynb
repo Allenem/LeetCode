{
 "cells": [
  {
   "cell_type": "markdown",
   "metadata": {},
   "source": [
    "# Calculate R-squared for Regression Analysis\n",
    "\n",
    "Task: Compute the R-squared Value in Regression Analysis\n",
    "\n",
    "R-squared, also known as the coefficient of determination, is a measure that indicates how well the independent variables explain the variability of the dependent variable in a regression model.\n",
    "\n",
    "Your Task: To implement the function r_squared(y_true, y_pred) that calculates the R-squared value, given arrays of true values y_true and predicted values y_pred.\n",
    "\n",
    "Example:\n",
    "\n",
    "```python\n",
    "Input:\n",
    "import numpy as np\n",
    "\n",
    "y_true = np.array([1, 2, 3, 4, 5])\n",
    "y_pred = np.array([1.1, 2.1, 2.9, 4.2, 4.8])\n",
    "print(r_squared(y_true, y_pred))\n",
    "\n",
    "Output:\n",
    "0.989\n",
    "```\n",
    "\n",
    "Reasoning:\n",
    "\n",
    "The R-squared value is calculated to be 0.989, indicating that the regression model explains 98.9% of the variance in the dependent variable.\n",
    "\n",
    "## Learn About topic\n",
    "\n",
    "Understanding R-squared (RÂ²) in Regression Analysis\n",
    "\n",
    "R-squared, also known as the coefficient of determination, is a statistical measure that represents the proportion of the variance for a dependent variable that's explained by an independent variable or variables in a regression model. It provides insight into how well the model fits the data.\n",
    "\n",
    "## Mathematical Definition\n",
    "\n",
    "The R-squared value is calculated using the following formula:\n",
    "\n",
    "$$ R^2 = 1 - \\frac{SSR}{SST} $$\n",
    "\n",
    "Where:\n",
    "\n",
    "- SSR (Sum of Squared Residuals): The sum of the squares of the differences between the actual values and the predicted values.\n",
    "- SST (Total Sum of Squares): The sum of the squares of the differences between the actual values and the mean of the actual values.\n",
    "\n",
    "## Equations for SSR and SST\n",
    "\n",
    "To calculate SSR and SST, we use the following formulas:\n",
    "\n",
    "$$ SSR = \\sum_{i=1}^{n} (y_i - \\hat{y_i})^2 $$\n",
    "$$ SST = \\sum_{i=1}^{n} (y_i - \\bar{y})^2 $$\n",
    " \n",
    "Where:\n",
    "\n",
    "- n is the number of observations.\n",
    "- $y_i$ is the actual value at index i.\n",
    "- $\\hat{y_i}$ is the predicted value at index i.\n",
    "- $\\bar{y}$ is the mean of the actual values.\n",
    "\n",
    "## Significance of R-squared\n",
    "\n",
    "R-squared is a key metric for evaluating how well a regression model performs. A higher R-squared value indicates a better fit for the model, meaning it can explain more variability in the data. However, it's important to note:\n",
    "\n",
    "- A high R-squared does not always imply that the model is good; it can sometimes be misleading if overfitting occurs.\n",
    "- It should be used in conjunction with other metrics for comprehensive model evaluation.\n",
    "\n",
    "## Implementing R-squared Calculation\n",
    "\n",
    "In this problem, you will implement a function to calculate R-squared given arrays of true and predicted values from a regression task. The results should be rounded to three decimal places.\n",
    "\n",
    "In the solution, the implemented `r_squared()` function calculates R-squared by first determining SSR and SST, then applying them to compute $R^2$. It handles edge cases such as perfect predictions and situations where all true values are identical.\n",
    "\n",
    "## Reference\n",
    "\n",
    "You can refer to this resource for more information:\n",
    "\n",
    "[Coefficient of Determination](https://www.ncl.ac.uk/webtemplate/ask-assets/external/maths-resources/statistics/regression-and-correlation/coefficient-of-determination-r-squared.html)"
   ]
  },
  {
   "cell_type": "code",
   "execution_count": 1,
   "metadata": {},
   "outputs": [],
   "source": [
    "import numpy as np\n",
    "\n",
    "def r_squared(y_true, y_pred):\n",
    "\tSSR = sum((y1i - y2i)**2 for y1i, y2i in zip(y_true, y_pred))\n",
    "\ty_  = np.average(y_true)\n",
    "\tSST = sum((y1i - y_)**2 for y1i in y_true)\n",
    "\treturn 1 - SSR / SST"
   ]
  },
  {
   "cell_type": "code",
   "execution_count": 2,
   "metadata": {},
   "outputs": [
    {
     "name": "stdout",
     "output_type": "stream",
     "text": [
      "1.0\n"
     ]
    }
   ],
   "source": [
    "import numpy as np \n",
    "y_true = np.array([1, 2, 3, 4, 5]) \n",
    "y_pred = np.array([1, 2, 3, 4, 5]) \n",
    "print(r_squared(y_true, y_pred))"
   ]
  },
  {
   "cell_type": "code",
   "execution_count": 3,
   "metadata": {},
   "outputs": [
    {
     "name": "stdout",
     "output_type": "stream",
     "text": [
      "0.989\n"
     ]
    }
   ],
   "source": [
    "import numpy as np \n",
    "y_true = np.array([1, 2, 3, 4, 5]) \n",
    "y_pred = np.array([1.1, 2.1, 2.9, 4.2, 4.8]) \n",
    "print(r_squared(y_true, y_pred))"
   ]
  }
 ],
 "metadata": {
  "kernelspec": {
   "display_name": "llm",
   "language": "python",
   "name": "python3"
  },
  "language_info": {
   "codemirror_mode": {
    "name": "ipython",
    "version": 3
   },
   "file_extension": ".py",
   "mimetype": "text/x-python",
   "name": "python",
   "nbconvert_exporter": "python",
   "pygments_lexer": "ipython3",
   "version": "3.12.3"
  }
 },
 "nbformat": 4,
 "nbformat_minor": 2
}
