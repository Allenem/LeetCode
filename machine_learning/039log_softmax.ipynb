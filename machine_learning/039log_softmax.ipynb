{
 "cells": [
  {
   "cell_type": "markdown",
   "metadata": {},
   "source": [
    "# Implementation of Log Softmax Function\n",
    "\n",
    "In machine learning and statistics, the softmax function is a generalization of the logistic function that converts a vector of scores into probabilities. The log-softmax function is the logarithm of the softmax function, and it is often used for numerical stability when computing the softmax of large numbers. Given a 1D numpy array of scores, implement a Python function to compute the log-softmax of the array.\n",
    "\n",
    "Example:\n",
    "```python\n",
    "A = np.array([1, 2, 3])\n",
    "print(log_softmax(A))\n",
    "\n",
    "Output:\n",
    "array([-2.4076, -1.4076, -0.4076])\n",
    "```\n",
    "\n",
    "## Understanding Log Softmax Function\n",
    "\n",
    "The log softmax function is a numerically stable way of calculating the logarithm of the softmax function. The softmax function converts a vector of arbitrary values (logits) into a vector of probabilities, where each value lies between 0 and 1, and the values sum to 1. The softmax function is given by:\n",
    "\n",
    "$$softmax(x_i) = \\frac{e^{x_i}}{\\sum_{j=1}^{n} e^{x_j}}$$ \n",
    " \n",
    "However, directly applying the logarithm to the softmax function can lead to numerical instability, especially when dealing with large numbers. To prevent this, we use the log-softmax function, which incorporates a shift by subtracting the maximum value from the input vector:\n",
    "\n",
    "$$log\\_softmax(x_i) = x_i - max(x) - \\log(\\sum_{j=1}^{n} e^{x_j - max(x)})$$\n",
    "\n",
    "This formulation helps to avoid overflow issues that can occur when exponentiating large numbers. The log-softmax function is particularly useful in machine learning for calculating probabilities in a stable manner, especially when used with cross-entropy loss functions."
   ]
  },
  {
   "cell_type": "code",
   "execution_count": null,
   "metadata": {},
   "outputs": [],
   "source": [
    "import numpy as np\n",
    "\n",
    "def log_softmax(scores: list) -> np.ndarray:\n",
    "    ma = max(scores)\n",
    "    logsum = np.log(sum(np.exp(x - ma) for x in scores))\n",
    "    return np.array([round(x - ma - logsum, 4) for x in scores])"
   ]
  },
  {
   "cell_type": "code",
   "execution_count": 4,
   "metadata": {},
   "outputs": [
    {
     "name": "stdout",
     "output_type": "stream",
     "text": [
      "Test Case 1: Accepted\n",
      "Input:\n",
      "print(log_softmax([1, 2, 3]))\n",
      "\n",
      "Output:\n",
      "[-2.4076 -1.4076 -0.4076]\n",
      "\n",
      "Expected:\n",
      "[-2.4076, -1.4076, -0.4076]\n",
      "\n",
      "\n",
      "Test Case 2: Accepted\n",
      "Input:\n",
      "print(log_softmax([1, 1, 1]))\n",
      "\n",
      "Output:\n",
      "[-1.0986 -1.0986 -1.0986]\n",
      "\n",
      "Expected:\n",
      "[-1.0986, -1.0986, -1.0986]\n",
      "\n",
      "\n",
      "Test Case 3: Accepted\n",
      "Input:\n",
      "print(log_softmax([1, 1, .0000001]))\n",
      "\n",
      "Output:\n",
      "[-0.862 -0.862 -1.862]\n",
      "\n",
      "Expected:\n",
      "[-0.862, -0.862, -1.862]\n"
     ]
    }
   ],
   "source": [
    "print('Test Case 1: Accepted') if np.allclose(log_softmax([1, 2, 3]), [-2.4076, -1.4076, -0.4076]) else print('Test Case 1: Rejected')\n",
    "print('Input:')\n",
    "print('print(log_softmax([1, 2, 3]))')\n",
    "print()\n",
    "print('Output:')\n",
    "print(log_softmax([1, 2, 3]))\n",
    "print()\n",
    "print('Expected:')\n",
    "print('[-2.4076, -1.4076, -0.4076]')\n",
    "print()\n",
    "print()\n",
    "\n",
    "print('Test Case 2: Accepted') if np.allclose(log_softmax([1, 1, 1]), [-1.0986, -1.0986, -1.0986]) else print('Test Case 2: Rejected')\n",
    "print('Input:')\n",
    "print('print(log_softmax([1, 1, 1]))')\n",
    "print()\n",
    "print('Output:')\n",
    "print(log_softmax([1, 1, 1]))\n",
    "print()\n",
    "print('Expected:')\n",
    "print('[-1.0986, -1.0986, -1.0986]')\n",
    "print()\n",
    "print()\n",
    "\n",
    "print('Test Case 3: Accepted') if np.allclose(log_softmax([1, 1, .0000001]), [-0.862, -0.862, -1.862]) else print('Test Case 3: Rejected')\n",
    "print('Input:')\n",
    "print('print(log_softmax([1, 1, .0000001]))')\n",
    "print()\n",
    "print('Output:')\n",
    "print(log_softmax([1, 1, .0000001]))\n",
    "print()\n",
    "print('Expected:')\n",
    "print('[-0.862, -0.862, -1.862]')"
   ]
  }
 ],
 "metadata": {
  "kernelspec": {
   "display_name": "llm",
   "language": "python",
   "name": "python3"
  },
  "language_info": {
   "codemirror_mode": {
    "name": "ipython",
    "version": 3
   },
   "file_extension": ".py",
   "mimetype": "text/x-python",
   "name": "python",
   "nbconvert_exporter": "python",
   "pygments_lexer": "ipython3",
   "version": "3.12.3"
  }
 },
 "nbformat": 4,
 "nbformat_minor": 2
}
