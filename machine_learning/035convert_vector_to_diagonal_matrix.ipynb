{
 "cells": [
  {
   "cell_type": "markdown",
   "metadata": {},
   "source": [
    "# Convert Vector to Diagonal Matrix\n",
    "\n",
    "Write a Python function to convert a 1D numpy array into a diagonal matrix. The function should take in a 1D numpy array x and return a 2D numpy array representing the diagonal matrix.\n",
    "\n",
    "Example:\n",
    "```python\n",
    "    x = np.array([1, 2, 3])\n",
    "    output = make_diagonal(x)\n",
    "    print(output)\n",
    "    # Output:\n",
    "    # [[1. 0. 0.]\n",
    "    #  [0. 2. 0.]\n",
    "    #  [0. 0. 3.]]\n",
    "    \n",
    "    Reasoning:\n",
    "    The input vector [1, 2, 3] is converted into a diagonal matrix where the elements of the vector form the diagonal of the matrix.\n",
    "```"
   ]
  },
  {
   "cell_type": "markdown",
   "metadata": {},
   "source": [
    "## Understanding Diagonal Matrices\n",
    "\n",
    "A diagonal matrix is a square matrix in which the entries outside the main diagonal are all zero. The main diagonal is the set of entries extending from the top left to the bottom right of the matrix.\n",
    "\n",
    "In this problem, you will write a function to convert a 1D numpy array (vector) into a diagonal matrix. The resulting matrix will have the elements of the input vector on its main diagonal, and zeros elsewhere.\n",
    "\n",
    "Given a vector $x = [x_1, x_2, ..., x_n]$, the corresponding diagonal matrix $D$ is:\n",
    "\n",
    "$$\n",
    "D = \\begin{bmatrix}\n",
    "x_1 & 0 & \\cdots & 0 \\\\\n",
    "0 & x_2 & \\cdots & 0 \\\\\n",
    "\\vdots & \\vdots & \\ddots & \\vdots \\\\\n",
    "0 & 0 & \\cdots & x_n\n",
    "\\end{bmatrix}\n",
    "$$ \n",
    " \n",
    "Diagonal matrices are important in various mathematical and scientific computations because of their simple structure and properties."
   ]
  },
  {
   "cell_type": "code",
   "execution_count": 1,
   "metadata": {},
   "outputs": [],
   "source": [
    "import numpy as np\n",
    "\n",
    "def make_diagonal(x):\n",
    "    identity_matrix = np.identity(np.size(x))\n",
    "    return (identity_matrix*x)"
   ]
  },
  {
   "cell_type": "code",
   "execution_count": 2,
   "metadata": {},
   "outputs": [
    {
     "name": "stdout",
     "output_type": "stream",
     "text": [
      "Test Case 1: Accepted\n",
      "Input:\n",
      "print(make_diagonal(np.array([1, 2, 3])))\n",
      "\n",
      "Output:\n",
      "[[1. 0. 0.]\n",
      " [0. 2. 0.]\n",
      " [0. 0. 3.]]\n",
      "\n",
      "Expected:\n",
      "[[1., 0., 0.], [0., 2., 0.], [0., 0., 3.]]\n",
      "\n",
      "\n",
      "Test Case 2: Accepted\n",
      "Input:\n",
      "print(make_diagonal(np.array([4, 5, 6, 7])))\n",
      "\n",
      "Output:\n",
      "[[4. 0. 0. 0.]\n",
      " [0. 5. 0. 0.]\n",
      " [0. 0. 6. 0.]\n",
      " [0. 0. 0. 7.]]\n",
      "\n",
      "Expected:\n",
      "[[4., 0., 0., 0.], [0., 5., 0., 0.], [0., 0., 6., 0.], [0., 0., 0., 7.]]\n"
     ]
    }
   ],
   "source": [
    "print('Test Case 1: Accepted') if np.array_equal(make_diagonal(np.array([1, 2, 3])), np.array([[1., 0., 0.], [0., 2., 0.], [0., 0., 3.]])) else print('Test Case 1: Rejected')\n",
    "print('Input:')\n",
    "print('print(make_diagonal(np.array([1, 2, 3])))')\n",
    "print()\n",
    "print('Output:')\n",
    "print(make_diagonal(np.array([1, 2, 3])))\n",
    "print()\n",
    "print('Expected:')\n",
    "print('[[1., 0., 0.], [0., 2., 0.], [0., 0., 3.]]')\n",
    "print()\n",
    "print()\n",
    "\n",
    "print('Test Case 2: Accepted') if np.array_equal(make_diagonal(np.array([4, 5, 6, 7])), np.array([[4., 0., 0., 0.], [0., 5., 0., 0.], [0., 0., 6., 0.], [0., 0., 0., 7.]])) else print('Test Case 2: Rejected')\n",
    "print('Input:')\n",
    "print('print(make_diagonal(np.array([4, 5, 6, 7])))')\n",
    "print()\n",
    "print('Output:')\n",
    "print(make_diagonal(np.array([4, 5, 6, 7])))\n",
    "print()\n",
    "print('Expected:')\n",
    "print('[[4., 0., 0., 0.], [0., 5., 0., 0.], [0., 0., 6., 0.], [0., 0., 0., 7.]]')"
   ]
  }
 ],
 "metadata": {
  "kernelspec": {
   "display_name": "llm",
   "language": "python",
   "name": "python3"
  },
  "language_info": {
   "codemirror_mode": {
    "name": "ipython",
    "version": 3
   },
   "file_extension": ".py",
   "mimetype": "text/x-python",
   "name": "python",
   "nbconvert_exporter": "python",
   "pygments_lexer": "ipython3",
   "version": "3.12.3"
  }
 },
 "nbformat": 4,
 "nbformat_minor": 2
}
