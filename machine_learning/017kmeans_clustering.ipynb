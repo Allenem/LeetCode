{
 "cells": [
  {
   "cell_type": "markdown",
   "metadata": {},
   "source": [
    "# K-Means Clustering (medium)\n",
    "\n",
    "Your task is to write a Python function that implements the k-Means clustering algorithm. This function should take specific inputs and produce a list of final centroids. k-Means clustering is a method used to partition n points into k clusters. The goal is to group similar points together and represent each group by its center (called the centroid).\n",
    "\n",
    "Function Inputs:\n",
    "\n",
    "- points: A list of points, where each point is a tuple of coordinates (e.g., (x, y) for 2D points)\n",
    "- k: An integer representing the number of clusters to form\n",
    "- initial_centroids: A list of initial centroid points, each a tuple of coordinates\n",
    "- max_iterations: An integer representing the maximum number of iterations to perform\n",
    "\n",
    "Function Output:\n",
    "\n",
    "A list of the final centroids of the clusters, where each centroid is rounded to the nearest fourth decimal.\n",
    "\n",
    "Example:\n",
    "```\n",
    "        input: points = [(1, 2), (1, 4), (1, 0), (10, 2), (10, 4), (10, 0)], k = 2, initial_centroids = [(1, 1), (10, 1)], max_iterations = 10\n",
    "        output: [(1, 2), (10, 2)]\n",
    "        reasoning: Given the initial centroids and a maximum of 10 iterations,\n",
    "        the points are clustered around these points, and the centroids are\n",
    "        updated to the mean of the assigned points, resulting in the final\n",
    "        centroids which approximate the means of the two clusters.\n",
    "        The exact number of iterations needed may vary,\n",
    "        but the process will stop after 10 iterations at most.\n",
    "```"
   ]
  },
  {
   "cell_type": "markdown",
   "metadata": {},
   "source": [
    "## K-Means Clustering Algorithm Implementation\n",
    "\n",
    "Algorithm Steps:\n",
    "\n",
    "1. Initialization\n",
    "\n",
    "   Use the provided `initial_centroids` as your starting point. This step is already done for you in the input.\n",
    "\n",
    "2. Assignment Step\n",
    "\n",
    "   For each point in your dataset:\n",
    "\n",
    "   - Calculate its distance to each centroid (Hint: use [Euclidean distance](https://en.wikipedia.org/wiki/Euclidean_distance).)\n",
    "   - Assign the point to the cluster of the nearest centroid\n",
    "\n",
    "   Hint: Consider creating a helper function to calculate Euclidean distance between two points.\n",
    "\n",
    "3. Update Step\n",
    "\n",
    "   For each cluster:\n",
    "\n",
    "   - Calculate the mean of all points assigned to the cluster\n",
    "   - Update the centroid to this new mean position\n",
    "\n",
    "   Hint: Be careful with potential empty clusters. Decide how you'll handle them (e.g., keep the previous centroid).\n",
    "\n",
    "4. Iteration\n",
    "\n",
    "   Repeat steps 2 and 3 until either:\n",
    "\n",
    "   - The centroids no longer change significantly (this case does not need to be included in your solution), or\n",
    "   - You reach the `max_iterations` limit\n",
    "\n",
    "   Hint: You might want to keep track of the previous centroids to check for significant changes.\n",
    "\n",
    "5. Result\n",
    "\n",
    "   Return the list of final centroids, ensuring each coordinate is rounded to the nearest fourth decimal.\n",
    "\n",
    "References:\n",
    "\n",
    "For a visual understanding of how k-Means clustering works, check out this [helpful YouTube video](https://youtu.be/KzJORp8bgqs?si=BBrGGuCAWt_AA8QV)."
   ]
  },
  {
   "cell_type": "code",
   "execution_count": 1,
   "metadata": {},
   "outputs": [],
   "source": [
    "import numpy as np\n",
    "\n",
    "def euclidean_distance(a, b):\n",
    "\treturn np.sqrt(((a - b)**2).sum(axis=1))\n",
    "\n",
    "def k_means_clustering(points: list[tuple[float, float]], k: int, initial_centroids: list[tuple[float, float]], max_iterations: int) -> list[tuple[float, float]]:\n",
    "    points = np.array(points)\n",
    "    centroids = np.array(initial_centroids)\n",
    "    \n",
    "    for _ in range(max_iterations):\n",
    "\n",
    "        # Assign points to the nearest centroid\n",
    "        distances = np.array([euclidean_distance(points, centroid) for centroid in centroids])\n",
    "        assignments = np.argmin(distances, axis=0)\n",
    "\n",
    "        new_centroids = np.array([points[assignments == i].mean(axis=0) if len(points[assignments == i]) > 0 else centroids[i] for i in range(k)])\n",
    "\n",
    "\t\t# Check for convergence\n",
    "        if np.all(centroids == new_centroids):\n",
    "            break\n",
    "        centroids = new_centroids\n",
    "        centroids = np.round(centroids, 4)\n",
    "\t\n",
    "    return [tuple(centroid) for centroid in centroids]"
   ]
  },
  {
   "cell_type": "code",
   "execution_count": 2,
   "metadata": {},
   "outputs": [
    {
     "name": "stdout",
     "output_type": "stream",
     "text": [
      "Input:\n",
      "print(k_means_clustering([(1, 2), (1, 4), (1, 0), (10, 2), (10, 4), (10, 0)], 2, [(1, 1), (10, 1)], 10)))\n",
      "\n",
      "Output:\n",
      "[(1.0, 2.0), (10.0, 2.0)]\n",
      "\n",
      "Expected:\n",
      "[(1.0, 2.0), (10.0, 2.0)]\n"
     ]
    }
   ],
   "source": [
    "print('Input:')\n",
    "print('print(k_means_clustering([(1, 2), (1, 4), (1, 0), (10, 2), (10, 4), (10, 0)], 2, [(1, 1), (10, 1)], 10)))')\n",
    "print()\n",
    "print('Output:')\n",
    "print(k_means_clustering([(1, 2), (1, 4), (1, 0), (10, 2), (10, 4), (10, 0)], 2, [(1, 1), (10, 1)], 10))\n",
    "print()\n",
    "print('Expected:')\n",
    "print('[(1.0, 2.0), (10.0, 2.0)]')"
   ]
  },
  {
   "cell_type": "code",
   "execution_count": 3,
   "metadata": {},
   "outputs": [
    {
     "name": "stdout",
     "output_type": "stream",
     "text": [
      "Input:\n",
      "print(k_means_clustering([(0, 0, 0), (2, 2, 2), (1, 1, 1), (9, 10, 9), (10, 11, 10), (12, 11, 12)], 2, [(1, 1, 1), (10, 10, 10)], 10))\n",
      "\n",
      "Output:\n",
      "[(1.0, 1.0, 1.0), (10.3333, 10.6667, 10.3333)]\n",
      "\n",
      "Expected:\n",
      "[(1.0, 1.0, 1.0), (10.3333, 10.6667, 10.3333)]\n"
     ]
    }
   ],
   "source": [
    "print('Input:')\n",
    "print('print(k_means_clustering([(0, 0, 0), (2, 2, 2), (1, 1, 1), (9, 10, 9), (10, 11, 10), (12, 11, 12)], 2, [(1, 1, 1), (10, 10, 10)], 10))')\n",
    "print()\n",
    "print('Output:')\n",
    "print(k_means_clustering([(0, 0, 0), (2, 2, 2), (1, 1, 1), (9, 10, 9), (10, 11, 10), (12, 11, 12)], 2, [(1, 1, 1), (10, 10, 10)], 10))\n",
    "print()\n",
    "print('Expected:')\n",
    "print('[(1.0, 1.0, 1.0), (10.3333, 10.6667, 10.3333)]')"
   ]
  },
  {
   "cell_type": "code",
   "execution_count": 4,
   "metadata": {},
   "outputs": [
    {
     "name": "stdout",
     "output_type": "stream",
     "text": [
      "Input:\n",
      "print(k_means_clustering([(1, 1), (2, 2), (3, 3), (4, 4)], 1, [(0,0)], 10))\n",
      "\n",
      "Output:\n",
      "[(2.5, 2.5)]\n",
      "\n",
      "Expected:\n",
      "[(2.5, 2.5)]\n"
     ]
    }
   ],
   "source": [
    "print('Input:')\n",
    "print('print(k_means_clustering([(1, 1), (2, 2), (3, 3), (4, 4)], 1, [(0,0)], 10))')\n",
    "print()\n",
    "print('Output:')\n",
    "print(k_means_clustering([(1, 1), (2, 2), (3, 3), (4, 4)], 1, [(0,0)], 10))\n",
    "print()\n",
    "print('Expected:')\n",
    "print('[(2.5, 2.5)]')"
   ]
  },
  {
   "cell_type": "code",
   "execution_count": 5,
   "metadata": {},
   "outputs": [
    {
     "name": "stdout",
     "output_type": "stream",
     "text": [
      "Input:\n",
      "print(k_means_clustering([(0, 0), (1, 0), (0, 1), (1, 1), (5, 5), (6, 5), (5, 6), (6, 6),(0, 5), (1, 5), (0, 6), (1, 6), (5, 0), (6, 0), (5, 1), (6, 1)], 4, [(0, 0), (0, 5), (5, 0), (5, 5)], 10))\n",
      "\n",
      "Output:\n",
      "[(0.5, 0.5), (0.5, 5.5), (5.5, 0.5), (5.5, 5.5)]\n",
      "\n",
      "Expected:\n",
      "[(0.5, 0.5), (0.5, 5.5), (5.5, 0.5), (5.5, 5.5)]\n"
     ]
    }
   ],
   "source": [
    "print('Input:')\n",
    "print('print(k_means_clustering([(0, 0), (1, 0), (0, 1), (1, 1), (5, 5), (6, 5), (5, 6), (6, 6),(0, 5), (1, 5), (0, 6), (1, 6), (5, 0), (6, 0), (5, 1), (6, 1)], 4, [(0, 0), (0, 5), (5, 0), (5, 5)], 10))')\n",
    "print()\n",
    "print('Output:')\n",
    "print(k_means_clustering([(0, 0), (1, 0), (0, 1), (1, 1), (5, 5), (6, 5), (5, 6), (6, 6),(0, 5), (1, 5), (0, 6), (1, 6), (5, 0), (6, 0), (5, 1), (6, 1)], 4, [(0, 0), (0, 5), (5, 0), (5, 5)], 10))\n",
    "print()\n",
    "print('Expected:')\n",
    "print('[(0.5, 0.5), (0.5, 5.5), (5.5, 0.5), (5.5, 5.5)]')"
   ]
  },
  {
   "cell_type": "code",
   "execution_count": 6,
   "metadata": {},
   "outputs": [
    {
     "name": "stdout",
     "output_type": "stream",
     "text": [
      "Input:\n",
      "print(k_means_clustering([(0, 0), (0.5, 0), (0, 0.5), (0.5, 0.5), (4, 4), (6, 6)], 2, [(0, 0), (5, 5)], 10))\n",
      "\n",
      "Output:\n",
      "[(0.25, 0.25), (5.0, 5.0)]\n",
      "\n",
      "Expected:\n",
      "[(0.25, 0.25), (5.0, 5.0)]\n"
     ]
    }
   ],
   "source": [
    "print('Input:')\n",
    "print('print(k_means_clustering([(0, 0), (0.5, 0), (0, 0.5), (0.5, 0.5), (4, 4), (6, 6)], 2, [(0, 0), (5, 5)], 10))')\n",
    "print()\n",
    "print('Output:')\n",
    "print(k_means_clustering([(0, 0), (0.5, 0), (0, 0.5), (0.5, 0.5), (4, 4), (6, 6)], 2, [(0, 0), (5, 5)], 10))\n",
    "print()\n",
    "print('Expected:')\n",
    "print('[(0.25, 0.25), (5.0, 5.0)]')"
   ]
  }
 ],
 "metadata": {
  "kernelspec": {
   "display_name": "llm",
   "language": "python",
   "name": "python3"
  },
  "language_info": {
   "codemirror_mode": {
    "name": "ipython",
    "version": 3
   },
   "file_extension": ".py",
   "mimetype": "text/x-python",
   "name": "python",
   "nbconvert_exporter": "python",
   "pygments_lexer": "ipython3",
   "version": "3.12.3"
  }
 },
 "nbformat": 4,
 "nbformat_minor": 2
}
