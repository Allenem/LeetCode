{
 "cells": [
  {
   "cell_type": "markdown",
   "metadata": {},
   "source": [
    "# Transformation Matrix from Basis B to C\n",
    "Given basis vectors in two different bases B and C for R^3, write a Python function to compute the transformation matrix P from basis B to C.\n",
    "\n",
    "Example:\n",
    "```python\n",
    "        B = [[1, 0, 0], \n",
    "             [0, 1, 0], \n",
    "             [0, 0, 1]]\n",
    "        C = [[1, 2.3, 3], \n",
    "             [4.4, 25, 6], \n",
    "             [7.4, 8, 9]]\n",
    "        output: [[-0.6772, -0.0126, 0.2342],\n",
    "                [-0.0184, 0.0505, -0.0275],\n",
    "                [0.5732, -0.0345, -0.0569]]\n",
    "\n",
    "        reasoning: The transformation matrix P from basis B to C can be found using matrix operations involving the inverse of matrix C.\n",
    "```"
   ]
  },
  {
   "cell_type": "markdown",
   "metadata": {},
   "source": [
    "## Understanding Transformation Matrices\n",
    "\n",
    "A transformation matrix allows us to convert the coordinates of a vector in one basis to coordinates in another basis. For bases B and C of a vector space, the transformation matrix P from B to C is calculated by:\n",
    "\n",
    "1. **Inverse of Basis C**: First, find the inverse of the matrix representing basis C, denoted as $C^-1$.\n",
    "2. **Matrix Multiplication**: Multiply $C^-1$ by the matrix of basis B. The result is the transformation matrix P, where $P = C^-1 * B$.\n",
    "\n",
    "This matrix P can be used to transform any vector coordinates from the B basis to the C basis.\n",
    "\n",
    "Resources: Change of basis | Chapter 13, Essence of linear algebra by 3Blue1Brown"
   ]
  },
  {
   "cell_type": "code",
   "execution_count": 2,
   "metadata": {},
   "outputs": [],
   "source": [
    "import numpy as np\n",
    "\n",
    "def transform_basis(B: list[list[int]], C: list[list[int]]) -> list[list[float]]:\n",
    "    B = np.array(B)\n",
    "    C = np.array(C)\n",
    "    P = np.linalg.inv(C) @ B\n",
    "    # keep 4 decimal places\n",
    "    return np.round(P, 4).tolist()"
   ]
  },
  {
   "cell_type": "code",
   "execution_count": 3,
   "metadata": {},
   "outputs": [
    {
     "name": "stdout",
     "output_type": "stream",
     "text": [
      "Test Case 1: Accepted\n",
      "Input:\n",
      "print(transform_basis([[1, 0, 0], [0, 1, 0], [0, 0, 1]], [[1, 2.3, 3], [4.4, 25, 6], [7.4, 8, 9]]))\n",
      "\n",
      "Output:\n",
      "[[-0.6772, -0.0126, 0.2342], [-0.0184, 0.0505, -0.0275], [0.5732, -0.0345, -0.0569]]\n",
      "\n",
      "Expected:\n",
      "[[-0.6772, -0.0126, 0.2342], [-0.0184, 0.0505, -0.0275], [0.5732, -0.0345, -0.0569]]\n",
      "\n",
      "\n",
      "Test Case 2: Accepted\n",
      "Input:\n",
      "print(transform_basis([[1,0],[0,1]],[[1,2],[9,2]]))\n",
      "\n",
      "Output:\n",
      "[[-0.125, 0.125], [0.5625, -0.0625]]\n",
      "\n",
      "Expected:\n",
      "[[-0.125, 0.125], [0.5625, -0.0625]]\n"
     ]
    }
   ],
   "source": [
    "print('Test Case 1: Accepted') if transform_basis([[1, 0, 0], [0, 1, 0], [0, 0, 1]], [[1, 2.3, 3], [4.4, 25, 6], [7.4, 8, 9]]) == [[-0.6772, -0.0126, 0.2342], [-0.0184, 0.0505, -0.0275], [0.5732, -0.0345, -0.0569]] else print('Test Case 1: Rejected')\n",
    "print('Input:')\n",
    "print('print(transform_basis([[1, 0, 0], [0, 1, 0], [0, 0, 1]], [[1, 2.3, 3], [4.4, 25, 6], [7.4, 8, 9]]))')\n",
    "print()\n",
    "print('Output:')\n",
    "print(transform_basis([[1, 0, 0], [0, 1, 0], [0, 0, 1]], [[1, 2.3, 3], [4.4, 25, 6], [7.4, 8, 9]]))\n",
    "print()\n",
    "print('Expected:')\n",
    "print('[[-0.6772, -0.0126, 0.2342], [-0.0184, 0.0505, -0.0275], [0.5732, -0.0345, -0.0569]]')\n",
    "print()\n",
    "print()\n",
    "\n",
    "print('Test Case 2: Accepted') if transform_basis([[1, 0], [0, 1]], [[1, 2], [9, 2]]) == [[-0.125, 0.125], [0.5625, -0.0625]] else print('Test Case 2: Rejected')\n",
    "print('Input:')\n",
    "print('print(transform_basis([[1,0],[0,1]],[[1,2],[9,2]]))')\n",
    "print()\n",
    "print('Output:')\n",
    "print(transform_basis([[1, 0], [0, 1]], [[1, 2], [9, 2]]))\n",
    "print()\n",
    "print('Expected:')\n",
    "print('[[-0.125, 0.125], [0.5625, -0.0625]]')"
   ]
  }
 ],
 "metadata": {
  "kernelspec": {
   "display_name": "llm",
   "language": "python",
   "name": "python3"
  },
  "language_info": {
   "codemirror_mode": {
    "name": "ipython",
    "version": 3
   },
   "file_extension": ".py",
   "mimetype": "text/x-python",
   "name": "python",
   "nbconvert_exporter": "python",
   "pygments_lexer": "ipython3",
   "version": "3.12.3"
  }
 },
 "nbformat": 4,
 "nbformat_minor": 2
}
