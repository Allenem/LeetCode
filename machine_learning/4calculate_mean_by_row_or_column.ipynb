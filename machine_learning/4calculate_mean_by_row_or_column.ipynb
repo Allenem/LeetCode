{
 "cells": [
  {
   "cell_type": "markdown",
   "metadata": {},
   "source": [
    "# Calculate Mean by Row or Column (easy)\n",
    "\n",
    "Write a Python function that calculates the mean of a matrix either by row or by column, based on a given mode. The function should take a matrix (list of lists) and a mode ('row' or 'column') as input and return a list of means according to the specified mode.\n",
    "\n",
    "Example1:\n",
    "```python\n",
    "        input: matrix = [[1, 2, 3], [4, 5, 6], [7, 8, 9]], mode = 'column'\n",
    "        output: [4.0, 5.0, 6.0]\n",
    "        reasoning: Calculating the mean of each column results in [(1+4+7)/3, (2+5+8)/3, (3+6+9)/3].\n",
    "```        \n",
    "Example 2:\n",
    "```python\n",
    "        input: matrix = [[1, 2, 3], [4, 5, 6], [7, 8, 9]], mode = 'row'\n",
    "        output: [2.0, 5.0, 8.0]\n",
    "        reasoning: Calculating the mean of each row results in [(1+2+3)/3, (4+5+6)/3, (7+8+9)/3].\n",
    "```\n"
   ]
  },
  {
   "cell_type": "markdown",
   "metadata": {},
   "source": [
    "## Calculate Mean by Row or Column\n",
    "\n",
    "Calculating the mean of a matrix by row or column involves averaging the elements across the specified dimension. This operation provides insights into the distribution of values within the dataset, useful for data normalization and scaling.\n",
    "\n",
    "### Row Mean\n",
    "\n",
    "The mean of a row is computed by summing all elements in the row and dividing by the number of elements. For row $i$, the mean is:\n",
    "\n",
    "$$\\mu_{row_i} = \\frac{1}{n} \\sum_{j=1}^{n} a_{ij}$$\n",
    " \n",
    "where $a_{ij}$ is the matrix element in the $i^{th}$ row and $j^{th}$ column, and $n$ is the total number of columns.\n",
    "\n",
    "### Column Mean\n",
    "\n",
    "Similarly, the mean of a column is found by summing all elements in the column and dividing by the number of elements. For column $j$, the mean is:\n",
    "\n",
    "$$\\mu_{column_j} = \\frac{1}{m} \\sum_{i=1}^{m} a_{ij}$$\n",
    "\n",
    "where $a_{ij}$ is the matrix element in the $i^{th}$ row and $j^{th}$ column, and $m$ is the total number of rows.\n",
    "\n",
    "This mathematical formulation helps in understanding how data is aggregated across different dimensions, a critical step in various data preprocessing techniques."
   ]
  },
  {
   "cell_type": "code",
   "execution_count": 1,
   "metadata": {},
   "outputs": [],
   "source": [
    "def calculate_matrix_mean(matrix: list[list[float]], mode: str) -> list[float]:\n",
    "\tm, n = len(matrix), len(matrix[0])\n",
    "\tif mode == 'column':\n",
    "\t\tmeans = [sum(matrix[i][j] for i in range(m))/m for j in range(n)]\n",
    "\tif mode == 'row':\n",
    "\t\tmeans = [sum(matrix[i][j] for j in range(n))/n for i in range(m)]\n",
    "\treturn means"
   ]
  },
  {
   "cell_type": "code",
   "execution_count": 2,
   "metadata": {},
   "outputs": [
    {
     "name": "stdout",
     "output_type": "stream",
     "text": [
      "Test Case 1: Accepted\n",
      "Input:\n",
      "print(calculate_matrix_mean([[1, 2, 3], [4, 5, 6], [7, 8, 9]], 'column'))\n",
      "\n",
      "Output:\n",
      "[4.0, 5.0, 6.0]\n",
      "\n",
      "Expected:\n",
      "[4.0, 5.0, 6.0]\n"
     ]
    }
   ],
   "source": [
    "print('Test Case 1: Accepted')\n",
    "print('Input:')\n",
    "print(\"print(calculate_matrix_mean([[1, 2, 3], [4, 5, 6], [7, 8, 9]], 'column'))\")\n",
    "print()\n",
    "print('Output:')\n",
    "print(calculate_matrix_mean([[1, 2, 3], [4, 5, 6], [7, 8, 9]], 'column'))\n",
    "print()\n",
    "print('Expected:')\n",
    "print('[4.0, 5.0, 6.0]')"
   ]
  },
  {
   "cell_type": "code",
   "execution_count": 3,
   "metadata": {},
   "outputs": [
    {
     "name": "stdout",
     "output_type": "stream",
     "text": [
      "Test Case 2: Accepted\n",
      "Input:\n",
      "print(calculate_matrix_mean([[1, 2, 3], [4, 5, 6], [7, 8, 9]], 'row'))\n",
      "\n",
      "Output:\n",
      "[2.0, 5.0, 8.0]\n",
      "\n",
      "Expected:\n",
      "[2.0, 5.0, 8.0]\n"
     ]
    }
   ],
   "source": [
    "print('Test Case 2: Accepted')\n",
    "print('Input:')\n",
    "print(\"print(calculate_matrix_mean([[1, 2, 3], [4, 5, 6], [7, 8, 9]], 'row'))\")\n",
    "print()\n",
    "print('Output:')\n",
    "print(calculate_matrix_mean([[1, 2, 3], [4, 5, 6], [7, 8, 9]], 'row'))\n",
    "print()\n",
    "print('Expected:')\n",
    "print('[2.0, 5.0, 8.0]')"
   ]
  }
 ],
 "metadata": {
  "kernelspec": {
   "display_name": "llm",
   "language": "python",
   "name": "python3"
  },
  "language_info": {
   "codemirror_mode": {
    "name": "ipython",
    "version": 3
   },
   "file_extension": ".py",
   "mimetype": "text/x-python",
   "name": "python",
   "nbconvert_exporter": "python",
   "pygments_lexer": "ipython3",
   "version": "3.12.3"
  }
 },
 "nbformat": 4,
 "nbformat_minor": 2
}
