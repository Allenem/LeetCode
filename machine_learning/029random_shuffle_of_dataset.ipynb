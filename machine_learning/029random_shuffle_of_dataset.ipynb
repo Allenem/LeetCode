{
 "cells": [
  {
   "cell_type": "markdown",
   "metadata": {},
   "source": [
    "# Random Shuffle of Dataset\n",
    "\n",
    "Write a Python function to perform a random shuffle of the samples in two numpy arrays, X and y, while maintaining the corresponding order between them. The function should have an optional seed parameter for reproducibility.\n",
    "\n",
    "Example:\n",
    "```python\n",
    "    X = np.array([[1, 2], \n",
    "                  [3, 4], \n",
    "                  [5, 6], \n",
    "                  [7, 8]])\n",
    "    y = np.array([1, 2, 3, 4])\n",
    "    output: (array([[5, 6],\n",
    "                    [1, 2],\n",
    "                    [7, 8],\n",
    "                    [3, 4]]), \n",
    "             array([3, 1, 4, 2]))\n",
    "```"
   ]
  },
  {
   "cell_type": "markdown",
   "metadata": {},
   "source": [
    "## Understanding Dataset Shuffling\n",
    "\n",
    "Random shuffling of a dataset is a common preprocessing step in machine learning to ensure that the data is randomly distributed before training a model. This helps to avoid any potential biases that may arise from the order in which data is presented to the model.\n",
    "\n",
    "Here's a step-by-step method to shuffle a dataset:\n",
    "\n",
    "- **Generate a Random Index Array**: Create an array of indices corresponding to the number of samples in the dataset.\n",
    "- **Shuffle the Indices**: Use a random number generator to shuffle the array of indices.\n",
    "- **Reorder the Dataset**: Use the shuffled indices to reorder the samples in both X and y.\n",
    "\n",
    "This method ensures that the correspondence between X and y is maintained after shuffling."
   ]
  },
  {
   "cell_type": "code",
   "execution_count": 1,
   "metadata": {},
   "outputs": [],
   "source": [
    "import numpy as np\n",
    "\n",
    "def shuffle_data(X, y, seed=None):\n",
    "    if seed: np.random.seed(seed)\n",
    "    idx = np.arange(X.shape[0])\n",
    "    np.random.shuffle(idx)\n",
    "    return X[idx], y[idx]"
   ]
  },
  {
   "cell_type": "code",
   "execution_count": 4,
   "metadata": {},
   "outputs": [
    {
     "name": "stdout",
     "output_type": "stream",
     "text": [
      "Test Case 1: Accepted\n",
      "Input:\n",
      "print(shuffle_data(np.array([[1, 2], [3, 4], [5, 6], [7, 8]]), np.array([1, 2, 3, 4]), seed=42))\n",
      "\n",
      "Output:\n",
      "(array([[3, 4],\n",
      "       [7, 8],\n",
      "       [1, 2],\n",
      "       [5, 6]]), array([2, 4, 1, 3]))\n",
      "\n",
      "Expected:\n",
      "(array([[3, 4], [7, 8], [1, 2], [5, 6]]), array([2, 4, 1, 3]))\n",
      "\n",
      "\n",
      "Test Case 2: Accepted\n",
      "Input:\n",
      "print(shuffle_data(np.array([[1, 1], [2, 2], [3, 3], [4, 4]]), np.array([10, 20, 30, 40]), seed=24))\n",
      "\n",
      "Output:\n",
      "(array([[4, 4],\n",
      "       [2, 2],\n",
      "       [1, 1],\n",
      "       [3, 3]]), array([40, 20, 10, 30]))\n",
      "\n",
      "Expected:\n",
      "(array([[4, 4], [2, 2], [1, 1], [3, 3]]), array([40, 20, 10, 30]))\n"
     ]
    }
   ],
   "source": [
    "ans = shuffle_data(np.array([[1, 2], [3, 4], [5, 6], [7, 8]]), np.array([1, 2, 3, 4]), seed=42)\n",
    "print('Test Case 1: Accepted') if (ans[0].all() == np.array([[3, 4], [7, 8], [1, 2], [5, 6]]).all() and ans[1].all() == np.array([2, 4, 1, 3]).all()) else print('Test Case 1: Rejected')\n",
    "print('Input:')\n",
    "print('print(shuffle_data(np.array([[1, 2], [3, 4], [5, 6], [7, 8]]), np.array([1, 2, 3, 4]), seed=42))')\n",
    "print()\n",
    "print('Output:')\n",
    "print(ans)\n",
    "print()\n",
    "print('Expected:')\n",
    "print('(array([[3, 4], [7, 8], [1, 2], [5, 6]]), array([2, 4, 1, 3]))')\n",
    "print()\n",
    "print()\n",
    "\n",
    "ans = shuffle_data(np.array([[1, 1], [2, 2], [3, 3], [4, 4]]), np.array([10, 20, 30, 40]), seed=24)\n",
    "print('Test Case 2: Accepted') if (ans[0].all() == np.array([[4, 4], [2, 2], [1, 1], [3, 3]]).all() and ans[1].all() == np.array([40, 20, 10, 30]).all()) else print('Test Case 2: Rejected')\n",
    "print('Input:')\n",
    "print('print(shuffle_data(np.array([[1, 1], [2, 2], [3, 3], [4, 4]]), np.array([10, 20, 30, 40]), seed=24))')\n",
    "print()\n",
    "print('Output:')\n",
    "print(ans)\n",
    "print()\n",
    "print('Expected:')\n",
    "print('(array([[4, 4], [2, 2], [1, 1], [3, 3]]), array([40, 20, 10, 30]))')"
   ]
  }
 ],
 "metadata": {
  "kernelspec": {
   "display_name": "llm",
   "language": "python",
   "name": "python3"
  },
  "language_info": {
   "codemirror_mode": {
    "name": "ipython",
    "version": 3
   },
   "file_extension": ".py",
   "mimetype": "text/x-python",
   "name": "python",
   "nbconvert_exporter": "python",
   "pygments_lexer": "ipython3",
   "version": "3.12.3"
  }
 },
 "nbformat": 4,
 "nbformat_minor": 2
}
