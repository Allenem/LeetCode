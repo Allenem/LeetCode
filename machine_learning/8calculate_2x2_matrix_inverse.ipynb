{
 "cells": [
  {
   "cell_type": "markdown",
   "metadata": {},
   "source": [
    "# Calculate 2x2 Matrix Inverse (medium)\n",
    "\n",
    "Write a Python function that calculates the inverse of a 2x2 matrix. Return 'None' if the matrix is not invertible.\n",
    "\n",
    "Example:\n",
    "```python\n",
    "        input: matrix = [[4, 7], [2, 6]]\n",
    "        output: [[0.6, -0.7], [-0.2, 0.4]]\n",
    "        reasoning: The inverse of a 2x2 matrix [a, b], [c, d] is given by (1/(ad-bc)) * [d, -b], [-c, a], provided ad-bc is not zero.\n",
    "```"
   ]
  },
  {
   "cell_type": "markdown",
   "metadata": {},
   "source": [
    "## Calculating the Inverse of a 2x2 Matrix\n",
    "\n",
    "The inverse of a matrix $A$ is another matrix, often denoted $A^{-1}$, such that:\n",
    "\n",
    "$$A \\cdot A^{-1} = A^{-1} \\cdot A = I$$\n",
    "\n",
    "where $I$ is the identity matrix. For a 2x2 matrix:\n",
    "\n",
    "$$A = \\begin{bmatrix} a & b \\\\ c & d \\end{bmatrix}$$\n",
    " \n",
    "The inverse is:\n",
    "\n",
    "$$A^{-1} = \\frac{1}{det(A)} \\begin{bmatrix} d & -b \\\\ -c & a \\end{bmatrix}$$\n",
    " \n",
    "provided that the determinant $det(A) = ad - bc$ is non-zero. If the determinant is zero, the matrix is singular and does not have an inverse. This process is critical in many applications including solving systems of linear equations, where the inverse is used to find solutions efficiently."
   ]
  },
  {
   "cell_type": "code",
   "execution_count": 1,
   "metadata": {},
   "outputs": [],
   "source": [
    "def inverse_2x2(matrix: list[list[float]]) -> list[list[float]]:\n",
    "\ta, b, c, d = matrix[0][0], matrix[0][1], matrix[1][0], matrix[1][1]\n",
    "\tdiv = a*d - b*c\n",
    "\tif not div: return None\n",
    "\tinverse = [[d / div, -b / div], [-c / div, a / div]]\n",
    "\treturn inverse"
   ]
  },
  {
   "cell_type": "code",
   "execution_count": 2,
   "metadata": {},
   "outputs": [
    {
     "name": "stdout",
     "output_type": "stream",
     "text": [
      "Test Case 1: Accepted\n",
      "Input:\n",
      "print(inverse_2x2([[4, 7], [2, 6]]))\n",
      "\n",
      "Output:\n",
      "[[0.6, -0.7], [-0.2, 0.4]]\n",
      "\n",
      "Expected:\n",
      "[[0.6, -0.7], [-0.2, 0.4]]\n"
     ]
    }
   ],
   "source": [
    "print('Test Case 1: Accepted') if inverse_2x2([[4, 7], [2, 6]]) == [[0.6, -0.7], [-0.2, 0.4]] else print('Test Case 1: Rejected')\n",
    "print('Input:')\n",
    "print('print(inverse_2x2([[4, 7], [2, 6]]))')\n",
    "print()\n",
    "print('Output:')\n",
    "print(inverse_2x2([[4, 7], [2, 6]]))\n",
    "print()\n",
    "print('Expected:')\n",
    "print('[[0.6, -0.7], [-0.2, 0.4]]')"
   ]
  },
  {
   "cell_type": "code",
   "execution_count": 3,
   "metadata": {},
   "outputs": [
    {
     "name": "stdout",
     "output_type": "stream",
     "text": [
      "Test Case 2: Accepted\n",
      "Input:\n",
      "print(inverse_2x2([[2, 1], [6, 2]]))\n",
      "\n",
      "Output:\n",
      "[[-1.0, 0.5], [3.0, -1.0]]\n",
      "\n",
      "Expected:\n",
      "[[-1.0, 0.5], [3.0, -1.0]]\n"
     ]
    }
   ],
   "source": [
    "print('Test Case 2: Accepted') if inverse_2x2([[2, 1], [6, 2]]) == [[-1.0, 0.5], [3.0, -1.0]] else print('Test Case 2: Rejected')\n",
    "print('Input:')\n",
    "print('print(inverse_2x2([[2, 1], [6, 2]]))')\n",
    "print()\n",
    "print('Output:')\n",
    "print(inverse_2x2([[2, 1], [6, 2]]))\n",
    "print()\n",
    "print('Expected:')\n",
    "print('[[-1.0, 0.5], [3.0, -1.0]]')"
   ]
  }
 ],
 "metadata": {
  "kernelspec": {
   "display_name": "llm",
   "language": "python",
   "name": "python3"
  },
  "language_info": {
   "codemirror_mode": {
    "name": "ipython",
    "version": 3
   },
   "file_extension": ".py",
   "mimetype": "text/x-python",
   "name": "python",
   "nbconvert_exporter": "python",
   "pygments_lexer": "ipython3",
   "version": "3.12.3"
  }
 },
 "nbformat": 4,
 "nbformat_minor": 2
}
