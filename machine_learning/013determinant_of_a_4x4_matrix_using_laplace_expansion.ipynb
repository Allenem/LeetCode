{
 "cells": [
  {
   "cell_type": "markdown",
   "metadata": {},
   "source": [
    "# Determinant of a 4x4 Matrix using Laplace's Expansion (hard)\n",
    "\n",
    "Write a Python function that calculates the determinant of a 4x4 matrix using Laplace's Expansion method. The function should take a single argument, a 4x4 matrix represented as a list of lists, and return the determinant of the matrix. The elements of the matrix can be integers or floating-point numbers. Implement the function recursively to handle the computation of determinants for the 3x3 minor matrices.\n",
    "\n",
    "Example:\n",
    "```python\n",
    "        input: a = [[1,2,3,4],[5,6,7,8],[9,10,11,12],[13,14,15,16]]\n",
    "        output: 0\n",
    "        reasoning: Using Laplace's Expansion, the determinant of a 4x4 matrix is calculated by expanding it into minors and cofactors along any row or column. Given the symmetrical and linear nature of this specific matrix, its determinant is 0. The calculation for a generic 4x4 matrix involves more complex steps, breaking it down into the determinants of 3x3 matrices.\n",
    "```"
   ]
  },
  {
   "cell_type": "markdown",
   "metadata": {},
   "source": [
    "## Determinant of a 4x4 Matrix using Laplace's Expansion\n",
    "\n",
    "Laplace's Expansion, also known as cofactor expansion, is a method to calculate the determinant of a square matrix of any size. For a 4x4 matrix $\\mathbf{A}$, this method involves expanding $\\mathbf{A}$ into minors and cofactors along a chosen row or column. Consider a 4x4 matrix $\\mathbf{A}$:\n",
    "\n",
    "$$\n",
    "\\mathbf{A} = \\begin{bmatrix} a_{11} & a_{12} & a_{13} & a_{14} \\\\ a_{21} & a_{22} & a_{23} & a_{24} \\\\ a_{31} & a_{32} & a_{33} & a_{34} \\\\ a_{41} & a_{42} & a_{43} & a_{44} \\end{bmatrix}\n",
    "$$ \n",
    " \n",
    "The determinant of $\\mathbf{A}$, $\\text{det}(\\mathbf{A})$, can be calculated by selecting any row or column (e.g., the first row) and using the formula that involves the elements of that row (or column), their corresponding cofactors, and the determinants of the 3x3 minor matrices obtained by removing the row and column of each element. This process is recursive, as calculating the determinants of the 3x3 matrices involves further expansions. The expansion formula for the first row is as follows:\n",
    "\n",
    "$$\n",
    "\\text{det}(\\mathbf{A}) = a_{11}C_{11} - a_{12}C_{12} + a_{13}C_{13} - a_{14}C_{14}\n",
    "$$\n",
    "\n",
    "Here, $C_{ij}$ represents the cofactor of element $a_{ij}$, which is calculated as $(-1)^{i+j}$ times the determinant of the minor matrix obtained after removing the $i$th row and $j$th column from $\\mathbf{A}$."
   ]
  },
  {
   "cell_type": "code",
   "execution_count": 1,
   "metadata": {},
   "outputs": [],
   "source": [
    "def determinant_nxn(matrix: list[list[int | float]]) -> float:\n",
    "    # Base case for 2x2 matrix\n",
    "    if len(matrix) == 2:\n",
    "        return matrix[0][0] * matrix[1][1] - matrix[0][1] * matrix[1][0]\n",
    "\n",
    "    # Recursive case for larger matrices\n",
    "    def get_submatrix(matrix: list[list[int | float]], row: int, col: int) -> list[list[int | float]]:\n",
    "        \"\"\"Removes the specified row and column to create a submatrix.\"\"\"\n",
    "        return [ [matrix[i][j] for j in range(len(matrix)) if j != col] for i in range(len(matrix)) if i != row ]\n",
    "\n",
    "    # Use cofactor expansion along the first row\n",
    "    return sum(\n",
    "        (-1) ** col * matrix[0][col] * determinant_nxn(get_submatrix(matrix, 0, col))\n",
    "        for col in range(len(matrix))\n",
    "    )\n"
   ]
  },
  {
   "cell_type": "code",
   "execution_count": 2,
   "metadata": {},
   "outputs": [
    {
     "name": "stdout",
     "output_type": "stream",
     "text": [
      "Test Case 1: Accepted\n",
      "Input:\n",
      "print(determinant_4x4([[1, 2, 3, 4], [5, 6, 7, 8], [9, 10, 11, 12], [13, 14, 15, 16]]))\n",
      "\n",
      "Output:\n",
      "0\n",
      "\n",
      "Expected:\n",
      "0\n"
     ]
    }
   ],
   "source": [
    "print('Test Case 1: Accepted')\n",
    "print('Input:')\n",
    "print('print(determinant_4x4([[1, 2, 3, 4], [5, 6, 7, 8], [9, 10, 11, 12], [13, 14, 15, 16]]))')\n",
    "print()\n",
    "print('Output:')\n",
    "print(determinant_nxn([[1, 2, 3, 4], [5, 6, 7, 8], [9, 10, 11, 12], [13, 14, 15, 16]]))\n",
    "print()\n",
    "print('Expected:')\n",
    "print('0')"
   ]
  },
  {
   "cell_type": "code",
   "execution_count": 3,
   "metadata": {},
   "outputs": [
    {
     "name": "stdout",
     "output_type": "stream",
     "text": [
      "Test Case 2: Accepted\n",
      "Input:\n",
      "print(determinant_4x4([[4, 3, 2, 1], [3, 2, 1, 4], [2, 1, 4, 3], [1, 4, 3, 2]]))\n",
      "\n",
      "Output:\n",
      "-160\n",
      "\n",
      "Expected:\n",
      "-160\n"
     ]
    }
   ],
   "source": [
    "print('Test Case 2: Accepted')\n",
    "print('Input:')\n",
    "print('print(determinant_4x4([[4, 3, 2, 1], [3, 2, 1, 4], [2, 1, 4, 3], [1, 4, 3, 2]]))')\n",
    "print()\n",
    "print('Output:')\n",
    "print(determinant_nxn([[4, 3, 2, 1], [3, 2, 1, 4], [2, 1, 4, 3], [1, 4, 3, 2]]))\n",
    "print()\n",
    "print('Expected:')\n",
    "print('-160')"
   ]
  },
  {
   "cell_type": "code",
   "execution_count": 4,
   "metadata": {},
   "outputs": [
    {
     "name": "stdout",
     "output_type": "stream",
     "text": [
      "Test Case 3: Accepted\n",
      "Input:\n",
      "print(determinant_4x4([[0, 1, 2, 3], [1, 2, 3, 4], [2, 3, 4, 5], [3, 4, 5, 6]]))\n",
      "\n",
      "Output:\n",
      "0\n",
      "\n",
      "Expected:\n",
      "0\n"
     ]
    }
   ],
   "source": [
    "print('Test Case 3: Accepted')\n",
    "print('Input:')\n",
    "print('print(determinant_4x4([[0, 1, 2, 3], [1, 2, 3, 4], [2, 3, 4, 5], [3, 4, 5, 6]]))')\n",
    "print()\n",
    "print('Output:')\n",
    "print(determinant_nxn([[0, 1, 2, 3], [1, 2, 3, 4], [2, 3, 4, 5], [3, 4, 5, 6]]))\n",
    "print()\n",
    "print('Expected:')\n",
    "print('0')"
   ]
  }
 ],
 "metadata": {
  "kernelspec": {
   "display_name": "llm",
   "language": "python",
   "name": "python3"
  },
  "language_info": {
   "codemirror_mode": {
    "name": "ipython",
    "version": 3
   },
   "file_extension": ".py",
   "mimetype": "text/x-python",
   "name": "python",
   "nbconvert_exporter": "python",
   "pygments_lexer": "ipython3",
   "version": "3.12.3"
  }
 },
 "nbformat": 4,
 "nbformat_minor": 2
}
