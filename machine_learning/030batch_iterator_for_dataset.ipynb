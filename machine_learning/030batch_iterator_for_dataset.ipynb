{
 "cells": [
  {
   "cell_type": "markdown",
   "metadata": {},
   "source": [
    "# Batch Iterator for Dataset\n",
    "\n",
    "Write a Python function to create a batch iterator for the samples in a numpy array X and an optional numpy array y. The function should yield batches of a specified size. If y is provided, the function should yield batches of (X, y) pairs; otherwise, it should yield batches of X only.\n",
    "\n",
    "Example:\n",
    "```python\n",
    "    X = np.array([[1, 2], \n",
    "                  [3, 4], \n",
    "                  [5, 6], \n",
    "                  [7, 8], \n",
    "                  [9, 10]])\n",
    "    y = np.array([1, 2, 3, 4, 5])\n",
    "    batch_size = 2\n",
    "    batch_iterator(X, y, batch_size)\n",
    "    output:\n",
    "    [[[[1, 2], [3, 4]], [1, 2]],\n",
    "     [[[5, 6], [7, 8]], [3, 4]],\n",
    "     [[[9, 10]], [5]]]\n",
    "\n",
    "     Reasoning:\n",
    "    The dataset X contains 5 samples, and we are using a batch size of 2. Therefore, the function will divide the dataset into 3 batches. The first two batches will contain 2 samples each, and the last batch will contain the remaining sample. The corresponding values from y are also included in each batch.\n",
    "```"
   ]
  },
  {
   "cell_type": "markdown",
   "metadata": {},
   "source": [
    "## Understanding Batch Iteration\n",
    "\n",
    "Batch iteration is a common technique used in machine learning and data processing to handle large datasets more efficiently. Instead of processing the entire dataset at once, which can be memory-intensive, data is processed in smaller, more manageable batches.\n",
    "\n",
    "Here's a step-by-step method to create a batch iterator:\n",
    "\n",
    "1. **Determine the Number of Samples**: Calculate the total number of samples in the dataset.\n",
    "2. **Iterate in Batches**: Loop through the dataset in increments of the specified batch size.\n",
    "3. **Yield Batches**: For each iteration, yield a batch of samples from X and, if provided, the corresponding samples from y.\n",
    "\n",
    "This method ensures efficient processing and can be used for both training and evaluation phases in machine learning workflows."
   ]
  },
  {
   "cell_type": "code",
   "execution_count": 1,
   "metadata": {},
   "outputs": [],
   "source": [
    "import numpy as np\n",
    "\n",
    "def batch_iterator(X, y=None, batch_size=64):\n",
    "    n_samples = X.shape[0]\n",
    "    batches = []\n",
    "    for i in np.arange(0, n_samples, batch_size):\n",
    "        begin, end = i, min(i+batch_size, n_samples)\n",
    "        if y is not None:\n",
    "            batches.append([X[begin:end].tolist(), y[begin:end].tolist()])\n",
    "        else:\n",
    "            batches.append( X[begin:end].tolist())\n",
    "    return batches"
   ]
  },
  {
   "cell_type": "code",
   "execution_count": 2,
   "metadata": {},
   "outputs": [
    {
     "name": "stdout",
     "output_type": "stream",
     "text": [
      "Test Case 1: Accepted\n",
      "Input:\n",
      "print(batch_iterator(np.array([[1, 2], [3, 4], [5, 6], [7, 8], [9, 10]]), np.array([1, 2, 3, 4, 5]), batch_size=2))\n",
      "\n",
      "Output:\n",
      "[[[[1, 2], [3, 4]], [1, 2]], [[[5, 6], [7, 8]], [3, 4]], [[[9, 10]], [5]]]\n",
      "\n",
      "Expected:\n",
      "[[[[1, 2], [3, 4]], [1, 2]], [[[5, 6], [7, 8]], [3, 4]], [[[9, 10]], [5]]]\n",
      "\n",
      "\n",
      "Test Case 2: Accepted\n",
      "Input:\n",
      "print(batch_iterator(np.array([[1, 1], [2, 2], [3, 3], [4, 4]]), batch_size=3))\n",
      "\n",
      "Output:\n",
      "[[[1, 1], [2, 2], [3, 3]], [[4, 4]]]\n",
      "\n",
      "Expected:\n",
      "[[[1, 1], [2, 2], [3, 3]], [[4, 4]]]\n"
     ]
    }
   ],
   "source": [
    "print('Test Case 1: Accepted') if batch_iterator(np.array([[1, 2], [3, 4], [5, 6], [7, 8], [9, 10]]), np.array([1, 2, 3, 4, 5]), batch_size=2) == [[[[1, 2], [3, 4]], [1, 2]], [[[5, 6], [7, 8]], [3, 4]], [[[9, 10]], [5]]] else print('Test Case 1: Rejected')\n",
    "print('Input:')\n",
    "print('print(batch_iterator(np.array([[1, 2], [3, 4], [5, 6], [7, 8], [9, 10]]), np.array([1, 2, 3, 4, 5]), batch_size=2))')\n",
    "print()\n",
    "print('Output:')\n",
    "print(batch_iterator(np.array([[1, 2], [3, 4], [5, 6], [7, 8], [9, 10]]), np.array([1, 2, 3, 4, 5]), batch_size=2))\n",
    "print()\n",
    "print('Expected:')\n",
    "print('[[[[1, 2], [3, 4]], [1, 2]], [[[5, 6], [7, 8]], [3, 4]], [[[9, 10]], [5]]]')\n",
    "print()\n",
    "print()\n",
    "\n",
    "print('Test Case 2: Accepted') if batch_iterator(np.array([[1, 1], [2, 2], [3, 3], [4, 4]]), batch_size=3) == [[[1, 1], [2, 2], [3, 3]], [[4, 4]]] else print('Test Case 2: Rejected')\n",
    "print('Input:')\n",
    "print('print(batch_iterator(np.array([[1, 1], [2, 2], [3, 3], [4, 4]]), batch_size=3))')\n",
    "print()\n",
    "print('Output:')\n",
    "print(batch_iterator(np.array([[1, 1], [2, 2], [3, 3], [4, 4]]), batch_size=3))\n",
    "print()\n",
    "print('Expected:')\n",
    "print('[[[1, 1], [2, 2], [3, 3]], [[4, 4]]]')"
   ]
  }
 ],
 "metadata": {
  "kernelspec": {
   "display_name": "llm",
   "language": "python",
   "name": "python3"
  },
  "language_info": {
   "codemirror_mode": {
    "name": "ipython",
    "version": 3
   },
   "file_extension": ".py",
   "mimetype": "text/x-python",
   "name": "python",
   "nbconvert_exporter": "python",
   "pygments_lexer": "ipython3",
   "version": "3.12.3"
  }
 },
 "nbformat": 4,
 "nbformat_minor": 2
}
