{
 "cells": [
  {
   "cell_type": "markdown",
   "metadata": {},
   "source": [
    "# Singular Value Decomposition (SVD) (hard)\n",
    "\n",
    "Write a Python function that approximates the Singular Value Decomposition on a 2x2 matrix by using the jacobian method and without using numpy svd function, i mean you could but you wouldn't learn anything. return the result in this format.\n",
    "\n",
    "Example:\n",
    "```python\n",
    "        input: a = [[2, 1], [1, 2]]\n",
    "        output: (array([[-0.70710678, -0.70710678],\n",
    "                        [-0.70710678,  0.70710678]]),\n",
    "        array([3., 1.]),\n",
    "        array([[-0.70710678, -0.70710678],\n",
    "               [-0.70710678,  0.70710678]]))\n",
    "        reasoning: U is the first matrix sigma is the second vector and V is the third matrix\n",
    "```"
   ]
  },
  {
   "cell_type": "markdown",
   "metadata": {},
   "source": [
    "## Singular Value Decomposition (SVD) via the Jacobi Method\n",
    "\n",
    "Singular Value Decomposition (SVD) is a powerful matrix decomposition technique in linear algebra that expresses a matrix as the product of three other matrices, revealing its intrinsic geometric and algebraic properties. When using the Jacobi method, SVD decomposes a matrix $A$ into:\n",
    "\n",
    "$$A = U \\Sigma V^T$$\n",
    "\n",
    "where:\n",
    "- $A$ is the original matrix.\n",
    "- $U$ is an orthogonal $m \\times m$ matrix whose columns are the left singular vectors of $A$.\n",
    "- $\\Sigma$ is an $m \\times n$ diagonal matrix containing the singular values of $A$.\n",
    "- $V$ is the transpose of an orthogonal $n \\times n$ matrix whose columns are the right singular vectors of $A$.\n",
    "\n",
    "## The Jacobi Method for SVD\n",
    "\n",
    "The Jacobi method is an iterative algorithm used for diagonalizing a symmetric matrix through a series of rotational transformations. It is particularly suited for computing the SVD by iteratively applying rotations to minimize off-diagonal elements until the matrix is diagonal.\n",
    "\n",
    "## Steps of the Jacobi SVD Algorithm\n",
    "\n",
    "1. **Initialization**: Start with $AA^T$ (or $A^TA$ for $U$) and set $V$ (or $U$) as an identity matrix. The goal is to diagonalize $AA^T$ (or $A^TA), obtaining $\\Sigma$ in the process.\n",
    "2. **Choosing Rotation Targets**: Identify off-diagonal elements in $A^TA$ to be minimized or zeroed out through rotations.\n",
    "3. **Calculating Rotation Angles**: For each target off-diagonal element, calculate the angle $\\theta$ for the Jacobi rotation matrix $J$ that would zero it. This involves solving for $\\tan(2\\theta)$ using $atan2$ to accurately handle the quadrant of rotation:\n",
    "\n",
    "$$\\theta = \\frac{1}{2} \\text{atan2}(2a_{ij}, a_{ii} - a_{jj})$$\n",
    "\n",
    "where $a_{ij}$ is the target off-diagonal element, and $a_{ii}$, $a_{jj}$ are the diagonal elements of $A^TA$.\n",
    "\n",
    "4. **Applying Rotations**: Construct $J$ using $\\theta$ and apply the rotation to $A$ (or $A^T$), effectively reducing the magnitude of the target off-diagonal element. Update $V$ (or $U$) by multiplying it by $J$.\n",
    "5. **Iteration and Convergence**: Repeat the process of selecting off-diagonal elements, calculating rotation angles, and applying rotations until $A^TA$ is sufficiently diagonalized.\n",
    "6. **Extracting SVD Components**: Once diagonalized, the diagonal entries of $A^TA$ represent the squared singular values of $A$. The matrices $U$ and $V$ are constructed from the accumulated rotations, containing the left and right singular vectors of $A$, respectively.\n",
    "\n",
    "## Practical Considerations\n",
    "- The Jacobi method is particularly effective for dense matrices where off-diagonal elements are significant.\n",
    "- Careful implementation is required to ensure numerical stability and efficiency, especially for large matrices.\n",
    "- The iterative nature of the Jacobi method makes it computationally intensive, but it is highly parallelizable."
   ]
  },
  {
   "cell_type": "code",
   "execution_count": 1,
   "metadata": {},
   "outputs": [],
   "source": [
    "import numpy as np \n",
    "def svd_2x2_singular_values(A: np.ndarray) -> tuple:\n",
    "    ATA = A.T @ A\n",
    "    theta = 0.5 * np.arctan2(2 * ATA[0,1], ATA[0,0] - ATA[1,1])\n",
    "    U = np.array([[np.cos(theta), -np.sin(theta)], \n",
    "                [np.sin(theta), np.cos(theta)]])\n",
    "    A_prime = U.T @ ATA @ U\n",
    "    singular_values = np.sqrt(np.diag(A_prime))\n",
    "    return U, singular_values, U.T"
   ]
  },
  {
   "cell_type": "code",
   "execution_count": 2,
   "metadata": {},
   "outputs": [],
   "source": [
    "def check(A, U, singular_values, V):\n",
    "    t = svd_2x2_singular_values(A)\n",
    "    for i in range(3):\n",
    "        if not np.allclose(t[i], [U, singular_values, V][i]):\n",
    "            return False\n",
    "    return True"
   ]
  },
  {
   "cell_type": "code",
   "execution_count": 3,
   "metadata": {},
   "outputs": [
    {
     "name": "stdout",
     "output_type": "stream",
     "text": [
      "Test Case 1: Accepted\n",
      "Input:\n",
      "print(svd_2x2_singular_values(np.array([[2, 1], [1, 2]])))\n",
      "\n",
      "Output:\n",
      "(array([[ 0.70710678, -0.70710678],\n",
      "       [ 0.70710678,  0.70710678]]), array([3., 1.]), array([[ 0.70710678,  0.70710678],\n",
      "       [-0.70710678,  0.70710678]]))\n",
      "\n",
      "Expected:\n",
      "(array([[ 0.70710678, -0.70710678],\n",
      "       [ 0.70710678,  0.70710678]]), array([3., 1.]), array([[ 0.70710678,  0.70710678],\n",
      "       [-0.70710678,  0.70710678]]))\n",
      "\n",
      "\n",
      "Test Case 2: Accepted\n",
      "Input:\n",
      "print(svd_2x2_singular_values(np.array([[1, 2], [3, 4]])))\n",
      "\n",
      "Output:\n",
      "(array([[ 0.57604844, -0.81741556],\n",
      "       [ 0.81741556,  0.57604844]]), array([5.4649857 , 0.36596619]), array([[ 0.57604844,  0.81741556],\n",
      "       [-0.81741556,  0.57604844]]))\n",
      "\n",
      "Expected:\n",
      "(array([[ 0.57604844, -0.81741556],\n",
      "       [ 0.81741556,  0.57604844]]), array([5.4649857 , 0.36596619]), array([[ 0.57604844,  0.81741556],\n",
      "       [-0.81741556,  0.57604844]]))\n"
     ]
    }
   ],
   "source": [
    "print('Test Case 1: Accepted') if check(np.array([[2, 1], [1, 2]]), np.array([[ 0.70710678, -0.70710678], [ 0.70710678,  0.70710678]]), np.array([3., 1.]), np.array([[ 0.70710678,  0.70710678], [-0.70710678,  0.70710678]])) else print('Test Case 1: Rejected')\n",
    "print('Input:')\n",
    "print('print(svd_2x2_singular_values(np.array([[2, 1], [1, 2]])))')\n",
    "print()\n",
    "print('Output:')\n",
    "print(svd_2x2_singular_values(np.array([[2, 1], [1, 2]])))\n",
    "print()\n",
    "print('Expected:')\n",
    "print('(array([[ 0.70710678, -0.70710678],\\n       [ 0.70710678,  0.70710678]]), array([3., 1.]), array([[ 0.70710678,  0.70710678],\\n       [-0.70710678,  0.70710678]]))')\n",
    "print()\n",
    "print()\n",
    "\n",
    "print('Test Case 2: Accepted') if check(np.array([[1, 2], [3, 4]]), np.array([[ 0.57604844, -0.81741556], [ 0.81741556,  0.57604844]]), np.array([5.4649857 , 0.36596619]), np.array([[ 0.57604844,  0.81741556], [-0.81741556,  0.57604844]])) else print('Test Case 2: Rejected')\n",
    "print('Input:')\n",
    "print('print(svd_2x2_singular_values(np.array([[1, 2], [3, 4]])))')\n",
    "print()\n",
    "print('Output:')\n",
    "print(svd_2x2_singular_values(np.array([[1, 2], [3, 4]])))\n",
    "print()\n",
    "print('Expected:')\n",
    "print('(array([[ 0.57604844, -0.81741556],\\n       [ 0.81741556,  0.57604844]]), array([5.4649857 , 0.36596619]), array([[ 0.57604844,  0.81741556],\\n       [-0.81741556,  0.57604844]]))')"
   ]
  }
 ],
 "metadata": {
  "kernelspec": {
   "display_name": "llm",
   "language": "python",
   "name": "python3"
  },
  "language_info": {
   "codemirror_mode": {
    "name": "ipython",
    "version": 3
   },
   "file_extension": ".py",
   "mimetype": "text/x-python",
   "name": "python",
   "nbconvert_exporter": "python",
   "pygments_lexer": "ipython3",
   "version": "3.12.3"
  }
 },
 "nbformat": 4,
 "nbformat_minor": 2
}
