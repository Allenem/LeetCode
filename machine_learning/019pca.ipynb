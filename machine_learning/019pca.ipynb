{
 "cells": [
  {
   "cell_type": "markdown",
   "metadata": {},
   "source": [
    "# Principal Component Analysis (PCA) Implementation (medium)\n",
    "\n",
    "Write a Python function that performs Principal Component Analysis (PCA) from scratch. The function should take a 2D NumPy array as input, where each row represents a data sample and each column represents a feature. The function should standardize the dataset, compute the covariance matrix, find the eigenvalues and eigenvectors, and return the principal components (the eigenvectors corresponding to the largest eigenvalues). The function should also take an integer k as input, representing the number of principal components to return.\n",
    "\n",
    "Example:\n",
    "```\n",
    "        input: data = np.array([[1, 2], [3, 4], [5, 6]]), k = 1\n",
    "        output:  [[0.7071], [0.7071]]\n",
    "        reasoning: After standardizing the data and computing the covariance matrix, the eigenvalues and eigenvectors are calculated. The largest eigenvalue's corresponding eigenvector is returned as the principal component, rounded to four decimal places.\n",
    "```"
   ]
  },
  {
   "cell_type": "markdown",
   "metadata": {},
   "source": [
    "## Understanding Eigenvalues in PCA\n",
    "\n",
    "Principal Component Analysis (PCA) utilizes the concept of eigenvalues and eigenvectors to identify the principal components of a dataset. Here's how eigenvalues fit into the PCA process:\n",
    "\n",
    "## Eigenvalues and Eigenvectors: The Foundation of PCA\n",
    "\n",
    "For a given square matrix $\\mathbb{A}$ , representing the covariance matrix in PCA, eigenvalues $\\lambda$ and their corresponding eigenvectors $\\mathbf{v}$ satisfy:\n",
    "\n",
    "$$\\mathbb{A}\\mathbf{v} = \\lambda\\mathbf{v}$$\n",
    "\n",
    "## Calculating Eigenvalues\n",
    "\n",
    "The eigenvalues of matrix $\\mathbb{A}$ are found by solving the characteristic equation:\n",
    "\n",
    "$$\\text{det}(\\mathbb{A} - \\lambda\\mathbb{I}) = 0$$\n",
    "\n",
    "where $\\mathbb{I}$ is the identity matrix of the same dimension as $\\mathbb{A}$. This equation highlights the relationship between a matrix, its eigenvalues, and eigenvectors.\n",
    "\n",
    "## Role in PCA\n",
    "\n",
    "In PCA, the covariance matrix's eigenvalues represent the variance explained by its eigenvectors. Thus, selecting the eigenvectors associated with the largest eigenvalues is akin to choosing the principal components that retain the most data variance.\n",
    "\n",
    "## Eigenvalues and Dimensionality Reduction\n",
    "\n",
    "The magnitude of an eigenvalue correlates with the importance of its corresponding eigenvector (principal component) in representing the dataset's variability. By selecting a subset of eigenvectors corresponding to the largest eigenvalues, PCA achieves dimensionality reduction while preserving as much of the dataset's variability as possible.\n",
    "\n",
    "## Practical Application\n",
    "\n",
    "- **1.Standardize the Dataset**: Ensure that each feature has a mean of 0 and a standard deviation of 1.\n",
    "- **2.Compute the Covariance Matrix**: Reflects how features vary together.\n",
    "- **3.Find Eigenvalues and Eigenvectors**: Solve the characteristic equation for the covariance matrix.\n",
    "- **4.Select Principal Components**: Choose eigenvectors (components) with the highest eigenvalues for dimensionality reduction.\n",
    "- \n",
    "Through this process, PCA transforms the original features into a new set of uncorrelated features (principal components), ordered by the amount of original variance they explain."
   ]
  },
  {
   "cell_type": "code",
   "execution_count": 1,
   "metadata": {},
   "outputs": [],
   "source": [
    "import numpy as np \n",
    "\n",
    "def pca(data: np.ndarray, k: int) -> list[list[int|float]]:\n",
    "\t# Standardize the data\n",
    "\tdata_standardized = (data - np.mean(data, axis=0)) / np.std(data, axis=0)\n",
    "\t\n",
    "\t# Compute the covariance matrix\n",
    "\tcovariance_maxtix = np.cov(data_standardized, rowvar=False)\n",
    "\t\n",
    "\t# Eigen decomposition\n",
    "\teigenvalues, eigenvectors = np.linalg.eig(covariance_maxtix)\n",
    "\t\n",
    "\t# Sort the eigenvectors by decreasing eigenvalues\n",
    "\tidx = np.argsort(eigenvalues)[::-1]\n",
    "\teigenvalues_sorted = eigenvalues[idx]\n",
    "\teigenvectors_sorted = eigenvectors[:,idx]\n",
    "\t\n",
    "\t# Select the top k eigenvectors (principal components)\n",
    "\tprincipal_components = eigenvectors_sorted[:, :k]\n",
    "\t\n",
    "\treturn np.round(principal_components, 4).tolist()"
   ]
  },
  {
   "cell_type": "code",
   "execution_count": 2,
   "metadata": {},
   "outputs": [
    {
     "name": "stdout",
     "output_type": "stream",
     "text": [
      "Input:\n",
      "[[ 4  2  1]\n",
      " [ 5  6  7]\n",
      " [ 9 12  1]\n",
      " [ 4  6  7]]\n",
      "Output:\n",
      "[[0.6855, 0.0776], [0.6202, 0.4586], [-0.3814, 0.8853]]\n",
      "Expected:\n",
      "[[0.6855, 0.0776], [0.6202, 0.4586], [-0.3814, 0.8853]]\n"
     ]
    }
   ],
   "source": [
    "print('Input:')\n",
    "print(np.array([[4,2,1],[5,6,7],[9,12,1],[4,6,7]]))\n",
    "print('Output:')\n",
    "print(pca(np.array([[4,2,1],[5,6,7],[9,12,1],[4,6,7]]),2))\n",
    "print('Expected:')\n",
    "print('[[0.6855, 0.0776], [0.6202, 0.4586], [-0.3814, 0.8853]]')"
   ]
  },
  {
   "cell_type": "code",
   "execution_count": 3,
   "metadata": {},
   "outputs": [
    {
     "name": "stdout",
     "output_type": "stream",
     "text": [
      "Input:\n",
      "[[1 2]\n",
      " [3 4]\n",
      " [5 6]]\n",
      "Output:\n",
      "[[0.7071], [0.7071]]\n",
      "Expected:\n",
      "[[0.7071], [0.7071]]\n"
     ]
    }
   ],
   "source": [
    "print('Input:')\n",
    "print(np.array([[1, 2], [3, 4], [5, 6]]))\n",
    "print('Output:')\n",
    "print(pca(np.array([[1, 2], [3, 4], [5, 6]]), k = 1))\n",
    "print('Expected:')\n",
    "print('[[0.7071], [0.7071]]')"
   ]
  }
 ],
 "metadata": {
  "kernelspec": {
   "display_name": "llm",
   "language": "python",
   "name": "python3"
  },
  "language_info": {
   "codemirror_mode": {
    "name": "ipython",
    "version": 3
   },
   "file_extension": ".py",
   "mimetype": "text/x-python",
   "name": "python",
   "nbconvert_exporter": "python",
   "pygments_lexer": "ipython3",
   "version": "3.12.3"
  }
 },
 "nbformat": 4,
 "nbformat_minor": 2
}
