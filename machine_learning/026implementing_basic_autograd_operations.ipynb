{
 "cells": [
  {
   "cell_type": "markdown",
   "metadata": {},
   "source": [
    "# Implementing Basic Autograd Operations (medium)\n",
    "\n",
    "Special thanks to Andrej Karpathy for making a video about this, if you haven't already check out his videos on YouTube https://youtu.be/VMj-3S1tku0?si=gjlnFP4o3JRN9dTg. Write a Python class similar to the provided 'Value' class that implements the basic autograd operations: addition, multiplication, and ReLU activation. The class should handle scalar values and should correctly compute gradients for these operations through automatic differentiation.\n",
    "\n",
    "Example:\n",
    "```python\n",
    "        a = Value(2)\n",
    "        b = Value(-3)\n",
    "        c = Value(10)\n",
    "        d = a + b * c\n",
    "        e = d.relu()\n",
    "        e.backward()\n",
    "        print(a, b, c, d, e)\n",
    "        Output: Value(data=2, grad=0) Value(data=-3, grad=10) Value(data=10, grad=-3) Value(data=-28, grad=1) Value(data=0, grad=1)\n",
    "        Explanation: The output reflects the forward computation and gradients after backpropagation. The ReLU on 'd' zeros out its output and gradient due to the negative data value.\n",
    "```"
   ]
  },
  {
   "cell_type": "markdown",
   "metadata": {},
   "source": [
    "## Understanding Mathematical Concepts in Autograd Operations\n",
    "First off watch this: https://youtu.be/VMj-3S1tku0?si=gjlnFP4o3JRN9dTg This task focuses on the implementation of basic automatic differentiation mechanisms for neural networks. The operations of addition, multiplication, and ReLU are fundamental to neural network computations and their training through backpropagation.\n",
    "\n",
    "## Mathematical Foundations\n",
    "\n",
    "- Addition (`__add__`):\n",
    "    - Forward pass: For two scalar values $a$ and $b$, their sum $s$ is simply $s = a + b$.\n",
    "    - Backward pass: The derivative of $s$ with respect to both $a$ and $b$ is 1. Therefore, during backpropagation, the gradient of the output is passed directly to both inputs.\n",
    "\n",
    "- Multiplication (`__mul__`):\n",
    "    - Forward pass: For two scalar values $a$ and $b$, their product $p$ is $p = a \\times b$.\n",
    "    - Backward pass: The gradient of $p$ with respect to $a$ is $b$, and with respect to $b$ is $a$. This means that during backpropagation, each input's gradient is the product of the other input and the output's gradient.\n",
    "\n",
    "- ReLU Activation (`relu`):\n",
    "    - Forward pass: The ReLU function is defined as $R(x) = \\max(0, x)$. This function outputs $x$ if $x$ is positive and 0 otherwise.\n",
    "    - Backward pass: The derivative of the ReLU function is 1 for $x > 0$ and 0 for $x \\leq 0$. Thus, the gradient is propagated through the function only if the input is positive; otherwise, it stops.\n",
    "\n",
    "## Conceptual Application in Neural Networks\n",
    "\n",
    "- **Addition and Multiplication**: These operations are ubiquitous in neural networks, forming the basis of computing weighted sums of inputs in the neurons.\n",
    "- **ReLU Activation**: Commonly used as an activation function in neural networks due to its simplicity and effectiveness in introducing non-linearity, making learning complex patterns possible.\n",
    "\n",
    "Understanding these operations and their implications on gradient flow is crucial for designing and training effective neural network models. By implementing these from scratch, one gains deeper insights into the workings of more sophisticated deep learning libraries."
   ]
  },
  {
   "cell_type": "code",
   "execution_count": 1,
   "metadata": {},
   "outputs": [],
   "source": [
    "class Value:\n",
    "    def __init__(self, data, _children=(), _op=''):\n",
    "        self.data = data\n",
    "        self.grad = 0\n",
    "        self._backward = lambda: None\n",
    "        self._prev = set(_children)\n",
    "        self._op = _op\n",
    "\n",
    "    def __add__(self, other):\n",
    "        other = other if isinstance(other, Value) else Value(other)\n",
    "        out = Value(self.data + other.data, (self, other), '+')\n",
    "        def _backward():\n",
    "            self.grad += out.grad\n",
    "            other.grad += out.grad\n",
    "        out._backward = _backward\n",
    "        return out\n",
    "\n",
    "    def __mul__(self, other):\n",
    "        other = other if isinstance(other, Value) else Value(other)\n",
    "        out = Value(self.data * other.data, (self, other), '*')\n",
    "        def _backward():\n",
    "            self.grad += other.data * out.grad\n",
    "            other.grad += self.data * out.grad\n",
    "        out._backward = _backward\n",
    "        return out\n",
    "\n",
    "    def relu(self):\n",
    "        out = Value(0 if self.data < 0 else self.data, (self,), 'ReLU')\n",
    "        def _backward():\n",
    "            self.grad += (out.data > 0) * out.grad\n",
    "        out._backward = _backward\n",
    "        return out\n",
    "\n",
    "    def backward(self):\n",
    "        topo = []\n",
    "        visited = set()\n",
    "        def build_topo(v):\n",
    "            if v not in visited:\n",
    "                visited.add(v)\n",
    "                for child in v._prev:\n",
    "                    build_topo(child)\n",
    "                topo.append(v)\n",
    "        build_topo(self)\n",
    "        self.grad = 1\n",
    "        for v in reversed(topo):\n",
    "            v._backward()\n",
    "            \n",
    "    def __repr__(self):\n",
    "        return f\"Value(data={self.data}, grad={self.grad})\""
   ]
  },
  {
   "cell_type": "code",
   "execution_count": 2,
   "metadata": {},
   "outputs": [
    {
     "name": "stdout",
     "output_type": "stream",
     "text": [
      "Test Case 1: Accepted\n",
      "Input:\n",
      "a = Value(2); b = Value(3); c = Value(10); d = a + b * c; e = Value(7) * Value(2); f = e + d; g = f.relu()\n",
      "g.backward()\n",
      "print(a, b, c, d, e, f, g)\n",
      "\n",
      "Output:\n",
      "Value(data=2, grad=1) Value(data=3, grad=10) Value(data=10, grad=3) Value(data=32, grad=1) Value(data=14, grad=1) Value(data=46, grad=1) Value(data=46, grad=1)\n",
      "\n",
      "Expected:\n",
      "Value(data=2, grad=1) Value(data=3, grad=10) Value(data=10, grad=3) Value(data=32, grad=1) Value(data=14, grad=1) Value(data=46, grad=1) Value(data=46, grad=1)\n"
     ]
    }
   ],
   "source": [
    "print('Test Case 1: Accepted') if str(Value(3) + Value(5)) == 'Value(data=8, grad=0)' else print('Test Case 1: Rejected')\n",
    "print('Input:')\n",
    "print('a = Value(2); b = Value(3); c = Value(10); d = a + b * c; e = Value(7) * Value(2); f = e + d; g = f.relu()\\ng.backward()\\nprint(a, b, c, d, e, f, g)')\n",
    "print()\n",
    "print('Output:')\n",
    "a = Value(2)\n",
    "b = Value(3)\n",
    "c = Value(10)\n",
    "d = a + b * c\n",
    "e = Value(7) * Value(2)\n",
    "f = e + d\n",
    "g = f.relu()\n",
    "g.backward()\n",
    "print(a, b, c, d, e, f, g)\n",
    "print()\n",
    "print('Expected:')\n",
    "print('Value(data=2, grad=1) Value(data=3, grad=10) Value(data=10, grad=3) Value(data=32, grad=1) Value(data=14, grad=1) Value(data=46, grad=1) Value(data=46, grad=1)')"
   ]
  }
 ],
 "metadata": {
  "kernelspec": {
   "display_name": "llm",
   "language": "python",
   "name": "python3"
  },
  "language_info": {
   "codemirror_mode": {
    "name": "ipython",
    "version": 3
   },
   "file_extension": ".py",
   "mimetype": "text/x-python",
   "name": "python",
   "nbconvert_exporter": "python",
   "pygments_lexer": "ipython3",
   "version": "3.12.3"
  }
 },
 "nbformat": 4,
 "nbformat_minor": 2
}
