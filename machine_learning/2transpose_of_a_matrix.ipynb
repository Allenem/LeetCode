{
 "cells": [
  {
   "cell_type": "markdown",
   "metadata": {},
   "source": [
    "# Transpose of a Matrix (easy)\n",
    "\n",
    "Write a Python function that computes the transpose of a given matrix.\n",
    "\n",
    "Example:\n",
    "```python\n",
    "        input: a = [[1,2,3],[4,5,6]]\n",
    "        output: [[1,4],[2,5],[3,6]]\n",
    "        reasoning: The transpose of a matrix is obtained by flipping rows and columns.\n",
    "```"
   ]
  },
  {
   "cell_type": "markdown",
   "metadata": {},
   "source": [
    "## Transpose of a Matrix\n",
    "Consider a matrix $\\mathbf{M}$ and its transpose $\\mathbf{M}^T$, where: Original Matrix $\\mathbf{M}$:\n",
    "\n",
    "$$\n",
    "\\mathbf{M} =\n",
    "\\begin{bmatrix}\n",
    "a & b & c \\\\\n",
    "d & e & f \\\\\n",
    "\\end{bmatrix}\n",
    "$$\n",
    "\n",
    "Transposed Matrix $\\mathbf{M}^T$:\n",
    "\n",
    "$$\n",
    "\\mathbf{M}^T =\n",
    "\\begin{bmatrix}\n",
    "a & d \\\\\n",
    "b & e \\\\\n",
    "c & f \\\\\n",
    "\\end{bmatrix}\n",
    "$$\n",
    " \n",
    "Transposing a matrix involves converting its rows into columns and vice versa. This operation is fundamental in linear algebra for various computations and transformations."
   ]
  },
  {
   "cell_type": "code",
   "execution_count": 1,
   "metadata": {},
   "outputs": [],
   "source": [
    "def transpose_matrix(a: list[list[int|float]]) -> list[list[int|float]]:\n",
    "\tm, n = len(a), len(a[0])\n",
    "\tb = [[0] * m for _ in range(n)]\n",
    "\tfor i in range(m):\n",
    "\t\tfor j in range(n):\n",
    "\t\t\tb[j][i] = a[i][j]\n",
    "\treturn b"
   ]
  },
  {
   "cell_type": "code",
   "execution_count": 2,
   "metadata": {},
   "outputs": [
    {
     "name": "stdout",
     "output_type": "stream",
     "text": [
      "Input:\n",
      "print(transpose_matrix([[1,2],[3,4],[5,6]]))\n",
      "\n",
      "Output:\n",
      "[[1, 3, 5], [2, 4, 6]]\n",
      "\n",
      "Expected:\n",
      "[[1, 3, 5], [2, 4, 6]]\n"
     ]
    }
   ],
   "source": [
    "print('Input:')\n",
    "print('print(transpose_matrix([[1,2],[3,4],[5,6]]))')\n",
    "print()\n",
    "print('Output:')\n",
    "print(transpose_matrix([[1,2],[3,4],[5,6]]))\n",
    "print()\n",
    "print('Expected:')\n",
    "print('[[1, 3, 5], [2, 4, 6]]')"
   ]
  },
  {
   "cell_type": "code",
   "execution_count": 3,
   "metadata": {},
   "outputs": [
    {
     "name": "stdout",
     "output_type": "stream",
     "text": [
      "Input:\n",
      "print(transpose_matrix([[1,2,3],[4,5,6,]]))\n",
      "\n",
      "Output:\n",
      "[[1, 4], [2, 5], [3, 6]]\n",
      "\n",
      "Expected:\n",
      "[[1, 4], [2, 5], [3, 6]]\n"
     ]
    }
   ],
   "source": [
    "\n",
    "print('Input:')\n",
    "print('print(transpose_matrix([[1,2,3],[4,5,6,]]))')\n",
    "print()\n",
    "print('Output:')\n",
    "print(transpose_matrix([[1,2,3],[4,5,6,]]))\n",
    "print()\n",
    "print('Expected:')\n",
    "print('[[1, 4], [2, 5], [3, 6]]')"
   ]
  }
 ],
 "metadata": {
  "kernelspec": {
   "display_name": "llm",
   "language": "python",
   "name": "python3"
  },
  "language_info": {
   "codemirror_mode": {
    "name": "ipython",
    "version": 3
   },
   "file_extension": ".py",
   "mimetype": "text/x-python",
   "name": "python",
   "nbconvert_exporter": "python",
   "pygments_lexer": "ipython3",
   "version": "3.12.3"
  }
 },
 "nbformat": 4,
 "nbformat_minor": 2
}
