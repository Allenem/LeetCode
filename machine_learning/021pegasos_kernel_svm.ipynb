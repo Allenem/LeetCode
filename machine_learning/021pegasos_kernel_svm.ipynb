{
 "cells": [
  {
   "cell_type": "markdown",
   "metadata": {},
   "source": [
    "# Pegasos Kernel SVM Implementation (advanced)\n",
    "\n",
    "Write a Python function that implements the Pegasos algorithm to train a kernel SVM classifier from scratch. The function should take a dataset (as a 2D NumPy array where each row represents a data sample and each column represents a feature), a label vector (1D NumPy array where each entry corresponds to the label of the sample), and training parameters such as the choice of kernel (linear or RBF), regularization parameter (lambda), and the number of iterations. The function should perform binary classification and return the model's alpha coefficients and bias.\n",
    "\n",
    "Example:\n",
    "```python\n",
    "input: data = np.array([[1, 2], [2, 3], [3, 1], [4, 1]]), labels = np.array([1, 1, -1, -1]), kernel = 'rbf', lambda_val = 0.01, iterations = 100\n",
    "output: alpha = [0.03, 0.02, 0.05, 0.01], b = -0.05\n",
    "```\n",
    "reasoning: Using the RBF kernel, the Pegasos algorithm iteratively updates the weights based on a sub-gradient descent method, taking into account the non-linear separability of the data induced by the kernel transformation."
   ]
  },
  {
   "cell_type": "markdown",
   "metadata": {},
   "source": [
    "## Pegasos Algorithm and Kernel SVM\n",
    "\n",
    "The Pegasos (Primal Estimated sub-GrAdient SOlver for SVM) algorithm is a simple and efficient stochastic gradient descent method designed for solving the SVM optimization problem in its primal form.\n",
    "\n",
    "## Key Concepts:\n",
    "\n",
    "- **Kernel Trick**: Allows SVM to classify data that is not linearly separable by implicitly mapping input features into high-dimensional feature spaces.\n",
    "- **Regularization Parameter** ($\\lambda$): Controls the trade-off between achieving a low training error and a low model complexity.\n",
    "- **Sub-Gradient Descent**: Used in the Pegasos algorithm to optimize the objective function, which includes both the hinge loss and a regularization term.\n",
    "\n",
    "## Steps in the Pegasos Algorithm:\n",
    "\n",
    "1. **Initialize Parameters**: Start with zero weights and choose an appropriate value for the regularization parameter \n",
    "2. **Iterative Updates**: For each iteration and for each randomly selected example, update the model parameters using the learning rule derived from the sub-gradient of the loss function. \n",
    "3. **Kernel Adaptation**: Use the chosen kernel to compute the dot products required in the update step, allowing for non-linear decision boundaries.\n",
    "\n",
    "## Practical Implementation:\n",
    "\n",
    "The implementation involves selecting a kernel function, calculating the kernel matrix, and performing iterative updates on the alpha coefficients according to the Pegasos rule:\n",
    "\n",
    "$$\\alpha_{t+1} = (1 - \\eta_t\\lambda)\\alpha_t + \\eta_t(y_i K(x_i, x))$$\n",
    "\n",
    "where $\\eta_t$ is the learning rate at iteration $t$, and $K(x_i, x)$ denotes the kernel function. This method is particularly well-suited for large-scale learning problems due to its efficient use of data and incremental learning nature."
   ]
  },
  {
   "cell_type": "code",
   "execution_count": 1,
   "metadata": {},
   "outputs": [],
   "source": [
    "import numpy as np\n",
    "\n",
    "# Linear kernel function\n",
    "def linear_kernel(x, y):\n",
    "    return np.dot(x, y)\n",
    "\n",
    "# Radial Basis Function (RBF) kernel function\n",
    "def rbf_kernel(x, y, sigma=1.0):\n",
    "    return np.exp(-np.linalg.norm(x-y)**2 / (2 * (sigma ** 2)))\n",
    "\n",
    "# Pegasos Kernel SVM algorithm\n",
    "def pegasos_kernel_svm(data: np.ndarray, labels: np.ndarray, kernel='linear', lambda_val=0.01, iterations=100, sigma=1.0) -> tuple[list, float]:\n",
    "    n_samples = len(data)\n",
    "    alphas = np.zeros(n_samples)  # Initialize alpha coefficients\n",
    "    b = 0  # Initialize bias term\n",
    "\n",
    "    for t in range(1, iterations + 1):\n",
    "        for i in range(n_samples):\n",
    "            # Learning rate, decreasing with time\n",
    "            eta = 1.0 / (lambda_val * t)\n",
    "            # Select the kernel function\n",
    "            if kernel == 'linear':\n",
    "                kernel_func = linear_kernel\n",
    "            elif kernel == 'rbf':\n",
    "                kernel_func = lambda x, y: rbf_kernel(x, y, sigma)\n",
    "    \n",
    "            # Compute the decision function\n",
    "            decision = sum(alphas[j] * labels[j] * kernel_func(data[j], data[i]) for j in range(n_samples)) + b\n",
    "            # Update alpha and bias if the sample is misclassified\n",
    "            if labels[i] * decision < 1:\n",
    "                alphas[i] += eta * (labels[i] - lambda_val * alphas[i])\n",
    "                b += eta * labels[i]\n",
    "\n",
    "    return np.round(alphas, 4).tolist(), np.round(b, 4)"
   ]
  },
  {
   "cell_type": "code",
   "execution_count": 2,
   "metadata": {},
   "outputs": [
    {
     "name": "stdout",
     "output_type": "stream",
     "text": [
      "Test Case 1: ✅ Accepted\n",
      "Input:\n",
      "print(pegasos_kernel_svm(np.array([[1, 2], [2, 3], [3, 1], [4, 1]]), np.array([1, 1, -1, -1]), kernel='linear', lambda_val=0.01, iterations=100))\n",
      "\n",
      "Output:\n",
      "([100.0, 0.0, -100.0, -100.0], -937.4755)\n",
      "\n",
      "Expected:\n",
      "([100.0, 0.0, -100.0, -100.0], -937.4755)\n"
     ]
    }
   ],
   "source": [
    "print('Test Case 1: ✅ Accepted') if pegasos_kernel_svm(np.array([[1, 2], [2, 3], [3, 1], [4, 1]]), np.array([1, 1, -1, -1]), kernel='linear', lambda_val=0.01, iterations=100) == ([100.0, 0.0, -100.0, -100.0], -937.4755) else print('Test Case 1: ❌ Rejected')\n",
    "print('Input:')\n",
    "print(\"print(pegasos_kernel_svm(np.array([[1, 2], [2, 3], [3, 1], [4, 1]]), np.array([1, 1, -1, -1]), kernel='linear', lambda_val=0.01, iterations=100))\")\n",
    "print()\n",
    "print('Output:')\n",
    "print(pegasos_kernel_svm(np.array([[1, 2], [2, 3], [3, 1], [4, 1]]), np.array([1, 1, -1, -1]), kernel='linear', lambda_val=0.01, iterations=100))\n",
    "print()\n",
    "print('Expected:')\n",
    "print('([100.0, 0.0, -100.0, -100.0], -937.4755)')"
   ]
  },
  {
   "cell_type": "code",
   "execution_count": 3,
   "metadata": {},
   "outputs": [
    {
     "name": "stdout",
     "output_type": "stream",
     "text": [
      "Test Case 2: ✅ Accepted\n",
      "Input:\n",
      "print(pegasos_kernel_svm(np.array([[1, 2], [2, 3], [3, 1], [4, 1]]), np.array([1, 1, -1, -1]), kernel='rbf', lambda_val=0.01, iterations=100, sigma=0.5))\n",
      "\n",
      "Output:\n",
      "([100.0, 99.0, -100.0, -100.0], -115.0)\n",
      "\n",
      "Expected:\n",
      "([100.0, 99.0, -100.0, -100.0], -115.0)\n"
     ]
    }
   ],
   "source": [
    "print('Test Case 2: ✅ Accepted') if pegasos_kernel_svm(np.array([[1, 2], [2, 3], [3, 1], [4, 1]]), np.array([1, 1, -1, -1]), kernel='rbf', lambda_val=0.01, iterations=100, sigma=0.5) == ([100.0, 99.0, -100.0, -100.0], -115.0) else print('Test Case 2: ❌ Rejected')\n",
    "print('Input:')\n",
    "print(\"print(pegasos_kernel_svm(np.array([[1, 2], [2, 3], [3, 1], [4, 1]]), np.array([1, 1, -1, -1]), kernel='rbf', lambda_val=0.01, iterations=100, sigma=0.5))\")\n",
    "print()\n",
    "print('Output:')\n",
    "print(pegasos_kernel_svm(np.array([[1, 2], [2, 3], [3, 1], [4, 1]]), np.array([1, 1, -1, -1]), kernel='rbf', lambda_val=0.01, iterations=100, sigma=0.5))\n",
    "print()\n",
    "print('Expected:')\n",
    "print('([100.0, 99.0, -100.0, -100.0], -115.0)')"
   ]
  }
 ],
 "metadata": {
  "kernelspec": {
   "display_name": "llm",
   "language": "python",
   "name": "python3"
  },
  "language_info": {
   "codemirror_mode": {
    "name": "ipython",
    "version": 3
   },
   "file_extension": ".py",
   "mimetype": "text/x-python",
   "name": "python",
   "nbconvert_exporter": "python",
   "pygments_lexer": "ipython3",
   "version": "3.12.3"
  }
 },
 "nbformat": 4,
 "nbformat_minor": 2
}
