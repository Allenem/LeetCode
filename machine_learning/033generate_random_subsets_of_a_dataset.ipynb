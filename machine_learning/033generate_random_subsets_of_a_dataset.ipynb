{
 "cells": [
  {
   "cell_type": "markdown",
   "metadata": {},
   "source": [
    "# Generate Random Subsets of a Dataset\n",
    "\n",
    "Write a Python function to generate random subsets of a given dataset. The function should take in a 2D numpy array X, a 1D numpy array y, an integer n_subsets, and a boolean replacements. It should return a list of n_subsets random subsets of the dataset, where each subset is a tuple of (X_subset, y_subset). If replacements is True, the subsets should be created with replacements; otherwise, without replacements.\n",
    "\n",
    "Example:\n",
    "```\n",
    "    X = np.array([[1, 2],\n",
    "                  [3, 4],\n",
    "                  [5, 6],\n",
    "                  [7, 8],\n",
    "                  [9, 10]])\n",
    "    y = np.array([1, 2, 3, 4, 5])\n",
    "    n_subsets = 3\n",
    "    replacements = False\n",
    "    get_random_subsets(X, y, n_subsets, replacements)\n",
    "    \n",
    "    Output:\n",
    "    [array([[7, 8],\n",
    "            [1, 2]]), \n",
    "     array([4, 1])]\n",
    "     \n",
    "    [array([[9, 10],\n",
    "            [5, 6]]), \n",
    "     array([5, 3])]\n",
    "     \n",
    "    [array([[3, 4],\n",
    "            [5, 6]]), \n",
    "     array([2, 3])]\n",
    "    \n",
    "    Reasoning:\n",
    "    The function generates three random subsets of the dataset without replacements.\n",
    "    Each subset includes 50% of the samples (since replacements=False). The samples\n",
    "    are randomly selected without duplication.\n",
    "```  \n",
    "  \n",
    "## Understanding Random Subsets of a Dataset\n",
    "\n",
    "Generating random subsets of a dataset is a useful technique in machine learning, particularly in ensemble methods like bagging and random forests. By creating random subsets, models can be trained on different parts of the data, which helps in reducing overfitting and improving generalization.\n",
    "\n",
    "In this problem, you will write a function to generate random subsets of a given dataset. Given a 2D numpy array X, a 1D numpy array y, an integer n_subsets, and a boolean replacements, the function will create a list of n_subsets random subsets. Each subset will be a tuple of (X_subset, y_subset).\n",
    "\n",
    "If replacements is True, the subsets will be created with replacements, meaning that samples can be repeated in a subset. The subset size should be the same as the original dataset in this case. If replacements is False, the subsets will be created without replacements, meaning that samples cannot be repeated within a subset. The subset size should take the floor of the original dataset size divided by 2 if replacements is False\n",
    "\n",
    "By understanding and implementing this technique, you can enhance the performance of your models through techniques like bootstrapping and ensemble learning."
   ]
  },
  {
   "cell_type": "code",
   "execution_count": 1,
   "metadata": {},
   "outputs": [],
   "source": [
    "import numpy as np\n",
    "\n",
    "def get_random_subsets(X, y, n_subsets, replacements=True, seed=42):\n",
    "\t# Your code here\n",
    "\tnp.random.seed(seed)\n",
    "\tn, m = X.shape\n",
    "\tsub_sz = n if replacements else n//2\n",
    "\tidxs = np.array([np.random.choice(n, sub_sz, replace=replacements) for _ in range(n_subsets)])\n",
    "\treturn [[X[idxs][i].tolist(), y[idxs][i].tolist()] for i in range(n_subsets)]"
   ]
  },
  {
   "cell_type": "code",
   "execution_count": 2,
   "metadata": {},
   "outputs": [
    {
     "name": "stdout",
     "output_type": "stream",
     "text": [
      "Input:\n",
      "X = np.array([[1, 2], [3, 4], [5, 6], [7, 8], [9, 10]])\n",
      "y = np.array([1, 2, 3, 4, 5])\n",
      "print(get_random_subsets(X,y, 3, False, seed=42))\n",
      "\n",
      "Output:\n",
      "[[[[3, 4], [9, 10]], [2, 5]], [[[7, 8], [3, 4]], [4, 2]], [[[3, 4], [1, 2]], [2, 1]]]\n",
      "\n",
      "Expected:\n",
      "[[[[3, 4], [9, 10]], [2, 5]], [[[7, 8], [3, 4]], [4, 2]], [[[3, 4], [1, 2]], [2, 1]]]\n"
     ]
    }
   ],
   "source": [
    "X = np.array([[1, 2], [3, 4], [5, 6], [7, 8], [9, 10]])\n",
    "y = np.array([1, 2, 3, 4, 5])\n",
    "\n",
    "print('Input:')\n",
    "print('X = np.array([[1, 2], [3, 4], [5, 6], [7, 8], [9, 10]])\\n\\\n",
    "y = np.array([1, 2, 3, 4, 5])\\n\\\n",
    "print(get_random_subsets(X,y, 3, False, seed=42))')\n",
    "print()\n",
    "print('Output:')\n",
    "print(get_random_subsets(X, y, 3, False, seed=42))\n",
    "print()\n",
    "print('Expected:')\n",
    "print('[[[[3, 4], [9, 10]], [2, 5]], [[[7, 8], [3, 4]], [4, 2]], [[[3, 4], [1, 2]], [2, 1]]]')"
   ]
  },
  {
   "cell_type": "code",
   "execution_count": 3,
   "metadata": {},
   "outputs": [
    {
     "name": "stdout",
     "output_type": "stream",
     "text": [
      "Input:\n",
      "X = np.array([[1, 1], [2, 2], [3, 3], [4, 4]])\n",
      "y = np.array([10, 20, 30, 40])\n",
      "print(get_random_subsets(X, y, 1, True, seed=42))\n",
      "\n",
      "Output:\n",
      "[[[[3, 3], [4, 4], [1, 1], [3, 3]], [30, 40, 10, 30]]]\n",
      "\n",
      "Expected:\n",
      "[[[[3, 3], [4, 4], [1, 1], [3, 3]], [30, 40, 10, 30]]]\n"
     ]
    }
   ],
   "source": [
    "X = np.array([[1, 1], [2, 2], [3, 3], [4, 4]])\n",
    "y = np.array([10, 20, 30, 40])\n",
    "\n",
    "print('Input:')\n",
    "print('X = np.array([[1, 1], [2, 2], [3, 3], [4, 4]])\\n\\\n",
    "y = np.array([10, 20, 30, 40])\\n\\\n",
    "print(get_random_subsets(X, y, 1, True, seed=42))')\n",
    "print()\n",
    "print('Output:')\n",
    "print(get_random_subsets(X, y, 1, True, seed=42))\n",
    "print()\n",
    "print('Expected:')\n",
    "print('[[[[3, 3], [4, 4], [1, 1], [3, 3]], [30, 40, 10, 30]]]')"
   ]
  }
 ],
 "metadata": {
  "kernelspec": {
   "display_name": "llm",
   "language": "python",
   "name": "python3"
  },
  "language_info": {
   "codemirror_mode": {
    "name": "ipython",
    "version": 3
   },
   "file_extension": ".py",
   "mimetype": "text/x-python",
   "name": "python",
   "nbconvert_exporter": "python",
   "pygments_lexer": "ipython3",
   "version": "3.12.3"
  }
 },
 "nbformat": 4,
 "nbformat_minor": 2
}
