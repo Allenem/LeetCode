{
 "cells": [
  {
   "cell_type": "markdown",
   "metadata": {},
   "source": [
    "# Solve Linear Equations using Jacobi Method (medium)\n",
    "\n",
    "Write a Python function that uses the Jacobi method to solve a system of linear equations given by Ax = b. The function should iterate n times, rounding each intermediate solution to four decimal places, and return the approximate solution x.\n",
    "\n",
    "Example:\n",
    "```python\n",
    "        input: A = [[5, -2, 3], [-3, 9, 1], [2, -1, -7]], b = [-1, 2, 3], n=2\n",
    "        output: [0.146, 0.2032, -0.5175]\n",
    "        reasoning: The Jacobi method iteratively solves each equation for x[i] using the formula x[i] = (1/a_ii) * (b[i] - sum(a_ij * x[j] for j != i)), where a_ii is the diagonal element of A and a_ij are the off-diagonal elements.\n",
    "```"
   ]
  },
  {
   "cell_type": "markdown",
   "metadata": {},
   "source": [
    "## Solving Linear Equations Using the Jacobi Method\n",
    "\n",
    "The Jacobi method is an iterative algorithm used for solving a system of linear equations $Ax = b$. This method is particularly useful for large systems where direct methods like Gaussian elimination are computationally expensive.\n",
    "\n",
    "## Algorithm Overview\n",
    "\n",
    "For a system of equations represented by $Ax = b$, where $A$ is a matrix and $x$ and $b$ are vectors, the Jacobi method involves the following steps:\n",
    "\n",
    "1. **Initialization**: Start with an initial guess for $x$.\n",
    "2. **Iteration**: For each equation $i$, update $x[i]$ using:\n",
    " \n",
    "$$\n",
    "x[i] = \\frac{1}{a_{ii}} \\left(b[i] - \\sum_{j \\neq i} a_{ij} x[j]\\right)\n",
    "$$ \n",
    " \n",
    "where $a_{ii}$ is the diagonal element of $A$ and $a_{ij}$ are the off-diagonal elements.\n",
    "\n",
    "3. **Convergence**: Repeat the iteration until the changes in $x$ are below a certain tolerance or until a maximum number of iterations is reached.\n",
    "\n",
    "This method assumes that all diagonal elements of $A$ are non-zero and that the matrix is diagonally dominant or properly conditioned for convergence.\n",
    "\n",
    "## Practical Considerations\n",
    "\n",
    "- The method may not converge for all matrices.\n",
    "- Choosing a good initial guess can improve convergence.\n",
    "- Diagonal dominance of $A$ ensures convergence of the Jacobi method."
   ]
  },
  {
   "cell_type": "code",
   "execution_count": 1,
   "metadata": {},
   "outputs": [],
   "source": [
    "import numpy as np\n",
    "\n",
    "def solve_jacobi(A: np.ndarray, b: np.ndarray, n: int) -> list:\n",
    "    m = len(b)\n",
    "    x = np.zeros(m)\n",
    "    for _ in range(n):\n",
    "        x = [round(1 / A[i][i] * (b[i] - sum(A[i][j]*x[j] for j in range(m) if i!=j)), 4) for i in range(m)]\n",
    "    return x"
   ]
  },
  {
   "cell_type": "code",
   "execution_count": 2,
   "metadata": {},
   "outputs": [],
   "source": [
    "def err(x: list, y: list) -> float:\n",
    "    return max(abs(x[i] - y[i]) for i in range(len(x)))"
   ]
  },
  {
   "cell_type": "code",
   "execution_count": 3,
   "metadata": {},
   "outputs": [
    {
     "name": "stdout",
     "output_type": "stream",
     "text": [
      "Test Case 1: Accepted\n",
      "Input:\n",
      "print(solve_jacobi(np.array([[5, -2, 3], [-3, 9, 1], [2, -1, -7]]), np.array([-1, 2, 3]), 2))\n",
      "\n",
      "Output:\n",
      "[0.146, 0.2032, -0.5175]\n",
      "\n",
      "Expected:\n",
      "[0.146, 0.2032, -0.5175]\n",
      "\n",
      "\n",
      "Test Case 2: Accepted\n",
      "Input:\n",
      "print(solve_jacobi(np.array([[4, 1, 2], [1, 5, 1], [2, 1, 3]]), np.array([4, 6, 7]), 5))\n",
      "\n",
      "Output:\n",
      "[-0.0805, 0.9324, 2.4422]\n",
      "\n",
      "Expected:\n",
      "[-0.0806, 0.9324, 2.4422]\n",
      "\n",
      "\n",
      "Test Case 3: Accepted\n",
      "Input:\n",
      "print(solve_jacobi(np.array([[4, 2, -2], [1, -3, -1], [3, -1, 4]]), np.array([0, 7, 5]), 3))\n",
      "\n",
      "Output:\n",
      "[1.7084, -1.9584, -0.7812]\n",
      "\n",
      "Expected:\n",
      "[1.7083, -1.9583, -0.7812]\n"
     ]
    }
   ],
   "source": [
    "print('Test Case 1: Accepted') if err(solve_jacobi(np.array([[5, -2, 3], [-3, 9, 1], [2, -1, -7]]), np.array([-1, 2, 3]), 2), [0.146, 0.2032, -0.5175]) <= 0.001 else print('Test Case 1: Rejected')\n",
    "print('Input:')\n",
    "print('print(solve_jacobi(np.array([[5, -2, 3], [-3, 9, 1], [2, -1, -7]]), np.array([-1, 2, 3]), 2))')\n",
    "print()\n",
    "print('Output:')\n",
    "print(solve_jacobi(np.array([[5, -2, 3], [-3, 9, 1], [2, -1, -7]]), np.array([-1, 2, 3]), 2))\n",
    "print()\n",
    "print('Expected:')\n",
    "print('[0.146, 0.2032, -0.5175]')\n",
    "print()\n",
    "print()\n",
    "\n",
    "print('Test Case 2: Accepted') if err(solve_jacobi(np.array([[4, 1, 2], [1, 5, 1], [2, 1, 3]]), np.array([4, 6, 7]), 5), [-0.0806, 0.9324, 2.4422]) <= 0.001 else print('Test Case 2: Rejected')\n",
    "print('Input:')\n",
    "print('print(solve_jacobi(np.array([[4, 1, 2], [1, 5, 1], [2, 1, 3]]), np.array([4, 6, 7]), 5))')\n",
    "print()\n",
    "print('Output:')\n",
    "print(solve_jacobi(np.array([[4, 1, 2], [1, 5, 1], [2, 1, 3]]), np.array([4, 6, 7]), 5))\n",
    "print()\n",
    "print('Expected:')\n",
    "print('[-0.0806, 0.9324, 2.4422]')\n",
    "print()\n",
    "print()\n",
    "\n",
    "print('Test Case 3: Accepted') if err(solve_jacobi(np.array([[4, 2, -2], [1, -3, -1], [3, -1, 4]]), np.array([0, 7, 5]), 3), [1.7083, -1.9583, -0.7812]) <= 0.001 else print('Test Case 3: Rejected')\n",
    "print('Input:')\n",
    "print('print(solve_jacobi(np.array([[4, 2, -2], [1, -3, -1], [3, -1, 4]]), np.array([0, 7, 5]), 3))')\n",
    "print()\n",
    "print('Output:')\n",
    "print(solve_jacobi(np.array([[4, 2, -2], [1, -3, -1], [3, -1, 4]]), np.array([0, 7, 5]), 3))\n",
    "print()\n",
    "print('Expected:')\n",
    "print('[1.7083, -1.9583, -0.7812]')"
   ]
  }
 ],
 "metadata": {
  "kernelspec": {
   "display_name": "llm",
   "language": "python",
   "name": "python3"
  },
  "language_info": {
   "codemirror_mode": {
    "name": "ipython",
    "version": 3
   },
   "file_extension": ".py",
   "mimetype": "text/x-python",
   "name": "python",
   "nbconvert_exporter": "python",
   "pygments_lexer": "ipython3",
   "version": "3.12.3"
  }
 },
 "nbformat": 4,
 "nbformat_minor": 2
}
