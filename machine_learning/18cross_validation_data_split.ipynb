{
 "cells": [
  {
   "cell_type": "markdown",
   "metadata": {},
   "source": [
    "# Cross-Validation Data Split Implementation (medium)\n",
    "\n",
    "Write a Python function that performs k-fold cross-validation data splitting from scratch. The function should take a dataset (as a 2D NumPy array where each row represents a data sample and each column represents a feature) and an integer k representing the number of folds. The function should split the dataset into k parts, systematically use one part as the test set and the remaining as the training set, and return a list where each element is a tuple containing the training set and test set for each fold.\n",
    "\n",
    "Example:\n",
    "```python\n",
    "        input: data = np.array([[1, 2], [3, 4], [5, 6], [7, 8], [9, 10]]), k = 5\n",
    "        output: [[[[3, 4], [5, 6], [7, 8], [9, 10]], [[1, 2]]],\n",
    "                [[[1, 2], [5, 6], [7, 8], [9, 10]], [[3, 4]]],\n",
    "                [[[1, 2], [3, 4], [7, 8], [9, 10]], [[5, 6]]], \n",
    "                [[[1, 2], [3, 4], [5, 6], [9, 10]], [[7, 8]]], \n",
    "                [[[1, 2], [3, 4], [5, 6], [7, 8]], [[9, 10]]]]\n",
    "        reasoning: The dataset is divided into 5 parts, each being used once as a test set while the remaining parts serve as the training set.\n",
    "```"
   ]
  },
  {
   "cell_type": "markdown",
   "metadata": {},
   "source": [
    "## Understanding k-Fold Cross-Validation Data Splitting\n",
    "\n",
    "k-Fold cross-validation is a technique used to evaluate the generalizability of a model by dividing the data into `k` folds or subsets. Each fold acts as a test set once, with the remaining `k-1` folds serving as the training set. This approach ensures that every data point gets used for both training and testing, improving model validation.\n",
    "\n",
    "## Steps in k-Fold Cross-Validation Data Split:\n",
    "- Shuffle the dataset randomly. (but not in this case because we test for a unique result)\n",
    "- Split the dataset into k groups.\n",
    "- Generate Data Splits: For each group, treat that group as the test set and the remaining groups as the training set.\n",
    "\n",
    "## Benefits of this Approach:\n",
    "- Ensures all data is used for both training and testing. - Reduces bias since each data point gets to be in a test set exactly once. \n",
    "- Provides a more robust estimate of model performance. Implementing this data split function will allow a deeper understanding of how data partitioning affects machine learning models and will provide a foundation for more complex validation techniques."
   ]
  },
  {
   "cell_type": "code",
   "execution_count": 1,
   "metadata": {},
   "outputs": [],
   "source": [
    "import numpy as np\n",
    "\n",
    "def cross_validation_split(data: np.ndarray, k: int, seed=42) -> list:\n",
    "\tnp.random.seed(seed)\n",
    "\tnp.random.shuffle(data)\n",
    "\t\n",
    "\tm, _ = data.shape\n",
    "\ttest_sz = int(np.ceil(m / k))\n",
    "\tid_ss = np.arange(0, m, test_sz)\n",
    "\tid_es = id_ss + test_sz\n",
    "\tif id_es[-1] > m: id_es[-1] = m\n",
    "\t\n",
    "\tfolds = [[ data[: id_ss[i]].tolist() + data[id_es[i]:].tolist(), data[id_ss[i]:id_es[i]].tolist() ] for i in range(k)]\n",
    "\t\n",
    "\treturn folds"
   ]
  },
  {
   "cell_type": "code",
   "execution_count": 4,
   "metadata": {},
   "outputs": [
    {
     "name": "stdout",
     "output_type": "stream",
     "text": [
      "Test Case 1: Accepted\n",
      "Input:\n",
      "print(cross_validation_split(np.array([[1, 2], [3, 4], [5, 6], [7, 8], [9, 10]]), 5, 42))\n",
      "\n",
      "Output:\n",
      "[[[[9, 10], [5, 6], [1, 2], [7, 8]], [[3, 4]]], [[[3, 4], [5, 6], [1, 2], [7, 8]], [[9, 10]]], [[[3, 4], [9, 10], [1, 2], [7, 8]], [[5, 6]]], [[[3, 4], [9, 10], [5, 6], [7, 8]], [[1, 2]]], [[[3, 4], [9, 10], [5, 6], [1, 2]], [[7, 8]]]]\n",
      "\n",
      "Expected:\n",
      "[[[[9, 10], [5, 6], [1, 2], [7, 8]], [[3, 4]]], [[[3, 4], [5, 6], [1, 2], [7, 8]], [[9, 10]]], [[[3, 4], [9, 10], [1, 2], [7, 8]], [[5, 6]]], [[[3, 4], [9, 10], [5, 6], [7, 8]], [[1, 2]]], [[[3, 4], [9, 10], [5, 6], [1, 2]], [[7, 8]]]]\n"
     ]
    }
   ],
   "source": [
    "print('Test Case 1: Accepted') if cross_validation_split(np.array([[1, 2], [3, 4], [5, 6], [7, 8], [9, 10]]), 5, 42) == [[[[9, 10], [5, 6], [1, 2], [7, 8]], [[3, 4]]], [[[3, 4], [5, 6], [1, 2], [7, 8]], [[9, 10]]], [[[3, 4], [9, 10], [1, 2], [7, 8]], [[5, 6]]], [[[3, 4], [9, 10], [5, 6], [7, 8]], [[1, 2]]], [[[3, 4], [9, 10], [5, 6], [1, 2]], [[7, 8]]]] else print('Test Case 1: Rejected')\n",
    "print('Input:')\n",
    "print('print(cross_validation_split(np.array([[1, 2], [3, 4], [5, 6], [7, 8], [9, 10]]), 5, 42))')\n",
    "print()\n",
    "print('Output:')\n",
    "print(cross_validation_split(np.array([[1, 2], [3, 4], [5, 6], [7, 8], [9, 10]]), 5, 42))\n",
    "print()\n",
    "print('Expected:')\n",
    "print('[[[[9, 10], [5, 6], [1, 2], [7, 8]], [[3, 4]]], [[[3, 4], [5, 6], [1, 2], [7, 8]], [[9, 10]]], [[[3, 4], [9, 10], [1, 2], [7, 8]], [[5, 6]]], [[[3, 4], [9, 10], [5, 6], [7, 8]], [[1, 2]]], [[[3, 4], [9, 10], [5, 6], [1, 2]], [[7, 8]]]]')"
   ]
  },
  {
   "cell_type": "code",
   "execution_count": 5,
   "metadata": {},
   "outputs": [
    {
     "name": "stdout",
     "output_type": "stream",
     "text": [
      "Test Case 2: Accepted\n",
      "Input:\n",
      "print(cross_validation_split(np.array([[1, 2], [3, 4], [5, 6], [7, 8], [9, 10]]), 2, 42))\n",
      "\n",
      "Output:\n",
      "[[[[1, 2], [7, 8]], [[3, 4], [9, 10], [5, 6]]], [[[3, 4], [9, 10], [5, 6]], [[1, 2], [7, 8]]]]\n",
      "\n",
      "Expected:\n",
      "[[[[1, 2], [7, 8]], [[3, 4], [9, 10], [5, 6]]], [[[3, 4], [9, 10], [5, 6]], [[1, 2], [7, 8]]]]\n"
     ]
    }
   ],
   "source": [
    "print('Test Case 2: Accepted') if cross_validation_split(np.array([[1, 2], [3, 4], [5, 6], [7, 8], [9, 10]]), 2, 42) == [[[[1, 2], [7, 8]], [[3, 4], [9, 10], [5, 6]]], [[[3, 4], [9, 10], [5, 6]], [[1, 2], [7, 8]]]] else print('Test Case 2: Rejected')\n",
    "print('Input:')\n",
    "print('print(cross_validation_split(np.array([[1, 2], [3, 4], [5, 6], [7, 8], [9, 10]]), 2, 42))')\n",
    "print()\n",
    "print('Output:')\n",
    "print(cross_validation_split(np.array([[1, 2], [3, 4], [5, 6], [7, 8], [9, 10]]), 2, 42))\n",
    "print()\n",
    "print('Expected:')\n",
    "print('[[[[1, 2], [7, 8]], [[3, 4], [9, 10], [5, 6]]], [[[3, 4], [9, 10], [5, 6]], [[1, 2], [7, 8]]]]')"
   ]
  },
  {
   "cell_type": "code",
   "execution_count": 6,
   "metadata": {},
   "outputs": [
    {
     "name": "stdout",
     "output_type": "stream",
     "text": [
      "Test Case 3: Accepted\n",
      "Input:\n",
      "print(cross_validation_split(np.array([[1, 2], [3, 4], [5, 6], [7, 8], [9, 10], [11, 12], [13, 14], [15, 16]]), 3, 42))\n",
      "\n",
      "Output:\n",
      "[[[[15, 16], [5, 6], [9, 10], [7, 8], [13, 14]], [[3, 4], [11, 12], [1, 2]]], [[[3, 4], [11, 12], [1, 2], [7, 8], [13, 14]], [[15, 16], [5, 6], [9, 10]]], [[[3, 4], [11, 12], [1, 2], [15, 16], [5, 6], [9, 10]], [[7, 8], [13, 14]]]]\n",
      "\n",
      "Expected:\n",
      "[[[[15, 16], [5, 6], [9, 10], [7, 8], [13, 14]], [[3, 4], [11, 12], [1, 2]]], [[[3, 4], [11, 12], [1, 2], [7, 8], [13, 14]], [[15, 16], [5, 6], [9, 10]]], [[[3, 4], [11, 12], [1, 2], [15, 16], [5, 6], [9, 10]], [[7, 8], [13, 14]]]]\n"
     ]
    }
   ],
   "source": [
    "print('Test Case 3: Accepted') if cross_validation_split(np.array([[1, 2], [3, 4], [5, 6], [7, 8], [9, 10], [11, 12], [13, 14], [15, 16]]), 3, 42) == [[[[15, 16], [5, 6], [9, 10], [7, 8], [13, 14]], [[3, 4], [11, 12], [1, 2]]], [[[3, 4], [11, 12], [1, 2], [7, 8], [13, 14]], [[15, 16], [5, 6], [9, 10]]], [[[3, 4], [11, 12], [1, 2], [15, 16], [5, 6], [9, 10]], [[7, 8], [13, 14]]]] else print('Test Case 3: Rejected')\n",
    "print('Input:')\n",
    "print('print(cross_validation_split(np.array([[1, 2], [3, 4], [5, 6], [7, 8], [9, 10], [11, 12], [13, 14], [15, 16]]), 3, 42))')\n",
    "print()\n",
    "print('Output:')\n",
    "print(cross_validation_split(np.array([[1, 2], [3, 4], [5, 6], [7, 8], [9, 10], [11, 12], [13, 14], [15, 16]]), 3, 42))\n",
    "print()\n",
    "print('Expected:')\n",
    "print('[[[[15, 16], [5, 6], [9, 10], [7, 8], [13, 14]], [[3, 4], [11, 12], [1, 2]]], [[[3, 4], [11, 12], [1, 2], [7, 8], [13, 14]], [[15, 16], [5, 6], [9, 10]]], [[[3, 4], [11, 12], [1, 2], [15, 16], [5, 6], [9, 10]], [[7, 8], [13, 14]]]]')"
   ]
  }
 ],
 "metadata": {
  "kernelspec": {
   "display_name": "llm",
   "language": "python",
   "name": "python3"
  },
  "language_info": {
   "codemirror_mode": {
    "name": "ipython",
    "version": 3
   },
   "file_extension": ".py",
   "mimetype": "text/x-python",
   "name": "python",
   "nbconvert_exporter": "python",
   "pygments_lexer": "ipython3",
   "version": "3.12.3"
  }
 },
 "nbformat": 4,
 "nbformat_minor": 2
}
