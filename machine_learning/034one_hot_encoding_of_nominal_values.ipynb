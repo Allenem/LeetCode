{
 "cells": [
  {
   "cell_type": "markdown",
   "metadata": {},
   "source": [
    "# One-Hot Encoding of Nominal Values\n",
    "Write a Python function to perform one-hot encoding of nominal values. The function should take in a 1D numpy array x of integer values and an optional integer n_col representing the number of columns for the one-hot encoded array. If n_col is not provided, it should be automatically determined from the input array.\n",
    "\n",
    "Example:\n",
    "```python\n",
    "    x = np.array([0, 1, 2, 1, 0])\n",
    "    output = to_categorical(x)\n",
    "    print(output)\n",
    "    # Output:\n",
    "    # [[1. 0. 0.]\n",
    "    #  [0. 1. 0.]\n",
    "    #  [0. 0. 1.]\n",
    "    #  [0. 1. 0.]\n",
    "    #  [1. 0. 0.]]\n",
    "    \n",
    "    Reasoning:\n",
    "    Each element in the input array is transformed into a one-hot encoded vector,\n",
    "    where the index corresponding to the value in the input array is set to 1, \n",
    "    and all other indices are set to 0.\n",
    "```"
   ]
  },
  {
   "cell_type": "markdown",
   "metadata": {},
   "source": [
    "## Understanding One-Hot Encoding\n",
    "\n",
    "One-hot encoding is a method used to represent categorical variables as binary vectors. This technique is useful in machine learning when dealing with categorical data that has no ordinal relationship.\n",
    "\n",
    "In one-hot encoding, each category is represented by a binary vector with a length equal to the number of categories. The vector has a value of 1 at the index corresponding to the category and 0 at all other indices.\n",
    "\n",
    "For example, if you have three categories: 0, 1, and 2, the one-hot encoded vectors would be:\n",
    "\n",
    "- 0: [1, 0, 0]\n",
    "- 1: [0, 1, 0]\n",
    "- 2: [0, 0, 1]\n",
    "\n",
    "This method ensures that the model does not assume any ordinal relationship between categories, which is crucial for many machine learning algorithms. The one-hot encoding process can be mathematically represented as follows:\n",
    "\n",
    "Given a category $x_i$ from a set of categories {0, 1, ..., n-1}, the one-hot encoded vector $v$ is:\n",
    "\n",
    "$$\n",
    "v_i = \\begin{cases}\n",
    "1 & \\text{if } i = x_i \\\\\n",
    "0 & \\text{otherwise}\n",
    "\\end{cases}\n",
    "$$\n",
    " \n",
    "This vector $v$ will have a length equal to the number of unique categories."
   ]
  },
  {
   "cell_type": "code",
   "execution_count": 1,
   "metadata": {},
   "outputs": [],
   "source": [
    "import numpy as np\n",
    "\n",
    "def to_categorical(x, n_col=None):\n",
    "    if not n_col: n_col = np.max(x) + 1\n",
    "    one_hot = np.zeros((x.shape[0], n_col))\n",
    "    # [0, 1, 2, 3, 4], [0, 1, 2, 1, 0]\n",
    "    # 两两组成索引 [0,0] [1,1] [2,2] [3,1] [4,0]\n",
    "    one_hot[np.arange(x.shape[0]), x] = 1\n",
    "    return one_hot"
   ]
  },
  {
   "cell_type": "code",
   "execution_count": 2,
   "metadata": {},
   "outputs": [
    {
     "name": "stdout",
     "output_type": "stream",
     "text": [
      "Test Case 1: Accepted\n",
      "Input:\n",
      "print(to_categorical(np.array([0, 1, 2, 1, 0])))\n",
      "\n",
      "Output:\n",
      "[[1. 0. 0.]\n",
      " [0. 1. 0.]\n",
      " [0. 0. 1.]\n",
      " [0. 1. 0.]\n",
      " [1. 0. 0.]]\n",
      "\n",
      "Expected:\n",
      "[[1., 0., 0.], [0., 1., 0.], [0., 0., 1.], [0., 1., 0.], [1., 0., 0.]]\n",
      "\n",
      "\n",
      "Test Case 2: Accepted\n",
      "Input:\n",
      "print(to_categorical(np.array([3, 1, 2, 1, 3]), 4))\n",
      "\n",
      "Output:\n",
      "[[0. 0. 0. 1.]\n",
      " [0. 1. 0. 0.]\n",
      " [0. 0. 1. 0.]\n",
      " [0. 1. 0. 0.]\n",
      " [0. 0. 0. 1.]]\n",
      "\n",
      "Expected:\n",
      "[[0., 0., 0., 1.], [0., 1., 0., 0.], [0., 0., 1., 0.], [0., 1., 0., 0.], [0., 0., 0., 1.]]\n"
     ]
    }
   ],
   "source": [
    "print('Test Case 1: Accepted') if np.all(to_categorical(np.array([0, 1, 2, 1, 0])) == np.array([[1., 0., 0.], [0., 1., 0.], [0., 0., 1.], [0., 1., 0.], [1., 0., 0.]])) else print('Test Case 1: Rejected')\n",
    "print('Input:')\n",
    "print('print(to_categorical(np.array([0, 1, 2, 1, 0])))')\n",
    "print()\n",
    "print('Output:')\n",
    "print(to_categorical(np.array([0, 1, 2, 1, 0])))\n",
    "print()\n",
    "print('Expected:')\n",
    "print('[[1., 0., 0.], [0., 1., 0.], [0., 0., 1.], [0., 1., 0.], [1., 0., 0.]]')\n",
    "print()\n",
    "print()\n",
    "\n",
    "print('Test Case 2: Accepted') if np.all(to_categorical(np.array([3, 1, 2, 1, 3]), 4) == np.array([[0., 0., 0., 1.], [0., 1., 0., 0.], [0., 0., 1., 0.], [0., 1., 0., 0.], [0., 0., 0., 1.]])) else print('Test Case 2: Rejected')\n",
    "print('Input:')\n",
    "print('print(to_categorical(np.array([3, 1, 2, 1, 3]), 4))')\n",
    "print()\n",
    "print('Output:')\n",
    "print(to_categorical(np.array([3, 1, 2, 1, 3]), 4))\n",
    "print()\n",
    "print('Expected:')\n",
    "print('[[0., 0., 0., 1.], [0., 1., 0., 0.], [0., 0., 1., 0.], [0., 1., 0., 0.], [0., 0., 0., 1.]]')"
   ]
  }
 ],
 "metadata": {
  "kernelspec": {
   "display_name": "llm",
   "language": "python",
   "name": "python3"
  },
  "language_info": {
   "codemirror_mode": {
    "name": "ipython",
    "version": 3
   },
   "file_extension": ".py",
   "mimetype": "text/x-python",
   "name": "python",
   "nbconvert_exporter": "python",
   "pygments_lexer": "ipython3",
   "version": "3.12.3"
  }
 },
 "nbformat": 4,
 "nbformat_minor": 2
}
