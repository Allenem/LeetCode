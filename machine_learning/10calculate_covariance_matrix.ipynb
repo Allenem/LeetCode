{
 "cells": [
  {
   "cell_type": "markdown",
   "metadata": {},
   "source": [
    "# Calculate Covariance Matrix (medium)\n",
    "\n",
    "Write a Python function that calculates the covariance matrix from a list of vectors. Assume that the input list represents a dataset where each vector is a feature, and vectors are of equal length.\n",
    "\n",
    "Example:\n",
    "```python\n",
    "input: vectors = [[1, 2, 3], [4, 5, 6]]\n",
    "output: [[1.0, 1.0], [1.0, 1.0]]\n",
    "reasoning: The dataset has two features with three observations each. The covariance between each pair of features (including covariance with itself) is calculated and returned as a 2x2 matrix.\n",
    "```"
   ]
  },
  {
   "cell_type": "markdown",
   "metadata": {},
   "source": [
    "## Calculate Covariance Matrix\n",
    "\n",
    "The covariance matrix is a fundamental concept in statistics, illustrating how much two random variables change together. It's essential for understanding the relationships between variables in a dataset. For a dataset with $n$ features, the covariance matrix is an $n \\times n$ square matrix where each element (i, j) represents the covariance between the $i$-th and $j$-th features. Covariance is defined by the formula:\n",
    "\n",
    "$$\n",
    "\\text{cov}(X, Y) = \\frac{\\sum_{i=1}^{n} (x_i - \\bar{x}) (y_i - \\bar{y})}{n-1}\n",
    "$$\n",
    " \n",
    "Where: \n",
    "- $X$ and $Y$ are two random variables (features),\n",
    "- $x_i$ and $y_i$ are individual observations of $X$ and $Y$,\n",
    "- $\\bar{x}$ and $\\bar{y}$ are the means of $X$ and $Y$,\n",
    "- $n$ is the number of observations.\n",
    "- The diagonal elements (where $i = j$) indicate the variance of each feature.\n",
    "- The off-diagonal elements show the covariance between different features. \n",
    "\n",
    "This matrix is symmetric, as the covariance between $X$ and $Y$ is equal to the covariance between $Y$ and $X$, denoted as $\\text{cov}(X, Y) = \\text{cov}(Y, X)$."
   ]
  },
  {
   "cell_type": "code",
   "execution_count": 1,
   "metadata": {},
   "outputs": [],
   "source": [
    "def calculate_covariance_matrix(vectors: list[list[float]]) -> list[list[float]]:\n",
    "\t\n",
    "\tm, n = len(vectors), len(vectors[0])\n",
    "\tmean = [sum(vectors[i])/n for i in range(m)]\n",
    "\tcovariance_matrix = [[0] * m for _ in range(m)]\n",
    "\tfor i in range(m):\n",
    "\t\tfor j in range(m):\n",
    "\t\t\tcovariance_matrix[i][j] = sum((vectors[i][k]-mean[i])*(vectors[j][k]-mean[j]) for k in range(n)) / (n - 1)\n",
    "\t\n",
    "\treturn covariance_matrix"
   ]
  },
  {
   "cell_type": "code",
   "execution_count": 2,
   "metadata": {},
   "outputs": [
    {
     "name": "stdout",
     "output_type": "stream",
     "text": [
      "Test Case 1: Accepted\n",
      "Input:\n",
      "print(calculate_covariance_matrix([[1, 2, 3], [4, 5, 6]]))\n",
      "\n",
      "Output:\n",
      "[[1.0, 1.0], [1.0, 1.0]]\n",
      "\n",
      "Expected:\n",
      "[[1.0, 1.0], [1.0, 1.0]]\n",
      "\n",
      "\n",
      "Test Case 2: Accepted\n",
      "Input:\n",
      "print(calculate_covariance_matrix([[1, 5, 6], [2, 3, 4], [7, 8, 9]]))\n",
      "\n",
      "Output:\n",
      "[[7.0, 2.5, 2.5], [2.5, 1.0, 1.0], [2.5, 1.0, 1.0]]\n",
      "\n",
      "Expected:\n",
      "[[7.0, 2.5, 2.5], [2.5, 1.0, 1.0], [2.5, 1.0, 1.0]]\n"
     ]
    }
   ],
   "source": [
    "print('Test Case 1: Accepted') if calculate_covariance_matrix([[1, 2, 3], [4, 5, 6]]) == [[1.0, 1.0], [1.0, 1.0]] else print('Test Case 1: Rejected')\n",
    "print('Input:')\n",
    "print('print(calculate_covariance_matrix([[1, 2, 3], [4, 5, 6]]))')\n",
    "print()\n",
    "print('Output:')\n",
    "print(calculate_covariance_matrix([[1, 2, 3], [4, 5, 6]]))\n",
    "print()\n",
    "print('Expected:')\n",
    "print('[[1.0, 1.0], [1.0, 1.0]]')\n",
    "print()\n",
    "print()\n",
    "\n",
    "print('Test Case 2: Accepted') if calculate_covariance_matrix([[1, 5, 6], [2, 3, 4], [7, 8, 9]]) == [[7.0, 2.5, 2.5], [2.5, 1.0, 1.0], [2.5, 1.0, 1.0]] else print('Test Case 2: Rejected')\n",
    "print('Input:')\n",
    "print('print(calculate_covariance_matrix([[1, 5, 6], [2, 3, 4], [7, 8, 9]]))')\n",
    "print()\n",
    "print('Output:')\n",
    "print(calculate_covariance_matrix([[1, 5, 6], [2, 3, 4], [7, 8, 9]]))\n",
    "print()\n",
    "print('Expected:')\n",
    "print('[[7.0, 2.5, 2.5], [2.5, 1.0, 1.0], [2.5, 1.0, 1.0]]')"
   ]
  }
 ],
 "metadata": {
  "kernelspec": {
   "display_name": "llm",
   "language": "python",
   "name": "python3"
  },
  "language_info": {
   "codemirror_mode": {
    "name": "ipython",
    "version": 3
   },
   "file_extension": ".py",
   "mimetype": "text/x-python",
   "name": "python",
   "nbconvert_exporter": "python",
   "pygments_lexer": "ipython3",
   "version": "3.12.3"
  }
 },
 "nbformat": 4,
 "nbformat_minor": 2
}
