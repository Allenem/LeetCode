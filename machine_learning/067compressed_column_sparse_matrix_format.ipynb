{
 "cells": [
  {
   "cell_type": "markdown",
   "metadata": {},
   "source": [
    "# Implement Compressed Column Sparse Matrix Format (CSC) \n",
    "\n",
    "[65](065compressed_row_sparse_matrix_conversion.ipynb), [67](067compressed_column_sparse_matrix_format.ipynb) are similar.\n",
    "\n",
    "## Description:\n",
    "\n",
    "Task: Create a Compressed Column Sparse Matrix Representation\n",
    "\n",
    "Your task is to implement a function that converts a dense matrix into its Compressed Column Sparse (CSC) representation. The CSC format stores only non-zero elements of the matrix and is efficient for matrices with a high number of zero elements.\n",
    "\n",
    "Write a function compressed_col_sparse_matrix(dense_matrix) that takes in a two-dimensional list dense_matrix and returns a tuple of three lists:\n",
    "\n",
    "- values: List of non-zero elements, stored in column-major order.\n",
    "\n",
    "- row indices: List of row indices corresponding to each value in the values array.\n",
    "\n",
    "- column pointer: List that indicates the starting index of each column in the values array (or say it indicates the count before this column).\n",
    "\n",
    "Example:\n",
    "\n",
    "```python\n",
    "Input:\n",
    "dense_matrix = [\n",
    "    [0, 0, 3, 0],\n",
    "    [1, 0, 0, 4],\n",
    "    [0, 2, 0, 0]\n",
    "]\n",
    "\n",
    "vals, row_idx, col_ptr = compressed_col_sparse_matrix(dense_matrix)\n",
    "Output:\n",
    "[1, 2, 3, 4] [1, 2, 0, 1] [0, 1, 2, 3, 4]\n",
    "```\n",
    "\n",
    "Reasoning:\n",
    "\n",
    "The dense matrix is converted to CSC format with the values array containing non-zero elements, row indices array storing the corresponding row index, and column pointer array indicating the start of each column in the values array."
   ]
  },
  {
   "cell_type": "code",
   "execution_count": 1,
   "metadata": {},
   "outputs": [],
   "source": [
    "def compressed_col_sparse_matrix(dense_matrix):\n",
    "    \"\"\"\n",
    "    Convert a dense matrix into its Compressed Column Sparse (CSC) representation.\n",
    "\n",
    "    :param dense_matrix: List of lists representing the dense matrix\n",
    "    :return: Tuple of (values, row indices, column pointer)\n",
    "    \"\"\"\n",
    "    val_arr, row_idx_arr, col_ptr_arr = [], [], [0]\n",
    "    m, n = len(dense_matrix), len(dense_matrix[0])\n",
    "    for j in range(n):\n",
    "        for i in range(m):\n",
    "            if dense_matrix[i][j] != 0:\n",
    "                val_arr.append(dense_matrix[i][j])\n",
    "                row_idx_arr.append(i)\n",
    "        col_ptr_arr.append(len(val_arr))\n",
    "    return val_arr, row_idx_arr, col_ptr_arr"
   ]
  },
  {
   "cell_type": "code",
   "execution_count": 4,
   "metadata": {},
   "outputs": [
    {
     "name": "stdout",
     "output_type": "stream",
     "text": [
      "[]\n",
      "[]\n",
      "[0, 0, 0, 0]\n"
     ]
    }
   ],
   "source": [
    "dense_matrix = [\n",
    "    [0, 0, 0],\n",
    "    [0, 0, 0],\n",
    "    [0, 0, 0]\n",
    "]\n",
    "vals, row_idx, col_ptr = compressed_col_sparse_matrix(dense_matrix)\n",
    "print(vals)\n",
    "print(row_idx)\n",
    "print(col_ptr)"
   ]
  },
  {
   "cell_type": "code",
   "execution_count": 5,
   "metadata": {},
   "outputs": [
    {
     "name": "stdout",
     "output_type": "stream",
     "text": [
      "[1, 2, 3, 4]\n",
      "[1, 1, 2, 2]\n",
      "[0, 1, 3, 4]\n"
     ]
    }
   ],
   "source": [
    "dense_matrix = [\n",
    "    [0, 0, 0],\n",
    "    [1, 2, 0],\n",
    "    [0, 3, 4]\n",
    "]\n",
    "vals, row_idx, col_ptr = compressed_col_sparse_matrix(dense_matrix)\n",
    "print(vals)\n",
    "print(row_idx)\n",
    "print(col_ptr)"
   ]
  }
 ],
 "metadata": {
  "kernelspec": {
   "display_name": "wjy",
   "language": "python",
   "name": "python3"
  },
  "language_info": {
   "codemirror_mode": {
    "name": "ipython",
    "version": 3
   },
   "file_extension": ".py",
   "mimetype": "text/x-python",
   "name": "python",
   "nbconvert_exporter": "python",
   "pygments_lexer": "ipython3",
   "version": "3.13.1"
  }
 },
 "nbformat": 4,
 "nbformat_minor": 2
}
