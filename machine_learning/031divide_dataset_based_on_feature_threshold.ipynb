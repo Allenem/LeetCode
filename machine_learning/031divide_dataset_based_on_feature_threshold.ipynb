{
 "cells": [
  {
   "cell_type": "markdown",
   "metadata": {},
   "source": [
    "# Divide Dataset Based on Feature Threshold\n",
    "\n",
    "Write a Python function to divide a dataset based on whether the value of a specified feature is greater than or equal to a given threshold. The function should return two subsets of the dataset: one with samples that meet the condition and another with samples that do not.\n",
    "\n",
    "Example:\n",
    "```python\n",
    "    X = np.array([[1, 2], \n",
    "                  [3, 4], \n",
    "                  [5, 6], \n",
    "                  [7, 8], \n",
    "                  [9, 10]])\n",
    "    feature_i = 0\n",
    "    threshold = 5\n",
    "    output: [array([[ 5,  6],\n",
    "                    [ 7,  8],\n",
    "                    [ 9, 10]]), \n",
    "             array([[1, 2],\n",
    "                    [3, 4]])]\n",
    "    Reasoning:\n",
    "    The dataset X is divided based on whether the value in the 0th feature (first column) is greater than or equal to 5. Samples with the first column value >= 5 are in the first subset, and the rest are in the second subset.\n",
    "```"
   ]
  },
  {
   "cell_type": "markdown",
   "metadata": {},
   "source": [
    "## Understanding Dataset Division Based on Feature Threshold\n",
    "\n",
    "Dividing a dataset based on a feature threshold is a common operation in machine learning, especially in decision tree algorithms. This technique helps in creating splits that can be used for further processing or model training.\n",
    "\n",
    "In this problem, you will write a function to split a dataset based on whether the value of a specified feature is greater than or equal to a given threshold. You'll need to create two subsets: one for samples that meet the condition and another for samples that do not.\n",
    "\n",
    "This method is crucial for algorithms that rely on data partitioning, such as decision trees and random forests. By splitting the data, the model can create rules to make predictions based on the threshold values of certain features."
   ]
  },
  {
   "cell_type": "code",
   "execution_count": 1,
   "metadata": {},
   "outputs": [],
   "source": [
    "import numpy as np\n",
    "\n",
    "def divide_on_feature(X, feature_i, threshold):\n",
    "\t\n",
    "    # Define the split function based on the threshold type\n",
    "    split_func = None\n",
    "    if isinstance(threshold, int) or isinstance(threshold, float):\n",
    "        # For numeric threshold, check if feature value is greater than or equal to the threshold\n",
    "        split_func = lambda sample: sample[feature_i] >= threshold\n",
    "    else:\n",
    "        # For non-numeric threshold, check if feature value is equal to the threshold\n",
    "        split_func = lambda sample: sample[feature_i] == threshold\n",
    "\n",
    "    # Create two subsets based on the split function\n",
    "    X_1 = np.array([sample for sample in X if split_func(sample)])\n",
    "    X_2 = np.array([sample for sample in X if not split_func(sample)])\n",
    "\n",
    "    # Return the two subsets\n",
    "    return [X_1, X_2]"
   ]
  },
  {
   "cell_type": "code",
   "execution_count": 4,
   "metadata": {},
   "outputs": [
    {
     "name": "stdout",
     "output_type": "stream",
     "text": [
      "Test Case 1: Accepted\n",
      "Input:\n",
      "print(divide_on_feature(np.array([[1, 2], [3, 4], [5, 6], [7, 8], [9, 10]]), 0, 5))\n",
      "\n",
      "Output:\n",
      "[array([[ 5,  6],\n",
      "       [ 7,  8],\n",
      "       [ 9, 10]]), array([[1, 2],\n",
      "       [3, 4]])]\n",
      "\n",
      "Expected:\n",
      "[array([[ 5,  6], [ 7,  8], [ 9, 10]]), array([[1, 2], [3, 4]])]\n",
      "\n",
      "\n",
      "Test Case 2: Accepted\n",
      "Input:\n",
      "print(divide_on_feature(np.array([[1, 1], [2, 2], [3, 3], [4, 4]]), 1, 3))\n",
      "\n",
      "Output:\n",
      "[array([[3, 3],\n",
      "       [4, 4]]), array([[1, 1],\n",
      "       [2, 2]])]\n",
      "\n",
      "Expected:\n",
      "[array([[3, 3], [4, 4]]), array([[1, 1], [2, 2]])]\n"
     ]
    }
   ],
   "source": [
    "ans = divide_on_feature(np.array([[1, 2], [3, 4], [5, 6], [7, 8], [9, 10]]), 0, 5)\n",
    "print('Test Case 1: Accepted') if ans[0].all() == np.array([[5, 6], [7, 8], [9, 10]]).all() and ans[1].all() == np.array([[1, 2], [3, 4]]).all() else print('Test Case 1: Rejected')\n",
    "print('Input:')\n",
    "print('print(divide_on_feature(np.array([[1, 2], [3, 4], [5, 6], [7, 8], [9, 10]]), 0, 5))')\n",
    "print()\n",
    "print('Output:')\n",
    "print(ans)\n",
    "print()\n",
    "print('Expected:')\n",
    "print('[array([[ 5,  6], [ 7,  8], [ 9, 10]]), array([[1, 2], [3, 4]])]')\n",
    "print()\n",
    "print()\n",
    "\n",
    "ans = divide_on_feature(np.array([[1, 1], [2, 2], [3, 3], [4, 4]]), 1, 3)\n",
    "print('Test Case 2: Accepted') if ans[0].all() == np.array([[3, 3], [4, 4]]).all() and ans[1].all() == np.array([[1, 1], [2, 2]]).all() else print('Test Case 2: Rejected')\n",
    "print('Input:')\n",
    "print('print(divide_on_feature(np.array([[1, 1], [2, 2], [3, 3], [4, 4]]), 1, 3))')\n",
    "print()\n",
    "print('Output:')\n",
    "print(ans)\n",
    "print()\n",
    "print('Expected:')\n",
    "print('[array([[3, 3], [4, 4]]), array([[1, 1], [2, 2]])]')"
   ]
  }
 ],
 "metadata": {
  "kernelspec": {
   "display_name": "llm",
   "language": "python",
   "name": "python3"
  },
  "language_info": {
   "codemirror_mode": {
    "name": "ipython",
    "version": 3
   },
   "file_extension": ".py",
   "mimetype": "text/x-python",
   "name": "python",
   "nbconvert_exporter": "python",
   "pygments_lexer": "ipython3",
   "version": "3.12.3"
  }
 },
 "nbformat": 4,
 "nbformat_minor": 2
}
