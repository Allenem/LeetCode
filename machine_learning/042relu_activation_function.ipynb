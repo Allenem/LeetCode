{
 "cells": [
  {
   "cell_type": "markdown",
   "metadata": {},
   "source": [
    "# Implement ReLU Activation Function\n",
    "\n",
    "Write a Python function `relu` that implements the Rectified Linear Unit (ReLU) activation function. The function should take a single float as input and return the value after applying the ReLU function. The ReLU function returns the input if it's greater than 0, otherwise, it returns 0.\n",
    "\n",
    "Example:\n",
    "```python\n",
    "print(relu(0)) \n",
    "# Output: 0\n",
    "\n",
    "print(relu(1)) \n",
    "# Output: 1\n",
    "\n",
    "print(relu(-1)) \n",
    "# Output: 0\n",
    "```\n",
    "\n",
    "## Understanding the RELU Activation Function\n",
    "\n",
    "The ReLU (Rectified Linear Unit) activation function is widely used in neural networks, particularly in hidden layers of deep learning models. It maps any real-valued number to the non-negative range $[0, \\infty)$, which helps introduce non-linearity into the model while maintaining computational efficiency.\n",
    "\n",
    "## Mathematical Definition\n",
    "\n",
    "The ReLU function is mathematically defined as:\n",
    "\n",
    "$$f(z) = \\max(0, z)$$\n",
    "\n",
    "Where $z$ is the input to the function.\n",
    "\n",
    "## Characteristics\n",
    "\n",
    "- **Output Range**: The output is always in the range $[0, \\infty)$. Values below 0 are mapped to 0, while positive values are retained.\n",
    "- **Shape**: The function has an \"L\" shaped curve with a horizontal axis at $y=0$ and a linear increase for positive $z$.\n",
    "- **Gradient**: The gradient is 1 for positive values of $z$ and 0 for non-positive values. This means the function is linear for positive inputs and flat (zero gradient) for negative inputs.\n",
    "\n",
    "This function is particularly useful in deep learning models as it introduces non-linearity while being computationally efficient, helping to capture complex patterns in the data."
   ]
  },
  {
   "cell_type": "code",
   "execution_count": 1,
   "metadata": {},
   "outputs": [],
   "source": [
    "def relu(z: float) -> float:\n",
    "    return z if z > 0 else 0"
   ]
  },
  {
   "cell_type": "code",
   "execution_count": 2,
   "metadata": {},
   "outputs": [
    {
     "name": "stdout",
     "output_type": "stream",
     "text": [
      "Test Case 1: Accepted\n",
      "Input:\n",
      "print(relu(0))\n",
      "\n",
      "Output:\n",
      "0\n",
      "\n",
      "Expected:\n",
      "0\n",
      "Test Case 2: Accepted\n",
      "Input:\n",
      "print(relu(1))\n",
      "\n",
      "Output:\n",
      "1\n",
      "\n",
      "Expected:\n",
      "1\n",
      "Test Case 3: Accepted\n",
      "Input:\n",
      "print(relu(-1))\n",
      "\n",
      "Output:\n",
      "0\n",
      "\n",
      "Expected:\n",
      "0\n"
     ]
    }
   ],
   "source": [
    "print('Test Case 1: Accepted') if relu(0) == 0 else print('Test Case 1: Failed')\n",
    "print('Input:')\n",
    "print('print(relu(0))')\n",
    "print()\n",
    "print('Output:')\n",
    "print(relu(0))\n",
    "print()\n",
    "print('Expected:')\n",
    "print('0')\n",
    "\n",
    "print('Test Case 2: Accepted') if relu(1) == 1 else print('Test Case 2: Failed')\n",
    "print('Input:')\n",
    "print('print(relu(1))')\n",
    "print()\n",
    "print('Output:')\n",
    "print(relu(1))\n",
    "print()\n",
    "print('Expected:')\n",
    "print('1')\n",
    "\n",
    "print('Test Case 3: Accepted') if relu(-1) == 0 else print('Test Case 3: Failed')\n",
    "print('Input:')\n",
    "print('print(relu(-1))')\n",
    "print()\n",
    "print('Output:')\n",
    "print(relu(-1))\n",
    "print()\n",
    "print('Expected:')\n",
    "print('0')"
   ]
  }
 ],
 "metadata": {
  "kernelspec": {
   "display_name": "llm",
   "language": "python",
   "name": "python3"
  },
  "language_info": {
   "codemirror_mode": {
    "name": "ipython",
    "version": 3
   },
   "file_extension": ".py",
   "mimetype": "text/x-python",
   "name": "python",
   "nbconvert_exporter": "python",
   "pygments_lexer": "ipython3",
   "version": "3.12.3"
  }
 },
 "nbformat": 4,
 "nbformat_minor": 2
}
