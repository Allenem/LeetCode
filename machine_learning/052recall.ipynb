{
 "cells": [
  {
   "cell_type": "markdown",
   "metadata": {},
   "source": [
    "# Implement Recall Metric in Binary Classification\n",
    "\n",
    "## Task: Implement Recall in Binary Classification\n",
    "\n",
    "Your task is to implement the recall metric in a binary classification setting. Recall is a performance measure that evaluates how effectively a machine learning model identifies positive instances from all the actual positive cases in a dataset.\n",
    "\n",
    "You need to write a function recall(y_true, y_pred) that calculates the recall metric. The function should accept two inputs\n",
    "\n",
    "Your function should return the recall value rounded to three decimal places. If the denominator (TP + FN) is zero, the recall should be 0.0 to avoid division by zero.\n",
    "\n",
    "Example:\n",
    "```python\n",
    "import numpy as np\n",
    "\n",
    "y_true = np.array([1, 0, 1, 1, 0, 1])\n",
    "y_pred = np.array([1, 0, 1, 0, 0, 1])\n",
    "\n",
    "print(recall(y_true, y_pred))\n",
    "\n",
    "# Expected Output:\n",
    "# 0.75\n",
    "```"
   ]
  },
  {
   "cell_type": "markdown",
   "metadata": {},
   "source": [
    "## Understanding Recall in Classification\n",
    "\n",
    "Recall is a metric that measures how often a machine learning model correctly identifies positive instances, also called true positives, from all the actual positive samples in the dataset.\n",
    "\n",
    "## Mathematical Definition\n",
    "\n",
    "Recall, also known as sensitivity, is the fraction of relevant instances that were retrieved and it's calculated using the following equation:\n",
    "\n",
    "$$Recall = \\frac{TP}{TP + FN}$$ \n",
    " \n",
    "Where:\n",
    "\n",
    "- True Positives (TP): The number of positive samples that are correctly identified as positive.\n",
    "- False Negatives (FN): The number of positive samples that are incorrectly identified as negative.\n",
    "\n",
    "In this problem, you will implement a function to calculate recall given the true labels and predicted labels of a binary classification task. The results should be rounded to three decimal places."
   ]
  },
  {
   "cell_type": "code",
   "execution_count": 1,
   "metadata": {},
   "outputs": [],
   "source": [
    "import numpy as np\n",
    "\n",
    "def recall(y_true, y_pred):\n",
    "    tp = np.sum((y_true == 1) & (y_pred == 1))\n",
    "    fn = np.sum((y_true == 1) & (y_pred == 0))\n",
    "\n",
    "    try:\n",
    "        return round(tp / (tp + fn), 3)\n",
    "    except ZeroDivisionError:\n",
    "        return 0.0"
   ]
  },
  {
   "cell_type": "code",
   "execution_count": 3,
   "metadata": {},
   "outputs": [
    {
     "name": "stdout",
     "output_type": "stream",
     "text": [
      "Test Case 1: Accepted\n",
      "Input:\n",
      "import numpy as np\n",
      "\n",
      "y_true = np.array([1, 0, 1, 1, 0, 1])\n",
      "y_pred = np.array([1, 0, 1, 0, 0, 1])\n",
      "print(recall(y_true, y_pred))\n",
      "\n",
      "Output:\n",
      "0.75\n",
      "\n",
      "Expected:\n",
      "0.75\n"
     ]
    }
   ],
   "source": [
    "print('Test Case 1: Accepted')\n",
    "print('Input:')\n",
    "print('import numpy as np\\n\\ny_true = np.array([1, 0, 1, 1, 0, 1])\\ny_pred = np.array([1, 0, 1, 0, 0, 1])\\nprint(recall(y_true, y_pred))')\n",
    "print()\n",
    "print('Output:')\n",
    "print(recall(np.array([1, 0, 1, 1, 0, 1]), np.array([1, 0, 1, 0, 0, 1])))\n",
    "print()\n",
    "print('Expected:')\n",
    "print('0.75')"
   ]
  },
  {
   "cell_type": "code",
   "execution_count": 4,
   "metadata": {},
   "outputs": [
    {
     "name": "stdout",
     "output_type": "stream",
     "text": [
      "Test Case 2: Accepted\n",
      "Input:\n",
      "import numpy as np\n",
      "\n",
      "y_true = np.array([1, 0, 1, 1, 0, 0])\n",
      "y_pred = np.array([1, 0, 0, 0, 0, 1])\n",
      "print(recall(y_true, y_pred))\n",
      "\n",
      "Output:\n",
      "0.333\n",
      "\n",
      "Expected:\n",
      "0.333\n"
     ]
    }
   ],
   "source": [
    "print('Test Case 2: Accepted')\n",
    "print('Input:')\n",
    "print('import numpy as np\\n\\ny_true = np.array([1, 0, 1, 1, 0, 0])\\ny_pred = np.array([1, 0, 0, 0, 0, 1])\\nprint(recall(y_true, y_pred))')\n",
    "print()\n",
    "print('Output:')\n",
    "print(recall(np.array([1, 0, 1, 1, 0, 0]), np.array([1, 0, 0, 0, 0, 1])))\n",
    "print()\n",
    "print('Expected:')\n",
    "print('0.333')"
   ]
  },
  {
   "cell_type": "code",
   "execution_count": 5,
   "metadata": {},
   "outputs": [
    {
     "name": "stdout",
     "output_type": "stream",
     "text": [
      "Test Case 3: Accepted\n",
      "Input:\n",
      "import numpy as np\n",
      "\n",
      "y_true = np.array([1, 0, 1, 1, 0, 0])\n",
      "y_pred = np.array([1, 0, 1, 1, 0, 0])\n",
      "print(recall(y_true, y_pred))\n",
      "\n",
      "Output:\n",
      "1.0\n",
      "\n",
      "Expected:\n",
      "1.0\n"
     ]
    }
   ],
   "source": [
    "print('Test Case 3: Accepted')\n",
    "print('Input:')\n",
    "print('import numpy as np\\n\\ny_true = np.array([1, 0, 1, 1, 0, 0])\\ny_pred = np.array([1, 0, 1, 1, 0, 0])\\nprint(recall(y_true, y_pred))')\n",
    "print()\n",
    "print('Output:')\n",
    "print(recall(np.array([1, 0, 1, 1, 0, 0]), np.array([1, 0, 1, 1, 0, 0])))\n",
    "print()\n",
    "print('Expected:')\n",
    "print('1.0')"
   ]
  },
  {
   "cell_type": "code",
   "execution_count": 6,
   "metadata": {},
   "outputs": [
    {
     "name": "stdout",
     "output_type": "stream",
     "text": [
      "Test Case 4: Accepted\n",
      "Input:\n",
      "import numpy as np\n",
      "\n",
      "y_true = np.array([1, 0, 1, 1, 0, 1])\n",
      "y_pred = np.array([0, 0, 0, 1, 0, 1])\n",
      "print(recall(y_true, y_pred))\n",
      "\n",
      "Output:\n",
      "0.5\n",
      "\n",
      "Expected:\n",
      "0.5\n"
     ]
    }
   ],
   "source": [
    "print('Test Case 4: Accepted')\n",
    "print('Input:')\n",
    "print('import numpy as np\\n\\ny_true = np.array([1, 0, 1, 1, 0, 1])\\ny_pred = np.array([0, 0, 0, 1, 0, 1])\\nprint(recall(y_true, y_pred))')\n",
    "print()\n",
    "print('Output:')\n",
    "print(recall(np.array([1, 0, 1, 1, 0, 1]), np.array([0, 0, 0, 1, 0, 1])))\n",
    "print()\n",
    "print('Expected:')\n",
    "print('0.5')"
   ]
  },
  {
   "cell_type": "code",
   "execution_count": 7,
   "metadata": {},
   "outputs": [
    {
     "name": "stdout",
     "output_type": "stream",
     "text": [
      "Test Case 5: Accepted\n",
      "Input:\n",
      "import numpy as np\n",
      "\n",
      "y_true = np.array([1, 0, 1, 1, 0, 1])\n",
      "y_pred = np.array([0, 1, 0, 0, 1, 0])\n",
      "print(recall(y_true, y_pred))\n",
      "\n",
      "Output:\n",
      "0.0\n",
      "\n",
      "Expected:\n",
      "0.0\n"
     ]
    }
   ],
   "source": [
    "print('Test Case 5: Accepted')\n",
    "print('Input:')\n",
    "print('import numpy as np\\n\\ny_true = np.array([1, 0, 1, 1, 0, 1])\\ny_pred = np.array([0, 1, 0, 0, 1, 0])\\nprint(recall(y_true, y_pred))')\n",
    "print()\n",
    "print('Output:')\n",
    "print(recall(np.array([1, 0, 1, 1, 0, 1]), np.array([0, 1, 0, 0, 1, 0])))\n",
    "print()\n",
    "print('Expected:')\n",
    "print('0.0')"
   ]
  }
 ],
 "metadata": {
  "kernelspec": {
   "display_name": "llm",
   "language": "python",
   "name": "python3"
  },
  "language_info": {
   "codemirror_mode": {
    "name": "ipython",
    "version": 3
   },
   "file_extension": ".py",
   "mimetype": "text/x-python",
   "name": "python",
   "nbconvert_exporter": "python",
   "pygments_lexer": "ipython3",
   "version": "3.12.3"
  }
 },
 "nbformat": 4,
 "nbformat_minor": 2
}
