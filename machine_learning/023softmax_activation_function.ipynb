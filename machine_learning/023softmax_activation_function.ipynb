{
 "cells": [
  {
   "cell_type": "markdown",
   "metadata": {},
   "source": [
    "# Softmax Activation Function Implementation (easy)\n",
    "\n",
    "Write a Python function that computes the softmax activation for a given list of scores. The function should return the softmax values as a list, each rounded to four decimal places.\n",
    "\n",
    "Example:\n",
    "\n",
    "```\n",
    "        input: scores = [1, 2, 3]\n",
    "        output: [0.0900, 0.2447, 0.6652]\n",
    "        reasoning: The softmax function converts a list of values into a probability distribution. The probabilities are proportional to the exponential of each element divided by the sum of the exponentials of all elements in the list.\n",
    "```"
   ]
  },
  {
   "cell_type": "markdown",
   "metadata": {},
   "source": [
    "## Understanding the Softmax Activation Function\n",
    "\n",
    "The softmax function is a generalization of the sigmoid function and is used in the output layer of a neural network model that handles multi-class classification tasks.\n",
    "\n",
    "## Mathematical Definition\n",
    "\n",
    "The softmax function is mathematically represented as:\n",
    "\n",
    "$$\n",
    "\\text{Softmax}(z_i) = \\frac{e^{z_i}}{\\sum_{j} e^{z_j}}\n",
    "$$\n",
    "\n",
    "## Characteristics\n",
    "\n",
    "- **Output Range**: Each output value is between 0 and 1, and the sum of all outputs is 1.\n",
    "- **Purpose**: It transforms scores into probabilities, which are easier to interpret and are useful for classification.\n",
    "\n",
    "This function is essential for models where the output needs to represent a probability distribution across multiple classes."
   ]
  },
  {
   "cell_type": "code",
   "execution_count": 1,
   "metadata": {},
   "outputs": [],
   "source": [
    "import math\n",
    "\n",
    "def softmax(scores: list[float]) -> list[float]:\n",
    "\t# Your code here\n",
    "\tezilst = [math.exp(zi) for zi in scores]\n",
    "\tsumezi = sum(ezilst)\n",
    "\tprobabilities = [round(ezi/sumezi, 4) for ezi in ezilst]\n",
    "\treturn probabilities"
   ]
  },
  {
   "cell_type": "code",
   "execution_count": 2,
   "metadata": {},
   "outputs": [
    {
     "name": "stdout",
     "output_type": "stream",
     "text": [
      "Input:\n",
      "print(softmax([1, 2, 3]))\n",
      "Output:\n",
      "[0.09, 0.2447, 0.6652]\n",
      "Expected:\n",
      "[0.09, 0.2447, 0.6652]\n"
     ]
    }
   ],
   "source": [
    "print('Input:')\n",
    "print('print(softmax([1, 2, 3]))')\n",
    "print('Output:')\n",
    "print(softmax([1, 2, 3]))\n",
    "print('Expected:')\n",
    "print('[0.09, 0.2447, 0.6652]')"
   ]
  },
  {
   "cell_type": "code",
   "execution_count": 3,
   "metadata": {},
   "outputs": [
    {
     "name": "stdout",
     "output_type": "stream",
     "text": [
      "Input:\n",
      "print(softmax([[1, 1, 1]))\n",
      "Output:\n",
      "[0.3333, 0.3333, 0.3333]\n",
      "Expected:\n",
      "[0.3333, 0.3333, 0.3333]\n"
     ]
    }
   ],
   "source": [
    "print('Input:')\n",
    "print('print(softmax([[1, 1, 1]))')\n",
    "print('Output:')\n",
    "print(softmax([1, 1, 1]))\n",
    "print('Expected:')\n",
    "print('[0.3333, 0.3333, 0.3333]')"
   ]
  },
  {
   "cell_type": "code",
   "execution_count": 4,
   "metadata": {},
   "outputs": [
    {
     "name": "stdout",
     "output_type": "stream",
     "text": [
      "Input:\n",
      "print(softmax([-1, 0, 5]))\n",
      "Output:\n",
      "[0.0025, 0.0067, 0.9909]\n",
      "Expected:\n",
      "[0.0025, 0.0067, 0.9909]\n"
     ]
    }
   ],
   "source": [
    "print('Input:')\n",
    "print('print(softmax([-1, 0, 5]))')\n",
    "print('Output:')\n",
    "print(softmax([-1, 0, 5]))\n",
    "print('Expected:')\n",
    "print('[0.0025, 0.0067, 0.9909]')"
   ]
  }
 ],
 "metadata": {
  "kernelspec": {
   "display_name": "llm",
   "language": "python",
   "name": "python3"
  },
  "language_info": {
   "codemirror_mode": {
    "name": "ipython",
    "version": 3
   },
   "file_extension": ".py",
   "mimetype": "text/x-python",
   "name": "python",
   "nbconvert_exporter": "python",
   "pygments_lexer": "ipython3",
   "version": "3.12.3"
  }
 },
 "nbformat": 4,
 "nbformat_minor": 2
}
